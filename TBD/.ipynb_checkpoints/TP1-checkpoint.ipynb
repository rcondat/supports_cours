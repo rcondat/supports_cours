{
 "cells": [
  {
   "cell_type": "markdown",
   "metadata": {},
   "source": [
    "# TBD L3 Info - TP1 : Posons les bases"
   ]
  },
  {
   "cell_type": "markdown",
   "metadata": {},
   "source": [
    "Pour nos séances de TPs, l'objectif est d'avancer comme si vous aviez un \"mini-projet\". Tous ce que vous allez développer sera utile pour la suite. \n",
    "\n",
    "Concernant le programme, nous allons avoir plusieurs TPs où vous allez implémenter différents classifieurs vus en cours (estimation de gaussiennes, kppv, etc.) et de les tester sur 3 jeux de données à votre disposition. Ces TPs seront peut-être à rendre (je vais voir en fonction de l'avancée), mais ils ne seront pas notés. Si je veux les récupérez, ce sera pour modifier le programme en fonction de votre niveau et du temps restant.\n",
    "\n",
    "Vous aurez cependant un TP final noté, avec un nouveau problème posé, une nouvelle base de données, etc. Avec ce que vous aurez implémenté préalablement, vous serez surtout noté sur l'analyse du problème, de l'application de vos algos, de l'analyse des résultats, etc.\n",
    "\n",
    "Pour cette 1ère séance, on va implémenter des fonctions et classes qui vont vous servir pour la suite. N'hésitez pas à vous entraider si besoin, c'est cool le travail en groupe ;)"
   ]
  },
  {
   "cell_type": "markdown",
   "metadata": {},
   "source": [
    "---\n",
    "\n",
    "## Partie 1 : Visualisation des données"
   ]
  },
  {
   "cell_type": "markdown",
   "metadata": {},
   "source": [
    "Vous pouvez trouver sur la plateforme Universitice, un ZIP Données (appelé Archive lors du téléchargement), contenant des fichiers txt et gif. Les fichiers txt seront vos données pour quasi tous les TPs. \n",
    "\n",
    "Vous disposez pour 3 problèmes de classification à 5 classes {1,2,3,4,5} dans R² de 100 échantillons par classe pour l'apprentissage (data_tp{1,2,3}.app) et 100 échantillons par classe pour le test (data_tp{1,2,3}.dec) des classifieurs. \n",
    "\n",
    "Les gifs disponibles (data_tp{1,2,3}\\_{app,dec}.gif) affichent les différentes données des fichiers txt. Mais on va les recoder justement, pour que vous ayez les votres ;)"
   ]
  },
  {
   "cell_type": "code",
   "execution_count": null,
   "metadata": {},
   "outputs": [],
   "source": [
    "# Import des libraries qui pourront vous être utiles\n",
    "import os\n",
    "import pandas as pd\n",
    "import numpy as np\n",
    "from matplotlib import pyplot as plt"
   ]
  },
  {
   "cell_type": "markdown",
   "metadata": {},
   "source": [
    "**1)** Ecrivez une fonction permettant de lire un fichier txt de données (en variable) et de le stocker dans un dictionnaire ou un tableau. Chargez ensuite les données des fichiers *data_tp1_app.txt* et *data_tp1_dec.txt* et affichez les données brutes.\n",
    "\n",
    "*Note :* la fonction read_csv de pandas est super cool, mais ce n'est pas l'unique solution."
   ]
  },
  {
   "cell_type": "code",
   "execution_count": null,
   "metadata": {},
   "outputs": [],
   "source": [
    "# A compléter\n",
    "# Fonction de lecture des données txt \n",
    "..."
   ]
  },
  {
   "cell_type": "code",
   "execution_count": null,
   "metadata": {},
   "outputs": [],
   "source": [
    "# A compléter\n",
    "# Chargement des données app et dec tp1\n",
    "..."
   ]
  },
  {
   "cell_type": "code",
   "execution_count": null,
   "metadata": {},
   "outputs": [],
   "source": [
    "# A compléter\n",
    "# Affichage des données chargées\n",
    "..."
   ]
  },
  {
   "cell_type": "markdown",
   "metadata": {},
   "source": [
    "**2)** Ecrivez une fonction qui récupère les différents labels de classes et retournera ces labels ainsi que les données séparées en fonction des labels"
   ]
  },
  {
   "cell_type": "code",
   "execution_count": null,
   "metadata": {},
   "outputs": [],
   "source": [
    "# A compléter\n",
    "# Fonction pour séparer les données en fonction des différents labels de classe\n",
    "...\n",
    "\n",
    "# Séparation des données app et dec\n",
    "..."
   ]
  },
  {
   "cell_type": "markdown",
   "metadata": {},
   "source": [
    "**3)** Implémentez une fonction pour visualiser des données en 2D, avec une couleur et ou forme différente par classe. Les gifs fournis vous donnent un exemple des visualisations attendues."
   ]
  },
  {
   "cell_type": "code",
   "execution_count": null,
   "metadata": {},
   "outputs": [],
   "source": [
    "# A compléter\n",
    "# Fonction de visualisation de 2 variables des données\n",
    "...\n",
    "    \n",
    "# Affichage des données d'apprentissages\n",
    "...\n",
    "\n",
    "# Affichage des données de test\n",
    "...\n",
    "\n",
    "# Affichage des données d'apprentissages et de test sur le même graphique\n",
    "..."
   ]
  },
  {
   "cell_type": "markdown",
   "metadata": {},
   "source": [
    "**4)** Visualisez maintenant les données tp2 et tp3. Que pouvons-nous constater de ces données à partir des visualisations ?"
   ]
  },
  {
   "cell_type": "code",
   "execution_count": null,
   "metadata": {},
   "outputs": [],
   "source": [
    "# A compléter\n",
    "# Visualisation des données tp2\n",
    "..."
   ]
  },
  {
   "cell_type": "code",
   "execution_count": null,
   "metadata": {},
   "outputs": [],
   "source": [
    "# Visualisation des données tp3\n",
    "..."
   ]
  },
  {
   "cell_type": "markdown",
   "metadata": {},
   "source": [
    "**_Réponse :_**"
   ]
  },
  {
   "cell_type": "markdown",
   "metadata": {},
   "source": [
    "---\n",
    "\n",
    "## Partie 2 : Créeons la base du modèle de classification\n",
    "\n",
    "Durant la majorité des TPs, nous allons implémenter des modèles de classification vus en cours. Chacun de ces modèles a ses spécificités, mais le principe reste le même : une phase d'apprentissage, une phase de prédiction et une phase d'évaluation. Au lieu de réimplementer chacune des fonctions (ou d'utiliser le bon vieux copier-coller), je vous propose de créer une classe Model qui comprendra les différentes fonctions nécessaires pour chacun des modèles. Ca vous donnera une base de travail propre et vous facilitera ensuite grandement les prochains TPs ;)"
   ]
  },
  {
   "cell_type": "markdown",
   "metadata": {},
   "source": [
    "**1)** Commençons par la fin... Implémentez une fonction de calcul des métriques. La fonction prendra en entrée :\n",
    "\n",
    "- Un vecteur ou une liste \"Ground Truth\", qui contiendra les labels de chaque échantillon de tests\n",
    "- Un tableau ou une liste de liste \"Predictions\", qui contiendra les prédictions du classifieur pour chaque échantillon, à savoir une liste des classes triés par ordre de probabilité d'appartenance décroissante.\n",
    "\n",
    "Par exemple, pour un problème à 5 classes, un échantillon de test pourrait avoir une vérité terrain de *2* et une prédiction de classifieur [*3*,*4*,*2*,*1*,*5*]\n",
    "\n",
    "La fonction calculera et renverra en sortie trois métriques :\n",
    "- Le taux de bonne classification en Top1\n",
    "- Le taux de bonne classification en Top2\n",
    "- La matrice de confusion"
   ]
  },
  {
   "cell_type": "code",
   "execution_count": null,
   "metadata": {},
   "outputs": [],
   "source": [
    "# A compléter\n",
    "# Fonction de métriques\n",
    "..."
   ]
  },
  {
   "cell_type": "markdown",
   "metadata": {},
   "source": [
    "Testez votre fonction de calcul de métriques en générant un vecteur \"Ground Truth\" et un tableau \"Predictions\". Vérifiez qu'en appelant votre fonction plusieurs fois avec les mêmes données en paramètres, vous obtenez exactement les mêmes résultats."
   ]
  },
  {
   "cell_type": "code",
   "execution_count": null,
   "metadata": {},
   "outputs": [],
   "source": [
    "# A compléter\n",
    "# Test de votre fonction de métriques\n",
    "..."
   ]
  },
  {
   "cell_type": "markdown",
   "metadata": {},
   "source": [
    "**2)** En attendant de développer des vrais modèles de classification, nous allons implémenter les fonctions de la classe Model en simulant un comportement aléatoire.\n",
    "\n",
    "Ecrivez une fonction de prediction qui prendra en entrée 2 valeurs correspondants aux variables d'un échantillon de test, ainsi que des classes possibles pour cet échantillon. La fonction retournera une liste de classes triée dans l'ordre décroissant de probabilité d'appartenance de l'échantillon."
   ]
  },
  {
   "cell_type": "code",
   "execution_count": null,
   "metadata": {},
   "outputs": [],
   "source": [
    "# A implémenter\n",
    "# Fonction de prédiction de modèle (aléatoire)\n",
    "..."
   ]
  },
  {
   "cell_type": "markdown",
   "metadata": {},
   "source": [
    "**3)** Implémentez maintenant la fonction de test d'un modèle, qui prendra en entrée les variables et labels d'un jeu de test, ainsi que les classes possibles de labels, et retournera les métriques top 1, top 2 et matrice de confusion."
   ]
  },
  {
   "cell_type": "code",
   "execution_count": null,
   "metadata": {},
   "outputs": [],
   "source": [
    "# A compléter\n",
    "# Fonction de test du modèle\n",
    "..."
   ]
  },
  {
   "cell_type": "markdown",
   "metadata": {},
   "source": [
    "Testez votre fonction test avec les jeux de données de test fournis (data_tp1_dec.txt)"
   ]
  },
  {
   "cell_type": "code",
   "execution_count": null,
   "metadata": {},
   "outputs": [],
   "source": [
    "# A compléter\n",
    "# Test de votre fonction de test avec les données data_tp1_dec.txt\n",
    "..."
   ]
  },
  {
   "cell_type": "markdown",
   "metadata": {},
   "source": [
    "**4)** Il est l'heure de construire notre classe Model, pilier des prochains TPs. Cette classe contiendra les fonctions de prédiction, de test et de calcul de métriques précédemment développées (à adapter légèrement et à votre convenance). Une fonction vide supplémentaire, pour l'apprentissage du modèle, est à inclure également.\n",
    "\n",
    "*_Note :_* Concernant les attributs, c'est à vous de choisir, faites comme vous le souhaitez, mais svp, mettez des noms de variables intelligibles !"
   ]
  },
  {
   "cell_type": "code",
   "execution_count": null,
   "metadata": {},
   "outputs": [],
   "source": [
    "# A compléter\n",
    "# Implémentation de la classe objet Modèle\n",
    "..."
   ]
  },
  {
   "cell_type": "markdown",
   "metadata": {},
   "source": [
    "**5)** Pour finir, écrivez les lignes de code simulant une création de modèle, sa phase d'apprentissage et sa phase de test avec l'affichage des métriques."
   ]
  },
  {
   "cell_type": "code",
   "execution_count": null,
   "metadata": {},
   "outputs": [],
   "source": [
    "# A compléter\n",
    "# Simulation de la création d'un modèle\n",
    "...\n",
    "\n",
    "# Apprentissage du modèle\n",
    "...\n",
    "\n",
    "# Phase de test du modèle et affichage des métriques\n",
    "..."
   ]
  },
  {
   "cell_type": "code",
   "execution_count": null,
   "metadata": {},
   "outputs": [],
   "source": []
  }
 ],
 "metadata": {
  "kernelspec": {
   "display_name": "Python 3",
   "language": "python",
   "name": "python3"
  },
  "language_info": {
   "codemirror_mode": {
    "name": "ipython",
    "version": 3
   },
   "file_extension": ".py",
   "mimetype": "text/x-python",
   "name": "python",
   "nbconvert_exporter": "python",
   "pygments_lexer": "ipython3",
   "version": "3.7.9"
  }
 },
 "nbformat": 4,
 "nbformat_minor": 4
}
