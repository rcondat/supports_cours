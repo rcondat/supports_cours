{
 "cells": [
  {
   "cell_type": "code",
   "execution_count": 30,
   "id": "interesting-product",
   "metadata": {},
   "outputs": [
    {
     "name": "stderr",
     "output_type": "stream",
     "text": [
      "100% (10 of 10) |########################| Elapsed Time: 0:00:09 Time:  0:00:09\n",
      "100% (20 of 20) |########################| Elapsed Time: 0:00:19 Time:  0:00:19\n",
      "100% (10 of 10) |########################| Elapsed Time: 0:00:25 Time:  0:00:25\n",
      "100% (20 of 20) |########################| Elapsed Time: 0:00:53 Time:  0:00:53\n",
      "100% (9 of 9) |##########################| Elapsed Time: 0:00:12 Time:  0:00:12\n",
      "100% (9 of 9) |##########################| Elapsed Time: 0:00:13 Time:  0:00:13\n",
      "100% (10 of 10) |########################| Elapsed Time: 0:00:11 Time:  0:00:11\n",
      "100% (20 of 20) |########################| Elapsed Time: 0:00:20 Time:  0:00:20\n",
      "100% (10 of 10) |########################| Elapsed Time: 0:00:26 Time:  0:00:26\n",
      "100% (20 of 20) |########################| Elapsed Time: 0:00:53 Time:  0:00:53\n",
      "100% (9 of 9) |##########################| Elapsed Time: 0:00:12 Time:  0:00:12\n",
      "100% (9 of 9) |##########################| Elapsed Time: 0:00:12 Time:  0:00:12\n",
      "N/A% (0 of 10) |                         | Elapsed Time: 0:00:00 ETA:  --:--:--"
     ]
    },
    {
     "name": "stdout",
     "output_type": "stream",
     "text": [
      "CDM\n"
     ]
    },
    {
     "name": "stderr",
     "output_type": "stream",
     "text": [
      "100% (10 of 10) |########################| Elapsed Time: 0:00:10 Time:  0:00:10\n",
      "100% (20 of 20) |########################| Elapsed Time: 0:00:23 Time:  0:00:23\n",
      "100% (10 of 10) |########################| Elapsed Time: 0:00:26 Time:  0:00:26\n",
      "100% (20 of 20) |########################| Elapsed Time: 0:00:54 Time:  0:00:54\n",
      "100% (9 of 9) |##########################| Elapsed Time: 0:00:13 Time:  0:00:13\n",
      "100% (9 of 9) |##########################| Elapsed Time: 0:00:13 Time:  0:00:13\n",
      "100% (10 of 10) |########################| Elapsed Time: 0:00:10 Time:  0:00:10\n",
      "100% (20 of 20) |########################| Elapsed Time: 0:00:20 Time:  0:00:20\n",
      "100% (10 of 10) |########################| Elapsed Time: 0:00:26 Time:  0:00:26\n",
      "100% (20 of 20) |########################| Elapsed Time: 0:00:53 Time:  0:00:53\n",
      "100% (9 of 9) |##########################| Elapsed Time: 0:00:12 Time:  0:00:12\n",
      "100% (9 of 9) |##########################| Elapsed Time: 0:00:13 Time:  0:00:13\n",
      "N/A% (0 of 10) |                         | Elapsed Time: 0:00:00 ETA:  --:--:--"
     ]
    },
    {
     "name": "stdout",
     "output_type": "stream",
     "text": [
      "CDE\n"
     ]
    },
    {
     "name": "stderr",
     "output_type": "stream",
     "text": [
      "100% (10 of 10) |########################| Elapsed Time: 0:00:10 Time:  0:00:10\n",
      "100% (20 of 20) |########################| Elapsed Time: 0:00:20 Time:  0:00:20\n",
      "100% (10 of 10) |########################| Elapsed Time: 0:00:26 Time:  0:00:26\n",
      "100% (20 of 20) |########################| Elapsed Time: 0:00:55 Time:  0:00:55\n",
      "100% (9 of 9) |##########################| Elapsed Time: 0:00:13 Time:  0:00:13\n",
      "100% (9 of 9) |##########################| Elapsed Time: 0:00:13 Time:  0:00:13\n",
      "100% (10 of 10) |########################| Elapsed Time: 0:00:11 Time:  0:00:11\n",
      "100% (20 of 20) |########################| Elapsed Time: 0:00:25 Time:  0:00:25\n",
      "100% (10 of 10) |########################| Elapsed Time: 0:00:28 Time:  0:00:28\n",
      "100% (20 of 20) |########################| Elapsed Time: 0:00:58 Time:  0:00:58\n",
      "100% (9 of 9) |##########################| Elapsed Time: 0:00:13 Time:  0:00:13\n",
      "100% (9 of 9) |##########################| Elapsed Time: 0:00:12 Time:  0:00:12\n",
      "N/A% (0 of 10) |                         | Elapsed Time: 0:00:00 ETA:  --:--:--"
     ]
    },
    {
     "name": "stdout",
     "output_type": "stream",
     "text": [
      "CDM\n"
     ]
    },
    {
     "name": "stderr",
     "output_type": "stream",
     "text": [
      "100% (10 of 10) |########################| Elapsed Time: 0:00:11 Time:  0:00:11\n",
      "100% (20 of 20) |########################| Elapsed Time: 0:00:20 Time:  0:00:20\n",
      "100% (10 of 10) |########################| Elapsed Time: 0:00:28 Time:  0:00:28\n",
      "100% (20 of 20) |########################| Elapsed Time: 0:00:55 Time:  0:00:55\n",
      "100% (9 of 9) |##########################| Elapsed Time: 0:00:12 Time:  0:00:12\n",
      "100% (9 of 9) |##########################| Elapsed Time: 0:00:12 Time:  0:00:12\n",
      "100% (10 of 10) |########################| Elapsed Time: 0:00:10 Time:  0:00:10\n",
      "100% (20 of 20) |########################| Elapsed Time: 0:00:20 Time:  0:00:20\n",
      "100% (10 of 10) |########################| Elapsed Time: 0:00:26 Time:  0:00:26\n",
      "100% (20 of 20) |########################| Elapsed Time: 0:00:53 Time:  0:00:53\n",
      "100% (9 of 9) |##########################| Elapsed Time: 0:00:12 Time:  0:00:12\n",
      "100% (9 of 9) |##########################| Elapsed Time: 0:00:13 Time:  0:00:13\n",
      "N/A% (0 of 10) |                         | Elapsed Time: 0:00:00 ETA:  --:--:--"
     ]
    },
    {
     "name": "stdout",
     "output_type": "stream",
     "text": [
      "CDE\n"
     ]
    },
    {
     "name": "stderr",
     "output_type": "stream",
     "text": [
      "100% (10 of 10) |########################| Elapsed Time: 0:00:10 Time:  0:00:10\n",
      "100% (20 of 20) |########################| Elapsed Time: 0:00:21 Time:  0:00:21\n",
      "100% (10 of 10) |########################| Elapsed Time: 0:00:26 Time:  0:00:26\n",
      "100% (20 of 20) |########################| Elapsed Time: 0:00:53 Time:  0:00:53\n",
      "100% (9 of 9) |##########################| Elapsed Time: 0:00:12 Time:  0:00:12\n",
      "100% (9 of 9) |##########################| Elapsed Time: 0:00:12 Time:  0:00:12\n",
      "100% (10 of 10) |########################| Elapsed Time: 0:00:10 Time:  0:00:10\n",
      "100% (20 of 20) |########################| Elapsed Time: 0:00:18 Time:  0:00:18\n",
      "100% (10 of 10) |########################| Elapsed Time: 0:00:26 Time:  0:00:26\n",
      "100% (20 of 20) |########################| Elapsed Time: 0:00:53 Time:  0:00:53\n",
      "100% (9 of 9) |##########################| Elapsed Time: 0:00:12 Time:  0:00:12\n",
      "100% (9 of 9) |##########################| Elapsed Time: 0:00:12 Time:  0:00:12\n"
     ]
    },
    {
     "name": "stdout",
     "output_type": "stream",
     "text": [
      "CDM\n",
      "1483.7700507640839\n"
     ]
    }
   ],
   "source": [
    "import numpy as np\n",
    "import os\n",
    "from matplotlib import pyplot as plt\n",
    "import pandas as pd\n",
    "import time\n",
    "import utils\n",
    "\n",
    "t0 = time.time()\n",
    "path = \"DATA_TP_FINAL/\"\n",
    "\n",
    "NUM_min = 21\n",
    "NUM_max = 25\n",
    "\n",
    "vars = pd.read_csv(path+'vars.csv',sep='\\t')\n",
    "\n",
    "tab_results = pd.DataFrame(columns=['qual1','qual2',\n",
    "                                    'CDE_first_top1','CDE_first_top2','CDM_first_top1','CDM_first_top2',\n",
    "                                    'PU_first_h','PU_first_top1','PU_first_top2','PG_first_h','PG_first_top1','PG_first_top2',\n",
    "                                    'KM_first_h','KM_first_top1','KM_first_top2','KU_first_h','KU_first_top1','KU_first_top2',\n",
    "                                    'CDE_true_top1','CDE_true_top2','CDM_true_top1','CDM_true_top2',\n",
    "                                    'PU_true_h','PU_true_top1','PU_true_top2','PG_true_h','PG_true_top1','PG_true_top2',\n",
    "                                    'KM_true_h','KM_true_top1','KM_true_top2','KU_true_h','KU_true_top1','KU_true_top2',\n",
    "                                    'student_house'],\n",
    "                          index=list(range(NUM_min,NUM_max+1)))\n",
    "\n",
    "notes_etudiante = {'Courage':3.2,\n",
    "                  'Kindness':9.2,\n",
    "                  'Lucidity':8.4,\n",
    "                  'Intelligence':2.7,\n",
    "                  'Creativity':9.1,\n",
    "                  'Loyalty':3.2,\n",
    "                  'Cold blood':4.1,\n",
    "                  'Sincerity':5.9,\n",
    "                  'Ambition':6.9,\n",
    "                  'Wisdom':1.4}\n",
    "\n",
    "for NUM in range(NUM_min,NUM_max+1):\n",
    "\n",
    "    true_quals = [vars.loc[NUM-1]['qual1'],vars.loc[NUM-1]['qual2']]\n",
    "\n",
    "    # Chargement de vos données app et dec\n",
    "    data_app = pd.read_csv(path+f'data_app/data_app_{NUM}.csv',sep='\\t')\n",
    "    data_dec = pd.read_csv(path+f'data_dec/data_dec_{NUM}.csv',sep='\\t')\n",
    "\n",
    "    # Création des classifieurs distance minimum euclidiennes et Mahalanobis\n",
    "    classes = np.unique(data_app['House'])\n",
    "\n",
    "    CDE = utils.ClassifieurDistMin(classes)\n",
    "    CDM = utils.ClassifieurDistMahalanobis(classes)\n",
    "\n",
    "    # Apprentissage des classifieurs sur les données d'apprentissages (Courage et Kindness)\n",
    "    CDE.learning(data_app['Courage'],data_app['Kindness'],data_app['House'])\n",
    "    CDM.learning(data_app['Courage'],data_app['Kindness'],data_app['House'])\n",
    "\n",
    "    # Evaluation des classifieurs sur les données d'évaluation\n",
    "    CDE_results = CDE.test(data_dec['Courage'],data_dec['Kindness'],data_dec['House'],print_results=False)\n",
    "    CDM_results = CDM.test(data_dec['Courage'],data_dec['Kindness'],data_dec['House'],print_results=False)\n",
    "\n",
    "    # Cross validation à 3 dossiers pour déterminer les paramètres h optimaux pour un classifieur de Parzen avec noyau uniforme et noyau gaussien\n",
    "    h_parzen = {'uniforme':None,'gaussien':None}\n",
    "    for noyau in ['uniforme','gaussien']:\n",
    "        h_results = utils.cross_validation_parzen(3,data_app['Courage'],data_app['Kindness'],data_app['House'],utils.Parzen,classes,noyau,0,10,1)\n",
    "        h_max = max([p[1] for p in h_results])\n",
    "        h_opti = [h for h in h_results if h[1]==h_max][0][0]\n",
    "        h_results = utils.cross_validation_parzen(3,data_app['Courage'],data_app['Kindness'],data_app['House'],utils.Parzen,classes,noyau,int(h_opti-1),int(h_opti+1),0.1)\n",
    "        h_max = max([p[1] for p in h_results])\n",
    "        h_opti = [h for h in h_results if h[1]==h_max][0][0]\n",
    "        h_parzen[noyau]=h_opti\n",
    "\n",
    "    # Création des classifieurs de Parzen avec noyau uniforme et noyau gaussien\n",
    "    PU = utils.Parzen(classes,'uniforme',h_parzen['uniforme'])\n",
    "    PG = utils.Parzen(classes,'gaussien',h_parzen['gaussien'])\n",
    "\n",
    "    # Apprentissage des classifieurs sur les données d'apprentissages (Courage et Kindness)\n",
    "    PU.learning(data_app['Courage'],data_app['Kindness'],data_app['House'])\n",
    "    PG.learning(data_app['Courage'],data_app['Kindness'],data_app['House'])\n",
    "\n",
    "    # Evaluation des classifieurs sur les données d'évaluation\n",
    "    PU_results = PU.test(data_dec['Courage'],data_dec['Kindness'],data_dec['House'],print_results=False)\n",
    "    PG_results = PG.test(data_dec['Courage'],data_dec['Kindness'],data_dec['House'],print_results=False)\n",
    "\n",
    "    # Cross validation à 3 dossiers pour déterminer les paramètres k optimaux pour un classifieur KPPV avec vote majoritaire et vote unanime\n",
    "    k_KPPV = {'majoritaire':None,'unanime':None}\n",
    "    for vote in ['majoritaire','unanime']:\n",
    "        k_results = utils.cross_validation_KPPV(3,data_app['Courage'],data_app['Kindness'],data_app['House'],utils.KPPV,classes,vote,2,11,1)\n",
    "        k_max = max([p[1] for p in k_results])\n",
    "        k_opti = [k for k in k_results if k[1]==k_max][0][0]\n",
    "        k_KPPV[vote]=k_opti\n",
    "\n",
    "    # Création des classifieurs KPPV avec vote majoritaire et vote unanime\n",
    "    KM = utils.KPPV(classes,'majoritaire',k_KPPV['majoritaire'])\n",
    "    KU = utils.KPPV(classes,'unanime',k_KPPV['unanime'])\n",
    "\n",
    "    # Apprentissage des classifieurs sur les données d'apprentissages (Courage et Kindness)\n",
    "    KM.learning(data_app['Courage'],data_app['Kindness'],data_app['House'])\n",
    "    KU.learning(data_app['Courage'],data_app['Kindness'],data_app['House'])\n",
    "\n",
    "    # Evaluation des classifieurs sur les données d'évaluation\n",
    "    KM_results = KM.test(data_dec['Courage'],data_dec['Kindness'],data_dec['House'],print_results=False)\n",
    "    KU_results = KU.test(data_dec['Courage'],data_dec['Kindness'],data_dec['House'],print_results=False)\n",
    "\n",
    "    top1_results_first = {'CDE':round(CDE_results[0],4),\n",
    "                    'CDM':round(CDM_results[0],4),\n",
    "                    'PU':round(PU_results[0],4),\n",
    "                    'PG':round(PG_results[0],4),\n",
    "                    'KM':round(KM_results[0],4),\n",
    "                    'KU':round(KU_results[0],4)}\n",
    "\n",
    "    top2_results_first = {'CDE':round(CDE_results[1],4),\n",
    "                    'CDM':round(CDM_results[1],4),\n",
    "                    'PU':round(PU_results[1],4),\n",
    "                    'PG':round(PG_results[1],4),\n",
    "                    'KM':round(KM_results[1],4),\n",
    "                    'KU':round(KU_results[1],4)}\n",
    "\n",
    "    param_optis_first = {'PU':round(h_parzen['uniforme'],1),\n",
    "                         'PG':round(h_parzen['gaussien'],1),\n",
    "                         'KM':round(k_KPPV['majoritaire'],1),\n",
    "                         'KU':round(k_KPPV['unanime'],1)}\n",
    "\n",
    "    CDE = utils.ClassifieurDistMin(classes)\n",
    "    CDM = utils.ClassifieurDistMahalanobis(classes)\n",
    "\n",
    "    # Apprentissage des classifieurs sur les données d'apprentissages (Courage et Kindness)\n",
    "    CDE.learning(data_app[true_quals[0]],data_app[true_quals[1]],data_app['House'])\n",
    "    CDM.learning(data_app[true_quals[0]],data_app[true_quals[1]],data_app['House'])\n",
    "\n",
    "    # Evaluation des classifieurs sur les données d'évaluation\n",
    "    CDE_results = CDE.test(data_dec[true_quals[0]],data_dec[true_quals[1]],data_dec['House'],print_results=False)\n",
    "    CDM_results = CDM.test(data_dec[true_quals[0]],data_dec[true_quals[1]],data_dec['House'],print_results=False)\n",
    "\n",
    "    # Cross validation à 3 dossiers pour déterminer les paramètres h optimaux pour un classifieur de Parzen avec noyau uniforme et noyau gaussien\n",
    "    h_parzen = {'uniforme':None,'gaussien':None}\n",
    "    for noyau in ['uniforme','gaussien']:\n",
    "        h_results = utils.cross_validation_parzen(3,data_app[true_quals[0]],data_app[true_quals[1]],data_app['House'],utils.Parzen,classes,noyau,0,10,1)\n",
    "        h_max = max([p[1] for p in h_results])\n",
    "        h_opti = [h for h in h_results if h[1]==h_max][0][0]\n",
    "        h_results = utils.cross_validation_parzen(3,data_app[true_quals[0]],data_app[true_quals[1]],data_app['House'],utils.Parzen,classes,noyau,int(h_opti-1),int(h_opti+1),0.1)\n",
    "        h_max = max([p[1] for p in h_results])\n",
    "        h_opti = [h for h in h_results if h[1]==h_max][0][0]\n",
    "        h_parzen[noyau]=h_opti\n",
    "\n",
    "    # Création des classifieurs de Parzen avec noyau uniforme et noyau gaussien\n",
    "    PU = utils.Parzen(classes,'uniforme',h_parzen['uniforme'])\n",
    "    PG = utils.Parzen(classes,'gaussien',h_parzen['gaussien'])\n",
    "\n",
    "    # Apprentissage des classifieurs sur les données d'apprentissages (Courage et Kindness)\n",
    "    PU.learning(data_app[true_quals[0]],data_app[true_quals[1]],data_app['House'])\n",
    "    PG.learning(data_app[true_quals[0]],data_app[true_quals[1]],data_app['House'])\n",
    "\n",
    "    # Evaluation des classifieurs sur les données d'évaluation\n",
    "    PU_results = PU.test(data_dec[true_quals[0]],data_dec[true_quals[1]],data_dec['House'],print_results=False)\n",
    "    PG_results = PG.test(data_dec[true_quals[0]],data_dec[true_quals[1]],data_dec['House'],print_results=False)\n",
    "\n",
    "    # Cross validation à 3 dossiers pour déterminer les paramètres k optimaux pour un classifieur KPPV avec vote majoritaire et vote unanime\n",
    "    k_KPPV = {'majoritaire':None,'unanime':None}\n",
    "    for vote in ['majoritaire','unanime']:\n",
    "        k_results = utils.cross_validation_KPPV(3,data_app[true_quals[0]],data_app[true_quals[1]],data_app['House'],utils.KPPV,classes,vote,2,11,1)\n",
    "        k_max = max([p[1] for p in k_results])\n",
    "        k_opti = [k for k in k_results if k[1]==k_max][0][0]\n",
    "        k_KPPV[vote]=k_opti\n",
    "\n",
    "    # Création des classifieurs KPPV avec vote majoritaire et vote unanime\n",
    "    KM = utils.KPPV(classes,'majoritaire',k_KPPV['majoritaire'])\n",
    "    KU = utils.KPPV(classes,'unanime',k_KPPV['unanime'])\n",
    "\n",
    "    # Apprentissage des classifieurs sur les données d'apprentissages (Courage et Kindness)\n",
    "    KM.learning(data_app[true_quals[0]],data_app[true_quals[1]],data_app['House'])\n",
    "    KU.learning(data_app[true_quals[0]],data_app[true_quals[1]],data_app['House'])\n",
    "\n",
    "    # Evaluation des classifieurs sur les données d'évaluation\n",
    "    KM_results = KM.test(data_dec[true_quals[0]],data_dec[true_quals[1]],data_dec['House'],print_results=False)\n",
    "    KU_results = KU.test(data_dec[true_quals[0]],data_dec[true_quals[1]],data_dec['House'],print_results=False)\n",
    "\n",
    "    top1_results_true = {'CDE':round(CDE_results[0],4),\n",
    "                    'CDM':round(CDM_results[0],4),\n",
    "                    'PU':round(PU_results[0],4),\n",
    "                    'PG':round(PG_results[0],4),\n",
    "                    'KM':round(KM_results[0],4),\n",
    "                    'KU':round(KU_results[0],4)}\n",
    "\n",
    "    top2_results_true = {'CDE':round(CDE_results[1],4),\n",
    "                    'CDM':round(CDM_results[1],4),\n",
    "                    'PU':round(PU_results[1],4),\n",
    "                    'PG':round(PG_results[1],4),\n",
    "                    'KM':round(KM_results[1],4),\n",
    "                    'KU':round(KU_results[1],4)}\n",
    "\n",
    "    param_optis_true = {'PU':round(h_parzen['uniforme'],1),\n",
    "                         'PG':round(h_parzen['gaussien'],1),\n",
    "                         'KM':round(k_KPPV['majoritaire'],1),\n",
    "                         'KU':round(k_KPPV['unanime'],1)}\n",
    "\n",
    "    models = {'CDE':CDE,'CDM':CDM,'PU':PU,'PG':PG,'KM':KM,'KU':KU}\n",
    "    best_model = max(top1_results_true,key=top1_results_true.get)\n",
    "    print(best_model)\n",
    "    \n",
    "    student_pred = models[best_model].prediction(notes_etudiante[true_quals[0]],notes_etudiante[true_quals[1]])[0]\n",
    "    \n",
    "    tab_results.loc[NUM] = [true_quals[0],true_quals[1],\n",
    "                            top1_results_first['CDE'],top2_results_first['CDE'],top1_results_first['CDM'],top2_results_first['CDM'],\n",
    "                            param_optis_first['PU'],top1_results_first['PU'],top2_results_first['PU'],param_optis_first['PG'],top1_results_first['PG'],top2_results_first['PG'],\n",
    "                            param_optis_first['KM'],top1_results_first['KM'],top2_results_first['KM'],param_optis_first['KU'],top1_results_first['KU'],top2_results_first['KU'],\n",
    "                            top1_results_true['CDE'],top2_results_true['CDE'],top1_results_true['CDM'],top2_results_true['CDM'],\n",
    "                            param_optis_true['PU'],top1_results_true['PU'],top2_results_true['PU'],param_optis_true['PG'],top1_results_true['PG'],top2_results_true['PG'],\n",
    "                            param_optis_true['KM'],top1_results_true['KM'],top2_results_true['KM'],param_optis_true['KU'],top1_results_true['KU'],top2_results_true['KU'],\n",
    "                            student_pred]\n",
    "    \n",
    "tab_results.to_csv(f'results_corrections_{NUM_min}_to_{NUM_max}.csv')\n",
    "\n",
    "t1 = time.time()\n",
    "print(t1-t0)"
   ]
  },
  {
   "cell_type": "code",
   "execution_count": 26,
   "id": "pacific-salon",
   "metadata": {},
   "outputs": [
    {
     "data": {
      "text/plain": [
       "{'CDE': 0.8925,\n",
       " 'CDM': 0.8925,\n",
       " 'PU': 0.8962,\n",
       " 'PG': 0.89,\n",
       " 'KM': 0.8825,\n",
       " 'KU': 0.7688}"
      ]
     },
     "execution_count": 26,
     "metadata": {},
     "output_type": "execute_result"
    }
   ],
   "source": [
    "top1_results_true"
   ]
  },
  {
   "cell_type": "code",
   "execution_count": 27,
   "id": "transsexual-restaurant",
   "metadata": {},
   "outputs": [
    {
     "data": {
      "text/plain": [
       "['Kindness', 'Cold blood']"
      ]
     },
     "execution_count": 27,
     "metadata": {},
     "output_type": "execute_result"
    }
   ],
   "source": [
    "true_quals"
   ]
  },
  {
   "cell_type": "code",
   "execution_count": 28,
   "id": "applied-insulation",
   "metadata": {},
   "outputs": [
    {
     "data": {
      "text/plain": [
       "{'PU': 2.5, 'PG': 0.3, 'KM': 7, 'KU': 2}"
      ]
     },
     "execution_count": 28,
     "metadata": {},
     "output_type": "execute_result"
    }
   ],
   "source": [
    "param_optis_true"
   ]
  },
  {
   "cell_type": "code",
   "execution_count": null,
   "id": "antique-rebound",
   "metadata": {},
   "outputs": [],
   "source": []
  }
 ],
 "metadata": {
  "kernelspec": {
   "display_name": "Python 3",
   "language": "python",
   "name": "python3"
  },
  "language_info": {
   "codemirror_mode": {
    "name": "ipython",
    "version": 3
   },
   "file_extension": ".py",
   "mimetype": "text/x-python",
   "name": "python",
   "nbconvert_exporter": "python",
   "pygments_lexer": "ipython3",
   "version": "3.7.10"
  }
 },
 "nbformat": 4,
 "nbformat_minor": 5
}
