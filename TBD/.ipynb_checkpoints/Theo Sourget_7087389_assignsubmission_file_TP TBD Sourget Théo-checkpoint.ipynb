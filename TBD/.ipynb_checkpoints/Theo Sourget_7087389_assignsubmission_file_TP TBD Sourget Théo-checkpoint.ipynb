{
 "cells": [
  {
   "cell_type": "markdown",
   "metadata": {},
   "source": [
    "# Travaux Pratiques: Théorie Bayésienne de la Décision"
   ]
  },
  {
   "cell_type": "markdown",
   "metadata": {},
   "source": [
    "## Estimation de gaussiennes\n"
   ]
  },
  {
   "cell_type": "markdown",
   "metadata": {},
   "source": [
    "### 1) Programmer un classifieur par distance euclidienne minimum. Le tester sur les 3 jeux de données. Evaluer ses performances (taux de bonne classificationen Top1 et Top2, matrice de confusion). Conclusion."
   ]
  },
  {
   "cell_type": "code",
   "execution_count": 1,
   "metadata": {},
   "outputs": [],
   "source": [
    "import matplotlib.pyplot as plt\n",
    "import pandas as pd\n",
    "import numpy as np\n",
    "import math\n",
    "import pprint\n",
    "\n",
    "\"\"\"\n",
    "Calcul le taux d'erreur top1 à partir d'un dataframe contenant la vraie classe et la classe décidée des points dans le champs\n",
    "predict1 du dataframe\n",
    "\"\"\"\n",
    "def calculTop1(df):\n",
    "    #le dataframe des points qui ont été mal classé en top1\n",
    "    Top1Df  = df[df[\"w\"] != df[\"predict1\"]]\n",
    "    #Calcul du taux d'erreur top 1 len(df.index) permet de connaitre le nombre de ligne dans le dataframe\n",
    "    txTop1 = len(Top1Df.index)/len(df.index)\n",
    "    return txTop1\n",
    "\n",
    "\"\"\"\n",
    "Calcul le taux d'erreur top2\n",
    "\"\"\"\n",
    "def calculTop2(df):\n",
    "    errTop2Df  = df[(df[\"w\"] != df[\"predict1\"]) & (df[\"w\"] != df[\"predict2\"])]\n",
    "    txErrTop2 = len(errTop2Df.index)/len(df.index)\n",
    "    return txErrTop2\n",
    "\n",
    "\"\"\"\n",
    "Créer un dataframe à partir d'un fichier\n",
    "\"\"\"\n",
    "def createDataframe(f):\n",
    "    #transformation du fichier en un tableau\n",
    "    list = []\n",
    "    for line in f:\n",
    "        val = line.split()\n",
    "        list.append(val)\n",
    "\n",
    "    #Transformation du tableau en un DataFrame pour que ca soit plus simple à manipuler\n",
    "    df = pd.DataFrame(list, columns = [\"w\",\"x\",\"y\"]).astype(float)\n",
    "    return df\n"
   ]
  },
  {
   "cell_type": "markdown",
   "metadata": {},
   "source": [
    "Création du système de classification grâce aux données d'apprentissage "
   ]
  },
  {
   "cell_type": "code",
   "execution_count": 2,
   "metadata": {},
   "outputs": [],
   "source": [
    "\n",
    "#Ouverture du fichier d'apprentissage\n",
    "f = open(\"Archive/data_tp1_app.txt\", \"r\")\n",
    "def classifieurEuclidien(f):\n",
    "    df = createDataframe(f)\n",
    "\n",
    "    #Récupération de toutes les valeurs possibles des classes (ici [1,2,3,4,5])\n",
    "    classes = pd.unique(df.w)\n",
    "\n",
    "    moy = {}\n",
    "    #On va ensuite calculer la moyenne pour chaque classe\n",
    "    for wi in classes:\n",
    "        #On récupère un dataframe ne contenant que les points de la classe wi\n",
    "        points = df[df[\"w\"] == wi]\n",
    "        #On supprime la ligne w du DataFrame car elle ne nous sert pas\n",
    "        points = points.drop(['w'],axis = 1)\n",
    "        moy[wi] = {}\n",
    "        #On va ensuite calculer la moyenne de chaque attribut de la classe\n",
    "        for attr in points.columns:\n",
    "            moy[wi][attr] = points[attr].sum()/len(points)\n",
    "    #À la suite de cette boucle on a le système de décision il faut maintenant le tester\n",
    "    return moy,classes\n",
    "moy,classes = classifieurEuclidien(f)"
   ]
  },
  {
   "cell_type": "markdown",
   "metadata": {},
   "source": [
    "Test du système sur les données de validation"
   ]
  },
  {
   "cell_type": "code",
   "execution_count": 3,
   "metadata": {},
   "outputs": [
    {
     "name": "stdout",
     "output_type": "stream",
     "text": [
      "Taux d'erreur top1: 0.008\n",
      "Taux d'erreur top2: 0.0\n",
      "\n",
      "Matrice de confusion: \n",
      "[[ 98.   0.   0.   0.   2.]\n",
      " [  0. 100.   0.   0.   0.]\n",
      " [  0.   0.  99.   1.   0.]\n",
      " [  0.   0.   0. 100.   0.]\n",
      " [  1.   0.   0.   0.  99.]]\n"
     ]
    }
   ],
   "source": [
    "#Ouverture du fichier de décision\n",
    "f = open(\"Archive/data_tp1_dec.txt\", \"r\")\n",
    "def decisionEuclidienne(f,moy,classes):\n",
    "    list = []\n",
    "    distance = []\n",
    "    #Pour chaque ligne du fichier on va calculer la distance euclidienne\n",
    "    for line in f:\n",
    "        val = line.split()\n",
    "        distances = []\n",
    "        predict1 = 0\n",
    "        predict2 = 0\n",
    "        #On calcul la distance pour chaque classe\n",
    "        for wi in classes:\n",
    "            wi = int(wi)\n",
    "            distance = 0\n",
    "            i = 1\n",
    "            #somme de la distance pour chaque attribut \n",
    "            for key in moy[wi].keys():\n",
    "                distance += (float(val[i])-moy[wi][key])**2\n",
    "                i += 1\n",
    "            distance = math.sqrt(distance)\n",
    "            distances.append(distance)\n",
    "            #Si la distance qu'on vient de calculer est la plus petite alors la classe wi devient la classe predite\n",
    "            if(min(distances) == distance):\n",
    "                predict2 = predict1\n",
    "                predict1 = wi\n",
    "            else:\n",
    "                if(predict2 == 0):\n",
    "                    predict2 = wi\n",
    "                else:\n",
    "                    indexPredict2 = int(predict2 - 1)\n",
    "                    if(distance < distances[indexPredict2]):\n",
    "                        predict2 = wi\n",
    "        val.append(predict1)\n",
    "        val.append(predict2)\n",
    "        list.append(val)\n",
    "\n",
    "    #On crée un dataframe avec tous les résultats\n",
    "    df = pd.DataFrame(list, columns = [\"w\",\"x\",\"y\",\"predict1\",\"predict2\"]).astype(float)\n",
    "    #le dataframe des points qui ont été mal classé en top1\n",
    "    errTop1Df  = df[df[\"w\"] != df[\"predict1\"]]\n",
    "    #Calcul du taux d'erreur top 1 len(df.index) permet de connaitre le nombre de ligne dans le dataframe\n",
    "    txErrTop1 = len(errTop1Df.index)/len(df.index)\n",
    "    print(\"Taux d'erreur top1: \"+str(txErrTop1))\n",
    "\n",
    "    #Même chose avec le top2\n",
    "    #le dataframe des points qui ont été mal classé en top2\n",
    "    errTop2Df  = df[(df[\"w\"] != df[\"predict1\"]) & (df[\"w\"] != df[\"predict2\"])]\n",
    "    txErrTop2 = len(errTop2Df.index)/len(df.index)\n",
    "    print(\"Taux d'erreur top2: \"+str(txErrTop2))\n",
    "\n",
    "    #Création de la matrice de confusion\n",
    "    confusion = np.zeros(len(classes)**2).reshape(len(classes),len(classes))\n",
    "    #Pour chaque ligne classe représente la classe réel du point et prediction la classe retournée par le systeme\n",
    "    #On incrémente donc la matrice à l'emplacement à la ligne de la classe réel et la colonne de la classe prédite\n",
    "    for obs in df.iterrows():\n",
    "        classe = int(obs[1][\"w\"]) - 1\n",
    "        prediction = int(obs[1][\"predict1\"]) - 1\n",
    "        confusion[classe][prediction] += 1\n",
    "    print(\"\\nMatrice de confusion: \")\n",
    "    print(confusion)\n",
    "decisionEuclidienne(f,moy,classes)"
   ]
  },
  {
   "cell_type": "markdown",
   "metadata": {},
   "source": [
    "On observe donc que le taux de bonne classification en top1 est de 0.008 et en top2 0, on voit donc que la majorité des points sont bien classés dès le top 1(4 erreurs) et que la majorité de ces erreurs sont entre la classe 5 et la classe 1 à l'exception d'un point classé en 4 au lieu de 3.\n",
    "On voit également que les 4 erreurs sont \"corrigées\" lorsque l'on prends en compte le top2.\n",
    "\n",
    "On peut ainsi voir que le système semble performant sur le jeu de données fourni"
   ]
  },
  {
   "cell_type": "markdown",
   "metadata": {},
   "source": [
    "### Programmer un classifieur par distance de Mahalanobis minimum. Le tester sur les 3 jeux de données. Evaluer ses performances (taux de bonne classification en Top1 et Top2, matrice de confusion). Conclusion."
   ]
  },
  {
   "cell_type": "markdown",
   "metadata": {},
   "source": [
    "Création du système:"
   ]
  },
  {
   "cell_type": "code",
   "execution_count": 4,
   "metadata": {},
   "outputs": [],
   "source": [
    "import pandas as pd\n",
    "import numpy as np\n",
    "import math\n",
    "\n",
    "#Ouverture du fichier d'apprentissage\n",
    "f = open(\"Archive/data_tp2_app.txt\", \"r\")\n",
    "\n",
    "def classifieurMahalanobis(f):\n",
    "    #transformation du fichier en un tableau\n",
    "    list = []\n",
    "    for line in f:\n",
    "        val = line.split()\n",
    "        list.append(val)\n",
    "\n",
    "    #Transformation du tableau en un DataFrame pour que ca soit plus simple à manipuler\n",
    "    df = pd.DataFrame(list, columns = [\"w\",\"x\",\"y\"]).astype(float)\n",
    "\n",
    "    #Récupération de toutes les valeurs possibles des classes (ici [1,2,3,4,5])\n",
    "    classes = pd.unique(df.w)\n",
    "\n",
    "    moy = {}\n",
    "    #On va ensuite calculer la moyenne pour chaque classe\n",
    "    for wi in classes:\n",
    "        #On récupère un dataframe ne contenant que les points de la classe wi\n",
    "        points = df[df[\"w\"] == wi]\n",
    "        #On supprime la ligne w du DataFrame car elle ne nous sert pas\n",
    "        points = points.drop(['w'],axis = 1)\n",
    "        moy[wi] = {}\n",
    "        #On va ensuite calculer la moyenne de chaque attribut de la classe\n",
    "        for attr in points.columns:\n",
    "            moy[wi][attr] = points[attr].sum()/len(points)   \n",
    "\n",
    "    #On va maintenant calculer la matrice de covariance pour chaque classe:\n",
    "    matricesCov = {}\n",
    "    for wi in classes:\n",
    "        covs = np.zeros(len(points.columns)**2).reshape((len(points.columns),len(points.columns)))\n",
    "        points = df[df[\"w\"] == wi]\n",
    "        points = points.drop(['w'],axis = 1)\n",
    "        #Les variables i et j permettent juste de se situer dans la matrice covs\n",
    "        i=0\n",
    "        for attr1 in points.columns:\n",
    "            j=0\n",
    "            for attr2 in points.columns:\n",
    "                #Application de la formule Cov(X1,X2) = E[(X1 − µ1)(X2 − µ2)]\n",
    "                cov = (points[attr1]-moy[wi][attr1])@(points[attr2]-moy[wi][attr2])\n",
    "                cov = cov/len(points.index)\n",
    "                covs[i][j] = cov\n",
    "                j += 1\n",
    "            i += 1   \n",
    "        matricesCov[wi] = covs\n",
    "    return df,moy,matricesCov\n",
    "df,moy,matricesCov = classifieurMahalanobis(f)\n",
    "#On a maintenant les matrices de covariances et les moyennes pour toutes les classes. On a donc notre système, on peut le tester.\n"
   ]
  },
  {
   "cell_type": "code",
   "execution_count": 5,
   "metadata": {
    "scrolled": true
   },
   "outputs": [
    {
     "name": "stdout",
     "output_type": "stream",
     "text": [
      "Taux d'erreur top1: 0.054\n",
      "Taux d'erreur top2: 0.006\n",
      "\n",
      "Matrice de confusion: \n",
      "[[99.  0.  1.  0.  0.]\n",
      " [ 0. 95.  5.  0.  0.]\n",
      " [ 1.  4. 88.  1.  6.]\n",
      " [ 0.  0.  3. 96.  1.]\n",
      " [ 0.  0.  5.  0. 95.]]\n"
     ]
    }
   ],
   "source": [
    "#Ouverture du fichier de décision\n",
    "f = open(\"Archive/data_tp2_dec.txt\", \"r\")\n",
    "def decisionMahalanobis(f,df,moy,MatricesCov):\n",
    "    list = []\n",
    "    distance = []\n",
    "    #Pour chaque ligne du fichier on va calculer la distance de Mahalanobis\n",
    "    for line in f:\n",
    "        val = line.split()\n",
    "        attr = np.array([val[1],val[2]],dtype = 'float')\n",
    "        distances = []\n",
    "        predict1 = 0\n",
    "        predict2 = 0\n",
    "        #On calcul la distance pour chaque classe\n",
    "        for wi in classes:\n",
    "            mu = [moy[wi][\"x\"],moy[wi][\"y\"]]\n",
    "            #Application de la formule: dk(x) = (x-mk)t Sk-1(x-mk)+ [ ln(det(Sk)) – 2 ln p(wk) ] avec Sk la matrice de covariance\n",
    "            xmk = np.array([attr[i] - mu[i] for i in range(len(mu))])\n",
    "            pwk = len(df[df[\"w\"] == wi].index)/len(df.index)\n",
    "            distance = xmk.T@np.linalg.inv(matricesCov[wi])@xmk + (math.log(np.linalg.det(matricesCov[wi])) - 2 * math.log(pwk))\n",
    "            distances.append(distance)\n",
    "            #Si la distance qu'on vient de calculer est la plus petite alors la classe wi devient la classe predite\n",
    "            if(min(distances) == distance):\n",
    "                predict2 = predict1\n",
    "                predict1 = wi \n",
    "            else:\n",
    "                if(predict2 == 0):\n",
    "                    predict2 = wi\n",
    "                else:\n",
    "                    indexPredict2 = int(predict2 - 1)\n",
    "                    if(distance < distances[indexPredict2]):\n",
    "                        predict2 = wi\n",
    "        val.append(predict1)\n",
    "        val.append(predict2)\n",
    "        list.append(val)\n",
    "    #On crée un dataframe avec tous les résultats\n",
    "    df = pd.DataFrame(list, columns = [\"w\",\"x\",\"y\",\"predict1\",\"predict2\"]).astype(float)\n",
    "    #le dataframe des points qui ont été mal classé en top1\n",
    "    errTop1Df  = df[df[\"w\"] != df[\"predict1\"]]\n",
    "    #Calcul du taux d'erreur top 1 len(df.index) permet de connaitre le nombre de ligne dans le dataframe\n",
    "    txErrTop1 = len(errTop1Df.index)/len(df.index)\n",
    "    print(\"Taux d'erreur top1: \"+str(txErrTop1))\n",
    "\n",
    "    #Même chose avec le top2\n",
    "    #le dataframe des points qui ont été mal classé en top2\n",
    "    errTop2Df  = df[(df[\"w\"] != df[\"predict1\"]) & (df[\"w\"] != df[\"predict2\"])]\n",
    "    txErrTop2 = len(errTop2Df.index)/len(df.index)\n",
    "    print(\"Taux d'erreur top2: \"+str(txErrTop2))\n",
    "\n",
    "    #Création de la matrice de confusion\n",
    "    confusion = np.zeros(len(classes)**2).reshape(len(classes),len(classes))\n",
    "    #Pour chaque ligne classe représente la classe réel du point et prediction la classe retournée par le systeme\n",
    "    #On incrémente donc la matrice à l'emplacement à la ligne de la classe réel et la colonne de la classe prédite\n",
    "    for obs in df.iterrows():\n",
    "        classe = int(obs[1][\"w\"]) - 1\n",
    "        prediction = int(obs[1][\"predict1\"]) - 1\n",
    "        confusion[classe][prediction] += 1\n",
    "    print(\"\\nMatrice de confusion: \")\n",
    "    print(confusion)\n",
    "\n",
    "decisionMahalanobis(f,df,moy,matricesCov)"
   ]
  },
  {
   "cell_type": "markdown",
   "metadata": {},
   "source": [
    "On observe encore une fois un taux d'erreur faible avec 0.054 pour le top1 et 0.006 pour le top2. On peut également voir grâce à la matrice de confusion que la classe 1 est bien classée avec une seule erreur, la classe 3 est celle pour laquelle le classifieur a le plus de difficultés avec 12 observations sur 100 mauvaises. D'une manière générale, on voit que la confusion est grande entre la classe 3 et le reste des classe puisque l'ensemble des erreurs des classes 1,2 et 5 proviennent d'une mauvaise classification en classe 3"
   ]
  },
  {
   "cell_type": "markdown",
   "metadata": {},
   "source": [
    "### Comparer les performances des deux classifieurs notamment en dissociant l'analyse sur les 3 jeux de données. Conclusion. "
   ]
  },
  {
   "cell_type": "markdown",
   "metadata": {},
   "source": [
    "#### Jeu de données 1:"
   ]
  },
  {
   "cell_type": "code",
   "execution_count": 6,
   "metadata": {},
   "outputs": [
    {
     "name": "stdout",
     "output_type": "stream",
     "text": [
      "Euclidien:\n",
      "Taux d'erreur top1: 0.008\n",
      "Taux d'erreur top2: 0.0\n",
      "\n",
      "Matrice de confusion: \n",
      "[[ 98.   0.   0.   0.   2.]\n",
      " [  0. 100.   0.   0.   0.]\n",
      " [  0.   0.  99.   1.   0.]\n",
      " [  0.   0.   0. 100.   0.]\n",
      " [  1.   0.   0.   0.  99.]]\n",
      "\n",
      "Mahalanobis: \n",
      "Taux d'erreur top1: 0.008\n",
      "Taux d'erreur top2: 0.004\n",
      "\n",
      "Matrice de confusion: \n",
      "[[ 99.   0.   0.   0.   1.]\n",
      " [  0. 100.   0.   0.   0.]\n",
      " [  0.   0.  99.   0.   1.]\n",
      " [  0.   0.   0. 100.   0.]\n",
      " [  0.   0.   0.   2.  98.]]\n"
     ]
    }
   ],
   "source": [
    "print(\"Euclidien:\")\n",
    "fApp = open(\"Archive/data_tp1_app.txt\", \"r\")\n",
    "fDec = open(\"Archive/data_tp1_dec.txt\", \"r\")\n",
    "moy,classes = classifieurEuclidien(fApp)\n",
    "decisionEuclidienne(fDec,moy,classes)\n",
    "print(\"\\nMahalanobis: \")\n",
    "fApp = open(\"Archive/data_tp1_app.txt\", \"r\")\n",
    "fDec = open(\"Archive/data_tp1_dec.txt\", \"r\")\n",
    "df,moy,cov = classifieurMahalanobis(fApp)\n",
    "decisionMahalanobis(fDec,df,moy,cov)"
   ]
  },
  {
   "cell_type": "markdown",
   "metadata": {},
   "source": [
    "#### Jeu de données 2"
   ]
  },
  {
   "cell_type": "code",
   "execution_count": 7,
   "metadata": {},
   "outputs": [
    {
     "name": "stdout",
     "output_type": "stream",
     "text": [
      "Euclidien:\n",
      "Taux d'erreur top1: 0.054\n",
      "Taux d'erreur top2: 0.004\n",
      "\n",
      "Matrice de confusion: \n",
      "[[100.   0.   0.   0.   0.]\n",
      " [  2.  97.   1.   0.   0.]\n",
      " [  0.   5.  84.   1.  10.]\n",
      " [  0.   0.   6.  94.   0.]\n",
      " [  0.   0.   2.   0.  98.]]\n",
      "\n",
      "Mahalanobis: \n",
      "Taux d'erreur top1: 0.054\n",
      "Taux d'erreur top2: 0.006\n",
      "\n",
      "Matrice de confusion: \n",
      "[[99.  0.  1.  0.  0.]\n",
      " [ 0. 95.  5.  0.  0.]\n",
      " [ 1.  4. 88.  1.  6.]\n",
      " [ 0.  0.  3. 96.  1.]\n",
      " [ 0.  0.  5.  0. 95.]]\n"
     ]
    }
   ],
   "source": [
    "print(\"Euclidien:\")\n",
    "fApp = open(\"Archive/data_tp2_app.txt\", \"r\")\n",
    "fDec = open(\"Archive/data_tp2_dec.txt\", \"r\")\n",
    "moy,classes = classifieurEuclidien(fApp)\n",
    "decisionEuclidienne(fDec,moy,classes)\n",
    "\n",
    "\n",
    "print(\"\\nMahalanobis: \")\n",
    "fApp = open(\"Archive/data_tp2_app.txt\", \"r\")\n",
    "fDec = open(\"Archive/data_tp2_dec.txt\", \"r\")\n",
    "df,moy,cov = classifieurMahalanobis(fApp)\n",
    "decisionMahalanobis(fDec,df,moy,cov)"
   ]
  },
  {
   "cell_type": "markdown",
   "metadata": {},
   "source": [
    "#### Jeu de données 3"
   ]
  },
  {
   "cell_type": "code",
   "execution_count": 8,
   "metadata": {},
   "outputs": [
    {
     "name": "stdout",
     "output_type": "stream",
     "text": [
      "Euclidien:\n",
      "Taux d'erreur top1: 0.272\n",
      "Taux d'erreur top2: 0.108\n",
      "\n",
      "Matrice de confusion: \n",
      "[[43. 17. 16. 12. 12.]\n",
      " [12. 83.  3.  0.  2.]\n",
      " [16.  4. 78.  2.  0.]\n",
      " [16.  0.  7. 74.  3.]\n",
      " [ 5.  9.  0.  0. 86.]]\n",
      "\n",
      "Mahalanobis: \n",
      "Taux d'erreur top1: 0.282\n",
      "Taux d'erreur top2: 0.134\n",
      "\n",
      "Matrice de confusion: \n",
      "[[41. 18. 14. 16. 11.]\n",
      " [ 9. 83.  5.  0.  3.]\n",
      " [17.  4. 77.  2.  0.]\n",
      " [17.  0. 11. 70.  2.]\n",
      " [ 6.  6.  0.  0. 88.]]\n"
     ]
    }
   ],
   "source": [
    "print(\"Euclidien:\")\n",
    "fApp = open(\"Archive/data_tp3_app.txt\", \"r\")\n",
    "fDec = open(\"Archive/data_tp3_dec.txt\", \"r\")\n",
    "moy,classes = classifieurEuclidien(fApp)\n",
    "decisionEuclidienne(fDec,moy,classes)\n",
    "\n",
    "\n",
    "print(\"\\nMahalanobis: \")\n",
    "fApp = open(\"Archive/data_tp3_app.txt\", \"r\")\n",
    "fDec = open(\"Archive/data_tp3_dec.txt\", \"r\")\n",
    "df,moy,cov = classifieurMahalanobis(fApp)\n",
    "dfDec = decisionMahalanobis(fDec,df,moy,cov)"
   ]
  },
  {
   "cell_type": "markdown",
   "metadata": {},
   "source": [
    "On observe avec l'analyse des 3 jeux de données que de façon étonnante le classifieur par distance euclidienne est généralement autant voir + efficace que le classifieur par distance de Mahalanobis notamment sur le jeu de données 3.\n",
    "On voit que sur le jeu de données 3 les résultats sont beaucoup moins bons. On peut expliquer cela par la nature du jeu dont les observations sont plus mélangées que dans les autres jeux où chaque classe avait une zone bien définie."
   ]
  },
  {
   "cell_type": "markdown",
   "metadata": {},
   "source": [
    "## Parzen"
   ]
  },
  {
   "cell_type": "markdown",
   "metadata": {},
   "source": [
    "### Programmer un classifieur de Parzen avec un noyau uniforme et un noyau gaussien. Le tester sur les 3 jeux de données. Evaluer ses performances (taux de bonne classification en Top1 et Top2, matrice de confusion). Conclusion."
   ]
  },
  {
   "cell_type": "code",
   "execution_count": 9,
   "metadata": {},
   "outputs": [],
   "source": [
    "def uniforme(df,point,h):\n",
    "    #Taille de l'intervalle autorisé\n",
    "    proba = 0\n",
    "    for p in df.iterrows():\n",
    "        #différence entre x et xy, y et yi\n",
    "        x = abs(point.x - p[1].x)\n",
    "        y = abs(point.y - p[1].y)\n",
    "        #On regarde si c'est compris dans l'intervalle, si oui on incrémente la proba\n",
    "        if(x <= h/2 and y <= h/2):\n",
    "            proba += 1\n",
    "    return proba\n",
    "\n",
    "def gaussien(df,point,h):\n",
    "    #mu et sigma sont défini dans h\n",
    "    sigma = h\n",
    "    \n",
    "    x = np.array([point.x,point.y])\n",
    "    ret = 0\n",
    "    #On calcul pour chaque point de la classe\n",
    "    for p in df.iterrows():      \n",
    "        xi = [p[1].x,p[1].y]\n",
    "        #Application de la formule de la loi normale\n",
    "        current = 1/(2 * math.pi * np.linalg.det(sigma) **(1/2))\n",
    "        current *= math.exp(-1/2 * ((x-xi)).T@np.linalg.inv(sigma)@((x-xi)))\n",
    "        ret += current\n",
    "    return ret\n",
    "\n",
    "\n",
    "def parzen(f,df,x,h):\n",
    "    predict1 = 0\n",
    "    predict2 = 0\n",
    "    distances = np.zeros(5)\n",
    "    #On calcul pour chaque classe\n",
    "    for wi in pd.unique(df.w):\n",
    "        pointW = df[df[\"w\"]==wi]\n",
    "        distance = (1/(len(df.index))) * f(pointW,x,h)\n",
    "        distances[int(wi)-1] = distance\n",
    "        if(max(distances) == distance):\n",
    "                predict2 = predict1\n",
    "                predict1 = wi \n",
    "        else:\n",
    "            if(predict2 == 0):\n",
    "                predict2 = wi\n",
    "            else:\n",
    "                indexPredict2 = int(predict2 - 1)\n",
    "                if(distance > distances[indexPredict2]):\n",
    "                    predict2 = wi\n",
    "    if(np.all((np.array(distances) == 0))):\n",
    "        predict1 = 6\n",
    "        predict2 = 6\n",
    "    return predict1,predict2    \n"
   ]
  },
  {
   "cell_type": "markdown",
   "metadata": {},
   "source": [
    "#### Test sur les 3 jeux de données:"
   ]
  },
  {
   "cell_type": "code",
   "execution_count": 10,
   "metadata": {},
   "outputs": [
    {
     "name": "stdout",
     "output_type": "stream",
     "text": [
      "Matrice de confusion pour le noyau uniforme\n",
      "[[ 96.   0.   0.   0.   1.   3.]\n",
      " [  0.  97.   0.   0.   2.   1.]\n",
      " [  0.   0.  98.   0.   0.   2.]\n",
      " [  0.   0.   0. 100.   0.   0.]\n",
      " [  0.   0.   1.   0.  98.   1.]]\n",
      "Taux d'erreur top 1 : 0.022\n",
      "Taux d'erreur top 2 : 0.018\n",
      "\n",
      "Matrice de confusion pour le noyau gaussien\n",
      "[[ 99.   0.   0.   0.   1.   0.]\n",
      " [  0. 100.   0.   0.   0.   0.]\n",
      " [  0.   0. 100.   0.   0.   0.]\n",
      " [  0.   0.   0. 100.   0.   0.]\n",
      " [  0.   0.   0.   1.  99.   0.]]\n",
      "Taux d'erreur top 1 : 0.004\n",
      "Taux d'erreur top 2 : 0.002\n"
     ]
    }
   ],
   "source": [
    "#Jeu 1:\n",
    "fApp = open(\"Archive/data_tp1_app.txt\", \"r\")\n",
    "dfApp = createDataframe(fApp)\n",
    "\n",
    "fDec = open(\"Archive/data_tp1_dec.txt\", \"r\")\n",
    "dfDecision = createDataframe(fDec)\n",
    "\n",
    "classes = pd.unique(dfDecision.w)\n",
    "\n",
    "confusion = np.zeros((len(classes)**2) + 5).reshape(len(classes),len(classes) + 1)\n",
    "for p in dfDecision.iterrows():\n",
    "    index = int(p[0])\n",
    "    classe = int(p[1].w) - 1\n",
    "    predict1,predict2 = parzen(uniforme,dfApp,p[1],2.5)\n",
    "    dfDecision.loc[index,\"predict1\"] = predict1\n",
    "    dfDecision.loc[index,\"predict2\"] = predict2\n",
    "    confusion[classe][int(predict1 - 1)] += 1\n",
    "print(\"Matrice de confusion pour le noyau uniforme\")\n",
    "print(confusion) \n",
    "print(\"Taux d'erreur top 1 :\",calculTop1(dfDecision))\n",
    "print(\"Taux d'erreur top 2 :\",calculTop2(dfDecision))\n",
    "\n",
    "confusion = np.zeros((len(classes)**2) + 5).reshape(len(classes),len(classes) + 1)\n",
    "h = np.array([[1,0],[0,1]])\n",
    "for p in dfDecision.iterrows():\n",
    "    index = int(p[0])\n",
    "    classe = int(p[1].w) - 1\n",
    "    predict1,predict2 = parzen(gaussien,dfApp,p[1],h)\n",
    "    dfDecision.loc[index,\"predict1\"] = predict1\n",
    "    dfDecision.loc[index,\"predict2\"] = predict2\n",
    "    confusion[classe][int(predict1 - 1)] += 1\n",
    "\n",
    "print(\"\\nMatrice de confusion pour le noyau gaussien\")\n",
    "print(confusion)\n",
    "print(\"Taux d'erreur top 1 :\",calculTop1(dfDecision))\n",
    "print(\"Taux d'erreur top 2 :\",calculTop2(dfDecision))"
   ]
  },
  {
   "cell_type": "code",
   "execution_count": 26,
   "metadata": {},
   "outputs": [
    {
     "name": "stdout",
     "output_type": "stream",
     "text": [
      "Matrice de confusion pour le noyau uniforme\n",
      "[[99.  0.  0.  0.  0.  1.]\n",
      " [ 0. 95.  3.  0.  0.  2.]\n",
      " [ 2.  5. 83.  1.  9.  0.]\n",
      " [ 0.  0.  3. 96.  1.  0.]\n",
      " [ 0.  0.  1.  0. 99.  0.]]\n",
      "Taux d'erreur top 1 : 0.056\n",
      "Taux d'erreur top 2 : 0.014\n",
      "\n",
      "Matrice de confusion pour le noyau gaussien\n",
      "[[99.  0.  1.  0.  0.  0.]\n",
      " [ 0. 98.  2.  0.  0.  0.]\n",
      " [ 2.  5. 82.  1. 10.  0.]\n",
      " [ 0.  0.  3. 96.  1.  0.]\n",
      " [ 0.  0.  1.  0. 99.  0.]]\n",
      "Taux d'erreur top 1 : 0.052\n",
      "Taux d'erreur top 2 : 0.006\n"
     ]
    }
   ],
   "source": [
    "#Jeu 2:\n",
    "fApp = open(\"Archive/data_tp2_app.txt\", \"r\")\n",
    "dfApp = createDataframe(fApp)\n",
    "\n",
    "fDec = open(\"Archive/data_tp2_dec.txt\", \"r\")\n",
    "dfDecision = createDataframe(fDec)\n",
    "\n",
    "classes = pd.unique(dfDecision.w)\n",
    "\n",
    "confusion = np.zeros((len(classes)**2) + 5).reshape(len(classes),len(classes) + 1)\n",
    "for p in dfDecision.iterrows():\n",
    "    index = int(p[0])\n",
    "    classe = int(p[1].w) - 1\n",
    "    predict1,predict2 = parzen(uniforme,dfApp,p[1],2.5)\n",
    "    dfDecision.loc[index,\"predict1\"] = predict1\n",
    "    dfDecision.loc[index,\"predict2\"] = predict2\n",
    "    confusion[classe][int(predict1 - 1)] += 1\n",
    "print(\"Matrice de confusion pour le noyau uniforme\")\n",
    "print(confusion) \n",
    "print(\"Taux d'erreur top 1 :\",calculTop1(dfDecision))\n",
    "print(\"Taux d'erreur top 2 :\",calculTop2(dfDecision))\n",
    "\n",
    "confusion = np.zeros((len(classes)**2) + 5).reshape(len(classes),len(classes) + 1)\n",
    "h = np.array([[1,0],[0,1]])\n",
    "for p in dfDecision.iterrows():\n",
    "    index = int(p[0])\n",
    "    classe = int(p[1].w) - 1\n",
    "    predict1,predict2 = parzen(gaussien,dfApp,p[1],h)\n",
    "    dfDecision.loc[index,\"predict1\"] = predict1\n",
    "    dfDecision.loc[index,\"predict2\"] = predict2\n",
    "    confusion[classe][int(predict1 - 1)] += 1\n",
    "\n",
    "print(\"\\nMatrice de confusion pour le noyau gaussien\")\n",
    "print(confusion)\n",
    "print(\"Taux d'erreur top 1 :\",calculTop1(dfDecision))\n",
    "print(\"Taux d'erreur top 2 :\",calculTop2(dfDecision))"
   ]
  },
  {
   "cell_type": "code",
   "execution_count": 27,
   "metadata": {},
   "outputs": [
    {
     "name": "stdout",
     "output_type": "stream",
     "text": [
      "Matrice de confusion pour le noyau uniforme\n",
      "[[34. 18. 19. 13. 16.  0.]\n",
      " [ 8. 76.  6.  0.  7.  3.]\n",
      " [12.  4. 82.  1.  0.  1.]\n",
      " [17.  0. 12. 61.  3.  7.]\n",
      " [ 3.  5.  0.  0. 92.  0.]]\n",
      "Taux d'erreur top 1 : 0.31\n",
      "Taux d'erreur top 2 : 0.136\n",
      "\n",
      "Matrice de confusion pour le noyau gaussien\n",
      "[[34. 18. 19. 14. 15.  0.]\n",
      " [ 8. 82.  5.  0.  5.  0.]\n",
      " [12.  5. 81.  2.  0.  0.]\n",
      " [19.  0. 10. 68.  3.  0.]\n",
      " [ 4.  5.  0.  0. 91.  0.]]\n",
      "Taux d'erreur top 1 : 0.288\n",
      "Taux d'erreur top 2 : 0.136\n"
     ]
    }
   ],
   "source": [
    "#Jeu 3:\n",
    "fApp = open(\"Archive/data_tp3_app.txt\", \"r\")\n",
    "dfApp = createDataframe(fApp)\n",
    "\n",
    "fDec = open(\"Archive/data_tp3_dec.txt\", \"r\")\n",
    "dfDecision = createDataframe(fDec)\n",
    "\n",
    "classes = pd.unique(dfDecision.w)\n",
    "\n",
    "confusion = np.zeros((len(classes)**2) + 5).reshape(len(classes),len(classes) + 1)\n",
    "for p in dfDecision.iterrows():\n",
    "    index = int(p[0])\n",
    "    classe = int(p[1].w) - 1\n",
    "    predict1,predict2 = parzen(uniforme,dfApp,p[1],2.5)\n",
    "    dfDecision.loc[index,\"predict1\"] = predict1\n",
    "    dfDecision.loc[index,\"predict2\"] = predict2\n",
    "    confusion[classe][int(predict1 - 1)] += 1\n",
    "print(\"Matrice de confusion pour le noyau uniforme\")\n",
    "print(confusion) \n",
    "print(\"Taux d'erreur top 1 :\",calculTop1(dfDecision))\n",
    "print(\"Taux d'erreur top 2 :\",calculTop2(dfDecision))\n",
    "\n",
    "confusion = np.zeros((len(classes)**2) + 5).reshape(len(classes),len(classes) + 1)\n",
    "h = np.array([[1,0],[0,1]])\n",
    "for p in dfDecision.iterrows():\n",
    "    index = int(p[0])\n",
    "    classe = int(p[1].w) - 1\n",
    "    predict1,predict2 = parzen(gaussien,dfApp,p[1],h)\n",
    "    dfDecision.loc[index,\"predict1\"] = predict1\n",
    "    dfDecision.loc[index,\"predict2\"] = predict2\n",
    "    confusion[classe][int(predict1 - 1)] += 1\n",
    "\n",
    "print(\"\\nMatrice de confusion pour le noyau gaussien\")\n",
    "print(confusion)\n",
    "print(\"Taux d'erreur top 1 :\",calculTop1(dfDecision))\n",
    "print(\"Taux d'erreur top 2 :\",calculTop2(dfDecision))"
   ]
  },
  {
   "cell_type": "markdown",
   "metadata": {},
   "source": [
    "On peut donc voir que sur l'ensemble des jeux le noyau gaussien a de meilleurs résultats que le noyau uniforme. Une des raisons est que le noyau uniforme peut ne pas classer certains points ce que n'est pas le cas avec le noyau gaussien de par sa définition.\n",
    "On peut cependant noter que les résultats sont influencé par le choix de l'hyperparamètre et donc que l'observation précédente peut changer selon ce choix."
   ]
  },
  {
   "cell_type": "markdown",
   "metadata": {},
   "source": [
    "### Cross-validation pour trouver h dans le cas d'une fonction uniforme"
   ]
  },
  {
   "cell_type": "code",
   "execution_count": 31,
   "metadata": {
    "scrolled": false
   },
   "outputs": [
    {
     "name": "stderr",
     "output_type": "stream",
     "text": [
      "<ipython-input-31-e7e928ca02a0>:24: SettingWithCopyWarning: \n",
      "A value is trying to be set on a copy of a slice from a DataFrame.\n",
      "Try using .loc[row_indexer,col_indexer] = value instead\n",
      "\n",
      "See the caveats in the documentation: https://pandas.pydata.org/pandas-docs/stable/user_guide/indexing.html#returning-a-view-versus-a-copy\n",
      "  tabDf[i][\"predict1\"] = predict1\n"
     ]
    },
    {
     "name": "stdout",
     "output_type": "stream",
     "text": [
      "{0: 0.0, 1: 0.7665625, 2: 0.93375, 3: 0.963125, 4: 0.965625, 5: 0.968125, 6: 0.968125, 7: 0.9625, 8: 0.96, 9: 0.9625, 10: 0.95875, 11: 0.95625, 12: 0.9512499999999999, 13: 0.9503125, 14: 0.9275, 15: 0.8803125, 16: 0.8053125, 17: 0.7028125, 18: 0.60375, 19: 0.5165625, 20: 0.41874999999999996}\n"
     ]
    },
    {
     "data": {
      "text/plain": [
       "Text(0.5, 1.0, 'Évolution du taux de bonne classification en fonction de h')"
      ]
     },
     "execution_count": 31,
     "metadata": {},
     "output_type": "execute_result"
    },
    {
     "data": {
      "image/png": "[encoded data removed]",
      "text/plain": [
       "<Figure size 432x288 with 1 Axes>"
      ]
     },
     "metadata": {
      "needs_background": "light"
     },
     "output_type": "display_data"
    }
   ],
   "source": [
    "fApp = open(\"Archive/data_tp1_app.txt\", \"r\")\n",
    "dfApp = createDataframe(fApp)\n",
    "\n",
    "dfApp = dfApp.sample(frac=1).reset_index(drop=True)\n",
    "#5 CV pour uniforme entre 0.5 et 3 par pas de 0.5\n",
    "tailleIntervalle = int(len(dfApp.index)/5)\n",
    "i = 0\n",
    "tabDf = []\n",
    "while(i <= len(dfApp.index)):\n",
    "    tabDf.append(dfApp.iloc[i:i+tailleIntervalle])\n",
    "    i += tailleIntervalle\n",
    "    \n",
    "h = 0\n",
    "tabTxTop1 = {}\n",
    "while(h <= 20):\n",
    "    tabTxTop1[h] = 0\n",
    "    for i in range(5):\n",
    "        #Création du dataframe servant à l'apprentissage à partir des 4 autres intervalles\n",
    "        dfApprentisage = pd.concat([tabDf[j] for j in range(5) if i != j], axis=0)\n",
    "        predict1 = []\n",
    "        #Pour chaque point du dataframe de test on va appliquer parzen et stocker la classification\n",
    "        for index, data in tabDf[i].iterrows():\n",
    "            predict1.append(int(parzen(uniforme,dfApprentisage,data,h)[0]))\n",
    "        tabDf[i][\"predict1\"] = predict1\n",
    "        #Puis on calcul le taux de bonne classification moyen \n",
    "        #(1 - calculTop1 car calculTop1 renvoie un taux d'erreur et non de réussite)\n",
    "        tabTxTop1[h] += 1 - calculTop1(tabDf[i])\n",
    "        tabTxTop1[h] /= 2\n",
    "    h += 1\n",
    "    \n",
    "print(tabTxTop1)\n",
    "\n",
    "#Affichage de l'évolution du taux de performance en fonction de h\n",
    "lists = sorted(tabTxTop1.items()) # sorted by key, return a list of tuples\n",
    "\n",
    "x, y = zip(*lists)\n",
    "\n",
    "plt.plot(x, y)\n",
    "plt.title(\"Évolution du taux de bonne classification en fonction de h\")"
   ]
  },
  {
   "cell_type": "markdown",
   "metadata": {},
   "source": [
    "On observe donc sur le graphe ci-dessus que la meilleurs valeurs de h est entre 5 et 6 après cette intervalle le taux de classification top 1 commence à baisser car l'intervalle devient trop grands et on perds donc de la précision.\n",
    "Au final, on va tester sur le jeu de test avec un h = 5,5"
   ]
  },
  {
   "cell_type": "code",
   "execution_count": 32,
   "metadata": {},
   "outputs": [
    {
     "name": "stdout",
     "output_type": "stream",
     "text": [
      "[[ 99.   0.   0.   0.   1.   0.]\n",
      " [  0. 100.   0.   0.   0.   0.]\n",
      " [  0.   0. 100.   0.   0.   0.]\n",
      " [  0.   0.   0. 100.   0.   0.]\n",
      " [  1.   0.   0.   0.  99.   0.]]\n",
      "Taux d'erreur top1: 0.004\n",
      "Taux d'erreur top2: 0.002\n"
     ]
    }
   ],
   "source": [
    "fDec = open(\"Archive/data_tp1_dec.txt\", \"r\")\n",
    "dfDecision = createDataframe(fDec)\n",
    "\n",
    "h = np.array([[1,0],[0,1]])\n",
    "confusion = np.zeros((len(classes)**2) + 5).reshape(len(classes),len(classes) + 1)\n",
    "for p in dfDecision.iterrows():\n",
    "    index=int(p[0])\n",
    "    classe = int(p[1].w) - 1\n",
    "    decision1,decision2 = parzen(uniforme,dfApp,p[1],5.5)\n",
    "    confusion[classe][int(decision1) - 1] += 1\n",
    "    dfDecision.loc[index,\"Decision 1\"] = decision1\n",
    "    dfDecision.loc[index,\"Decision 2\"] = decision2\n",
    "\n",
    "print(confusion)\n",
    "\n",
    "#Calcul du top 1\n",
    "#le dataframe des points qui ont été mal classé en top1\n",
    "errTop1Df  = dfDecision[dfDecision[\"w\"] != dfDecision[\"Decision 1\"]]\n",
    "#Calcul du taux d'erreur top 1 len(df.index) permet de connaitre le nombre de ligne dans le dataframe\n",
    "txErrTop1 = len(errTop1Df.index)/len(dfDecision.index)\n",
    "print(\"Taux d'erreur top1: \"+str(txErrTop1))\n",
    "\n",
    "#Calcul du top2\n",
    "#le dataframe des points qui ont été mal classé en top2\n",
    "errTop2Df  = dfDecision[(dfDecision[\"w\"] != dfDecision[\"Decision 1\"]) & (dfDecision[\"w\"] != dfDecision[\"Decision 2\"])]\n",
    "txErrTop2 = len(errTop2Df.index)/len(dfDecision.index)\n",
    "print(\"Taux d'erreur top2: \"+str(txErrTop2))\n",
    "\n"
   ]
  },
  {
   "cell_type": "markdown",
   "metadata": {},
   "source": [
    "On voit un très bon taux de classification ce qui confirme le bon choix de l'hyperparamètre, seulement 2 erreurs entre la classe 1 et la classe 5"
   ]
  },
  {
   "cell_type": "markdown",
   "metadata": {},
   "source": [
    "### Cross-validation pour trouver le h dans le cas d'une fonction gausienne"
   ]
  },
  {
   "cell_type": "code",
   "execution_count": 45,
   "metadata": {},
   "outputs": [
    {
     "name": "stderr",
     "output_type": "stream",
     "text": [
      "<ipython-input-45-683afbe5e489>:26: SettingWithCopyWarning: \n",
      "A value is trying to be set on a copy of a slice from a DataFrame.\n",
      "Try using .loc[row_indexer,col_indexer] = value instead\n",
      "\n",
      "See the caveats in the documentation: https://pandas.pydata.org/pandas-docs/stable/user_guide/indexing.html#returning-a-view-versus-a-copy\n",
      "  tabDf[i][\"predict1\"] = predict1\n"
     ]
    },
    {
     "name": "stdout",
     "output_type": "stream",
     "text": [
      "{1: 0.96875, 2: 0.96375, 3: 0.96375, 4: 0.9612499999999999, 5: 0.9612499999999999, 6: 0.9612499999999999, 7: 0.9612499999999999, 8: 0.9612499999999999, 9: 0.9612499999999999, 10: 0.9612499999999999}\n"
     ]
    },
    {
     "data": {
      "text/plain": [
       "Text(0.5, 1.0, 'Évolution du taux de bonne classification en fonction de h')"
      ]
     },
     "execution_count": 45,
     "metadata": {},
     "output_type": "execute_result"
    },
    {
     "data": {
      "image/png": "[encoded data removed]",
      "text/plain": [
       "<Figure size 432x288 with 1 Axes>"
      ]
     },
     "metadata": {
      "needs_background": "light"
     },
     "output_type": "display_data"
    }
   ],
   "source": [
    "fApp = open(\"Archive/data_tp1_app.txt\", \"r\")\n",
    "dfApp = createDataframe(fApp)\n",
    "#Mélange le jeu de données pour ne pas avoir les observations rangées dans l'ordre des classes\n",
    "dfApp = dfApp.sample(frac=1).reset_index(drop=True)\n",
    "#5 CV pour uniforme entre 0 et 10 par pas de 1\n",
    "#On calcul le nombre de points par intervalle\n",
    "tailleIntervalle = int(len(dfApp.index)/5)\n",
    "i = 0\n",
    "#On partionne le dataframe en 5 groupe\n",
    "tabDf = []\n",
    "while(i <= len(dfApp.index)):\n",
    "    tabDf.append(dfApp.iloc[i:i+tailleIntervalle])\n",
    "    i += tailleIntervalle\n",
    "\n",
    "\n",
    "h = 1\n",
    "#tabTxTop1 contiendras les taux de bonne validations pour chaque h nous permettant de trouver le plus performant\n",
    "tabTxTop1 = {}\n",
    "while(h <= 10):\n",
    "    param=np.array([[h,0],[0,h]])\n",
    "    tabTxTop1[h] = 0\n",
    "    for i in range(5):\n",
    "        #Création du dataframe d'apprentisage\n",
    "        dfApprentisage = pd.concat([tabDf[j] for j in range(5) if i != j], axis=0)\n",
    "        predict1 = []\n",
    "        #Pour chaque point du dataframe de test on calcul une classe de prédiction\n",
    "        for index, data in tabDf[i].iterrows():\n",
    "            predict1.append(int(parzen(gaussien,dfApprentisage,data,param)))\n",
    "        tabDf[i][\"predict1\"] = predict1\n",
    "        #Calcul du taux de bonne classification\n",
    "        tabTxTop1[h] += 1 - calculTop1(tabDf[i])\n",
    "        #On fait la moyenne des taux\n",
    "        tabTxTop1[h] /= 2\n",
    "        tabDf[i].drop(['predict1'], axis=1)\n",
    "    h += 1\n",
    "    \n",
    "print(tabTxTop1)\n",
    "\n",
    "#Affichage de l'évolution du taux de performance en fonction de h\n",
    "lists = sorted(tabTxTop1.items())\n",
    "\n",
    "x, y = zip(*lists) \n",
    "\n",
    "plt.plot(x, y)\n",
    "plt.title(\"Évolution du taux de bonne classification en fonction de h\")\n"
   ]
  },
  {
   "cell_type": "markdown",
   "metadata": {},
   "source": [
    "On observe donc que le h avec lequel on obtient le plus haut taux de bonne performances est 1 il faut donc utiliser comme matrice [[1,0],[0,1]], il faut noter que le changement de l'hyper-paramètre semble moins influencer les résultats en comparaison avec le noyau uniforme."
   ]
  },
  {
   "cell_type": "code",
   "execution_count": 101,
   "metadata": {},
   "outputs": [
    {
     "name": "stdout",
     "output_type": "stream",
     "text": [
      "[[ 99.   0.   0.   0.   1.   0.]\n",
      " [  0. 100.   0.   0.   0.   0.]\n",
      " [  0.   0. 100.   0.   0.   0.]\n",
      " [  0.   0.   0. 100.   0.   0.]\n",
      " [  0.   0.   0.   1.  99.   0.]]\n",
      "Taux d'erreur top1: 0.004\n",
      "Taux d'erreur top2: 0.002\n"
     ]
    }
   ],
   "source": [
    "h = np.array([[1,0],[0,1]])\n",
    "confusion = np.zeros((len(classes)**2) + 5).reshape(len(classes),len(classes) + 1)\n",
    "for p in dfDecision.iterrows():\n",
    "    index=int(p[0])\n",
    "    classe = int(p[1].w) - 1\n",
    "    decision1,decision2 = parzen(gaussien,dfApp,p[1],h)\n",
    "    confusion[classe][int(decision1) - 1] += 1\n",
    "    dfDecision.loc[index,\"Decision 1\"] = decision1\n",
    "    dfDecision.loc[index,\"Decision 2\"] = decision2\n",
    "\n",
    "print(confusion)\n",
    "\n",
    "#Calcul du top 1\n",
    "#le dataframe des points qui ont été mal classé en top1\n",
    "errTop1Df  = dfDecision[dfDecision[\"w\"] != dfDecision[\"Decision 1\"]]\n",
    "#Calcul du taux d'erreur top 1 len(df.index) permet de connaitre le nombre de ligne dans le dataframe\n",
    "txErrTop1 = len(errTop1Df.index)/len(dfDecision.index)\n",
    "print(\"Taux d'erreur top1: \"+str(txErrTop1))\n",
    "\n",
    "#Calcul du top2\n",
    "#le dataframe des points qui ont été mal classé en top2\n",
    "errTop2Df  = dfDecision[(dfDecision[\"w\"] != dfDecision[\"Decision 1\"]) & (dfDecision[\"w\"] != dfDecision[\"Decision 2\"])]\n",
    "txErrTop2 = len(errTop2Df.index)/len(dfDecision.index)\n",
    "print(\"Taux d'erreur top2: \"+str(txErrTop2))"
   ]
  },
  {
   "cell_type": "markdown",
   "metadata": {},
   "source": [
    "On observe, comme pour le noyau uniforme, que le h semble bon puisque le taux d'erreur est très faible (0.004) avec seulement 2 erreurs de classification"
   ]
  },
  {
   "cell_type": "markdown",
   "metadata": {},
   "source": [
    "# KPPV"
   ]
  },
  {
   "cell_type": "code",
   "execution_count": 12,
   "metadata": {},
   "outputs": [],
   "source": [
    "def distance(point1,point2):\n",
    "    ret = (point1.x - point2.x)**2 + (point1.y - point2.y)**2\n",
    "    return math.sqrt(ret)\n",
    "\n",
    "def kppv(k,point,data,unanimite = False):\n",
    "    #On applique la fonction de calcul de distance pour chaque ligne du dataset d'apprentisage\n",
    "    data[\"distance\"] = data.apply (lambda row: distance(point,row), axis=1)\n",
    "    #On range les valeurs selon la distance\n",
    "    sortedDf = data.sort_values(by=['distance'],ascending=True)\n",
    "    #On récupère les k plus proches voisins\n",
    "    kNearest = sortedDf.head(k)\n",
    "    \n",
    "    #Et on compte le nombre d'occurences de chaque classe\n",
    "    nbOccurence = {}\n",
    "    for p in kNearest.iterrows():\n",
    "        if(p[1].w in nbOccurence):\n",
    "            nbOccurence[p[1].w] += 1\n",
    "        else:\n",
    "            nbOccurence[p[1].w] = 1\n",
    "    indexMaxOccur = max(nbOccurence)\n",
    "    \n",
    "    #on retourne soit la classe la plus présente soit la classe\n",
    "    #qui représente le \"non-choix\" (si on est dans le cas avec unanimité) \n",
    "    #et le dictionnaire du nombre d'occurence pour chaque classe (utile pour le top-2)\n",
    "    if not(unanimite):\n",
    "        ret = indexMaxOccur\n",
    "    else:\n",
    "        if(nbOccurence[indexMaxOccur] == k):\n",
    "            ret = indexMaxOccur\n",
    "        else:\n",
    "            ret = 6 #classe pour les points non classés\n",
    "    return ret,nbOccurence"
   ]
  },
  {
   "cell_type": "markdown",
   "metadata": {},
   "source": [
    "### Cross-validation pour le KPPV"
   ]
  },
  {
   "cell_type": "markdown",
   "metadata": {},
   "source": [
    "Jeu de données 1:"
   ]
  },
  {
   "cell_type": "code",
   "execution_count": 106,
   "metadata": {},
   "outputs": [
    {
     "name": "stderr",
     "output_type": "stream",
     "text": [
      "<ipython-input-106-bc306b2e9090>:32: SettingWithCopyWarning: \n",
      "A value is trying to be set on a copy of a slice from a DataFrame.\n",
      "Try using .loc[row_indexer,col_indexer] = value instead\n",
      "\n",
      "See the caveats in the documentation: https://pandas.pydata.org/pandas-docs/stable/user_guide/indexing.html#returning-a-view-versus-a-copy\n",
      "  tabDf[i][\"predict1\"] = predict1\n"
     ]
    },
    {
     "name": "stdout",
     "output_type": "stream",
     "text": [
      "{1: 0.96875, 3: 0.9684375000000001, 5: 0.961875, 7: 0.954375, 9: 0.954375, 11: 0.951875}\n"
     ]
    },
    {
     "data": {
      "text/plain": [
       "Text(0.5, 1.0, 'Évolution du taux de bonne classification en fonction de h')"
      ]
     },
     "execution_count": 106,
     "metadata": {},
     "output_type": "execute_result"
    },
    {
     "data": {
      "image/png": "[encoded data removed]",
      "text/plain": [
       "<Figure size 432x288 with 1 Axes>"
      ]
     },
     "metadata": {
      "needs_background": "light"
     },
     "output_type": "display_data"
    }
   ],
   "source": [
    "fApp = open(\"Archive/data_tp1_app.txt\", \"r\")\n",
    "dfApp = createDataframe(fApp)\n",
    "dfApp = dfApp.sample(frac=1).reset_index(drop=True)\n",
    "\n",
    "fDec = open(\"Archive/data_tp1_dec.txt\", \"r\")\n",
    "dfDecision = createDataframe(fDec)\n",
    "dfDecision = dfDecision.sample(frac=1).reset_index(drop=True)\n",
    "\n",
    "#5 CV pour uniforme entre 0 et 10 par pas de 1\n",
    "#On calcul le nombre de points par intervalle\n",
    "tailleIntervalle = int(len(dfApp.index)/5)\n",
    "i = 0\n",
    "#On partionne le dataframe en 5 groupe\n",
    "tabDf = []\n",
    "while(i <= len(dfApp.index)):\n",
    "    tabDf.append(dfApp.iloc[i:i+tailleIntervalle])\n",
    "    i += tailleIntervalle\n",
    "\n",
    "\n",
    "h = 1\n",
    "#tabTxTop1 contiendras les taux de bonne validations pour chaque h nous permettant de trouver le plus performant\n",
    "tabTxTop1 = {}\n",
    "while(h <= 11):\n",
    "    tabTxTop1[h] = 0\n",
    "    for i in range(5):\n",
    "        #Création du dataframe d'apprentisage\n",
    "        dfApprentisage = pd.concat([tabDf[j] for j in range(5) if i != j], axis=0)\n",
    "        predict1 = []\n",
    "        #Pour chaque point du dataframe de test on calcul une classe de prédiction\n",
    "        for index, data in tabDf[i].iterrows():\n",
    "            predict1.append(int(kppv(h,data,dfApprentisage)[0]))\n",
    "        tabDf[i][\"predict1\"] = predict1\n",
    "        #Calcul du taux de bonne classification\n",
    "        tabTxTop1[h] += 1 - calculTop1(tabDf[i])\n",
    "        #On fait la moyenne des taux\n",
    "        tabTxTop1[h] /= 2\n",
    "        tabDf[i].drop(['predict1'], axis=1)\n",
    "    h += 2\n",
    "    \n",
    "print(tabTxTop1)\n",
    "\n",
    "#Affichage de l'évolution du taux de performance en fonction de h\n",
    "lists = sorted(tabTxTop1.items())\n",
    "\n",
    "x, y = zip(*lists)\n",
    "\n",
    "plt.plot(x, y)\n",
    "plt.title(\"Évolution du taux de bonne classification en fonction de h\")\n"
   ]
  },
  {
   "cell_type": "code",
   "execution_count": 107,
   "metadata": {},
   "outputs": [
    {
     "data": {
      "text/plain": [
       "1"
      ]
     },
     "execution_count": 107,
     "metadata": {},
     "output_type": "execute_result"
    }
   ],
   "source": [
    "#Récupération de la valeur dont le taux de bonne classification est maximum\n",
    "max(tabTxTop1, key=tabTxTop1.get)"
   ]
  },
  {
   "cell_type": "markdown",
   "metadata": {},
   "source": [
    "On voit donc que la valeur de h optimal est 1 selon la cross-validation (taux moyen de bonne classification le plus élévé), on va donc la tester sur le jeu de test"
   ]
  },
  {
   "cell_type": "code",
   "execution_count": 14,
   "metadata": {},
   "outputs": [
    {
     "name": "stdout",
     "output_type": "stream",
     "text": [
      "Taux d'erreur top1: 0.008\n",
      "Taux d'erreur top2: 0.008\n",
      "[[ 99.   0.   0.   0.   1.   0.]\n",
      " [  0.  99.   0.   0.   1.   0.]\n",
      " [  0.   0. 100.   0.   0.   0.]\n",
      " [  0.   0.   0. 100.   0.   0.]\n",
      " [  0.   0.   1.   1.  98.   0.]]\n"
     ]
    }
   ],
   "source": [
    "fApp = open(\"Archive/data_tp1_app.txt\", \"r\")\n",
    "dfApp = createDataframe(fApp)\n",
    "\n",
    "fDec = open(\"Archive/data_tp1_dec.txt\", \"r\")\n",
    "dfDecision = createDataframe(fDec)\n",
    "\n",
    "classes = pd.unique(dfApp.w)\n",
    "\n",
    "h = np.array([[1,0],[0,1]])\n",
    "confusion = np.zeros((len(classes)**2) + 5).reshape(len(classes),len(classes) + 1)\n",
    "for p in dfDecision.iterrows():\n",
    "    index = int(p[0])\n",
    "    classe = int(p[1].w) - 1\n",
    "    decision,nbOccur = kppv(1,p[1],dfApp)\n",
    "    nbOccur = sorted(nbOccur.items(), key=lambda t: t[1])\n",
    "    i = 1\n",
    "    for c in nbOccur:\n",
    "        strPredict = \"Decision \"+ str(i)\n",
    "        dfDecision.loc[index,strPredict] = c[0]\n",
    "        i += 1\n",
    "    confusion[classe][int(decision - 1) ] += 1\n",
    "\n",
    "\n",
    "if not(\"Decision 2\" in dfDecision.columns):\n",
    "    dfDecision[\"Decision 2\"] = dfDecision[\"Decision 1\"]\n",
    "#le dataframe des points qui ont été mal classé en top1\n",
    "errTop1Df  = dfDecision[dfDecision[\"w\"] != dfDecision[\"Decision 1\"]]\n",
    "#Calcul du taux d'erreur top 1 len(df.index) permet de connaitre le nombre de ligne dans le dataframe\n",
    "txErrTop1 = len(errTop1Df.index)/len(dfDecision.index)\n",
    "print(\"Taux d'erreur top1: \"+str(txErrTop1))\n",
    " \n",
    "#Même chose avec le top2\n",
    "#le dataframe des points qui ont été mal classé en top2\n",
    "errTop2Df  = dfDecision[(dfDecision[\"w\"] != dfDecision[\"Decision 1\"]) & (dfDecision[\"w\"] != dfDecision[\"Decision 2\"])]\n",
    "txErrTop2 = len(errTop2Df.index)/len(dfDecision.index)\n",
    "print(\"Taux d'erreur top2: \"+str(txErrTop2))\n",
    "\n",
    "print(confusion)"
   ]
  },
  {
   "cell_type": "markdown",
   "metadata": {},
   "source": [
    "On peut donc observer que le choix de 1 pour h semble être adapté puisque le taux est d'erreur est faible (0.08). On voit que le taux d'erreur top 2 est équivalent ce qui est logique, puisque le nombre de voisin est 1 il n'y a qu'une seule classe représentée"
   ]
  },
  {
   "cell_type": "markdown",
   "metadata": {},
   "source": [
    "### Jeu de données 2"
   ]
  },
  {
   "cell_type": "code",
   "execution_count": 13,
   "metadata": {},
   "outputs": [
    {
     "name": "stderr",
     "output_type": "stream",
     "text": [
      "<ipython-input-13-b82e2be37a80>:32: SettingWithCopyWarning: \n",
      "A value is trying to be set on a copy of a slice from a DataFrame.\n",
      "Try using .loc[row_indexer,col_indexer] = value instead\n",
      "\n",
      "See the caveats in the documentation: https://pandas.pydata.org/pandas-docs/stable/user_guide/indexing.html#returning-a-view-versus-a-copy\n",
      "  tabDf[i][\"predict1\"] = predict1\n"
     ]
    },
    {
     "name": "stdout",
     "output_type": "stream",
     "text": [
      "{1: 0.895, 3: 0.865625, 5: 0.8334375, 7: 0.8028125, 9: 0.7934375, 11: 0.780625}\n"
     ]
    },
    {
     "data": {
      "text/plain": [
       "Text(0.5, 1.0, 'Évolution du taux de bonne classification en fonction de h')"
      ]
     },
     "execution_count": 13,
     "metadata": {},
     "output_type": "execute_result"
    },
    {
     "data": {
      "image/png": "[encoded data removed]",
      "text/plain": [
       "<Figure size 432x288 with 1 Axes>"
      ]
     },
     "metadata": {
      "needs_background": "light"
     },
     "output_type": "display_data"
    }
   ],
   "source": [
    "fApp = open(\"Archive/data_tp2_app.txt\", \"r\")\n",
    "dfApp = createDataframe(fApp)\n",
    "dfApp = dfApp.sample(frac=1).reset_index(drop=True)\n",
    "\n",
    "fDec = open(\"Archive/data_tp2_dec.txt\", \"r\")\n",
    "dfDecision = createDataframe(fDec)\n",
    "dfDecision = dfDecision.sample(frac=1).reset_index(drop=True)\n",
    "\n",
    "#5 CV pour uniforme entre 0 et 10 par pas de 1\n",
    "#On calcul le nombre de points par intervalle\n",
    "tailleIntervalle = int(len(dfApp.index)/5)\n",
    "i = 0\n",
    "#On partionne le dataframe en 5 groupe\n",
    "tabDf = []\n",
    "while(i <= len(dfApp.index)):\n",
    "    tabDf.append(dfApp.iloc[i:i+tailleIntervalle])\n",
    "    i += tailleIntervalle\n",
    "\n",
    "\n",
    "h = 1\n",
    "#tabTxTop1 contiendras les taux de bonne validations pour chaque h nous permettant de trouver le plus performant\n",
    "tabTxTop1 = {}\n",
    "while(h <= 11):\n",
    "    tabTxTop1[h] = 0\n",
    "    for i in range(5):\n",
    "        #Création du dataframe d'apprentisage\n",
    "        dfApprentisage = pd.concat([tabDf[j] for j in range(5) if i != j], axis=0)\n",
    "        predict1 = []\n",
    "        #Pour chaque point du dataframe de test on calcul une classe de prédiction\n",
    "        for index, data in tabDf[i].iterrows():\n",
    "            predict1.append(int(kppv(h,data,dfApprentisage)[0]))\n",
    "        tabDf[i][\"predict1\"] = predict1\n",
    "        #Calcul du taux de bonne classification\n",
    "        tabTxTop1[h] += 1 - calculTop1(tabDf[i])\n",
    "        #On fait la moyenne des taux\n",
    "        tabTxTop1[h] /= 2\n",
    "        tabDf[i].drop(['predict1'], axis=1)\n",
    "    h += 2\n",
    "    \n",
    "print(tabTxTop1)\n",
    "\n",
    "#Affichage de l'évolution du taux de performance en fonction de h\n",
    "lists = sorted(tabTxTop1.items())\n",
    "\n",
    "x, y = zip(*lists)\n",
    "\n",
    "plt.plot(x, y)\n",
    "plt.title(\"Évolution du taux de bonne classification en fonction de h\")\n"
   ]
  },
  {
   "cell_type": "markdown",
   "metadata": {},
   "source": [
    "On voit qu'une nouvelle fois le plus haut résultat est pour 1 ppv. On peut que sur le jeu 1 le résultat était inférieur lorsque la valeur du h augmentait mais restait proche, ici il y a plus d'impacte"
   ]
  },
  {
   "cell_type": "code",
   "execution_count": 15,
   "metadata": {},
   "outputs": [
    {
     "name": "stdout",
     "output_type": "stream",
     "text": [
      "Taux d'erreur top1: 0.08\n",
      "Taux d'erreur top2: 0.08\n",
      "[[100.   0.   0.   0.   0.   0.]\n",
      " [  0.  89.  11.   0.   0.   0.]\n",
      " [  2.   4.  83.   2.   9.   0.]\n",
      " [  0.   0.   3.  96.   1.   0.]\n",
      " [  0.   0.   7.   1.  92.   0.]]\n"
     ]
    }
   ],
   "source": [
    "fApp = open(\"Archive/data_tp2_app.txt\", \"r\")\n",
    "dfApp = createDataframe(fApp)\n",
    "\n",
    "fDec = open(\"Archive/data_tp2_dec.txt\", \"r\")\n",
    "dfDecision = createDataframe(fDec)\n",
    "\n",
    "classes = pd.unique(dfApp.w)\n",
    "\n",
    "h = np.array([[1,0],[0,1]])\n",
    "confusion = np.zeros((len(classes)**2) + 5).reshape(len(classes),len(classes) + 1)\n",
    "for p in dfDecision.iterrows():\n",
    "    index = int(p[0])\n",
    "    classe = int(p[1].w) - 1\n",
    "    decision,nbOccur = kppv(1,p[1],dfApp)\n",
    "    nbOccur = sorted(nbOccur.items(), key=lambda t: t[1])\n",
    "    i = 1\n",
    "    for c in nbOccur:\n",
    "        strPredict = \"Decision \"+ str(i)\n",
    "        dfDecision.loc[index,strPredict] = c[0]\n",
    "        i += 1\n",
    "    confusion[classe][int(decision - 1) ] += 1\n",
    "\n",
    "\n",
    "if not(\"Decision 2\" in dfDecision.columns):\n",
    "    dfDecision[\"Decision 2\"] = dfDecision[\"Decision 1\"]\n",
    "#le dataframe des points qui ont été mal classé en top1\n",
    "errTop1Df  = dfDecision[dfDecision[\"w\"] != dfDecision[\"Decision 1\"]]\n",
    "#Calcul du taux d'erreur top 1 len(df.index) permet de connaitre le nombre de ligne dans le dataframe\n",
    "txErrTop1 = len(errTop1Df.index)/len(dfDecision.index)\n",
    "print(\"Taux d'erreur top1: \"+str(txErrTop1))\n",
    " \n",
    "#Même chose avec le top2\n",
    "#le dataframe des points qui ont été mal classé en top2\n",
    "errTop2Df  = dfDecision[(dfDecision[\"w\"] != dfDecision[\"Decision 1\"]) & (dfDecision[\"w\"] != dfDecision[\"Decision 2\"])]\n",
    "txErrTop2 = len(errTop2Df.index)/len(dfDecision.index)\n",
    "print(\"Taux d'erreur top2: \"+str(txErrTop2))\n",
    "\n",
    "print(confusion)"
   ]
  },
  {
   "cell_type": "markdown",
   "metadata": {},
   "source": [
    "On peut donc voir que les résultats \"bons\" avec 0.08 de taux d'erreur, la classification est moins bonne que pour le jeu de données 1 car dans le jeu 2 les classes sont moins séparées. Encore une fois le top2 et le top1 sont évidemment égaux puisqu'on est sur 1 seul plus proche voisin. Enfin on peut voir que la classe 1 n'a pas une seule mauvaise classification en top1, en revanche le système a eu plus de difficultés pour la classe 2 et 3"
   ]
  },
  {
   "cell_type": "markdown",
   "metadata": {},
   "source": [
    "### Jeu de données 3\n"
   ]
  },
  {
   "cell_type": "code",
   "execution_count": 16,
   "metadata": {},
   "outputs": [
    {
     "name": "stderr",
     "output_type": "stream",
     "text": [
      "<ipython-input-16-d60ec9f133e7>:32: SettingWithCopyWarning: \n",
      "A value is trying to be set on a copy of a slice from a DataFrame.\n",
      "Try using .loc[row_indexer,col_indexer] = value instead\n",
      "\n",
      "See the caveats in the documentation: https://pandas.pydata.org/pandas-docs/stable/user_guide/indexing.html#returning-a-view-versus-a-copy\n",
      "  tabDf[i][\"predict1\"] = predict1\n"
     ]
    },
    {
     "name": "stdout",
     "output_type": "stream",
     "text": [
      "{1: 0.63, 3: 0.6328125, 5: 0.62375, 7: 0.62625, 9: 0.62625, 11: 0.6059375}\n"
     ]
    },
    {
     "data": {
      "text/plain": [
       "Text(0.5, 1.0, 'Évolution du taux de bonne classification en fonction de h')"
      ]
     },
     "execution_count": 16,
     "metadata": {},
     "output_type": "execute_result"
    },
    {
     "data": {
      "image/png": "[encoded data removed]",
      "text/plain": [
       "<Figure size 432x288 with 1 Axes>"
      ]
     },
     "metadata": {
      "needs_background": "light"
     },
     "output_type": "display_data"
    }
   ],
   "source": [
    "fApp = open(\"Archive/data_tp3_app.txt\", \"r\")\n",
    "dfApp = createDataframe(fApp)\n",
    "dfApp = dfApp.sample(frac=1).reset_index(drop=True)\n",
    "\n",
    "fDec = open(\"Archive/data_tp3_dec.txt\", \"r\")\n",
    "dfDecision = createDataframe(fDec)\n",
    "dfDecision = dfDecision.sample(frac=1).reset_index(drop=True)\n",
    "\n",
    "#5 CV pour uniforme entre 0 et 10 par pas de 1\n",
    "#On calcul le nombre de points par intervalle\n",
    "tailleIntervalle = int(len(dfApp.index)/5)\n",
    "i = 0\n",
    "#On partionne le dataframe en 5 groupe\n",
    "tabDf = []\n",
    "while(i <= len(dfApp.index)):\n",
    "    tabDf.append(dfApp.iloc[i:i+tailleIntervalle])\n",
    "    i += tailleIntervalle\n",
    "\n",
    "\n",
    "h = 1\n",
    "#tabTxTop1 contiendras les taux de bonne validations pour chaque h nous permettant de trouver le plus performant\n",
    "tabTxTop1 = {}\n",
    "while(h <= 11):\n",
    "    tabTxTop1[h] = 0\n",
    "    for i in range(5):\n",
    "        #Création du dataframe d'apprentisage\n",
    "        dfApprentisage = pd.concat([tabDf[j] for j in range(5) if i != j], axis=0)\n",
    "        predict1 = []\n",
    "        #Pour chaque point du dataframe de test on calcul une classe de prédiction\n",
    "        for index, data in tabDf[i].iterrows():\n",
    "            predict1.append(int(kppv(h,data,dfApprentisage)[0]))\n",
    "        tabDf[i][\"predict1\"] = predict1\n",
    "        #Calcul du taux de bonne classification\n",
    "        tabTxTop1[h] += 1 - calculTop1(tabDf[i])\n",
    "        #On fait la moyenne des taux\n",
    "        tabTxTop1[h] /= 2\n",
    "        tabDf[i].drop(['predict1'], axis=1)\n",
    "    h += 2\n",
    "    \n",
    "print(tabTxTop1)\n",
    "\n",
    "#Affichage de l'évolution du taux de performance en fonction de h\n",
    "lists = sorted(tabTxTop1.items())\n",
    "\n",
    "x, y = zip(*lists)\n",
    "\n",
    "plt.plot(x, y)\n",
    "plt.title(\"Évolution du taux de bonne classification en fonction de h\")\n"
   ]
  },
  {
   "cell_type": "markdown",
   "metadata": {},
   "source": [
    "On observe que cette fois-ci c'est avec 2 plus proches voisins que le système semble être le plus performant, on peut penser que vu que le jeu de données 3 est très désorganisé 2 voisins peux effectivement permettre de réduire le nombre d'erreurs mais on remarque que le résultat commence à baisser fortement après 10. On peut également noter que malgré qu'avec 2 le résultat soit le meilleurs il est bien inférieur qu'avec les jeux 1 et 2 pour la même raison."
   ]
  },
  {
   "cell_type": "code",
   "execution_count": 17,
   "metadata": {},
   "outputs": [
    {
     "name": "stdout",
     "output_type": "stream",
     "text": [
      "Taux d'erreur top1: 0.354\n",
      "Taux d'erreur top2: 0.242\n",
      "[[16. 15. 31. 18. 20.  0.]\n",
      " [ 6. 69. 13.  1. 11.  0.]\n",
      " [ 8.  3. 86.  3.  0.  0.]\n",
      " [ 7.  1. 17. 70.  5.  0.]\n",
      " [ 2.  5.  1.  2. 90.  0.]]\n"
     ]
    }
   ],
   "source": [
    "fApp = open(\"Archive/data_tp3_app.txt\", \"r\")\n",
    "dfApp = createDataframe(fApp)\n",
    "\n",
    "fDec = open(\"Archive/data_tp3_dec.txt\", \"r\")\n",
    "dfDecision = createDataframe(fDec)\n",
    "\n",
    "classes = pd.unique(dfApp.w)\n",
    "\n",
    "h = np.array([[1,0],[0,1]])\n",
    "confusion = np.zeros((len(classes)**2) + 5).reshape(len(classes),len(classes) + 1)\n",
    "for p in dfDecision.iterrows():\n",
    "    index = int(p[0])\n",
    "    classe = int(p[1].w) - 1\n",
    "    decision,nbOccur = kppv(2,p[1],dfApp)\n",
    "    nbOccur = sorted(nbOccur.items(), key=lambda t: t[1])\n",
    "    i = 1\n",
    "    for c in nbOccur:\n",
    "        strPredict = \"Decision \"+ str(i)\n",
    "        dfDecision.loc[index,strPredict] = c[0]\n",
    "        i += 1\n",
    "    confusion[classe][int(decision - 1) ] += 1\n",
    "\n",
    "\n",
    "if not(\"Decision 2\" in dfDecision.columns):\n",
    "    dfDecision[\"Decision 2\"] = dfDecision[\"Decision 1\"]\n",
    "#le dataframe des points qui ont été mal classé en top1\n",
    "errTop1Df  = dfDecision[dfDecision[\"w\"] != dfDecision[\"Decision 1\"]]\n",
    "#Calcul du taux d'erreur top 1 len(df.index) permet de connaitre le nombre de ligne dans le dataframe\n",
    "txErrTop1 = len(errTop1Df.index)/len(dfDecision.index)\n",
    "print(\"Taux d'erreur top1: \"+str(txErrTop1))\n",
    " \n",
    "#Même chose avec le top2\n",
    "#le dataframe des points qui ont été mal classé en top2\n",
    "errTop2Df  = dfDecision[(dfDecision[\"w\"] != dfDecision[\"Decision 1\"]) & (dfDecision[\"w\"] != dfDecision[\"Decision 2\"])]\n",
    "txErrTop2 = len(errTop2Df.index)/len(dfDecision.index)\n",
    "print(\"Taux d'erreur top2: \"+str(txErrTop2))\n",
    "\n",
    "print(confusion)"
   ]
  },
  {
   "cell_type": "markdown",
   "metadata": {},
   "source": [
    "Les résultats confirment ce qu'on pouvait penser à priori, on observe 35% en taux d'erreur pour le top1 et 24% pour le top2 ce qui est pas très élevé mais compréhensible au vu du jeu de données. On peut donc penser qu'il est difficile d'obtenir de meilleurs résultats avec la méthode de plus proches voisins sur un jeu comme celui ci."
   ]
  }
 ],
 "metadata": {
  "kernelspec": {
   "display_name": "Python 3",
   "language": "python",
   "name": "python3"
  },
  "language_info": {
   "codemirror_mode": {
    "name": "ipython",
    "version": 3
   },
   "file_extension": ".py",
   "mimetype": "text/x-python",
   "name": "python",
   "nbconvert_exporter": "python",
   "pygments_lexer": "ipython3",
   "version": "3.8.3"
  }
 },
 "nbformat": 4,
 "nbformat_minor": 4
}
