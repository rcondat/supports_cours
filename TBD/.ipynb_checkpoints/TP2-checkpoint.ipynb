{
 "cells": [
  {
   "cell_type": "markdown",
   "metadata": {},
   "source": [
    "# TP2 : Estimation de gaussiennes"
   ]
  },
  {
   "cell_type": "markdown",
   "metadata": {},
   "source": [
    "Oui !!! Vous l'attendiez enfin ! Vous allez développer votre premier modèle classifieur ! Une date marquante dans votre vie à graver dans la roche !\n",
    "\n",
    "Au programme de cet événement, deux classifieurs :\n",
    "- un classifieur par distance euclidienne minimum\n",
    "- un classifieur par distance Mahalanobis minimum"
   ]
  },
  {
   "cell_type": "markdown",
   "metadata": {},
   "source": [
    "---\n",
    "\n",
    "## Partie 1 : Classifieur par distance euclidiene minimum"
   ]
  },
  {
   "cell_type": "code",
   "execution_count": 1,
   "metadata": {},
   "outputs": [],
   "source": [
    "import pandas as pd\n",
    "import numpy as np\n",
    "from matplotlib import pyplot as plt\n",
    "from utils import Model, split_data, read_data"
   ]
  },
  {
   "cell_type": "code",
   "execution_count": 2,
   "metadata": {},
   "outputs": [],
   "source": [
    "class ClassifieurDistMin(Model):\n",
    "    def __init__(self,classes):\n",
    "        super(ClassifieurDistMin, self).__init__(classes)\n",
    "        self.classes = classes\n",
    "        self.means = {c:None for c in classes}\n",
    "        \n",
    "    def learning(self,app_x,app_y,app_labels):\n",
    "        for classe in self.classes:\n",
    "            ind_lab = app_labels.index[app_labels==classe]\n",
    "            app_x_lab = app_x[ind_lab]\n",
    "            app_y_lab = app_y[ind_lab]\n",
    "            self.means[classe] = np.array([np.mean(app_x_lab),np.mean(app_y_lab)])\n",
    "    \n",
    "    def dist_classe(self,X,classe):\n",
    "        M = self.means[classe]\n",
    "        return (X-M).T@(X-M)\n",
    "    \n",
    "    def prediction(self,x,y):\n",
    "        X = np.array([x,y])\n",
    "        distances = [self.dist_classe(X,classe) for classe in self.classes]\n",
    "        indices = np.argsort(distances)\n",
    "        return self.classes[indices]\n"
   ]
  },
  {
   "cell_type": "code",
   "execution_count": 5,
   "metadata": {},
   "outputs": [
    {
     "name": "stdout",
     "output_type": "stream",
     "text": [
      "\n",
      "DONNEES TP1\n",
      "Top 1 :  0.992\n",
      "Top 2 :  1.0\n",
      "Matrice de confusion : \n",
      "    98   0   0   0   2\n",
      "    0 100   0   0   0\n",
      "    0   0  99   1   0\n",
      "    0   0   0 100   0\n",
      "    1   0   0   0  99\n",
      "\n",
      "DONNEES TP2\n",
      "Top 1 :  0.946\n",
      "Top 2 :  0.996\n",
      "Matrice de confusion : \n",
      "   100   0   0   0   0\n",
      "    2  97   1   0   0\n",
      "    0   5  84   1  10\n",
      "    0   0   6  94   0\n",
      "    0   0   2   0  98\n",
      "\n",
      "DONNEES TP3\n",
      "Top 1 :  0.728\n",
      "Top 2 :  0.892\n",
      "Matrice de confusion : \n",
      "   43 17 16 12 12\n",
      "  12 83  3  0  2\n",
      "  16  4 78  2  0\n",
      "  16  0  7 74  3\n",
      "   5  9  0  0 86\n"
     ]
    }
   ],
   "source": [
    "for s in ['tp1','tp2','tp3']:\n",
    "    print(f\"\\nDONNEES {s.upper()}\")\n",
    "    file_app = f'Archive/data_{s}_app.txt'\n",
    "    file_dec = f'Archive/data_{s}_dec.txt'\n",
    "    columns_labels = ['label','x','y']\n",
    "    data_app = read_data(file_app,columns_labels)\n",
    "    data_dec = read_data(file_dec,columns_labels)\n",
    "\n",
    "    app_x = data_app['x']\n",
    "    app_y = data_app['y']\n",
    "    app_labels = data_app['label']\n",
    "\n",
    "    dec_x = data_dec['x']\n",
    "    dec_y = data_dec['y']\n",
    "    dec_labels = data_dec['label']\n",
    "    classes = np.unique(data_dec['label'])\n",
    "\n",
    "    model = ClassifieurDistMin(classes)\n",
    "    model.learning(app_x,app_y,app_labels)\n",
    "    top1,top2,CM = model.test(dec_x,dec_y,dec_labels)"
   ]
  },
  {
   "cell_type": "code",
   "execution_count": 9,
   "metadata": {},
   "outputs": [],
   "source": [
    "class ClassifieurDistMahalanobis(Model):\n",
    "    def __init__(self,classes):\n",
    "        super(ClassifieurDistMahalanobis, self).__init__(classes)\n",
    "        self.classes = classes\n",
    "        self.means = {c:None for c in classes}\n",
    "        self.covMat = {c:None for c in classes}\n",
    "    def learning(self,app_x,app_y,app_labels):\n",
    "        for classe in self.classes:\n",
    "            ind_lab = app_labels.index[app_labels==classe]\n",
    "            app_x_lab = app_x[ind_lab]\n",
    "            app_y_lab = app_y[ind_lab]\n",
    "            self.means[classe] = np.array([np.mean(app_x_lab),np.mean(app_y_lab)])\n",
    "            self.covMat[classe] = np.linalg.inv(np.cov(app_x_lab,app_y_lab))\n",
    "    \n",
    "    def dist_classe(self,X,classe):\n",
    "        M = self.means[classe]\n",
    "        Z = self.covMat[classe]\n",
    "        return (X-M).T@Z@(X-M)\n",
    "    \n",
    "    def prediction(self,x,y):\n",
    "        X = np.array([x,y])\n",
    "        distances = [self.dist_classe(X,classe) for classe in self.classes]\n",
    "        indices = np.argsort(distances)\n",
    "        return self.classes[indices]\n"
   ]
  },
  {
   "cell_type": "code",
   "execution_count": 11,
   "metadata": {},
   "outputs": [
    {
     "name": "stdout",
     "output_type": "stream",
     "text": [
      "\n",
      "DONNEES TP1\n",
      "Top 1 :  0.996\n",
      "Top 2 :  0.998\n",
      "Matrice de confusion : \n",
      "    99   0   0   0   1\n",
      "    0 100   0   0   0\n",
      "    0   0 100   0   0\n",
      "    0   0   0 100   0\n",
      "    0   0   0   1  99\n",
      "\n",
      "DONNEES TP2\n",
      "Top 1 :  0.954\n",
      "Top 2 :  0.994\n",
      "Matrice de confusion : \n",
      "   99  0  1  0  0\n",
      "   0 95  5  0  0\n",
      "   0  4 91  2  3\n",
      "   0  0  3 97  0\n",
      "   0  0  5  0 95\n",
      "\n",
      "DONNEES TP3\n",
      "Top 1 :  0.694\n",
      "Top 2 :  0.87\n",
      "Matrice de confusion : \n",
      "   55 18 12  6  9\n",
      "  15 80  2  0  3\n",
      "  19  4 76  1  0\n",
      "  39  0  7 53  1\n",
      "  10  7  0  0 83\n"
     ]
    }
   ],
   "source": [
    "for s in ['tp1','tp2','tp3']:\n",
    "    print(f\"\\nDONNEES {s.upper()}\")\n",
    "    file_app = f'Archive/data_{s}_app.txt'\n",
    "    file_dec = f'Archive/data_{s}_dec.txt'\n",
    "    columns_labels = ['label','x','y']\n",
    "    data_app = read_data(file_app,columns_labels)\n",
    "    data_dec = read_data(file_dec,columns_labels)\n",
    "\n",
    "    app_x = data_app['x']\n",
    "    app_y = data_app['y']\n",
    "    app_labels = data_app['label']\n",
    "\n",
    "    dec_x = data_dec['x']\n",
    "    dec_y = data_dec['y']\n",
    "    dec_labels = data_dec['label']\n",
    "    classes = np.unique(data_dec['label'])\n",
    "\n",
    "    model = ClassifieurDistMahalanobis(classes)\n",
    "    model.learning(app_x,app_y,app_labels)\n",
    "    top1,top2,CM = model.test(dec_x,dec_y,dec_labels)"
   ]
  },
  {
   "cell_type": "code",
   "execution_count": null,
   "metadata": {},
   "outputs": [],
   "source": []
  }
 ],
 "metadata": {
  "kernelspec": {
   "display_name": "Python 3",
   "language": "python",
   "name": "python3"
  },
  "language_info": {
   "codemirror_mode": {
    "name": "ipython",
    "version": 3
   },
   "file_extension": ".py",
   "mimetype": "text/x-python",
   "name": "python",
   "nbconvert_exporter": "python",
   "pygments_lexer": "ipython3",
   "version": "3.7.9"
  }
 },
 "nbformat": 4,
 "nbformat_minor": 4
}
