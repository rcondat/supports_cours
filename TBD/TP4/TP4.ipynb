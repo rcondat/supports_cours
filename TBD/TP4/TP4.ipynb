{
 "cells": [
  {
   "cell_type": "markdown",
   "id": "random-parking",
   "metadata": {},
   "source": [
    "# TP4 : KPPV"
   ]
  },
  {
   "cell_type": "markdown",
   "id": "usual-laundry",
   "metadata": {},
   "source": [
    "Le parcours du combattant se termine bientôt, je vous le promets. Voici le dernier type de classifieur qu'on verra ensemble : KPPV, pour \"K plus proches voisins."
   ]
  },
  {
   "cell_type": "code",
   "execution_count": null,
   "id": "cleared-premiere",
   "metadata": {},
   "outputs": [],
   "source": [
    "from matplotlib import pyplot as plt\n",
    "import numpy as np\n",
    "import pandas\n",
    "import progressbar\n",
    "\n",
    "# Import de vos fonctions persos\n",
    "..."
   ]
  },
  {
   "cell_type": "markdown",
   "id": "damaged-daughter",
   "metadata": {},
   "source": [
    "Le principe est super simple ! Vraiment ! \n",
    "\n",
    "Pour chaque échantillon à prédire, on va calculer la distance de celui-ci à chaque échantillon du jeu d'apprentissage. Ensuite, on sélectionnera les K plus proches de cet échantillon. Pour finir, on définit la classe de cet échantillon à prédire en fonction des classes des K échantillons les plus proches."
   ]
  },
  {
   "cell_type": "markdown",
   "id": "atomic-damage",
   "metadata": {},
   "source": [
    "**La question préliminaire :** Alors, KPPV ? Méthode paramétrique ou non paramétrique ?"
   ]
  },
  {
   "cell_type": "markdown",
   "id": "comfortable-northwest",
   "metadata": {},
   "source": [
    "**_Réponse :_**"
   ]
  },
  {
   "cell_type": "markdown",
   "id": "alleged-array",
   "metadata": {},
   "source": [
    "## Partie 1 : La démocratie, c'est la clé"
   ]
  },
  {
   "cell_type": "markdown",
   "id": "possible-florida",
   "metadata": {},
   "source": [
    "Après avoir sélectionné les K points les plus proches, il faut faire un vote pour attribuer une classe à l'échantillon à prédire. Pour cela, on va utiliser 2 méthodes de vote."
   ]
  },
  {
   "cell_type": "markdown",
   "id": "behavioral-lesbian",
   "metadata": {},
   "source": [
    "**1)** Première méthode de vote : le vote à la majorité... On choisit la classe majoritaire... Voilà quoi...\n",
    "\n",
    "Ecrivez une fonction qui prendra en entrée une liste des classes de K points (les plus proches), ainsi que la liste des classes possibles, et qui retournera la liste de classes triée par rapport au nombre d'occurences, du plus grand au plus petit."
   ]
  },
  {
   "cell_type": "code",
   "execution_count": null,
   "id": "corrected-brush",
   "metadata": {},
   "outputs": [],
   "source": [
    "# A compléter\n",
    "# Fonction de vote majoritaire\n",
    "..."
   ]
  },
  {
   "cell_type": "markdown",
   "id": "adapted-lightweight",
   "metadata": {},
   "source": [
    "Testez votre fonction maintenant avec ces quelques tests unitaires réalisés par mes soins :D"
   ]
  },
  {
   "cell_type": "code",
   "execution_count": null,
   "id": "responsible-reducing",
   "metadata": {},
   "outputs": [],
   "source": [
    "# Test 1\n",
    "classes = [1,2,3,4,5]\n",
    "A = [1,1,2,2,2,2,3,4,4,4,5,5,5,5,5]\n",
    "classes_votees = ...\n",
    "assert classes_votees==[5,2,4,1,3], \"Test 1 non fonctionnel\"\n",
    "\n",
    "# Test 2\n",
    "A = [1,1,2,4,4,4,5,5,5,5]\n",
    "classes_votees = ...\n",
    "assert classes_votees==[5,4,1,2,3], \"Test 2 non fonctionnel\""
   ]
  },
  {
   "cell_type": "markdown",
   "id": "spectacular-default",
   "metadata": {},
   "source": [
    "**2)** Deuxième méthode de vote : le vote à l'unanimité... Si les K échantillons les plus proches ont la même classe, on retourne cette classe, sinon, on retourne None. Ecrivez cette fonction."
   ]
  },
  {
   "cell_type": "code",
   "execution_count": null,
   "id": "seventh-triple",
   "metadata": {},
   "outputs": [],
   "source": [
    "# A compléter\n",
    "# Fonction de vote unanime\n",
    "..."
   ]
  },
  {
   "cell_type": "markdown",
   "id": "convinced-steps",
   "metadata": {},
   "source": [
    "Hop hop hop ! On teste la fonction avant la prochaine étape !"
   ]
  },
  {
   "cell_type": "code",
   "execution_count": null,
   "id": "becoming-medicine",
   "metadata": {},
   "outputs": [],
   "source": [
    "# Test 1\n",
    "A = [4,4,4,4]\n",
    "classes_votees = ...\n",
    "assert classes_votees==4, \"Test 1 non fonctionnel\"\n",
    "\n",
    "# Test 2\n",
    "A = [1,1,1,1,2]\n",
    "classes_votees = ...\n",
    "assert classes_votees is None, \"Test 2 non fonctionnel\""
   ]
  },
  {
   "cell_type": "markdown",
   "id": "charged-cleaners",
   "metadata": {},
   "source": [
    "## Partie 2 : Construction du modèle KPPV"
   ]
  },
  {
   "cell_type": "markdown",
   "id": "funded-cabin",
   "metadata": {},
   "source": [
    "**1)** Créez le classifieur KPPV :D\n",
    "\n",
    "Lors de la prédiction d'un échantillon, on calculera la distance de cet échantillon avec les échantillons d'apprentissage et on sélectionnera les k plus proches puis on votera pour définir sa classe. On utilisera la distance euclidienne.\n",
    "\n",
    "Le constructeur prendra donc 2 paramètres : K (le nombre d'échantillons à sélectionner pour le vote), et le mode de vote à utiliser (majoritaire ou unanime)\n",
    "\n",
    "*Note :* Il va falloir redéfinir la fonction de métriques pour le vote à l'unanimité pour 2 raisons : \n",
    "\n",
    "- Le vote renvoit une seule valeur, et non une liste de classes triées...\n",
    "- Il se peut que le vote renvoit une valeur None est donc que l'échantillon soit non classé"
   ]
  },
  {
   "cell_type": "code",
   "execution_count": null,
   "id": "compliant-attack",
   "metadata": {},
   "outputs": [],
   "source": [
    "# A compléter\n",
    "# Création de la classe de classifieur KPPV\n",
    "..."
   ]
  },
  {
   "cell_type": "markdown",
   "id": "solved-regulation",
   "metadata": {},
   "source": [
    "**2)** Testez deux modèles KPPV (1 avec vote majoritaire, un avec vote unanime), sur le jeu de données 1, et avec comme paramètre k=2. Affichez les résultats (top1, top2 et matrice de confusion)."
   ]
  },
  {
   "cell_type": "code",
   "execution_count": null,
   "id": "tested-rebound",
   "metadata": {
    "tags": []
   },
   "outputs": [],
   "source": [
    "# A compléter\n",
    "# Test des 2 modèles KPPV, majoritaire et unanime, sur le JDD 1 avec k=2\n",
    "..."
   ]
  },
  {
   "cell_type": "markdown",
   "id": "incorporate-deadline",
   "metadata": {},
   "source": [
    "**3)** Testez également sur les jeux de données 2 et 3 avec les 2 modes de vote. Complétez ensuite le tableau suivant. Pour simple comparaison, voici mes résultats obtenus :"
   ]
  },
  {
   "cell_type": "markdown",
   "id": "incredible-search",
   "metadata": {},
   "source": [
    "| Jeu de données / Vote | top1 | top2 | nb points non classés |\n",
    "|:---------------------:|:----:|:----:|:---------------------:|\n",
    "| JDD 1 / Majoritaire  | 99.2% | 99.6% | 0 |\n",
    "| JDD 1 / Unanime  | 99% | 99% | 4 |\n",
    "| JDD 2 / Majoritaire  | 92.0% | 96.6% | 0 |\n",
    "| JDD 2 / Unanime  | 88.4% | 88.4% | 41 |\n",
    "| JDD 3 / Majoritaire  | 66.2% | 76.8% | 0 |\n",
    "| JDD 3 / Unanime  | 50.6% | 50.6% | 174 |"
   ]
  },
  {
   "cell_type": "code",
   "execution_count": null,
   "id": "laughing-opera",
   "metadata": {
    "tags": []
   },
   "outputs": [],
   "source": [
    "# A compléter\n",
    "# Même test que précédemment mais sur les JDDs 2 et 3\n",
    "..."
   ]
  },
  {
   "cell_type": "markdown",
   "id": "engaged-embassy",
   "metadata": {},
   "source": [
    "| Jeu de données / Vote | top1 | top2 | nb points non classés |\n",
    "|:---------------------:|:----:|:----:|:---------------------:|\n",
    "| JDD 1 / Majoritaire  |  |  |  |\n",
    "| JDD 1 / Unanime  |  |  |  |\n",
    "| JDD 2 / Majoritaire  |  |  |  |\n",
    "| JDD 2 / Unanime  |  |  |  |\n",
    "| JDD 3 / Majoritaire  |  |  |  |\n",
    "| JDD 3 / Unanime  |  |  |  |"
   ]
  },
  {
   "cell_type": "markdown",
   "id": "martial-presentation",
   "metadata": {},
   "source": [
    "## Partie 3 : Cross-validation"
   ]
  },
  {
   "cell_type": "markdown",
   "id": "express-champagne",
   "metadata": {},
   "source": [
    "Alors, on choisit comment le k optimal ?\n",
    "\n",
    "De la même manière que pour le paramètre h pour Parzen :D Avec une cross validation !\n",
    "\n",
    "**1)** Finissez tranquillement ce TP en trouvant les paramètres optimaux de k pour chaque jeu de données via une cross validation à 3 dossiers, et pour chaque mode de vote (donc 6 k à trouver ;) ). Dès que c'est réalisé, remplissez le tableau. Comme d'habitude, je vous mets mes résultats (testés pour k entre 2 et 10).\n",
    "\n",
    "*Note :* Attention, k est uniquement entier, contrairement à h."
   ]
  },
  {
   "cell_type": "markdown",
   "id": "secure-rating",
   "metadata": {},
   "source": [
    "| Jeu de données / Vote | k optimisé | top1 valid |\n",
    "|:---------------------:|:----------:|:----------:|\n",
    "| JDD 1 / Majoritaire  | 3 | 100% |\n",
    "| JDD 1 / Unanime  | 2 | 99,8% |\n",
    "| JDD 2 / Majoritaire  | 7 | 94.6% |\n",
    "| JDD 2 / Unanime  | 2 | 87.2% |\n",
    "| JDD 3 / Majoritaire  | 8 | 73.2% |\n",
    "| JDD 3 / Unanime  | 2 | 51.6% |"
   ]
  },
  {
   "cell_type": "code",
   "execution_count": null,
   "id": "demanding-rebound",
   "metadata": {},
   "outputs": [],
   "source": [
    "# A compléter\n",
    "# Fonction de cross validation\n",
    "..."
   ]
  },
  {
   "cell_type": "code",
   "execution_count": null,
   "id": "blond-response",
   "metadata": {
    "tags": []
   },
   "outputs": [],
   "source": [
    "# A compléter\n",
    "# Cross validation sur les 3 jeux de données, vote majoritaire et unanime\n",
    "..."
   ]
  },
  {
   "cell_type": "markdown",
   "id": "italic-youth",
   "metadata": {},
   "source": [
    "| Jeu de données / Vote | k optimisé | top1 valid |\n",
    "|:---------------------:|:----------:|:----------:|\n",
    "| JDD 1 / Majoritaire  |  |  |\n",
    "| JDD 1 / Unanime  |  |  |\n",
    "| JDD 2 / Majoritaire  |  |  |\n",
    "| JDD 2 / Unanime  |  |  |\n",
    "| JDD 3 / Majoritaire  |  |  |\n",
    "| JDD 3 / Unanime  |  |  |"
   ]
  },
  {
   "cell_type": "markdown",
   "id": "frequent-scanning",
   "metadata": {},
   "source": [
    "**2)** Quel k optimal obtenons-t-on pour un vote unanime ? Pourquoi ce résultat ? Et du coup, quel pourrait-être l'intérêt d'une cross validation pour un tel vote ?"
   ]
  },
  {
   "cell_type": "markdown",
   "id": "processed-choice",
   "metadata": {},
   "source": [
    "**_Réponse :_** "
   ]
  },
  {
   "cell_type": "markdown",
   "id": "verified-logistics",
   "metadata": {},
   "source": [
    "**3)** Evaluez maitenant vos classifieurs sur les jeux d'évaluation des 3 jeux de données, avec les 2 modes de vote, et avec les paramètres k optimisés. Reportez les résultats sur le tableau suivant. Les résultats sont-ils en raccord avec ceux obtenus sur les jeux de validations ? Comparez les performances des classifieurs en dissociant l'analyse sur les 3 jeux de données."
   ]
  },
  {
   "cell_type": "code",
   "execution_count": null,
   "id": "sudden-sessions",
   "metadata": {
    "tags": []
   },
   "outputs": [],
   "source": [
    "# A compléter\n",
    "# Evaluation des classifieurs sur les jeux de tests\n",
    "..."
   ]
  },
  {
   "cell_type": "markdown",
   "id": "acting-kernel",
   "metadata": {},
   "source": [
    "| Jeu de données / Vote | k | top1 valid | top1 eval |\n",
    "|:---------------------:|:-:|:----------:|:---------:|\n",
    "| JDD 1 / Majoritaire  |  |  |  |\n",
    "| JDD 1 / Unanime  |  |  |  |\n",
    "| JDD 2 / Majoritaire  |  |  |  |\n",
    "| JDD 2 / Unanime  |  |  |  |\n",
    "| JDD 3 / Majoritaire  |  |  |  |\n",
    "| JDD 3 / Unanime  |  |  |  |"
   ]
  },
  {
   "cell_type": "markdown",
   "id": "stainless-sugar",
   "metadata": {},
   "source": [
    "**_Réponse :_**"
   ]
  },
  {
   "cell_type": "code",
   "execution_count": null,
   "id": "wound-university",
   "metadata": {},
   "outputs": [],
   "source": []
  }
 ],
 "metadata": {
  "kernelspec": {
   "display_name": "Python 3",
   "language": "python",
   "name": "python3"
  },
  "language_info": {
   "codemirror_mode": {
    "name": "ipython",
    "version": 3
   },
   "file_extension": ".py",
   "mimetype": "text/x-python",
   "name": "python",
   "nbconvert_exporter": "python",
   "pygments_lexer": "ipython3",
   "version": "3.7.10"
  }
 },
 "nbformat": 4,
 "nbformat_minor": 5
}
