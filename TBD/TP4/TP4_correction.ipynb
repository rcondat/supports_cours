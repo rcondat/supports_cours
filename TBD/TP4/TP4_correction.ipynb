{
 "cells": [
  {
   "cell_type": "markdown",
   "id": "established-jacket",
   "metadata": {},
   "source": [
    "# TP4 : KPPV"
   ]
  },
  {
   "cell_type": "markdown",
   "id": "musical-treasury",
   "metadata": {},
   "source": [
    "Le parcours du combattant se termine bientôt, je vous le promets. Voici le dernier type de classifieur qu'on verra ensemble : KPPV, pour \"K plus proches voisins."
   ]
  },
  {
   "cell_type": "code",
   "execution_count": 1,
   "id": "buried-scale",
   "metadata": {},
   "outputs": [],
   "source": [
    "from matplotlib import pyplot as plt\n",
    "import numpy as np\n",
    "import pandas\n",
    "import progressbar\n",
    "\n",
    "from utils import Model, split_data, read_data"
   ]
  },
  {
   "cell_type": "markdown",
   "id": "injured-graphics",
   "metadata": {},
   "source": [
    "Le principe est super simple ! Vraiment ! \n",
    "\n",
    "Pour chaque échantillon à prédire, on va calculer la distance de celui-ci à chaque échantillon du jeu d'apprentissage. Ensuite, on sélectionnera les K plus proches de cet échantillon. Pour finir, on définit la classe de cet échantillon à prédire en fonction des classes des K échantillons les plus proches."
   ]
  },
  {
   "cell_type": "markdown",
   "id": "normal-biography",
   "metadata": {},
   "source": [
    "**La question préliminaire :** Alors, KPPV ? Méthode paramétrique ou non paramétrique ?"
   ]
  },
  {
   "cell_type": "markdown",
   "id": "blond-watershed",
   "metadata": {},
   "source": [
    "**_Réponse :_** C'est une méthode non paramétrique ! Ici, on ne fait AUCUNE supposition sur la distribution des données, c'est avec les échantillons qu'on en fait une estimation. Même conclusion que pour Parzen ;)"
   ]
  },
  {
   "cell_type": "markdown",
   "id": "contemporary-convert",
   "metadata": {},
   "source": [
    "## Partie 1 : La démocratie, c'est la clé"
   ]
  },
  {
   "cell_type": "markdown",
   "id": "communist-ghost",
   "metadata": {},
   "source": [
    "Après avoir sélectionné les K points les plus proches, il faut faire un vote pour attribuer une classe à l'échantillon à prédire. Pour cela, on va utiliser 2 méthodes de vote."
   ]
  },
  {
   "cell_type": "markdown",
   "id": "controversial-cancellation",
   "metadata": {},
   "source": [
    "**1)** Première méthode de vote : le vote à la majorité... On choisit la classe majoritaire... Voilà quoi...\n",
    "\n",
    "Ecrivez une fonction qui prendra en entrée une liste des classes de K points (les plus proches), ainsi que la liste des classes possibles, et qui retournera la liste de classes triée par rapport au nombre d'occurences, du plus grand au plus petit."
   ]
  },
  {
   "cell_type": "code",
   "execution_count": 2,
   "id": "cooperative-orleans",
   "metadata": {},
   "outputs": [],
   "source": [
    "# A compléter\n",
    "# Fonction de vote majoritaire\n",
    "def vote_majoritaire(k_classes,classes):\n",
    "    counts = np.zeros((len(classes)))\n",
    "    for i,c in enumerate(classes):\n",
    "        counts[i] = k_classes.count(c)\n",
    "    ind = np.argsort(counts)[::-1]\n",
    "    return np.array(classes)[ind].tolist()"
   ]
  },
  {
   "cell_type": "markdown",
   "id": "becoming-persian",
   "metadata": {},
   "source": [
    "Testez votre fonction maintenant avec ces quelques tests unitaires réalisés par mes soins :D"
   ]
  },
  {
   "cell_type": "code",
   "execution_count": 3,
   "id": "southern-alcohol",
   "metadata": {},
   "outputs": [],
   "source": [
    "# Test 1\n",
    "classes = [1,2,3,4,5]\n",
    "A = [1,1,2,2,2,2,3,4,4,4,5,5,5,5,5]\n",
    "assert vote_majoritaire(A,classes)==[5,2,4,1,3], \"Test 1 non fonctionnel\"\n",
    "\n",
    "# Test 2\n",
    "A = [1,1,2,4,4,4,5,5,5,5]\n",
    "assert vote_majoritaire(A,classes)==[5,4,1,2,3], \"Test 2 non fonctionnel\""
   ]
  },
  {
   "cell_type": "markdown",
   "id": "classified-emission",
   "metadata": {},
   "source": [
    "**2)** Deuxième méthode de vote : le vote à l'unanimité... Si les K échantillons les plus proches ont la même classe, on retourne cette classe, sinon, on retourne None. Ecrivez cette fonction."
   ]
  },
  {
   "cell_type": "code",
   "execution_count": 4,
   "id": "coupled-picnic",
   "metadata": {},
   "outputs": [],
   "source": [
    "# A compléter\n",
    "# Fonction de vote unanime\n",
    "def vote_unanime(k_classes,classes):\n",
    "    if len(np.unique(k_classes))==1:\n",
    "        return k_classes[0]\n",
    "    else:\n",
    "        return None"
   ]
  },
  {
   "cell_type": "markdown",
   "id": "sealed-cholesterol",
   "metadata": {},
   "source": [
    "Hop hop hop ! On teste la fonction avant la prochaine étape !"
   ]
  },
  {
   "cell_type": "code",
   "execution_count": 5,
   "id": "animal-advocacy",
   "metadata": {},
   "outputs": [],
   "source": [
    "# Test 1\n",
    "A = [4,4,4,4]\n",
    "assert vote_unanime(A,classes)==4, \"Test 1 non fonctionnel\"\n",
    "\n",
    "# Test 2\n",
    "A = [1,1,1,1,2]\n",
    "assert vote_unanime(A,classes) is None, \"Test 2 non fonctionnel\""
   ]
  },
  {
   "cell_type": "markdown",
   "id": "boxed-addiction",
   "metadata": {},
   "source": [
    "## Partie 2 : Construction du modèle KPPV"
   ]
  },
  {
   "cell_type": "markdown",
   "id": "nominated-length",
   "metadata": {},
   "source": [
    "**1)** Créez le classifieur KPPV :D\n",
    "\n",
    "Lors de la prédiction d'un échantillon, on calculera la distance de cet échantillon avec les échantillons d'apprentissage et on sélectionnera les k plus proches puis on votera pour définir sa classe. On utilisera la distance euclidienne.\n",
    "\n",
    "Le constructeur prendra donc 2 paramètres : K (le nombre d'échantillons à sélectionner pour le vote), et le mode de vote à utiliser (majoritaire ou unanime)\n",
    "\n",
    "*Note :* Il va falloir redéfinir la fonction de métriques pour le vote à l'unanimité pour 2 raisons : \n",
    "\n",
    "- Le vote renvoit une seule valeur, et non une liste de classes triées...\n",
    "- Il se peut que le vote renvoit une valeur None est donc que l'échantillon soit non classé"
   ]
  },
  {
   "cell_type": "code",
   "execution_count": 6,
   "id": "shaped-amino",
   "metadata": {},
   "outputs": [],
   "source": [
    "# A compléter\n",
    "# Création de la classe de classifieur KPPV\n",
    "class KPPV(Model):\n",
    "    # Définition du constructeur\n",
    "    def __init__(self,classes,vote='majoritaire',k=1):\n",
    "        super(KPPV, self).__init__(classes)\n",
    "        self.k = k\n",
    "        assert vote in ['unanime','majoritaire']\n",
    "        self.vote = vote\n",
    "        if self.vote == 'unanime':\n",
    "            self.vote_func = vote_unanime\n",
    "        else:\n",
    "            self.vote_func = vote_majoritaire\n",
    "    \n",
    "    # Définition de la fonction d'apprentissage\n",
    "    def learning(self,app_x,app_y,app_labels):\n",
    "        self.app_points = np.stack([app_x,app_y]).T\n",
    "        self.app_labels = app_labels.to_numpy()\n",
    "    \n",
    "    def distance(self,A,B):\n",
    "        return (A-B).T@(A-B)\n",
    "    \n",
    "    # Définition de la classe de prédiction\n",
    "    def prediction(self,x,y):\n",
    "        N = len(self.app_labels)\n",
    "        point = np.array([x,y])\n",
    "        labels = self.app_labels.copy()\n",
    "        distances = np.array([self.distance(point,self.app_points[i,:]) for i in range(N)])\n",
    "        k_classes_selec = []\n",
    "        for i in range(self.k):\n",
    "            ind_dist_min = np.argmin(distances)\n",
    "            k_classes_selec.append(labels[ind_dist_min])\n",
    "            distances = np.delete(distances,ind_dist_min)\n",
    "            labels = np.delete(labels,ind_dist_min)\n",
    "        return self.vote_func(k_classes_selec,self.classes)\n",
    "    \n",
    "    def metrics(self,gt,pred):\n",
    "        if self.vote == 'majoritaire':\n",
    "            return super(KPPV,self).metrics(gt,pred)\n",
    "        else:\n",
    "            CM = np.zeros((len(self.classes),len(self.classes)+1),dtype=np.uint16)\n",
    "            top1 = 0\n",
    "            top2 = 0\n",
    "            for g,p in zip(gt,pred):\n",
    "                if p is None:\n",
    "                    CM[g-1,-1]+=1\n",
    "                else:\n",
    "                    if g == p:\n",
    "                        top1+=1\n",
    "                    CM[g-1,p-1]+=1\n",
    "            return top1/len(gt), top1/len(gt), CM"
   ]
  },
  {
   "cell_type": "markdown",
   "id": "rental-witness",
   "metadata": {},
   "source": [
    "**2)** Testez deux modèles KPPV (1 avec vote majoritaire, un avec vote unanime), sur le jeu de données 1, et avec comme paramètre k=2. Affichez les résultats (top1, top2 et matrice de confusion)."
   ]
  },
  {
   "cell_type": "code",
   "execution_count": 7,
   "id": "exotic-exploration",
   "metadata": {
    "tags": []
   },
   "outputs": [
    {
     "name": "stdout",
     "output_type": "stream",
     "text": [
      "TEST KPPV VOTE MAJORITAIRE\n",
      "Top 1 :  0.992\n",
      "Top 2 :  0.996\n",
      "Matrice de confusion : \n",
      "    99   0   0   0   1\n",
      "    0  98   0   0   2\n",
      "    0   0 100   0   0\n",
      "    0   0   0 100   0\n",
      "    0   0   0   1  99\n",
      "TEST KPPV VOTE UNANIME\n",
      "Top 1 :  0.99\n",
      "Top 2 :  0.99\n",
      "Matrice de confusion : \n",
      "    99   0   0   0   1   0\n",
      "    0  98   0   0   0   2\n",
      "    0   0 100   0   0   0\n",
      "    0   0   0 100   0   0\n",
      "    0   0   0   0  98   2\n"
     ]
    }
   ],
   "source": [
    "# A compléter\n",
    "# Chargement des données tp1 app et dec\n",
    "file_app = f'Archive/data_tp1_app.txt'\n",
    "file_dec = f'Archive/data_tp1_dec.txt'\n",
    "columns_labels = ['label','x','y']\n",
    "data_app = read_data(file_app,columns_labels)\n",
    "data_dec = read_data(file_dec,columns_labels)\n",
    "\n",
    "classes = np.unique(data_app['label'])\n",
    "\n",
    "# Création d'une instance de modèle classifieur KPPV avec vote majoritaire\n",
    "kppv_majoritaire = KPPV(classes,'majoritaire',2)\n",
    "\n",
    "# Création d'une instance de modèle classifieur KPPV avec vote unanime\n",
    "kppv_unanime = KPPV(classes,'unanime',2)\n",
    "\n",
    "# Apprentissage du classifieur avec les données d'apprentissage\n",
    "app_x = data_app['x']\n",
    "app_y = data_app['y']\n",
    "app_labels = data_app['label']\n",
    "\n",
    "kppv_majoritaire.learning(app_x,app_y,app_labels)\n",
    "kppv_unanime.learning(app_x,app_y,app_labels)\n",
    "\n",
    "# Evaluation du classifieur avec les données d'évaluation\n",
    "dec_x = data_dec['x']\n",
    "dec_y = data_dec['y']\n",
    "dec_labels = data_dec['label']\n",
    "\n",
    "print(\"TEST KPPV VOTE MAJORITAIRE\")\n",
    "top1,top2,CM = kppv_majoritaire.test(dec_x,dec_y,dec_labels)\n",
    "\n",
    "print(\"TEST KPPV VOTE UNANIME\")\n",
    "top1,top2,CM = kppv_unanime.test(dec_x,dec_y,dec_labels)"
   ]
  },
  {
   "cell_type": "markdown",
   "id": "wooden-depression",
   "metadata": {},
   "source": [
    "**3)** Testez également sur les jeux de données 2 et 3 avec les 2 modes de vote. Complétez ensuite le tableau suivant. Pour simple comparaison, voici mes résultats obtenus :"
   ]
  },
  {
   "cell_type": "markdown",
   "id": "ongoing-prior",
   "metadata": {},
   "source": [
    "| Jeu de données / Vote | top1 | top2 | nb points non classés |\n",
    "|:---------------------:|:----:|:----:|:---------------------:|\n",
    "| JDD 1 / Majoritaire  | 99.2% | 99.6% | 0 |\n",
    "| JDD 1 / Unanime  | 99% | 99% | 4 |\n",
    "| JDD 2 / Majoritaire  | 92.0% | 96.6% | 0 |\n",
    "| JDD 2 / Unanime  | 88.4% | 88.4% | 41 |\n",
    "| JDD 3 / Majoritaire  | 66.2% | 76.8% | 0 |\n",
    "| JDD 3 / Unanime  | 50.6% | 50.6% | 174 |"
   ]
  },
  {
   "cell_type": "code",
   "execution_count": 8,
   "id": "third-velvet",
   "metadata": {
    "tags": []
   },
   "outputs": [
    {
     "name": "stdout",
     "output_type": "stream",
     "text": [
      "JDD 2\n",
      "TEST KPPV VOTE MAJORITAIRE\n",
      "Top 1 :  0.92\n",
      "Top 2 :  0.966\n",
      "Matrice de confusion : \n",
      "   99  0  1  0  0\n",
      "   0 87 13  0  0\n",
      "   2  4 80  2 12\n",
      "   0  0  3 95  2\n",
      "   0  0  0  1 99\n",
      "TEST KPPV VOTE UNANIME\n",
      "Top 1 :  0.884\n",
      "Top 2 :  0.884\n",
      "Matrice de confusion : \n",
      "   99  0  0  0  0  1\n",
      "   0 87  0  0  0 13\n",
      "   2  4 79  1  6  8\n",
      "   0  0  3 94  0  3\n",
      "   0  0  0  1 83 16\n",
      "JDD 3\n",
      "TEST KPPV VOTE MAJORITAIRE\n",
      "Top 1 :  0.662\n",
      "Top 2 :  0.768\n",
      "Matrice de confusion : \n",
      "   16 15 31 18 20\n",
      "   6 69 13  1 11\n",
      "   8  3 86  3  0\n",
      "   7  1 17 70  5\n",
      "   2  5  1  2 90\n",
      "TEST KPPV VOTE UNANIME\n",
      "Top 1 :  0.506\n",
      "Top 2 :  0.506\n",
      "Matrice de confusion : \n",
      "   16 11  5  7 11 50\n",
      "   6 57  0  0  4 33\n",
      "   8  1 58  1  0 32\n",
      "   7  0  7 54  0 32\n",
      "   2  3  0  0 68 27\n"
     ]
    }
   ],
   "source": [
    "# A compléter\n",
    "# Chargement des données tp1 app et dec\n",
    "for i in [2,3]:\n",
    "    print(f\"JDD {i}\")\n",
    "    file_app = f'Archive/data_tp{i}_app.txt'\n",
    "    file_dec = f'Archive/data_tp{i}_dec.txt'\n",
    "    columns_labels = ['label','x','y']\n",
    "    data_app = read_data(file_app,columns_labels)\n",
    "    data_dec = read_data(file_dec,columns_labels)\n",
    "\n",
    "    classes = np.unique(data_app['label'])\n",
    "\n",
    "    # Création d'une instance de modèle classifieur KPPV avec vote majoritaire\n",
    "    kppv_majoritaire = KPPV(classes,'majoritaire',2)\n",
    "\n",
    "    # Création d'une instance de modèle classifieur KPPV avec vote unanime\n",
    "    kppv_unanime = KPPV(classes,'unanime',2)\n",
    "\n",
    "    # Apprentissage du classifieur avec les données d'apprentissage\n",
    "    app_x = data_app['x']\n",
    "    app_y = data_app['y']\n",
    "    app_labels = data_app['label']\n",
    "\n",
    "    kppv_majoritaire.learning(app_x,app_y,app_labels)\n",
    "    kppv_unanime.learning(app_x,app_y,app_labels)\n",
    "\n",
    "    # Evaluation du classifieur avec les données d'évaluation\n",
    "    dec_x = data_dec['x']\n",
    "    dec_y = data_dec['y']\n",
    "    dec_labels = data_dec['label']\n",
    "\n",
    "    print(\"TEST KPPV VOTE MAJORITAIRE\")\n",
    "    top1,top2,CM = kppv_majoritaire.test(dec_x,dec_y,dec_labels)\n",
    "\n",
    "    print(\"TEST KPPV VOTE UNANIME\")\n",
    "    top1,top2,CM = kppv_unanime.test(dec_x,dec_y,dec_labels)"
   ]
  },
  {
   "cell_type": "markdown",
   "id": "close-market",
   "metadata": {},
   "source": [
    "| Jeu de données / Vote | top1 | top2 | nb points non classés |\n",
    "|:---------------------:|:----:|:----:|:---------------------:|\n",
    "| JDD 1 / Majoritaire  | 99.2% | 99.6% | 0 |\n",
    "| JDD 1 / Unanime  | 99% | 99% | 4 |\n",
    "| JDD 2 / Majoritaire  | 92.0% | 96.6% | 0 |\n",
    "| JDD 2 / Unanime  | 88.4% | 88.4% | 41 |\n",
    "| JDD 3 / Majoritaire  | 66.2% | 76.8% | 0 |\n",
    "| JDD 3 / Unanime  | 50.6% | 50.6% | 174 |"
   ]
  },
  {
   "cell_type": "markdown",
   "id": "incorrect-alignment",
   "metadata": {},
   "source": [
    "## Partie 3 : Cross-validation"
   ]
  },
  {
   "cell_type": "markdown",
   "id": "little-investing",
   "metadata": {},
   "source": [
    "Alors, on choisit comment le k optimal ?\n",
    "\n",
    "De la même manière que pour le paramètre h pour Parzen :D Avec une cross validation !\n",
    "\n",
    "**1)** Finissez tranquillement ce TP en trouvant les paramètres optimaux de k pour chaque jeu de données via une cross validation à 3 dossiers, et pour chaque mode de vote (donc 6 k à trouver ;) ). Dès que c'est réalisé, remplissez le tableau. Comme d'habitude, je vous mets mes résultats (testés pour k entre 2 et 10).\n",
    "\n",
    "*Note :* Attention, k est uniquement entier, contrairement à h."
   ]
  },
  {
   "cell_type": "markdown",
   "id": "royal-liechtenstein",
   "metadata": {},
   "source": [
    "| Jeu de données / Vote | k optimisé | top1 valid |\n",
    "|:---------------------:|:----------:|:----------:|\n",
    "| JDD 1 / Majoritaire  | 3 | 100% |\n",
    "| JDD 1 / Unanime  | 2 | 99,8% |\n",
    "| JDD 2 / Majoritaire  | 7 | 94.6% |\n",
    "| JDD 2 / Unanime  | 2 | 87.2% |\n",
    "| JDD 3 / Majoritaire  | 8 | 73.2% |\n",
    "| JDD 3 / Unanime  | 2 | 51.6% |"
   ]
  },
  {
   "cell_type": "code",
   "execution_count": 9,
   "id": "charged-tuesday",
   "metadata": {},
   "outputs": [],
   "source": [
    "# A compléter\n",
    "# Fonction de cross validation\n",
    "def cross_validation(N,data_x,data_y,data_labels,model_func,classes,vote_func,hmin=1,hmax=10,hstep=1):\n",
    "    # Première étape : on divise les données en N datasets aléatoirement\n",
    "    part = []\n",
    "    for i in range(N):\n",
    "        ids_app = [j for j in range(len(data_x)) if j%N != i]\n",
    "        ids_val = [j for j in range(len(data_x)) if j%N == i]\n",
    "        part.append({'app':[data_x[ids_app],data_y[ids_app],data_labels[ids_app]],\n",
    "                     'val':[data_x[ids_val],data_y[ids_val],data_labels[ids_val]]})\n",
    "\n",
    "\n",
    "    h_results = []\n",
    "    for h in progressbar.progressbar(np.arange(hmin,hmax,hstep)):\n",
    "        if h==0:\n",
    "            continue\n",
    "        h_top1 = []\n",
    "        for i in range(N):\n",
    "            model = model_func(classes,vote_func,h)\n",
    "            app_x,app_y,app_labels = part[i]['app']\n",
    "            val_x,val_y,val_labels = part[i]['val']\n",
    "            model.learning(app_x,app_y,app_labels)\n",
    "            top1,__,__ = model.test(val_x,val_y,val_labels,print_results=False)\n",
    "            h_top1.append(top1)\n",
    "        h_results.append((h,np.mean(h_top1)))\n",
    "    return h_results"
   ]
  },
  {
   "cell_type": "code",
   "execution_count": 10,
   "id": "brutal-marble",
   "metadata": {
    "tags": []
   },
   "outputs": [
    {
     "name": "stderr",
     "output_type": "stream",
     "text": [
      "100% (8 of 8) |##########################| Elapsed Time: 0:00:04 Time:  0:00:04\n",
      "100% (8 of 8) |##########################| Elapsed Time: 0:00:03 Time:  0:00:03\n",
      "100% (8 of 8) |##########################| Elapsed Time: 0:00:03 Time:  0:00:03\n",
      "100% (8 of 8) |##########################| Elapsed Time: 0:00:03 Time:  0:00:03\n",
      "100% (8 of 8) |##########################| Elapsed Time: 0:00:03 Time:  0:00:03\n",
      "100% (8 of 8) |##########################| Elapsed Time: 0:00:04 Time:  0:00:04\n"
     ]
    }
   ],
   "source": [
    "# A compléter\n",
    "# Cross validation sur les 3 jeux de données, vote majoritaire et unanime\n",
    "h_optimises = {}\n",
    "for jeu in [1,2,3]:\n",
    "    for vote in ['majoritaire','unanime']:\n",
    "        # Chargement des données tp1 app et dec\n",
    "        file_app = f'Archive/data_tp{jeu}_app.txt'\n",
    "        file_dec = f'Archive/data_tp{jeu}_dec.txt'\n",
    "        columns_labels = ['label','x','y']\n",
    "        data_app = read_data(file_app,columns_labels)\n",
    "        classes = np.unique(data_app['label'])\n",
    "\n",
    "        # Apprentissage du classifieur avec les données d'apprentissage\n",
    "        app_x = data_app['x']\n",
    "        app_y = data_app['y']\n",
    "        app_labels = data_app['label']\n",
    "\n",
    "        h_results = cross_validation(3,app_x,app_y,app_labels,KPPV,classes,vote,2,10,1)\n",
    "        h_max = max([p[1] for p in h_results])\n",
    "        h_opti = [h for h in h_results if h[1]==h_max][0][0]\n",
    "        top1_opti = [h for h in h_results if h[1]==h_max][0][1]\n",
    "        h_optimises['{}_{}'.format(jeu,vote)] = (h_opti,top1_opti)\n",
    "        "
   ]
  },
  {
   "cell_type": "markdown",
   "id": "textile-local",
   "metadata": {},
   "source": [
    "| Jeu de données / Vote | k optimisé | top1 valid |\n",
    "|:---------------------:|:----------:|:----------:|\n",
    "| JDD 1 / Majoritaire  | 3 | 100% |\n",
    "| JDD 1 / Unanime  | 2 | 99,8% |\n",
    "| JDD 2 / Majoritaire  | 7 | 94.6% |\n",
    "| JDD 2 / Unanime  | 2 | 87.2% |\n",
    "| JDD 3 / Majoritaire  | 8 | 73.2% |\n",
    "| JDD 3 / Unanime  | 2 | 51.6% |"
   ]
  },
  {
   "cell_type": "markdown",
   "id": "conventional-novelty",
   "metadata": {},
   "source": [
    "**2)** Quel k optimal obtenons-t-on pour un vote unanime ? Pourquoi ce résultat ? Et du coup, quel pourrait-être l'intérêt d'une cross validation pour un tel vote ?"
   ]
  },
  {
   "cell_type": "markdown",
   "id": "peaceful-medium",
   "metadata": {},
   "source": [
    "**_Réponse :_** On obtient toujours le k minimum testé, à savoir 2 ici. C'est normal, si on augmente le k, on complexifie le problème, et une bonne détection avec un k élevé sera toujours bonne avec un k plus faible, et pas l'inverse automatiquement. Il y a cependant un intérêt à choisir un k élevé : si on préfère une non classification à une mauvaise prédiction, ce que la métrique top1 ne rend pas compte."
   ]
  },
  {
   "cell_type": "markdown",
   "id": "growing-arctic",
   "metadata": {},
   "source": [
    "**3)** Evaluez maitenant vos classifieurs sur les jeux d'évaluation des 3 jeux de données, avec les 2 modes de vote, et avec les paramètres k optimisés. Reportez les résultats sur le tableau suivant. Les résultats sont-ils en raccord avec ceux obtenus sur les jeux de validations ? Comparez les performances des classifieurs en dissociant l'analyse sur les 3 jeux de données."
   ]
  },
  {
   "cell_type": "code",
   "execution_count": 11,
   "id": "later-least",
   "metadata": {
    "tags": []
   },
   "outputs": [],
   "source": [
    "# A compléter\n",
    "# Evaluation des classifieurs sur les jeux de tests\n",
    "top1_eval = {}\n",
    "for jeu in [1,2,3]:\n",
    "    for vote in ['majoritaire','unanime']:\n",
    "        h = h_optimises['{}_{}'.format(jeu,vote)][0]\n",
    "        # Chargement des données tp1 app et dec\n",
    "        file_app = f'Archive/data_tp{jeu}_app.txt'\n",
    "        file_dec = f'Archive/data_tp{jeu}_dec.txt'\n",
    "        columns_labels = ['label','x','y']\n",
    "        data_app = read_data(file_app,columns_labels)\n",
    "        data_dec = read_data(file_dec,columns_labels)\n",
    "        classes = np.unique(data_app['label'])\n",
    "\n",
    "        # Création du modèle\n",
    "        model = KPPV(classes,vote,h)\n",
    "        \n",
    "        # Apprentissage du classifieur avec les données d'apprentissage\n",
    "        app_x = data_app['x']\n",
    "        app_y = data_app['y']\n",
    "        app_labels = data_app['label']\n",
    "        \n",
    "        model.learning(app_x,app_y,app_labels)\n",
    "\n",
    "        # Evaluation du classifieur avec les données d'évaluation\n",
    "        dec_x = data_dec['x']\n",
    "        dec_y = data_dec['y']\n",
    "        dec_labels = data_dec['label']\n",
    "\n",
    "        top1,top2,CM = model.test(dec_x,dec_y,dec_labels,print_results=False)\n",
    "        top1_eval['{}_{}'.format(jeu,vote)] = top1"
   ]
  },
  {
   "cell_type": "code",
   "execution_count": 12,
   "id": "constant-construction",
   "metadata": {},
   "outputs": [
    {
     "data": {
      "text/plain": [
       "{'1_majoritaire': 0.996,\n",
       " '1_unanime': 0.99,\n",
       " '2_majoritaire': 0.946,\n",
       " '2_unanime': 0.884,\n",
       " '3_majoritaire': 0.696,\n",
       " '3_unanime': 0.506}"
      ]
     },
     "execution_count": 12,
     "metadata": {},
     "output_type": "execute_result"
    }
   ],
   "source": [
    "top1_eval"
   ]
  },
  {
   "cell_type": "markdown",
   "id": "modular-hungary",
   "metadata": {},
   "source": [
    "| Jeu de données / Vote | k | top1 valid | top1 eval |\n",
    "|:---------------------:|:-:|:----------:|:---------:|\n",
    "| JDD 1 / Majoritaire  | 3 | 100% | 99.6% |\n",
    "| JDD 1 / Unanime  | 2 | 99,8% | 99% |\n",
    "| JDD 2 / Majoritaire  | 7 | 94.6% | 94.6% |\n",
    "| JDD 2 / Unanime  | 2 | 87.2% | 88.4% |\n",
    "| JDD 3 / Majoritaire  | 8 | 73.2% | 69.6% |\n",
    "| JDD 3 / Unanime  | 2 | 51.6% | 50.6% |"
   ]
  },
  {
   "cell_type": "markdown",
   "id": "nervous-taxation",
   "metadata": {},
   "source": [
    "**_Réponse :_** Les résultats en évaluation sont sensiblement les mêmes que ceux en validation, donc les modèles n'ont pas de surapprentissage. Les résultats sont quasi parfaits sur le JDD 1, et très bons sur le JDD 2. Pour le JDD 3, c'est toujours compliqué..."
   ]
  }
 ],
 "metadata": {
  "kernelspec": {
   "display_name": "Python 3",
   "language": "python",
   "name": "python3"
  },
  "language_info": {
   "codemirror_mode": {
    "name": "ipython",
    "version": 3
   },
   "file_extension": ".py",
   "mimetype": "text/x-python",
   "name": "python",
   "nbconvert_exporter": "python",
   "pygments_lexer": "ipython3",
   "version": "3.7.10"
  }
 },
 "nbformat": 4,
 "nbformat_minor": 5
}
