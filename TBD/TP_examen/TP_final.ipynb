{
 "cells": [
  {
   "cell_type": "markdown",
   "id": "monetary-transfer",
   "metadata": {},
   "source": [
    "# TP Final : Panique à Poudlard !"
   ]
  },
  {
   "cell_type": "markdown",
   "id": "hairy-surname",
   "metadata": {},
   "source": [
    " **_IMPORTANT :_** Vous avez plusieurs consignes à respecter impéritavement pour le bon déroulé de ce TP final\n",
    " \n",
    " - Dans le cadre de ce TP, chacun de vous à un jeu de données différent. Je vous indique donc à consulter cette liste : https://docs.google.com/spreadsheets/d/1vaFE4uHxlVk8NNdZfzrcMbVOr35XafR7Hwng1IyoroU/edit?usp=sharing,  afin de récupérer votre **NUM**, et ainsi récupérer votre bon jeu de données. La correction de ce TP final est fait automatiquement via des scripts, donc si vous faites le TP avec le mauvais **NUM**, vous aurez tout faux, et je ne pourrais pas vous de donner de points. Donc respectez la consigne svp !\n",
    " \n",
    " - Le rendu de ce TP se fait sur Universitice, sur le dépôt nommé \"Dépôt TP final\". Vous devez me rendre OBLIGATOIREMENT :\n",
    "\n",
    "    - Un PDF ou HTML du Notebook complété (code ET cellules textes !). Les tableaux de résultats en Markdown sont à remplir également. Si vous souhaitez à la place créer un compte-rendu PDF en dehors du Notebook, vous pouvez, mais insérez bien du code (avec une résolution d'image correcte svp)\n",
    "    - Un fichier Python (.py), contenant l'ensemble des fonctions développées durant les séances de TP (lecture des données, affichage des données, classes Modèles, fonction de cross validation, etc.)\n",
    "\n",
    " - Avec votre jeu de données sur Universitice, vous avez un dossier \"Hogwart Houses\". C'est juste un dossier pour les images de blasons des maisons. N'hésitez pas à le télécharger, pour affichez les images, tout est automatisé normalement.\n",
    " \n",
    " - SVP, faites un effort sur la propreté du Notebook (code et commentaires). Si des cellules ne servent plus à rien, supprimez-les. Pas besoin de commenter toutes les lignes de code, mais mettez des commentaires par blocs de lignes. Si le rendu est trop compliqué à lire, avec des cellules inutiles, vous perdrez des points automotiquement.\n",
    " \n",
    " - Le TP est faisable pour n'importe qui d'entre vous qui a implémenté au moins un classifieur proprement. Cela veut dire que vous n'aurez malheuresement pas tous les points, mais vous avez le matériel nécessaire pour aller jusqu'au bout du TP (en passant quelques questions concernant les autres classifieurs). La note de ce TP est divisé en 2 catégories : 10 pts pour le code / implémentation, et 10 pts pour l'analyse des résultats et la compréhension du sujet, donc dans ce cas, vous pouvez avoir la moyenne et plus avec un seul classifieur :D"
   ]
  },
  {
   "cell_type": "markdown",
   "id": "immune-helen",
   "metadata": {},
   "source": [
    "---"
   ]
  },
  {
   "cell_type": "markdown",
   "id": "expected-canberra",
   "metadata": {},
   "source": [
    "On boulverse notre programme ! Je vous avais prévu un TP final bien ennuyant, mais j'ai reçu un appel privé venant de Poudlard, et c'est la panique ! \n",
    "\n",
    "Alors, non, Voldemort et son armée n'est pas revenue, pas de soucis de ce côté-là. Mais après de nombreuses années de services, le choix-peau à décider de prendre sa retraite. \n",
    "\n",
    "Le soucis, c'est que c'était la seule option de l'école pour répartir les nouveaux élèves dans les différentes maisons : Gryffondor (Gryffindor), Serpentard (Slytherin), Serdaigle (Ravenclaw) et Poufsouffle (Hufflepuff)."
   ]
  },
  {
   "cell_type": "markdown",
   "id": "inclusive-there",
   "metadata": {},
   "source": [
    "<img src=\"Hogwart houses/Gryffindor_Crest.png\" width=\"205\"> <img src=\"Hogwart houses/Slytherin_Crest.png\" width=\"200\"> <img src=\"Hogwart houses/Hufflepuff_Crest.png\" width=\"200\"> <img src=\"Hogwart houses/Ravenclaw_Crest.png\" height=\"200\">\n"
   ]
  },
  {
   "cell_type": "markdown",
   "id": "instant-barrier",
   "metadata": {},
   "source": [
    "Dumbledore a donc pour ça de recruter des data scientists, et ils se trouve qu'il a sélectionner l'Université de Rouen, et en particulier la promo de L3 Info pour résoudre son problème. Quel coincidence ! Vraiment ! *(jouez le jeu svp)*"
   ]
  },
  {
   "cell_type": "markdown",
   "id": "other-bikini",
   "metadata": {},
   "source": [
    "Une grande collecte de données a donc été faite via 1600 élèves, répartis équitablement dans les 4 maisons. On leur a fait passé un test de personnalité pour déterminer leur profil selon 10 caractéristiques :\n",
    "- Courage (courage)\n",
    "- Kindness (gentillesse)\n",
    "- Lucidity (lucidité)\n",
    "- Intelligence (intelligence)\n",
    "- Creativity (créativité)\n",
    "- Loyalty (loyauté)\n",
    "- Cold blood (sang-froid)\n",
    "- Sincerity (sincérité)\n",
    "- Ambition (ambition)\n",
    "- Wisdom (sagesse)\n",
    "\n",
    "Pour chaque caractéristique, une note sur 10 a été attribué pour chaque élève, de type float.\n",
    "Voici un exemple de résultat du test de personnalité que vous avez pour un échantillon / étudiant :\n",
    "\n",
    "| ID | Courage | Kindness | Lucidity | Intelligence | Creativity | Loyalty | Cold Blood | Sincerity | Ambition | Wisdom |\n",
    "|:--:|:-------:|:--------:|:--------:|:------------:|:----------:|:-------:|:----------:|:---------:|:--------:|:------:|\n",
    "| 27 | 5.7 | 8.45 | 1.22 | 7.44 | 6.57 | 3.12 | 9.78 | 6.54 | 7.69 | 1.45 | "
   ]
  },
  {
   "cell_type": "markdown",
   "id": "cleared-response",
   "metadata": {},
   "source": [
    "Vous avez donc à votre disposition les résultats de ces tests de personnalité pour les 1600 étudiants : 800 pour l'apprentissage (data_app_NUM.txt) et 800 pour l'évaluation (data_dec_NUM.txt)."
   ]
  },
  {
   "cell_type": "markdown",
   "id": "driving-amendment",
   "metadata": {},
   "source": [
    "---\n",
    "\n",
    "## Partie 1 : Courage et Gentillesse, 2 grandes qualités de tout bon sorcier"
   ]
  },
  {
   "cell_type": "markdown",
   "id": "noble-minimum",
   "metadata": {},
   "source": [
    "*\"Comment va-t-on faire ?! On a 10 variables ! Aaahhhhhh !!!!\"*\n",
    "\n",
    "Oh, oh ! On se calme ! On va commencer tranquillement, avec les 2 premières variables"
   ]
  },
  {
   "cell_type": "markdown",
   "id": "dangerous-brief",
   "metadata": {},
   "source": [
    "**1)** Importez tout d'abord vos packages, à savoir les librairies que vous allez utilisé, mais également les fonctions des précédents TPs réunis dans UN SEUL FICHIER PYTHON. Si plus tard, vous avez besoin de charger autre chose, rajoutez la ou les lignes supplémentaire(s) dans cette cellule."
   ]
  },
  {
   "cell_type": "code",
   "execution_count": null,
   "id": "usual-factory",
   "metadata": {},
   "outputs": [],
   "source": [
    "# A compléter\n",
    "# Import de vos fonctions / packages\n",
    "..."
   ]
  },
  {
   "cell_type": "markdown",
   "id": "sticky-group",
   "metadata": {},
   "source": [
    "**2)** Chargez les données app et dec à votre disposition (celui correspondant à votre **NUM**). Affichez les données app dans un tableau lisible (je vous conseille fortement d'utiliser pandas)."
   ]
  },
  {
   "cell_type": "code",
   "execution_count": null,
   "id": "forward-bulgaria",
   "metadata": {},
   "outputs": [],
   "source": [
    "# A compléter\n",
    "# Chargement de vos données app et dec\n",
    "...\n",
    "# Affichage des données app\n",
    "..."
   ]
  },
  {
   "cell_type": "markdown",
   "id": "civic-period",
   "metadata": {},
   "source": [
    "Ici vous avez vos labels ('House\") qui sont des chaines de caractères, contrairement à vos jeux de données précédents où vous aviez des entiers. Il est fort possible que vos fonctions développées précédemment ne réagissent pas bien avec ces nouvelles données. Dans ce cas là, voici une fonction développée par mes soins, pour modifier vos labels en valeurs entières :\n",
    "- Gryffindor : 1\n",
    "- Slytherin : 2\n",
    "- Hufflepuff : 3\n",
    "- Ravenclaw : 4\n",
    "\n",
    "ATTENTION : il n'est pas obligatoire d'utiliser ces lignes !"
   ]
  },
  {
   "cell_type": "code",
   "execution_count": 20,
   "id": "neural-civilian",
   "metadata": {},
   "outputs": [],
   "source": [
    "# Quelques lignes de code optionnelles pour changer les labels maisons en classe numériques (1 -> 4)\n",
    "def house_to_int(data): # Vos données APP ou DEC\n",
    "    classes_to_int = {\"Gryffindor\":1, \"Slytherin\":2, 'Hufflepuff':3, \"Ravenclaw\":4}\n",
    "    for classe in classes_to_int.keys():\n",
    "        data.loc[data['House']==classe,'House'] = classes_to_int[classe]\n",
    "    return data"
   ]
  },
  {
   "cell_type": "markdown",
   "id": "forced-career",
   "metadata": {},
   "source": [
    "**3)** Affichez les échantillons d'apprentissage puis de test sous forme de points 2D en fonction de leurs variables Courage et Kindness. Les échantillons auront une couleur différente en fonction de leur classe.\n",
    "\n",
    "*Note :* un point bonus si vous les affichez avec leur classe correpondant aux couleurs des maisons : rouge pour Gryffindor, vert pour Slytherin, bleu pour Ravenclaw et jaune pour Hufflepuff."
   ]
  },
  {
   "cell_type": "code",
   "execution_count": null,
   "id": "surprised-interest",
   "metadata": {},
   "outputs": [],
   "source": [
    "# A compléter\n",
    "# Affichage des données app en fonction des variables Courage et Kindness\n",
    "...\n",
    "# Affichage des données dec en fonction des variables Courage et Kindness\n",
    "..."
   ]
  },
  {
   "cell_type": "markdown",
   "id": "unknown-moses",
   "metadata": {},
   "source": [
    "**Comment sont répartis les échantillons ?**"
   ]
  },
  {
   "cell_type": "markdown",
   "id": "documented-bikini",
   "metadata": {},
   "source": [
    "**_Réponse :_**"
   ]
  },
  {
   "cell_type": "markdown",
   "id": "reported-numbers",
   "metadata": {},
   "source": [
    "**4)** Affichez maintenant les données app et dec sur un même graphique, toujours en fonction des variables Courage et Kindness. Veuillez à bien différencier les points App des points Dec en légende."
   ]
  },
  {
   "cell_type": "code",
   "execution_count": null,
   "id": "native-homeless",
   "metadata": {},
   "outputs": [],
   "source": [
    "# A compléter\n",
    "# Affichage des données app et dec sur un même graphique en fonction des variables Courage et Kindness\n",
    "..."
   ]
  },
  {
   "cell_type": "markdown",
   "id": "attached-organizer",
   "metadata": {},
   "source": [
    "**Les données d'apprentissage et de décision ont-elles les mêmes répartitions ?**"
   ]
  },
  {
   "cell_type": "markdown",
   "id": "duplicate-valve",
   "metadata": {},
   "source": [
    "**_Réponse :_**"
   ]
  },
  {
   "cell_type": "markdown",
   "id": "conscious-hawaii",
   "metadata": {},
   "source": [
    "**5)** Utilisez un classifieur par distance minimum euclidienne et un classifieur par distance de Mahalanobis minimum (TP2), entrainez les sur vos données et évaluez-les, et stockez les matrices de confusion calculées dans un objet : on s'en servira pour la suite. Vous utiliserez uniquement les variables Courage et Kindness. Complétez ensuite le tableau avec vos résultats obtenus."
   ]
  },
  {
   "cell_type": "code",
   "execution_count": 1,
   "id": "understanding-peeing",
   "metadata": {},
   "outputs": [
    {
     "data": {
      "text/plain": [
       "Ellipsis"
      ]
     },
     "execution_count": 1,
     "metadata": {},
     "output_type": "execute_result"
    }
   ],
   "source": [
    "# A compléter\n",
    "# Création des classifieurs distance minimum euclidiennes et Mahalanobis\n",
    "...\n",
    "# Apprentissage des classifieurs sur les données d'apprentissages (Courage et Kindness)\n",
    "...\n",
    "# Evaluation des classifieurs sur les données d'évaluation\n",
    "...\n",
    "# Récupération des matrices de confusion dans un objet commun\n",
    "..."
   ]
  },
  {
   "cell_type": "markdown",
   "id": "responsible-break",
   "metadata": {},
   "source": [
    "| Classifieur | Top1 | Top2 |\n",
    "|:-----------:|:----:|:----:|\n",
    "| Distance Euclidienne minimum | | |\n",
    "| Distance Mahalanobis minimum | | |"
   ]
  },
  {
   "cell_type": "markdown",
   "id": "viral-spyware",
   "metadata": {},
   "source": [
    "**6)** Utilisez maintenant 2 classifieurs de Parzen (un avec noyau uniforme, et un avec noyau gaussien). Commencez par déterminer le paramètre h optimal via une cross validation à 3 dossiers. Ensuite, avec ces 2 paramètres trouvés, créez une instance pour chaque model avec le paramètre optimal correspondant, entraînez vos classifieurs et évaluez-les ensuite sur les données d'évaluation. Comme précédemment, récupérez les matrices de confusion, et complétez le tableau suivant"
   ]
  },
  {
   "cell_type": "code",
   "execution_count": 1,
   "id": "sufficient-inquiry",
   "metadata": {},
   "outputs": [
    {
     "data": {
      "text/plain": [
       "Ellipsis"
      ]
     },
     "execution_count": 1,
     "metadata": {},
     "output_type": "execute_result"
    }
   ],
   "source": [
    "# A compléter\n",
    "# Cross validation à 3 dossiers pour déterminer les paramètres h optimaux pour un classifieur de Parzen avec noyau uniforme et noyau gaussien\n",
    "...\n",
    "# Création des classifieurs de Parzen avec noyau uniforme et noyau gaussien\n",
    "...\n",
    "# Apprentissage des classifieurs sur les données d'apprentissages (Courage et Kindness)\n",
    "...\n",
    "# Evaluation des classifieurs sur les données d'évaluation\n",
    "...\n",
    "# Récupération des matrices de confusion dans un objet commun\n",
    "..."
   ]
  },
  {
   "cell_type": "markdown",
   "id": "rational-plant",
   "metadata": {},
   "source": [
    "| Classifieur | h optimal | Top1 | Top2 |\n",
    "|:-----------:|:--------:|:----:|:----:|\n",
    "| Parzen avec noyau uniforme | | | |\n",
    "| Parzen avec noyau gaussien | | | |"
   ]
  },
  {
   "cell_type": "markdown",
   "id": "significant-homework",
   "metadata": {},
   "source": [
    "**7)** Même principe, mais avec 2 classifieurs KPPV (avec vote majoritaire et vote unanime). Utilisez une cross validation à 3 dossiers pour trouver le k optimal, créez les classifieurs, effectuez l'apprentissage sur vos données d'entraînement puis évaluez-les sur les données d'évaluations. Récupérez ensuite les matrices de confusion et complétez le tableau suivant."
   ]
  },
  {
   "cell_type": "code",
   "execution_count": 1,
   "id": "soviet-measurement",
   "metadata": {},
   "outputs": [
    {
     "data": {
      "text/plain": [
       "Ellipsis"
      ]
     },
     "execution_count": 1,
     "metadata": {},
     "output_type": "execute_result"
    }
   ],
   "source": [
    "# A compléter\n",
    "# Cross validation à 3 dossiers pour déterminer les paramètres k optimaux pour un classifieur KPPV avec vote majoritaire et vote unanime\n",
    "...\n",
    "# Création des classifieurs KPPV avec vote majoritaire et vote unanime\n",
    "...\n",
    "# Apprentissage des classifieurs sur les données d'apprentissages (Courage et Kindness)\n",
    "...\n",
    "# Evaluation des classifieurs sur les données d'évaluation\n",
    "...\n",
    "# Récupération des matrices de confusion dans un objet commun\n",
    "..."
   ]
  },
  {
   "cell_type": "markdown",
   "id": "cloudy-africa",
   "metadata": {},
   "source": [
    "| Classifieur | k optimal | Top1 | Top2 |\n",
    "|:-----------:|:--------:|:----:|:----:|\n",
    "| KPPV avec vote majoritaire | | | |\n",
    "| KPPV avec vote unanime | | | |"
   ]
  },
  {
   "cell_type": "markdown",
   "id": "complete-binding",
   "metadata": {},
   "source": [
    "**Les résultats obtenus pour chacun des classifieurs sont-ils satisfaisants ? Il y'a-t-il un classifieur à privilégier par rapport aux autres ?**"
   ]
  },
  {
   "cell_type": "markdown",
   "id": "auburn-dakota",
   "metadata": {},
   "source": [
    "**_Réponse :_**"
   ]
  },
  {
   "cell_type": "markdown",
   "id": "strategic-bridges",
   "metadata": {},
   "source": [
    "**8)** Visualisez maintenant toutes les matrices de confusion obtenues avec chaque classifieur."
   ]
  },
  {
   "cell_type": "code",
   "execution_count": 2,
   "id": "caring-decline",
   "metadata": {},
   "outputs": [],
   "source": [
    "# A compléter\n",
    "# Visualisation de toutes les matrices de confusion obtenues\n",
    "..."
   ]
  },
  {
   "cell_type": "markdown",
   "id": "packed-bunch",
   "metadata": {},
   "source": [
    "**Que remarquez-vous sur chacune des matrices ? Qu'est-ce que cela veut dire concrètement ? En conclure sur les problèmes de prédiction des modèles sur ce jeu de données**"
   ]
  },
  {
   "cell_type": "markdown",
   "id": "disturbed-invention",
   "metadata": {},
   "source": [
    "**_Réponse :_**"
   ]
  },
  {
   "cell_type": "markdown",
   "id": "german-tourist",
   "metadata": {},
   "source": [
    "**A l'aide des échantillons affichés graphiquement à la question 3, quelle variable parmi celles utilisées pose un soucis ? Et à l'inverse, quelle variable paraît utile pour la classification ?**"
   ]
  },
  {
   "cell_type": "markdown",
   "id": "junior-dairy",
   "metadata": {},
   "source": [
    "**_Réponse :_**"
   ]
  },
  {
   "cell_type": "markdown",
   "id": "compact-paris",
   "metadata": {},
   "source": [
    "---\n",
    "\n",
    "## Partie 2 : 10 points pour Gryffondor !"
   ]
  },
  {
   "cell_type": "markdown",
   "id": "transsexual-clear",
   "metadata": {},
   "source": [
    "Normalement, à ce stade du TP, vous avez identifié parmi les 2 variables précédentes une qui paraît utile : soit *Courage*, soit *Kindness*. Si ce n'est pas le cas... c'est pas normal... et la suite va être compliqué ^^"
   ]
  },
  {
   "cell_type": "markdown",
   "id": "rural-dollar",
   "metadata": {},
   "source": [
    "**1)** L'objectif ici va être de trouver une 2ème variable pour notre problème de classification. Affichez les échantillons d'apprentissage sous forme de points 2D, en fonction des variables du jeu d'apprentissage :\n",
    "- en X, la variable identifiée précédemment ;\n",
    "- en Y, l'une des 9 autres variables disponibles.\n",
    "\n",
    "Normalement, vous devriez obtenir 9 graphiques."
   ]
  },
  {
   "cell_type": "code",
   "execution_count": 2,
   "id": "naked-schema",
   "metadata": {},
   "outputs": [],
   "source": [
    "# A compléter\n",
    "# Affichage des 9 graphiques\n",
    "..."
   ]
  },
  {
   "cell_type": "markdown",
   "id": "electric-chinese",
   "metadata": {},
   "source": [
    "**Parmi les 9 graphiques affichés, est-ce qu'un d'entre eux montrent une répartition des échantillons par classe intéressante ? (C'est à dire une répartition où un classifieur pourrait s'en sortir). Pour quelles variables ?**"
   ]
  },
  {
   "cell_type": "markdown",
   "id": "spanish-english",
   "metadata": {},
   "source": [
    "**_Réponse :_**"
   ]
  },
  {
   "cell_type": "markdown",
   "id": "behind-shark",
   "metadata": {},
   "source": [
    "**2)** Affichez les échantillons de test sous forme de points 2D avec ces 2 variables en X et Y."
   ]
  },
  {
   "cell_type": "code",
   "execution_count": null,
   "id": "metric-elder",
   "metadata": {},
   "outputs": [],
   "source": [
    "# A compléter\n",
    "# Affichage des données de test avec les 2 variables intéressantes\n",
    "..."
   ]
  },
  {
   "cell_type": "markdown",
   "id": "figured-prophet",
   "metadata": {},
   "source": [
    "**La répartition de test suit-elle celle d'apprentissage ?**"
   ]
  },
  {
   "cell_type": "markdown",
   "id": "growing-estimate",
   "metadata": {},
   "source": [
    "**_Réponse :_**"
   ]
  },
  {
   "cell_type": "markdown",
   "id": "isolated-chassis",
   "metadata": {},
   "source": [
    "**3)** Il est l'heure de confirmer l'intuition ! \n",
    "\n",
    "Testez TOUS vos classifieurs, de la même manière que dans la partie 1, mais avec les données de ces 2 variables. Pour les classifieurs Parzen et KPPV, vous effectuerez une cross validation pour trouver les h/k optimaux. Complétez ensuite le tableau avec les résultats obtenus."
   ]
  },
  {
   "cell_type": "code",
   "execution_count": 1,
   "id": "human-vinyl",
   "metadata": {},
   "outputs": [
    {
     "data": {
      "text/plain": [
       "Ellipsis"
      ]
     },
     "execution_count": 1,
     "metadata": {},
     "output_type": "execute_result"
    }
   ],
   "source": [
    "# DISTANCE EUCLIDIENNE ET DE MAHALANOBIS\n",
    "\n",
    "# A compléter\n",
    "# Création des classifieurs distance minimum euclidiennes et Mahalanobis\n",
    "...\n",
    "# Apprentissage des classifieurs sur les données d'apprentissages (Courage et Kindness)\n",
    "...\n",
    "# Evaluation des classifieurs sur les données d'évaluation\n",
    "..."
   ]
  },
  {
   "cell_type": "code",
   "execution_count": 1,
   "id": "quiet-course",
   "metadata": {},
   "outputs": [
    {
     "data": {
      "text/plain": [
       "Ellipsis"
      ]
     },
     "execution_count": 1,
     "metadata": {},
     "output_type": "execute_result"
    }
   ],
   "source": [
    "# PARZEN\n",
    "\n",
    "# A compléter\n",
    "# Cross validation à 3 dossiers pour déterminer les paramètres h optimaux pour un classifieur de Parzen avec noyau uniforme et noyau gaussien\n",
    "...\n",
    "# Création des classifieurs de Parzen avec noyau uniforme et noyau gaussien\n",
    "...\n",
    "# Apprentissage des classifieurs sur les données d'apprentissages (Courage et Kindness)\n",
    "...\n",
    "# Evaluation des classifieurs sur les données d'évaluation\n",
    "..."
   ]
  },
  {
   "cell_type": "code",
   "execution_count": 1,
   "id": "rational-imaging",
   "metadata": {},
   "outputs": [
    {
     "data": {
      "text/plain": [
       "Ellipsis"
      ]
     },
     "execution_count": 1,
     "metadata": {},
     "output_type": "execute_result"
    }
   ],
   "source": [
    "# KPPV\n",
    "\n",
    "# A compléter\n",
    "# Cross validation à 3 dossiers pour déterminer les paramètres k optimaux pour un classifieur KPPV avec vote majoritaire et vote unanime\n",
    "...\n",
    "# Création des classifieurs KPPV avec vote majoritaire et vote unanime\n",
    "...\n",
    "# Apprentissage des classifieurs sur les données d'apprentissages (Courage et Kindness)\n",
    "...\n",
    "# Evaluation des classifieurs sur les données d'évaluation\n",
    "..."
   ]
  },
  {
   "cell_type": "markdown",
   "id": "human-waterproof",
   "metadata": {},
   "source": [
    "| Classifieur | k/h optimal | Top1 | Top2 |\n",
    "|:-----------:|:-----------:|:----:|:----:|\n",
    "| Distance Euclidienne minimum | / | | |\n",
    "| Distance de Mahalanobis minimum | / | | |\n",
    "| Parzen avec noyau uniforme | | | |\n",
    "| Parzen avec noyau gaussien | | | |\n",
    "| KPPV avec vote majoritaire | | | |\n",
    "| KPPV avec vote unanime | | | |"
   ]
  },
  {
   "cell_type": "markdown",
   "id": "fleet-copyright",
   "metadata": {},
   "source": [
    "**Les résultats obtenus sont-ils plus satisfaisants ? Quel classifieur opteriez-vous pour remplacer le Choixpeau ?**"
   ]
  },
  {
   "cell_type": "markdown",
   "id": "greenhouse-principal",
   "metadata": {},
   "source": [
    "**4)** Nous avons une nouvelle étudiante qui vient d'attérir à Poudlard, et voici son résultat de test de personnalité :\n",
    "\n",
    "| ID | Courage | Kindness | Lucidity | Intelligence | Creativity | Loyalty | Cold Blood | Sincerity | Ambition | Wisdom |\n",
    "|:--:|:-------:|:--------:|:--------:|:------------:|:----------:|:-------:|:----------:|:---------:|:--------:|:------:|\n",
    "| XX | 3.2 | 9.2 | 8.4 | 2.7 | 9.1 | 3.2 | 4.1 | 5.9 | 6.9 | 1.4 | \n",
    "\n",
    "Utilisez votre meilleur classifieur, et attribuez-lui sa nouvelle maison !"
   ]
  },
  {
   "cell_type": "code",
   "execution_count": null,
   "id": "absolute-ethics",
   "metadata": {},
   "outputs": [],
   "source": [
    "# A compléter\n",
    "# Notes de la nouvelle étudiante\n",
    "notes_etudiante = {'Courage':3.2,\n",
    "                  'Kindness':9.2,\n",
    "                  'Lucidity':8.4,\n",
    "                  'Intelligence':2.7,\n",
    "                  'Creativity':9.1,\n",
    "                  'Loyalty':3.2,\n",
    "                  'Cold blood':4.1,\n",
    "                  'Sincerity':5.9,\n",
    "                  'Ambition':6.9,\n",
    "                  'Wisdom':1.4}\n",
    "\n",
    "# Prédiction de la maison de la nouvelle étudiante\n",
    "...\n"
   ]
  },
  {
   "cell_type": "markdown",
   "id": "periodic-league",
   "metadata": {},
   "source": [
    "*Petit bonus : modifiez la cellule markdown ci-dessous pour afficher le blason de la maison obtenue. Ca ne sert à rien, mais c'est cool...*"
   ]
  },
  {
   "cell_type": "code",
   "execution_count": null,
   "id": "alike-scientist",
   "metadata": {},
   "outputs": [],
   "source": [
    "from IPython.display import Markdown as md\n",
    "\n",
    "HOUSE = ... # La maison de la nouvelle étudiante\n",
    "\n",
    "md('<img src=\"Hogwart houses/{}_Crest.png\" width=\"400\">'.format(HOUSE))"
   ]
  }
 ],
 "metadata": {
  "kernelspec": {
   "display_name": "Python 3",
   "language": "python",
   "name": "python3"
  },
  "language_info": {
   "codemirror_mode": {
    "name": "ipython",
    "version": 3
   },
   "file_extension": ".py",
   "mimetype": "text/x-python",
   "name": "python",
   "nbconvert_exporter": "python",
   "pygments_lexer": "ipython3",
   "version": "3.7.10"
  }
 },
 "nbformat": 4,
 "nbformat_minor": 5
}
