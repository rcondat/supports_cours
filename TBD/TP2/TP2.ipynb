{
 "cells": [
  {
   "cell_type": "markdown",
   "metadata": {},
   "source": [
    "# TP2 : Estimation de gaussiennes"
   ]
  },
  {
   "cell_type": "markdown",
   "metadata": {},
   "source": [
    "Oui !!! Vous l'attendiez enfin ! Vous allez développer votre premier modèle classifieur ! Une date marquante dans votre vie à graver dans la roche !\n",
    "\n",
    "Au programme de cet événement, deux classifieurs :\n",
    "- un classifieur par distance euclidienne minimum\n",
    "- un classifieur par distance Mahalanobis minimum"
   ]
  },
  {
   "cell_type": "markdown",
   "metadata": {},
   "source": [
    "Pour commencer, vous avez déjà implémenter des fonctions utiles lors du 1er TP (lecture des données, séparation des données par classe, visualisation des données, classe Modèle, etc.). Créez un fichier python (attention, pas un Notebook !) contenant toutes les fonctions mentionnées. A l'avenir, vous aurez juste à importer les fonctions en début de Notebook, au lieu de tout réecrire :D"
   ]
  },
  {
   "cell_type": "code",
   "execution_count": null,
   "metadata": {},
   "outputs": [],
   "source": [
    "import pandas as pd\n",
    "import numpy as np\n",
    "from matplotlib import pyplot as plt\n",
    "\n",
    "# A compléter\n",
    "# Import des fonctions utiles de votre fichier python\n",
    "..."
   ]
  },
  {
   "cell_type": "markdown",
   "metadata": {},
   "source": [
    "---\n",
    "\n",
    "## Partie 1 : Classifieur par distance euclidienne minimum"
   ]
  },
  {
   "cell_type": "markdown",
   "metadata": {},
   "source": [
    "Un classifieur par distance euclidienne minimum est un classifieur qui attribuera à un vecteur de caractéristiques x, la classe i pour laquelle la valeur de $(x-\\mu_{i})^{T}(x -\\mu_{i})$ est minimum (où $\\mu_{i}$ est le vecteur contenant la moyenne de chaque composante des vecteurs de la classe i). Maximiser la probabilité d’appartenance revient donc à minimiser cette distance."
   ]
  },
  {
   "cell_type": "markdown",
   "metadata": {},
   "source": [
    "Une petite question : le classifieur par distance euclidienne minimum est-il paramétrique ou non-paramétrique ? Pourquoi ?"
   ]
  },
  {
   "cell_type": "markdown",
   "metadata": {},
   "source": [
    "**_Réponse :_**"
   ]
  },
  {
   "cell_type": "markdown",
   "metadata": {},
   "source": [
    "**1)** Tout d'abord, comme vous l'avez pu voir dans la formule, il faut utiliser un vecteur transposé. Ecrivez donc une fonction faite maison pour transposer une matrice 2D ou 1 vecteur 1D"
   ]
  },
  {
   "cell_type": "code",
   "execution_count": null,
   "metadata": {},
   "outputs": [],
   "source": [
    "# A compléter\n",
    "# Implémentation de la fonction de transposition\n",
    "...\n",
    "\n",
    "# Test de votre fonction avec une matrice\n",
    "A = np.random.randint(5,size=(10,10))\n",
    "B = ...\n",
    "assert np.all(np.transpose(A)==B),\"Nope, c'est pas bon...\"\n",
    "\n",
    "# Test de votre fonction avec un vecteur\n",
    "A = np.random.randint(5,size=(10))\n",
    "B = ...\n",
    "assert np.all(np.transpose(A)==B), \"Toujours pas...\""
   ]
  },
  {
   "cell_type": "markdown",
   "metadata": {},
   "source": [
    "**2)** On peut maintenant créer notre classifieur ! Créez la classe de classifieur par distance euclidienne minimum via héritage de votre classe Modèle du TP1 et redéfinissez ses fonctions locales.\n",
    "\n",
    "*_Note_ :* Au minimum, vous devriez redéfinir au moins 3 fonctions : la fonction constructeur (pour appeler le constructeur de la classe parent et définir les variables locales), la fonction d'apprentissage du modèle et la fonction de prédiction du modèle. Evidemment, vous pouvez créer de nouvelles fonctions locales dans votre nouvelle classe, c'est vous qui décidez ;)"
   ]
  },
  {
   "cell_type": "code",
   "execution_count": null,
   "metadata": {},
   "outputs": [],
   "source": [
    "# A compléter\n",
    "# Création de la classe de classifieur par distance euclidenne minimum\n",
    "..."
   ]
  },
  {
   "cell_type": "markdown",
   "metadata": {},
   "source": [
    "**3)** Le classifieur développé, il est temps de le tester ! \n",
    "\n",
    "Chargez les données app et dec tp1 et stockez les dans des tableaux (ou listes, ou dictionnaires, en fonction de ce que vous avez opté lors du TP1."
   ]
  },
  {
   "cell_type": "code",
   "execution_count": null,
   "metadata": {},
   "outputs": [],
   "source": [
    "# A compléter\n",
    "# Chargement des données tp1 app et dec\n",
    "..."
   ]
  },
  {
   "cell_type": "markdown",
   "metadata": {},
   "source": [
    "**4)** Créez une instance de modèle classifieur par distance minimum maintenant"
   ]
  },
  {
   "cell_type": "code",
   "execution_count": null,
   "metadata": {},
   "outputs": [],
   "source": [
    "# A compléter\n",
    "# Création d'une instance de modèle classifieur\n",
    "..."
   ]
  },
  {
   "cell_type": "markdown",
   "metadata": {},
   "source": [
    "**5)** Effectuez l'apprentissage de votre classifieur avec les données d'apprentissages précedemment chargées"
   ]
  },
  {
   "cell_type": "code",
   "execution_count": null,
   "metadata": {},
   "outputs": [],
   "source": [
    "# A compléter\n",
    "# Apprentissage du classifieur avec les données d'apprentissage\n",
    "..."
   ]
  },
  {
   "cell_type": "markdown",
   "metadata": {},
   "source": [
    "**6)** Evaluez maintenant votre modèle avec les données d'évaluation précedemment chargées, et affichez les taux de bonne classification en Top1 et Top2, ainsi que la matrice de confusion"
   ]
  },
  {
   "cell_type": "code",
   "execution_count": null,
   "metadata": {},
   "outputs": [],
   "source": [
    "# A compléter\n",
    "# Evaluation du classifieur avec les données d'évaluation\n",
    "..."
   ]
  },
  {
   "cell_type": "markdown",
   "metadata": {},
   "source": [
    "**7)** Alors ? Quels sont les résultats obtenus ? Sont-ils satisfaisants ?"
   ]
  },
  {
   "cell_type": "markdown",
   "metadata": {},
   "source": [
    "**_Réponse :_** "
   ]
  },
  {
   "cell_type": "markdown",
   "metadata": {},
   "source": [
    "**8)** Effectuez les mêmes opérations avec les bases de données tp2 et tp3, affichez et analysez les résultats obtenus."
   ]
  },
  {
   "cell_type": "code",
   "execution_count": null,
   "metadata": {},
   "outputs": [],
   "source": [
    "# A compléter\n",
    "# Chargement des données, création, apprentissage et évaluation des modèles pour les BD tp2 et tp3\n",
    "..."
   ]
  },
  {
   "cell_type": "markdown",
   "metadata": {},
   "source": [
    "**_Réponse :_**"
   ]
  },
  {
   "cell_type": "markdown",
   "metadata": {},
   "source": [
    "---\n",
    "\n",
    "## Partie 2 : Classifieur par distance de Mahalanobis minimum"
   ]
  },
  {
   "cell_type": "markdown",
   "metadata": {},
   "source": [
    "Maintenant, un nouveau classifieur : le classifieur par distance de Mahalanobis minimum. Il est proche de celui développé précedemment, donc il ne devrait pas être trop dûr à développer :D\n",
    "\n",
    "Ce classifieur attribue à un vecteur de caractéristiques x, la classe i pour laquelle la valeur de $(x-\\mu_{i})^{T}\\sum^{(-1)}(x -\\mu_{i})$ est minimum, avec $\\mu_{i}$ le vecteur contenant la moyenne de chaque composante des vecteurs de la classe i, et $\\sum$ la matrice de covariance des composantes des vecteurs de la classe i. Tout comme le classifieur par distance euclidienne miminum, maximiser la probabilité d’appartenance revient à minimiser la distance."
   ]
  },
  {
   "cell_type": "markdown",
   "metadata": {},
   "source": [
    "**1)** Avant de se précipiter sur le classifieur, développez une fonction pour calculer la matrice de covariance entre 2 vecteurs"
   ]
  },
  {
   "cell_type": "code",
   "execution_count": null,
   "metadata": {},
   "outputs": [],
   "source": [
    "# A compléter\n",
    "# Fonction de calcul de la matrice de covariance entre 2 vecteurs\n",
    "...\n",
    "\n",
    "# Test de votre fonction\n",
    "\n",
    "A = np.random.randint(5,size=(10))\n",
    "B = np.random.randint(5,size=(10))\n",
    "\n",
    "AB_cov = ...\n",
    "assert np.all(np.abs(AB_cov-np.cov(A,B))<1e-4), \"Ah, c'est pas ça...\""
   ]
  },
  {
   "cell_type": "markdown",
   "metadata": {},
   "source": [
    "**2)** On va avoir également besoin d'une fonction pour inverser une matrice... Développez-là !\n",
    "\n",
    "*_Note :_* On se contentera d'une inversion d'une matrice de taille 2X2..."
   ]
  },
  {
   "cell_type": "code",
   "execution_count": null,
   "metadata": {},
   "outputs": [],
   "source": [
    "# A compléter\n",
    "# Fonction de calcul de l'inverse d'une matrice\n",
    "...\n",
    "\n",
    "# Test de votre fonction\n",
    "A = np.array([[1,2],[3,4]])\n",
    "inv_A = ...\n",
    "assert np.all(np.abs(np.linalg.inv(A)-inv_A)<1e-4), \"Ca marche pas...\""
   ]
  },
  {
   "cell_type": "markdown",
   "metadata": {},
   "source": [
    "**3)** Nous avons tous les outils en main ! Définissez votre nouvelle classe de classifieur par distance de Mahalanobis minimum"
   ]
  },
  {
   "cell_type": "code",
   "execution_count": null,
   "metadata": {},
   "outputs": [],
   "source": [
    "# A compléter\n",
    "# Définition de la classe de classifieur par distance de Mahalanobis minimum\n",
    "..."
   ]
  },
  {
   "cell_type": "markdown",
   "metadata": {},
   "source": [
    "**4)** Pour chaque base de données (tp1,tp2 et tp3), testez votre nouveau classifieur (apprentissage + évaluation) et affichez les métriques. Analysez vos résultats"
   ]
  },
  {
   "cell_type": "code",
   "execution_count": null,
   "metadata": {},
   "outputs": [],
   "source": [
    "# A compléter\n",
    "# Chargement des données, création, apprentissage et évaluation des modèles pour les BD tp1, tp2 et tp3\n",
    "..."
   ]
  },
  {
   "cell_type": "markdown",
   "metadata": {},
   "source": [
    "**_Réponse :_**"
   ]
  },
  {
   "cell_type": "markdown",
   "metadata": {},
   "source": [
    "**5)** Il est l'heure de comparer les 2 classifieurs développés. Regroupez les métriques Top1 et Top2 obtenues par les 2 classifieurs sur chaque base de données, placez-les dans un ou plusieurs tableaux récapitulatifs et affichez les (avec des labels en index et en colonne). Comparez les performances des classifieurs en dissociant l'analyse sur les 3 jeux de données."
   ]
  },
  {
   "cell_type": "code",
   "execution_count": null,
   "metadata": {},
   "outputs": [],
   "source": [
    "# A compléter\n",
    "# Création du tableau récapitulatif\n",
    "..."
   ]
  },
  {
   "cell_type": "markdown",
   "metadata": {},
   "source": [
    "**_Réponse :_**"
   ]
  },
  {
   "cell_type": "code",
   "execution_count": null,
   "metadata": {},
   "outputs": [],
   "source": []
  }
 ],
 "metadata": {
  "kernelspec": {
   "display_name": "Python 3",
   "language": "python",
   "name": "python3"
  },
  "language_info": {
   "codemirror_mode": {
    "name": "ipython",
    "version": 3
   },
   "file_extension": ".py",
   "mimetype": "text/x-python",
   "name": "python",
   "nbconvert_exporter": "python",
   "pygments_lexer": "ipython3",
   "version": "3.7.10"
  }
 },
 "nbformat": 4,
 "nbformat_minor": 4
}
