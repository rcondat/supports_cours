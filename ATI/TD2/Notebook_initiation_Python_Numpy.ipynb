{
 "cells": [
  {
   "cell_type": "markdown",
   "metadata": {},
   "source": [
    "# Opérations avec Python - Prise en main"
   ]
  },
  {
   "cell_type": "markdown",
   "metadata": {},
   "source": [
    "\n",
    "--- \n",
    "\n",
    "Ce notebook sert d'initiation sur Python et les différentes librairies utiles pour le traitement d'images.\n",
    "Dans le cadre des travaux pratiques de ce cours, nous allons principalement utiliser 3 librairies Python : \n",
    "- NumPy, pour le calcul mathématique et la manipulation de matrices ;\n",
    "- Matplotlib pour la visualisation graphique des données ;\n",
    "- OpenCV (cv2) pour la manipulation et le traitement d'images.\n",
    "\n",
    "Pour plus de détails sur Python, NumPy, Matplotlib et OpenCV, un grand nombre de ressources sont disponibles sur https://pythonprogramming.net/, y compris plusieurs séries de vidéos YouTube.\n",
    "\n",
    "La documentation complète de Python 3 et des librairies qui seront utilisées sont disponibles ici :\n",
    "- Python 3 : https://docs.python.org/fr/3/\n",
    "- NumPy : https://docs.scipy.org/doc/numpy-1.15.0/reference/index.html\n",
    "- Matplotlib : https://matplotlib.org/3.1.1/index.html\n",
    "- OpenCV : https://docs.opencv.org/4.1.1/index.html (bon courage !)"
   ]
  },
  {
   "cell_type": "markdown",
   "metadata": {},
   "source": [
    "## Ex. 0 : Démarrage\n",
    "\n",
    "Python est un langage très complet et utilisé dans de nombreux domaines, du développement Web à la robotique.\n",
    "\n",
    "Dans cette série de TP, nous l'utiliserons pour la vision informatique, le calcul mathématique et la science des données.\n",
    "\n",
    "Commencez par importer les librairies nécessaires."
   ]
  },
  {
   "cell_type": "code",
   "execution_count": 2,
   "metadata": {},
   "outputs": [],
   "source": [
    "# Affichage avec la bibliothèque graphique intégrée à Notebook\n",
    "%matplotlib inline\n",
    "\n",
    "# Librairies Matplotlib, NumPy et OpenCV\n",
    "import matplotlib.pyplot as plt\n",
    "import numpy as np\n",
    "import cv2 #OpenCV\n",
    "\n",
    "# Librairies supplémentaires pour certaines parties du TP\n",
    "from sklearn.cluster import MiniBatchKMeans"
   ]
  },
  {
   "cell_type": "markdown",
   "metadata": {},
   "source": [
    "Et définissez le chemin d'accès à la base d'images (utilisée ultérieurement)"
   ]
  },
  {
   "cell_type": "code",
   "execution_count": 3,
   "metadata": {},
   "outputs": [],
   "source": [
    "# A changer si le dossier ne se situe pas à cet endroit\n",
    "path_base = 'images_initiation/'"
   ]
  },
  {
   "cell_type": "markdown",
   "metadata": {},
   "source": [
    "## Ex. 1 : Python et NumPy en quelques lignes"
   ]
  },
  {
   "cell_type": "markdown",
   "metadata": {},
   "source": [
    "**1.**\n",
    "\n",
    "Calculez $\\log(\\cos(1-(1+1)/2))$ et $\\sqrt{-1}$ avec NumPy"
   ]
  },
  {
   "cell_type": "code",
   "execution_count": 86,
   "metadata": {},
   "outputs": [],
   "source": [
    "np.log(np.cos(1 - (1 + 1)/2 ))"
   ]
  },
  {
   "cell_type": "code",
   "execution_count": 87,
   "metadata": {},
   "outputs": [],
   "source": [
    "x = complex(-1,0)  # On crée le complexe -1 + 0j\n",
    "np.sqrt(x)"
   ]
  },
  {
   "cell_type": "markdown",
   "metadata": {},
   "source": [
    "---\n",
    "**2.**\n",
    "\n",
    "Utilisez sur 2 cellules différentes les fonctions print et whos."
   ]
  },
  {
   "cell_type": "code",
   "execution_count": 88,
   "metadata": {},
   "outputs": [],
   "source": [
    "help(print)"
   ]
  },
  {
   "cell_type": "code",
   "execution_count": 89,
   "metadata": {},
   "outputs": [],
   "source": [
    "whos"
   ]
  },
  {
   "cell_type": "markdown",
   "metadata": {},
   "source": [
    "Que font les instructions Python help et %whos ?"
   ]
  },
  {
   "cell_type": "markdown",
   "metadata": {},
   "source": [
    "**_REPONSE :_**"
   ]
  },
  {
   "cell_type": "markdown",
   "metadata": {},
   "source": [
    "---\n",
    "**3.**\n",
    "\n",
    "Créez une variable a à laquelle vous affecterez le résultat du calcul $2(3+ 2)$. Puis enlevez un à la valeur de la variable a."
   ]
  },
  {
   "cell_type": "code",
   "execution_count": 90,
   "metadata": {},
   "outputs": [],
   "source": [
    "a = 2*(3+2)\n",
    "a = a-1\n",
    "a"
   ]
  },
  {
   "cell_type": "markdown",
   "metadata": {},
   "source": [
    "Vérifiez quelles sont les variables connues du notebook (et que a est bien connue et quelle a le type attendu)"
   ]
  },
  {
   "cell_type": "code",
   "execution_count": 91,
   "metadata": {},
   "outputs": [],
   "source": [
    "#whos"
   ]
  },
  {
   "cell_type": "markdown",
   "metadata": {},
   "source": [
    "--- \n",
    "**4.**\n",
    "\n",
    "Pour créer une boucle déterministe, utilisez la fonction range pour faire varier un entier."
   ]
  },
  {
   "cell_type": "code",
   "execution_count": 93,
   "metadata": {},
   "outputs": [],
   "source": [
    "N = 5\n",
    "for i in range(N):\n",
    "    print(i)"
   ]
  },
  {
   "cell_type": "markdown",
   "metadata": {},
   "source": [
    "La foncion *range* avec le paramètre *_N_* fait varier un nombre *_i_* entre 0 et *_N-1_* (contrairement à Matlab, ou en Pascal, où on fait varier *_i_* entre 1 et *_N_*)."
   ]
  },
  {
   "cell_type": "markdown",
   "metadata": {},
   "source": [
    "De la même manière que précédemment, faites varier le nombre *i* entre 10 et 1 en sens decroissant avec un pas de 2."
   ]
  },
  {
   "cell_type": "code",
   "execution_count": 11,
   "metadata": {},
   "outputs": [],
   "source": [
    "#A compléter\n",
    "..."
   ]
  },
  {
   "cell_type": "markdown",
   "metadata": {},
   "source": [
    "---\n",
    "**5.**\n",
    "\n",
    "D'un point de vue numérique, une image est tout simplement une matrice. Le traitement d'image s'apparente donc à l'application d'algorithmes sur des matrices. "
   ]
  },
  {
   "cell_type": "markdown",
   "metadata": {},
   "source": [
    "Créez la matrice\n",
    "$A = \\left[\\begin{array}{lll}\n",
    "1 & 2 & 3\\\\\n",
    "4 & 5 & 6\\\\\n",
    "−1 & 0 & 1\\\\\n",
    "1 & 1 & 2\n",
    "\\end{array}\\right]$"
   ]
  },
  {
   "cell_type": "code",
   "execution_count": 94,
   "metadata": {},
   "outputs": [],
   "source": [
    "A = np.array([\n",
    "    [1, 2, 3],\n",
    "    [4, 5, 6],\n",
    "    [-1, 0, 1],\n",
    "    [1, 1, 2]\n",
    "])\n",
    "A"
   ]
  },
  {
   "cell_type": "markdown",
   "metadata": {},
   "source": [
    "Affichez la taille et les dimensions de la matrice A créée."
   ]
  },
  {
   "cell_type": "code",
   "execution_count": 95,
   "metadata": {},
   "outputs": [],
   "source": [
    "A.size"
   ]
  },
  {
   "cell_type": "code",
   "execution_count": 14,
   "metadata": {
    "collapsed": true
   },
   "outputs": [
    {
     "data": {
      "text/plain": [
       "(4, 3)"
      ]
     },
     "execution_count": 14,
     "metadata": {},
     "output_type": "execute_result"
    }
   ],
   "source": [
    "A.shape"
   ]
  },
  {
   "cell_type": "markdown",
   "metadata": {},
   "source": [
    "Affichez le nombre de dimensions de A."
   ]
  },
  {
   "cell_type": "code",
   "execution_count": 16,
   "metadata": {
    "collapsed": true
   },
   "outputs": [
    {
     "data": {
      "text/plain": [
       "2"
      ]
     },
     "execution_count": 16,
     "metadata": {},
     "output_type": "execute_result"
    }
   ],
   "source": [
    "A.ndim"
   ]
  },
  {
   "cell_type": "markdown",
   "metadata": {},
   "source": [
    "Affichez la deuxième colonne de A."
   ]
  },
  {
   "cell_type": "code",
   "execution_count": 17,
   "metadata": {
    "collapsed": true
   },
   "outputs": [
    {
     "data": {
      "text/plain": [
       "array([2, 5, 0, 1])"
      ]
     },
     "execution_count": 17,
     "metadata": {},
     "output_type": "execute_result"
    }
   ],
   "source": [
    "A[:,1]"
   ]
  },
  {
   "cell_type": "markdown",
   "metadata": {},
   "source": [
    "Créez un sous-tableau s composé des 2ème et 3ème lignes\n",
    "de A."
   ]
  },
  {
   "cell_type": "code",
   "execution_count": 18,
   "metadata": {
    "collapsed": true
   },
   "outputs": [
    {
     "data": {
      "text/plain": [
       "array([[ 4,  5,  6],\n",
       "       [-1,  0,  1]])"
      ]
     },
     "execution_count": 18,
     "metadata": {},
     "output_type": "execute_result"
    }
   ],
   "source": [
    "s = A[1:3, :]\n",
    "s"
   ]
  },
  {
   "cell_type": "markdown",
   "metadata": {},
   "source": [
    "---\n",
    "**6.**\n",
    "\n",
    "\n",
    "Ce petit exercice n°6 ne vous paraîtra pas être grand chose, mais croyez-moi, c'est un point méga important. Cela peut-être cause de nombreux bugs en traitement d'images, lorsqu'on applique des algorithmes. Donc, prenez des notes sur ce point-là, c'est mon petit conseil \n",
    "\n",
    "Affichez le type des élements de la matrice A."
   ]
  },
  {
   "cell_type": "code",
   "execution_count": 19,
   "metadata": {
    "collapsed": true
   },
   "outputs": [
    {
     "data": {
      "text/plain": [
       "dtype('int64')"
      ]
     },
     "execution_count": 19,
     "metadata": {},
     "output_type": "execute_result"
    }
   ],
   "source": [
    "A.dtype"
   ]
  },
  {
   "cell_type": "markdown",
   "metadata": {},
   "source": [
    "Il est important dans le cadre de la manipulation de matrices de bien connaître le type des éléments que nous manipulons :\n",
    "- Est-ce un naturel (uint), un entier (int), un réel (float), un booléen (bool), un complexe (complex) ?\n",
    "- En combien de bits l'élement est codé ? (8, 16, 32, 64)\n",
    "\n",
    "Vous trouverez ci-dessous les types de données disponibles sous NumPy."
   ]
  },
  {
   "cell_type": "markdown",
   "metadata": {},
   "source": [
    "| Data type\t    | Description |\n",
    "|---------------|-------------|\n",
    "| ``bool_``     | Boolean (True or False) stored as a byte |\n",
    "| ``int_``      | Default integer type (same as C ``long``; normally either ``int64`` or ``int32``)| \n",
    "| ``intc``      | Identical to C ``int`` (normally ``int32`` or ``int64``)| \n",
    "| ``intp``      | Integer used for indexing (same as C ``ssize_t``; normally either ``int32`` or ``int64``)| \n",
    "| ``int8``      | Byte (-128 to 127)| \n",
    "| ``int16``     | Integer (-32768 to 32767)|\n",
    "| ``int32``     | Integer (-2147483648 to 2147483647)|\n",
    "| ``int64``     | Integer (-9223372036854775808 to 9223372036854775807)| \n",
    "| ``uint8``     | Unsigned integer (0 to 255)| \n",
    "| ``uint16``    | Unsigned integer (0 to 65535)| \n",
    "| ``uint32``    | Unsigned integer (0 to 4294967295)| \n",
    "| ``uint64``    | Unsigned integer (0 to 18446744073709551615)| \n",
    "| ``float_``    | Shorthand for ``float64``.| \n",
    "| ``float16``   | Half precision float: sign bit, 5 bits exponent, 10 bits mantissa| \n",
    "| ``float32``   | Single precision float: sign bit, 8 bits exponent, 23 bits mantissa| \n",
    "| ``float64``   | Double precision float: sign bit, 11 bits exponent, 52 bits mantissa| \n",
    "| ``complex_``  | Shorthand for ``complex128``.| \n",
    "| ``complex64`` | Complex number, represented by two 32-bit floats| \n",
    "| ``complex128``| Complex number, represented by two 64-bit floats| "
   ]
  },
  {
   "cell_type": "markdown",
   "metadata": {},
   "source": [
    "Un exemple concret de mauvaise manipulation de matrice :"
   ]
  },
  {
   "cell_type": "code",
   "execution_count": 31,
   "metadata": {
    "collapsed": true
   },
   "outputs": [
    {
     "name": "stdout",
     "output_type": "stream",
     "text": [
      "B :\n",
      "[[255 255]\n",
      " [255 255]]\n",
      "\n",
      "C :\n",
      "[[255 255]\n",
      " [255 255]]\n",
      "\n"
     ]
    }
   ],
   "source": [
    "B = np.full((2,2), 255, dtype = np.uint16)\n",
    "C = np.full((2,2), 255, dtype = np.uint8)\n",
    "print(\"B :\\n{}\\n\".format(B))\n",
    "print(\"C :\\n{}\\n\".format(C))"
   ]
  },
  {
   "cell_type": "code",
   "execution_count": 40,
   "metadata": {
    "collapsed": true
   },
   "outputs": [
    {
     "name": "stdout",
     "output_type": "stream",
     "text": [
      "B+1 :\n",
      "[[256 256]\n",
      " [256 256]]\n",
      "\n"
     ]
    }
   ],
   "source": [
    "print(\"B+1 :\\n{}\\n\".format(B+1))"
   ]
  },
  {
   "cell_type": "code",
   "execution_count": 41,
   "metadata": {
    "collapsed": true
   },
   "outputs": [
    {
     "name": "stdout",
     "output_type": "stream",
     "text": [
      "B+1 :\n",
      "[[256 256]\n",
      " [256 256]] \n"
     ]
    }
   ],
   "source": [
    "print('B+1 :\\n{} '.format(B+1))"
   ]
  },
  {
   "cell_type": "code",
   "execution_count": 42,
   "metadata": {
    "collapsed": true
   },
   "outputs": [
    {
     "name": "stdout",
     "output_type": "stream",
     "text": [
      "C+1 :\n",
      "[[0 0]\n",
      " [0 0]]\n",
      " \n"
     ]
    }
   ],
   "source": [
    "print(\"C+1 :\\n{}\\n \".format(C+1))"
   ]
  },
  {
   "cell_type": "markdown",
   "metadata": {},
   "source": [
    "Pour quelle(s) raison(s) avons-nous obtenu ces résultats précédents ?"
   ]
  },
  {
   "cell_type": "markdown",
   "metadata": {},
   "source": [
    "**_REPONSE :_**"
   ]
  },
  {
   "cell_type": "markdown",
   "metadata": {},
   "source": [
    "---\n",
    "**7.**\n",
    "\n",
    "La multiplication de matrices sur Python peut se faire avec NumPy. Tout d'abord, créez 2 matrices A et B, de taille NxN."
   ]
  },
  {
   "cell_type": "code",
   "execution_count": 24,
   "metadata": {
    "collapsed": true
   },
   "outputs": [
    {
     "name": "stdout",
     "output_type": "stream",
     "text": [
      "A : \n",
      "[[9 6]\n",
      " [5 3]]\n",
      "B : \n",
      "[[6 0]\n",
      " [4 2]]\n"
     ]
    }
   ],
   "source": [
    "N = 2\n",
    "A = np.random.randint(0,10,(N,N))\n",
    "B = np.random.randint(0,10,(N,N))\n",
    "print('A : \\n{}'.format(A))\n",
    "print('B : \\n{}'.format(B))"
   ]
  },
  {
   "cell_type": "markdown",
   "metadata": {},
   "source": [
    "Que fait la fonction *multiply* de NumPy (équivalent à *A*B*) ?"
   ]
  },
  {
   "cell_type": "code",
   "execution_count": 25,
   "metadata": {
    "collapsed": true
   },
   "outputs": [
    {
     "data": {
      "text/plain": [
       "array([[54,  0],\n",
       "       [20,  6]])"
      ]
     },
     "execution_count": 25,
     "metadata": {},
     "output_type": "execute_result"
    }
   ],
   "source": [
    "np.multiply(A,B)"
   ]
  },
  {
   "cell_type": "markdown",
   "metadata": {},
   "source": [
    "Que fait la fonction *dot* de NumPy (équivalent à A@B) ?"
   ]
  },
  {
   "cell_type": "code",
   "execution_count": 26,
   "metadata": {
    "collapsed": true
   },
   "outputs": [
    {
     "data": {
      "text/plain": [
       "array([[78, 12],\n",
       "       [42,  6]])"
      ]
     },
     "execution_count": 26,
     "metadata": {},
     "output_type": "execute_result"
    }
   ],
   "source": [
    "np.dot(A,B)"
   ]
  },
  {
   "cell_type": "markdown",
   "metadata": {},
   "source": [
    "**_REPONSE :_**"
   ]
  },
  {
   "cell_type": "markdown",
   "metadata": {},
   "source": [
    "Calculez la transposée de A multipliée par B (avec numpy.dot)"
   ]
  },
  {
   "cell_type": "code",
   "execution_count": 27,
   "metadata": {
    "collapsed": true
   },
   "outputs": [
    {
     "data": {
      "text/plain": [
       "array([[74, 10],\n",
       "       [48,  6]])"
      ]
     },
     "execution_count": 27,
     "metadata": {},
     "output_type": "execute_result"
    }
   ],
   "source": [
    "np.dot(A.T,B)"
   ]
  },
  {
   "cell_type": "markdown",
   "metadata": {},
   "source": [
    "---\n",
    "**8.**\n",
    "\n",
    "\n",
    "Ce petit exercice est également important car on va énormément utiliser les masques dans cette matière. Cela va être difficle au début de les maîtriser parfaitement, mais si vous y arrivez, vous allez gagner beaucoup de temps (que ce soit dans l'écriture des codes comme dans les temps d'exécution). Cela permet d'éviter de faire des boucles, et des boucles de boucles, voire également des boucles de boucles de boucles de boucles (déjà fait, pas terrible).\n",
    "\n",
    "\n",
    "Créez une matrice A de taille 5X5 comprenant des valeurs aléatoires entières entre 0 et 9."
   ]
  },
  {
   "cell_type": "code",
   "execution_count": 79,
   "metadata": {
    "collapsed": true
   },
   "outputs": [
    {
     "name": "stdout",
     "output_type": "stream",
     "text": [
      "A : \n",
      "[[6 0 9 5 8]\n",
      " [8 8 0 8 6]\n",
      " [9 8 1 1 4]\n",
      " [4 1 2 3 6]\n",
      " [3 5 3 7 5]]\n"
     ]
    }
   ],
   "source": [
    "A = np.random.randint(0,10,(5,5))\n",
    "print('A : \\n{}'.format(A))"
   ]
  },
  {
   "cell_type": "markdown",
   "metadata": {},
   "source": [
    "Nous allons maintenant créer un masque. Avant que vous me posiez la question, un masque est une matrice de booléen (0 ou 1), tout simplement. Créez un masque M de la même taille que A."
   ]
  },
  {
   "cell_type": "code",
   "execution_count": 85,
   "metadata": {
    "collapsed": true
   },
   "outputs": [
    {
     "name": "stdout",
     "output_type": "stream",
     "text": [
      "M : \n",
      "[[0 0 0 1 1]\n",
      " [0 0 0 1 0]\n",
      " [1 1 1 0 1]\n",
      " [1 0 1 1 0]\n",
      " [1 1 1 0 1]]\n"
     ]
    }
   ],
   "source": [
    "M = np.random.randint(0,2,(5,5))\n",
    "print('M : \\n{}'.format(M))\n"
   ]
  },
  {
   "cell_type": "markdown",
   "metadata": {},
   "source": [
    "Comme précisé précédemment, nous voulons un tableau de booléen. En rappel à l'exercice 6, vérifiez que le type de la matrice est adéquat. Si ce n'est pas le cas, utilisez la fonction astype pour avoir une matrice de booléen. Pour être sur que votre matrice est du bon type, vous devriez voir en l'affichant, non pas des 0 et 1, mais des False et True."
   ]
  },
  {
   "cell_type": "code",
   "execution_count": 81,
   "metadata": {
    "collapsed": true
   },
   "outputs": [
    {
     "data": {
      "text/plain": [
       "Ellipsis"
      ]
     },
     "execution_count": 81,
     "metadata": {},
     "output_type": "execute_result"
    }
   ],
   "source": [
    "# A compléter\n",
    "# Vérification du type de données de la matrice\n",
    "...\n",
    "# Changement du type de données et affichage de la matrice (si nécessaire)\n",
    "..."
   ]
  },
  {
   "cell_type": "markdown",
   "metadata": {},
   "source": [
    "Appliquez maintenant le masque sur la matrice via la commande suivante :"
   ]
  },
  {
   "cell_type": "code",
   "execution_count": 82,
   "metadata": {
    "collapsed": true
   },
   "outputs": [
    {
     "name": "stdout",
     "output_type": "stream",
     "text": [
      "A : \n",
      "[[6 0 9 5 8]\n",
      " [8 8 0 8 6]\n",
      " [9 8 1 1 4]\n",
      " [4 1 2 3 6]\n",
      " [3 5 3 7 5]]\n",
      "M : \n",
      "[[False  True False  True  True]\n",
      " [False  True False False False]\n",
      " [False False False False False]\n",
      " [ True  True  True False False]\n",
      " [False False False  True False]]\n",
      "B : \n",
      "[0 5 8 8 4 1 2 7]\n"
     ]
    }
   ],
   "source": [
    "B = A[M]\n",
    "print('A : \\n{}'.format(A))\n",
    "print('M : \\n{}'.format(M))\n",
    "print('B : \\n{}'.format(B))"
   ]
  },
  {
   "cell_type": "markdown",
   "metadata": {},
   "source": [
    "Que renvoit B (l'application du masque M sur la matrice A) ?"
   ]
  },
  {
   "cell_type": "markdown",
   "metadata": {},
   "source": [
    "**_REPONSE :_** "
   ]
  },
  {
   "cell_type": "markdown",
   "metadata": {},
   "source": [
    "Maintenant, nous allons voir plusieurs applications vachement utiles des masques. Tout d'abord, on va en créer de différentes manières."
   ]
  },
  {
   "cell_type": "markdown",
   "metadata": {},
   "source": [
    "Que renvoient les commandes suivantes ?"
   ]
  },
  {
   "cell_type": "code",
   "execution_count": null,
   "metadata": {},
   "outputs": [],
   "source": [
    "# Commande 1\n",
    "A<5"
   ]
  },
  {
   "cell_type": "code",
   "execution_count": null,
   "metadata": {},
   "outputs": [],
   "source": [
    "# Commande 2\n",
    "A == 2"
   ]
  },
  {
   "cell_type": "code",
   "execution_count": null,
   "metadata": {},
   "outputs": [],
   "source": [
    "# Commande 3\n",
    "np.logical_and(A>4,A<7)"
   ]
  },
  {
   "cell_type": "code",
   "execution_count": null,
   "metadata": {},
   "outputs": [],
   "source": [
    "# Commande 4\n",
    "np.logical_xor(A>4,A<6)"
   ]
  },
  {
   "cell_type": "markdown",
   "metadata": {},
   "source": [
    "**_REPONSE :_**"
   ]
  },
  {
   "cell_type": "markdown",
   "metadata": {},
   "source": [
    "Pour finir avec cet exercice, nous allons voir plusieurs applications possibles des masques.\n",
    "\n",
    "Que renvoient les commandes suivantes ?"
   ]
  },
  {
   "cell_type": "code",
   "execution_count": null,
   "metadata": {},
   "outputs": [],
   "source": [
    "# Commande 1\n",
    "B = A.copy()\n",
    "B[A<5] = 0\n",
    "print('B :\\n{}'.format(B))"
   ]
  },
  {
   "cell_type": "code",
   "execution_count": null,
   "metadata": {},
   "outputs": [],
   "source": [
    "#Commande 2\n",
    "C = A.copy()\n",
    "C[A>7]*=2\n",
    "print('C :\\n{}'.format(C))"
   ]
  },
  {
   "cell_type": "code",
   "execution_count": null,
   "metadata": {},
   "outputs": [],
   "source": [
    "#Commande 3 \n",
    "D = A.copy()\n",
    "D[(A%2).astype(bool)]-=1\n",
    "print('D :\\n{}'.format(D))"
   ]
  },
  {
   "cell_type": "markdown",
   "metadata": {},
   "source": [
    "**_REPONSE :_** "
   ]
  },
  {
   "cell_type": "markdown",
   "metadata": {},
   "source": [
    "---\n",
    "**9.**\n",
    "\n",
    "Pour gérer des fichiers, on utilisera la bibliothèque os:"
   ]
  },
  {
   "cell_type": "code",
   "execution_count": null,
   "metadata": {},
   "outputs": [],
   "source": [
    "import os\n",
    "os.path.abspath(os.curdir)"
   ]
  },
  {
   "cell_type": "code",
   "execution_count": null,
   "metadata": {},
   "outputs": [],
   "source": [
    "os.listdir()"
   ]
  }
 ],
 "metadata": {
  "kernelspec": {
   "display_name": "Python 3",
   "language": "python",
   "name": "python3"
  },
  "language_info": {
   "codemirror_mode": {
    "name": "ipython",
    "version": 3
   },
   "file_extension": ".py",
   "mimetype": "text/x-python",
   "name": "python",
   "nbconvert_exporter": "python",
   "pygments_lexer": "ipython3",
   "version": "3.8.8"
  }
 },
 "nbformat": 4,
 "nbformat_minor": 4
}
