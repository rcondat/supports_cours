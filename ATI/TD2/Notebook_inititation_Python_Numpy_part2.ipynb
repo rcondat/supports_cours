{
 "cells": [
  {
   "cell_type": "markdown",
   "metadata": {},
   "source": [
    "# Opérations sur des images avec Python - Partie 2"
   ]
  },
  {
   "cell_type": "code",
   "execution_count": 1,
   "metadata": {},
   "outputs": [],
   "source": [
    "%matplotlib inline\n",
    "\n",
    "# Librairies Matplotlib, NumPy et OpenCV\n",
    "import matplotlib.pyplot as plt\n",
    "import numpy as np\n",
    "import cv2 #OpenCV\n",
    "\n",
    "# Librairies supplémentaires pour certaines parties du TP\n",
    "from sklearn.cluster import MiniBatchKMeans"
   ]
  },
  {
   "cell_type": "markdown",
   "metadata": {},
   "source": [
    "Et définissez le chemin d'accès à la base d'images (utilisée ultérieurement)"
   ]
  },
  {
   "cell_type": "code",
   "execution_count": null,
   "metadata": {},
   "outputs": [],
   "source": [
    "# Chemin de votre base d'images\n",
    "path_base = 'images_initiation/'"
   ]
  },
  {
   "cell_type": "markdown",
   "metadata": {},
   "source": [
    "## Ex. 1 : Lecture et visualisation des images avec OpenCV"
   ]
  },
  {
   "cell_type": "markdown",
   "metadata": {},
   "source": [
    "OpenCV est capable de lire et de décoder les fichiers images BMP, JPEG, PNG, WEBP, PBM, PGM, PPM, SR, RAS et TIFF. Comme expliqué précédemment, une image est représentée sous forme d'une matrice. Avant de traiter une image avec OpenCV, il faut la lire et décoder son format afin de la transformer en une matrice de valeurs."
   ]
  },
  {
   "cell_type": "markdown",
   "metadata": {},
   "source": [
    "**1.**\n",
    "\n",
    "Lisez l'image *jo_gray.png*, dans le dossier *base_images*, et stockez-la dans la variable *img*."
   ]
  },
  {
   "cell_type": "code",
   "execution_count": null,
   "metadata": {},
   "outputs": [],
   "source": [
    "img = cv2.imread(path_base+'jo_gray.png',-1) \n",
    "# Le 2ème argument désigne le type de couleur de l'image \n",
    "#   0 pour la charger en niveaux de gris\n",
    "#   1 pour la charger en couleur\n",
    "#   -1 pour la charger telle qu'elle est"
   ]
  },
  {
   "cell_type": "markdown",
   "metadata": {},
   "source": [
    "Affichez l'image."
   ]
  },
  {
   "cell_type": "code",
   "execution_count": null,
   "metadata": {},
   "outputs": [],
   "source": [
    "plt.imshow(img,'gray')"
   ]
  },
  {
   "cell_type": "markdown",
   "metadata": {},
   "source": [
    "Récuperez quelques infos utiles de notre image."
   ]
  },
  {
   "cell_type": "code",
   "execution_count": null,
   "metadata": {},
   "outputs": [],
   "source": [
    "rows,cols = img.shape\n",
    "img_dtype = img.dtype"
   ]
  },
  {
   "cell_type": "markdown",
   "metadata": {},
   "source": [
    "---\n",
    "**2.**\n",
    "\n",
    "Chaque élement de la matrice correspond donc à un pixel de l'image. Dans le cas de notre matrice *img* en niveaux de gris, chaque pixel à la position *(i,j)* contient donc une seule valeur **_I_** *(i,j)*, qui est le niveau de gris au point *(i,j)* (*i* : numéro de ligne, *j* : numéro de colonne). "
   ]
  },
  {
   "cell_type": "markdown",
   "metadata": {},
   "source": [
    "Récupérez le niveau de gris du pixel *(50,100)*."
   ]
  },
  {
   "cell_type": "code",
   "execution_count": null,
   "metadata": {},
   "outputs": [],
   "source": [
    "img[50,100]"
   ]
  },
  {
   "cell_type": "markdown",
   "metadata": {},
   "source": [
    "Récupérez le quart haut droit de l'image *lena_gray.tif* et affichez le résultat (image)."
   ]
  },
  {
   "cell_type": "code",
   "execution_count": null,
   "metadata": {},
   "outputs": [],
   "source": [
    "# A compléter\n",
    "# Récupérez le quart haut droit d'img\n",
    "...\n",
    "# Affichez le résultat\n",
    "..."
   ]
  },
  {
   "cell_type": "markdown",
   "metadata": {},
   "source": [
    "---\n",
    "**3.**\n",
    "\n",
    "Transposez la variable *img* avec la fonction *transpose* de NumPy, et affichez le résultat en niveaux de gris."
   ]
  },
  {
   "cell_type": "code",
   "execution_count": null,
   "metadata": {},
   "outputs": [],
   "source": [
    "# A compléter\n",
    "..."
   ]
  },
  {
   "cell_type": "markdown",
   "metadata": {},
   "source": [
    "Réalisez une rotation de 90° à img avec la fonction *rot90* de NumPy et affichez le résultat obtenu en niveaux de gris."
   ]
  },
  {
   "cell_type": "code",
   "execution_count": null,
   "metadata": {},
   "outputs": [],
   "source": [
    "# A compléter\n",
    "# Rotation de l'image de 90° et affichage du résultat\n",
    "..."
   ]
  },
  {
   "cell_type": "markdown",
   "metadata": {},
   "source": [
    "Que remarquez-vous ?"
   ]
  },
  {
   "cell_type": "markdown",
   "metadata": {},
   "source": [
    "**_REPONSE :_** "
   ]
  },
  {
   "cell_type": "markdown",
   "metadata": {},
   "source": [
    "La fonction précédente *rot90* fait le job, mais uniquement pour des rotations à 90, 180 ou 270°. Si on veut effectuer une rotation à n'importe quel degré, il faut utiliser une autre fonction.\n",
    "\n",
    "D'un point de vue plus global, pour effectuer sur une image une rotation, une translation, ou les 2, il faut de préférence passer par une matrice de transformation géométrique, qu'on appliquera sur l'image. \n",
    "\n",
    "Réalisez une rotation de 45° à *img* avec les fonctions d'OpenCV :\n",
    "- *getRotationMatrix2D* pour obtenir la matrice de rotation de 45° pour l'image *img* ;\n",
    "- *warpAffine* pour appliquer la rotation à *img* avec la matrice de rotation calculée.\n",
    "\n",
    "Affichez le résultat obtenu en niveaux de gris."
   ]
  },
  {
   "cell_type": "code",
   "execution_count": null,
   "metadata": {},
   "outputs": [],
   "source": [
    "# A compléter\n",
    "# Calcul de la matrice de rotation\n",
    "...\n",
    "# Rotation de l'image avec la matrice de rotation et affichage du résultat\n",
    "..."
   ]
  },
  {
   "cell_type": "markdown",
   "metadata": {},
   "source": [
    "Que remarquez-vous ?"
   ]
  },
  {
   "cell_type": "markdown",
   "metadata": {},
   "source": [
    "**_REPONSE :_**"
   ]
  },
  {
   "cell_type": "markdown",
   "metadata": {},
   "source": [
    "---\n",
    "## Ex 3. Création et visualisation des images\n",
    "\n",
    "**1.**\n",
    "\n",
    "Créez une matrice *_M_* de taille *_N x N_* avec *N = 256* dont le terme général est **_M_** *(i,j) = j*, puis affichez la en niveaux de gris.\n",
    "\n"
   ]
  },
  {
   "cell_type": "code",
   "execution_count": null,
   "metadata": {},
   "outputs": [],
   "source": [
    "# A compléter\n",
    "# Création de la matrice M\n",
    "...\n",
    "# Affichage de la matrice M en niveaux de gris\n",
    "..."
   ]
  },
  {
   "cell_type": "markdown",
   "metadata": {},
   "source": [
    "---\n",
    "**2.**\n",
    "\n",
    "Pour l'instant, nous avons uniquement affiché nos images en niveaux de gris (*'gray'*), mais il est possible d'utiliser des palettes différentes. \n",
    "\n",
    "La liste des palettes disponibles sur Matplotlib est à ce lien : https://matplotlib.org/2.0.2/examples/color/colormaps_reference.html."
   ]
  },
  {
   "cell_type": "markdown",
   "metadata": {},
   "source": [
    "Affichez la matrice M avec une palette de couleurs (autre que niveaux de gris)"
   ]
  },
  {
   "cell_type": "code",
   "execution_count": null,
   "metadata": {},
   "outputs": [],
   "source": [
    "# A compléter\n",
    "# Affichage de la palette de couleurs\n",
    "..."
   ]
  },
  {
   "cell_type": "markdown",
   "metadata": {},
   "source": [
    "--- \n",
    "## Ex. 4 : Calculs sur les images ###\n",
    "\n",
    "Pour cette partie, passons à la couleur en étudiant l'image jo_color.png. "
   ]
  },
  {
   "cell_type": "markdown",
   "metadata": {},
   "source": [
    "**1.**\n",
    "\n",
    "Commencez d'abord par la charger et stockez la dans la variable img_color. "
   ]
  },
  {
   "cell_type": "code",
   "execution_count": null,
   "metadata": {},
   "outputs": [],
   "source": [
    "# A compléter\n",
    "# Chargement de l'image \n",
    "..."
   ]
  },
  {
   "cell_type": "markdown",
   "metadata": {},
   "source": [
    "Affichez le nombre de dimensions de l'image chargée."
   ]
  },
  {
   "cell_type": "code",
   "execution_count": null,
   "metadata": {},
   "outputs": [],
   "source": [
    "# A compléter\n",
    "# Affichage du nombre de dimensions de l'image chargée\n",
    "..."
   ]
  },
  {
   "cell_type": "markdown",
   "metadata": {},
   "source": [
    "---\n",
    "**2.**\n",
    "\n",
    "Affichez les dimensions de l'image."
   ]
  },
  {
   "cell_type": "code",
   "execution_count": null,
   "metadata": {},
   "outputs": [],
   "source": [
    "# A compléter\n",
    "# Affichage des dimensions de l'image\n",
    "..."
   ]
  },
  {
   "cell_type": "markdown",
   "metadata": {},
   "source": [
    "Vous pouvez voir que l'image couleur chargée possède 3 channels : un channel bleu, un channel vert et un channel rouge. Le format de l'image est BGR (Blue, Green, Red). Affichez les composantes bleue, verte et rouge de l'image (images des intensités de chaque channel en N&B)."
   ]
  },
  {
   "cell_type": "code",
   "execution_count": null,
   "metadata": {},
   "outputs": [],
   "source": [
    "# A compléter\n",
    "# Affichage de chaque composante couleur (en N&B)\n",
    "plt.subplot(1,3,1)\n",
    "...\n",
    "plt.title(\"Composante bleue\")\n",
    "plt.subplot(1,3,2)\n",
    "...\n",
    "plt.title(\"Composante verte\")\n",
    "plt.subplot(1,3,3)\n",
    "...\n",
    "plt.title(\"Composante rouge\")\n",
    "plt.show()"
   ]
  },
  {
   "cell_type": "markdown",
   "metadata": {},
   "source": [
    "Affichez l'image img_color en couleur."
   ]
  },
  {
   "cell_type": "code",
   "execution_count": null,
   "metadata": {},
   "outputs": [],
   "source": [
    "# A compléter\n",
    "# Affichage de img_color en couleur\n",
    "..."
   ]
  },
  {
   "cell_type": "markdown",
   "metadata": {},
   "source": [
    "L'image est bizarre ? Vous remarquez un soucis particulier ? Au niveau des couleurs ? C'est normal : La palette par défaut de Matplotlib est BGR (Blue, Green, Red), et non RGB."
   ]
  },
  {
   "cell_type": "markdown",
   "metadata": {},
   "source": [
    "Pour des raisons pratiques, convertissez l'image BGR en format RGB avec la fonction cv2.cvtColor avec cv2.COLOR_BGR2RB en paramètre :\n",
    "\n",
    "        img_rgb = cv2.cvtColor(img_bgr,cv2.COLOR_BGR2RGB)"
   ]
  },
  {
   "cell_type": "code",
   "execution_count": null,
   "metadata": {},
   "outputs": [],
   "source": [
    "# A compléter\n",
    "# Conversion de l'image de BGR en RGB\n",
    "..."
   ]
  },
  {
   "cell_type": "markdown",
   "metadata": {},
   "source": [
    "Affichez l'image RGB."
   ]
  },
  {
   "cell_type": "code",
   "execution_count": null,
   "metadata": {},
   "outputs": [],
   "source": [
    "# A compléter\n",
    "# Affichage de img_color en couleur\n",
    "..."
   ]
  },
  {
   "cell_type": "markdown",
   "metadata": {},
   "source": [
    "---\n",
    "**3.**\n",
    "\n",
    "Convertissez l'image couleur RGB *img_color_rgb* en niveaux de gris :\n",
    "- En utilisant la fonction cvtColor d'OpenCV\n",
    "- En la calculant manuellement avec la formule *$I_{gray}$ = $\\alpha$ R + $\\beta$ G + $\\gamma$ B* sachant que *$\\alpha$ = 0.2989*, *$\\beta$ = 0.5870* et *$\\gamma$ = 0.1140* "
   ]
  },
  {
   "cell_type": "code",
   "execution_count": null,
   "metadata": {},
   "outputs": [],
   "source": [
    "# A compléter\n",
    "# Conversion en niveaux de gris avec cvtColor\n",
    "...\n",
    "# Affichage de l'image en niveaux de gris\n",
    "..."
   ]
  },
  {
   "cell_type": "code",
   "execution_count": null,
   "metadata": {},
   "outputs": [],
   "source": [
    "# A compléter\n",
    "alpha = 0.2989\n",
    "beta = 0.5870\n",
    "gamma = 0.1140\n",
    "\n",
    "# Conversion manuelle en niveaux de gris\n",
    "...\n",
    "# Affichage de l'image en niveaux de gris\n",
    "..."
   ]
  },
  {
   "cell_type": "markdown",
   "metadata": {},
   "source": [
    "Comparez les résultats :\n",
    "- Au niveau des matrices elles-mêmes ;\n",
    "- Au niveau visuel"
   ]
  },
  {
   "cell_type": "markdown",
   "metadata": {},
   "source": [
    "**_REPONSE :_**"
   ]
  }
 ],
 "metadata": {
  "kernelspec": {
   "display_name": "Python 3",
   "language": "python",
   "name": "python3"
  },
  "language_info": {
   "codemirror_mode": {
    "name": "ipython",
    "version": 3
   },
   "file_extension": ".py",
   "mimetype": "text/x-python",
   "name": "python",
   "nbconvert_exporter": "python",
   "pygments_lexer": "ipython3",
   "version": "3.12.0"
  }
 },
 "nbformat": 4,
 "nbformat_minor": 4
}
