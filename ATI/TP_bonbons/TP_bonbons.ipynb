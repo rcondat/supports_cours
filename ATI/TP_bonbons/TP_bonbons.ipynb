{
 "cells": [
  {
   "cell_type": "markdown",
   "metadata": {},
   "source": [
    "# TP2 : Charlie et la chocolaterie"
   ]
  },
  {
   "cell_type": "markdown",
   "metadata": {},
   "source": [
    "Aujourd'hui, place à la pratique ! Au programme, des acquistions, de la calibration, de la détection et de la mesure... de bonbons... L'objectif : créer une chaîne de traitement \"simplifiée\" permettant de détecter et mesurer des bonbons. Et oui, même les bonbons ont besoin de contrôle qualité !\n",
    "\n",
    "*Note : Le TP est très chargé, mais c'est pour vous donner un exemple concret d'application. Bien évidemment, je noterai en conséquences, donc donnez le max et tout ira bien :D*"
   ]
  },
  {
   "cell_type": "markdown",
   "metadata": {
    "vscode": {
     "languageId": "plaintext"
    }
   },
   "source": [
    "---\n",
    "## 1) Acquisition\n",
    "\n",
    "Avant de coder, il faut avoir des images ! Pour cela, vous avez à votre disposition une caméra qui devra être fixe. Pour la calibration, vous avez un échiquier, qu'il faudra bouger/incliner entre chaque captation. Placez votre caméra bien perpendiculairement au plan de travail, afin d'avoir des images de bonne qualité. \n",
    "\n",
    "Prenez bien le temps de faire des bonnes acquisitions. On peut corriger les images en post-traitement, mais si l'acquisition est mauvaise, on ne peut pas faire des miracles non plus !\n",
    "\n",
    "Pour le TP, il vous faudra :\n",
    "- Une dizaine d'images avec l'échiquier pour effectuer la calibration (Attention : il faut qu'on puisse voir ENTIEREMENT l'échiquier sur l'image !)\n",
    "- Une image contenant uniquement une ou plusieurs pièces de monnaie\n",
    "- Quelques images contenant des bonbons. Variez le nombre, les couleurs, la qualité (ex : bonbon coupé en deux), ainsi que leurs orientations."
   ]
  },
  {
   "cell_type": "markdown",
   "metadata": {},
   "source": [
    "Dès que toutes les acquisitions sont faites, affichez-les toutes ci-dessous:"
   ]
  },
  {
   "cell_type": "code",
   "execution_count": null,
   "metadata": {},
   "outputs": [],
   "source": [
    "# A compléter\n",
    "# Chargement des librairies usuelles\n",
    "...\n",
    "# Chargement des images pour la calibration\n",
    "...\n",
    "# Affichage des images pour la calibration\n",
    "..."
   ]
  },
  {
   "cell_type": "code",
   "execution_count": null,
   "metadata": {},
   "outputs": [],
   "source": [
    "# Chargement de l'image contenant la pièce de monnaie\n",
    "...\n",
    "# Affichage de l'image avec la pièce de monnaie\n",
    "..."
   ]
  },
  {
   "cell_type": "code",
   "execution_count": null,
   "metadata": {},
   "outputs": [],
   "source": [
    "# Chargement des images contenant les bonbons\n",
    "...\n",
    "# Affichage des images avec les bonbons\n",
    "..."
   ]
  },
  {
   "cell_type": "markdown",
   "metadata": {
    "vscode": {
     "languageId": "plaintext"
    }
   },
   "source": [
    "---\n",
    "## 2) Calibration\n",
    "\n",
    "Avant de faire la moindre détection, on va d'abord estimer les paramètres de calibration de la caméra. Cela permettra ensuite de corriger les images. Attention, utilisez bien uniquement les images acquises pour la calibration (donc celles contenant un échiquier). Pour cela, écrivez une fonction prenant en entrée les images prévues pour la calibration et retournant les résultats de calibrations.\n",
    "\n",
    "A la fin de l'étape, affichez :\n",
    "- Les paramètres intrinsèques de la caméra (en expliquant ce que signifient les valeurs obtenues)\n",
    "- Les paramètres extrinsèques sur 2 images (en expliquant ce que signifient les valeurs obtenues)\n",
    "- Les coefficients de distorsion calculés (en distinguant les types de coefficients)\n",
    "- L'erreur de re-projection moyenne (vérifiant si la calibration est viable)\n",
    "\n",
    "Et n'hésitez pas à montrer les résultats de la calibration avec une figure 3D, avec la caméra et la position des échiquiers des différentes images estimées. Bon courage !\n",
    "\n",
    "*PS :* **Commentez impérativement le code !**"
   ]
  },
  {
   "cell_type": "code",
   "execution_count": null,
   "metadata": {},
   "outputs": [],
   "source": [
    "# A compléter\n",
    "# Fonction d'estimation des paramètres de calibration de la caméra\n",
    "...\n",
    "# Estimation des paramètres sur les images acquises pour la calibration\n",
    "..."
   ]
  },
  {
   "cell_type": "code",
   "execution_count": null,
   "metadata": {},
   "outputs": [],
   "source": [
    "# Affichage des paramètres intrinsèques de la caméra\n",
    "..."
   ]
  },
  {
   "cell_type": "markdown",
   "metadata": {},
   "source": [
    "\n",
    "***Signification des paramètres intrinsèques :***"
   ]
  },
  {
   "cell_type": "code",
   "execution_count": null,
   "metadata": {},
   "outputs": [],
   "source": [
    "# Affichage des paramètres extrinsèques sur 2 images\n",
    "..."
   ]
  },
  {
   "cell_type": "markdown",
   "metadata": {},
   "source": [
    "\n",
    "***Signification des paramètres extrinisèques :***"
   ]
  },
  {
   "cell_type": "code",
   "execution_count": null,
   "metadata": {},
   "outputs": [],
   "source": [
    "# Affichage des coefficients de distorsion\n",
    "..."
   ]
  },
  {
   "cell_type": "markdown",
   "metadata": {},
   "source": [
    "\n",
    "***Détail des coefficients de distorsion :***"
   ]
  },
  {
   "cell_type": "code",
   "execution_count": null,
   "metadata": {},
   "outputs": [],
   "source": [
    "# Calcul de l'erreur de re-projection moyenne\n",
    "..."
   ]
  },
  {
   "cell_type": "markdown",
   "metadata": {},
   "source": [
    "***Explication de l'erreur de re-projection moyenne et analyse sur votre calibration :***"
   ]
  },
  {
   "cell_type": "markdown",
   "metadata": {},
   "source": [
    "Comparez les résultats de calibration obtenus avec les paramètres disponibles dans la fiche technique de la caméra (sur Moodle). Retrouvez-vous les valeurs dans votre estimation ?"
   ]
  },
  {
   "cell_type": "markdown",
   "metadata": {},
   "source": [
    "***Réponse :***"
   ]
  },
  {
   "cell_type": "markdown",
   "metadata": {},
   "source": [
    "---\n",
    "## 3) Correction des images\n",
    "\n",
    "Après votre calibration effectuée, il faut maintenant corriger la distorsion des images. Développez une fonction de correction d'image, prenant en entrée une image et les paramètres de calibration de la caméra, et retournant l'image corrigée. Appliquez une correction à partir des résultats précédents sur vos images tests (images non utilisées pour la calibration). Affichez-les images corrigées et comparez par rapport avec les images non corrigées (2-3 exemples max, pas besoin de tout m'afficher).\n",
    "\n",
    "Comme précédemment, **commentez votre code !**"
   ]
  },
  {
   "cell_type": "code",
   "execution_count": null,
   "metadata": {},
   "outputs": [],
   "source": [
    "# A compléter\n",
    "# Fonction de correction de la distorsion d'une image \n",
    "...\n",
    "# Application de la correction sur les images acquises\n",
    "...\n",
    "# Affichage des images avant et après la correction\n",
    "..."
   ]
  },
  {
   "cell_type": "markdown",
   "metadata": {},
   "source": [
    "***Analyse de l'impact de la correction :***"
   ]
  },
  {
   "cell_type": "markdown",
   "metadata": {},
   "source": [
    "---\n",
    "# 4) Détection et mesure de la pièce de monnaie\n",
    "\n",
    "Lorsqu'on effectue des mesures sur des images (comme ici dans ce TP), on utilise souvent un objet de référence. Ici, notre objet sera une pièce de monnaie de 5 centimes. La pièce a un diamètre de 21,25 mm (oui, il y a plus simple comme objet, mais ça fera le travail aujourd'hui).\n",
    "\n",
    "L'objectif dans cette section est donc de détecter correctement la ou les pièces de monnaie, et de calculer leur diamètre en pixels. On pourra alors calculer la résolution millimètre par pixel de la caméra, permettant ensuite de mesure les objets qu'on souhaite.\n",
    "\n",
    "L'avantage de la pièce de monnaie, c'est que c'est un cercle parfait, et un objet fin. Dès lors, si l'axe de la caméra est bien perpendiculaire au plan de travail, on obtiendra après correction de la distorsion des pièces de monnaie bien rondes. On va pouvoir alors utiliser un algorithme pour détecter les cercles dans l'image."
   ]
  },
  {
   "cell_type": "markdown",
   "metadata": {},
   "source": [
    "##### A)\n",
    "\n",
    " Pour commencer, convertissez votre image RGB contenant la pièce de monnaie dans l'espace de couleur HSV grâce à OpenCV."
   ]
  },
  {
   "cell_type": "code",
   "execution_count": null,
   "metadata": {},
   "outputs": [],
   "source": [
    "# A compléter\n",
    "# Conversion de l'image RGB en HSV\n",
    "...\n",
    "# Affichage de l'image HSV\n",
    "..."
   ]
  },
  {
   "cell_type": "markdown",
   "metadata": {},
   "source": [
    "Que signifient les lettres H, S et V dans HSV ? Qu'affichent chacun des canaux de l'image ?\n",
    "\n",
    "***Réponse :***"
   ]
  },
  {
   "cell_type": "markdown",
   "metadata": {},
   "source": [
    "Séparez votre image HSV en 3 images niveaux de gris pour chacun des canaux. Affichez-les."
   ]
  },
  {
   "cell_type": "code",
   "execution_count": null,
   "metadata": {},
   "outputs": [],
   "source": [
    "# A compléter\n",
    "# Séparation de votre image HSV en 3 images niveaux de gris\n",
    "...\n",
    "# Affichage des canaux de l'image HSV (en niveaux de gris)\n",
    "..."
   ]
  },
  {
   "cell_type": "markdown",
   "metadata": {},
   "source": [
    "##### B)\n",
    "\n",
    "Il est l'heure de détecter les cercles ! Pour cela, on va utiliser le canal Saturation de l'image HSV. Appliquez sur cette image un filtre médian avec un kernel de taille 9x9. Affichez le résultat."
   ]
  },
  {
   "cell_type": "code",
   "execution_count": null,
   "metadata": {},
   "outputs": [],
   "source": [
    "# A compléter\n",
    "# Application du filtre médian sur l'image Saturation\n",
    "...\n",
    "# Affichage du résultat\n",
    "..."
   ]
  },
  {
   "cell_type": "markdown",
   "metadata": {},
   "source": [
    "Pour détecter les cercles, on va utiliser l'algorithme de Hough. Sans rentrer dans le détail, cet algorithme calcule dans un premier temps la transformée de Hough de l'image, puis va détecter des caractéristiques précises dans cette représentation, correspondant à des cercles sur l'image originale."
   ]
  },
  {
   "cell_type": "markdown",
   "metadata": {},
   "source": [
    "Cette transformée de Hough permet également de détecter d'autres caractéristiques précises sur une image, lesquelles ?\n",
    "\n",
    "***Réponse :***"
   ]
  },
  {
   "cell_type": "markdown",
   "metadata": {},
   "source": [
    "Avec la fonction HoughCircles d'OpenCV, détectez les cercles sur l'image filtrée précédemment, et affichez le résultat (à savoir votre image originale avec les cercles détectés dessinés par dessus, ainsi que leurs centres). Ajustez les paramètres de la fonction pour détecter uniquement les pièces de monnaie."
   ]
  },
  {
   "cell_type": "code",
   "execution_count": null,
   "metadata": {},
   "outputs": [],
   "source": [
    "# A compléter\n",
    "# Détection des cercles via Hough\n",
    "...\n",
    "# Affichage des pièces détectées sur l'image originale\n",
    "..."
   ]
  },
  {
   "cell_type": "markdown",
   "metadata": {},
   "source": [
    "Quelles informations avons-nous sur les cercles détectés ? (sortie de la fonction HoughCircles) ?\n",
    "\n",
    "***Réponse :***"
   ]
  },
  {
   "cell_type": "markdown",
   "metadata": {},
   "source": [
    "##### C)\n",
    "\n",
    "Pour chacune des pièces détectées, extrayez le diamètre en pixel, et calculez un diamètre moyen."
   ]
  },
  {
   "cell_type": "code",
   "execution_count": null,
   "metadata": {},
   "outputs": [],
   "source": [
    "# A compléter\n",
    "# Extraction du diamètre moyen de la pièce (en pixels)\n",
    "..."
   ]
  },
  {
   "cell_type": "markdown",
   "metadata": {},
   "source": [
    "Sachant que la pièce de monnaie a un diamètre précis de 21,25 mm, calculez maintenant la résolution millimètre par pixel de la caméra."
   ]
  },
  {
   "cell_type": "code",
   "execution_count": null,
   "metadata": {},
   "outputs": [],
   "source": [
    "# A compléter\n",
    "# Calcul de la résolution millimètre par pixel de la caméra\n",
    "..."
   ]
  },
  {
   "cell_type": "markdown",
   "metadata": {},
   "source": [
    "Cette valeur dépend-elle uniquement de la caméra ? \n",
    "\n",
    "*N'hésitez pas à revoir les formules vues en TD ;)*\n",
    "\n",
    "***Réponse :***"
   ]
  },
  {
   "cell_type": "markdown",
   "metadata": {},
   "source": [
    "Pour vérifier que votre valeur est cohérente, reprenez la mesure du diamètre de la pièce en pixel, et à partir des infos que vous avez sur la pièce de monnaie ainsi que la fiche technique de la caméra, calculez la distance de travail (distance entre la caméra et le plan de travail). Cette valeur obtenue correspond-elle à votre installation ?"
   ]
  },
  {
   "cell_type": "markdown",
   "metadata": {},
   "source": [
    "***Réponse :***"
   ]
  },
  {
   "cell_type": "markdown",
   "metadata": {},
   "source": [
    "##### D)\n",
    "\n",
    "Regroupez tout le code écrit précédemment pour faire une fonction d'estimation de la résolution millimètre par pixel de la caméra. La fonction prendra en entrée une image corrigée avec les pièces de monnaie, et retournera les pièces détectées ainsi que la résolution millimètre par pixel estimée. Appliquez-la fonction sur votre image et affichez-les résultats."
   ]
  },
  {
   "cell_type": "code",
   "execution_count": null,
   "metadata": {},
   "outputs": [],
   "source": [
    "# A compléter\n",
    "# Fonction d'estimation de la résolution millimètre par pixel de la caméra\n",
    "...\n",
    "# Application de la fonction sur l'image corrigée avec les pièces de monnaie\n",
    "..."
   ]
  },
  {
   "cell_type": "markdown",
   "metadata": {},
   "source": [
    "---\n",
    "\n",
    "# 5) Allez, détectons les bonbons !\n",
    "\n",
    "Voilà, on a tout ce qu'il nous faut maintenant pour détecter et mesurer les bonbons ! Les images sont corrigées, et on a notre valeur de référence.\n",
    "\n",
    "Ici, on veut détecter les différentes bonbons, mais surtout assurer de leur qualité. Ici, l'industriel considère qu'un bonbon est correct si et seulement si :\n",
    "- Sa longueur est de 13.7 cm (+/- 10%)\n",
    "- Sa largeur est de 2.8 cm (+/- 5%)\n",
    "- Sa couleur (seuls les verts sont acceptés)\n",
    "\n",
    "ATTENTION : il faut détecter TOUS les bonbons, valides ou non (il faut identifier ceux à jeter !)\n",
    "\n",
    "La tâche paraît compliquée, mais on va y aller étape par étape."
   ]
  },
  {
   "cell_type": "markdown",
   "metadata": {},
   "source": [
    "##### A)\n",
    "\n",
    "Dans un premier temps, on va détecter les bonbons, avant d'en extraire des caractéristiques. Pour cela, on va ré-utiliser le canal Saturation du format HSV. Convertissez votre image corrigée avec les bonbons en format HSV, extrayez le canal Saturation et affichez-le."
   ]
  },
  {
   "cell_type": "code",
   "execution_count": null,
   "metadata": {},
   "outputs": [],
   "source": [
    "# A compléter\n",
    "# Conversion de l'image en HSV\n",
    "...\n",
    "# Extraction du canal Saturation\n",
    "...\n",
    "# Affichage du canal Saturation (en niveaux de gris)\n",
    "..."
   ]
  },
  {
   "cell_type": "markdown",
   "metadata": {},
   "source": [
    "Ensuite, avant de détecter des contours, il faut binariser l'image. Pour cela, trouvez un seuil optimal permettant de distinguer les bonbons du fond de l'image. Affichez-le résultat."
   ]
  },
  {
   "cell_type": "code",
   "execution_count": null,
   "metadata": {},
   "outputs": [],
   "source": [
    "# A compléter\n",
    "# Binarisation de l'image\n",
    "...\n",
    "# Affichage du résultat\n",
    "..."
   ]
  },
  {
   "cell_type": "markdown",
   "metadata": {},
   "source": [
    "Détectons maintenant les contours avec la fameuse fonction findContours d'OpenCV. Appliquez des règles pour sélectionner uniquement les contours qui vous intéressent et affichez-le résultat (à savoir l'image RGB originale avec les contours détectés)."
   ]
  },
  {
   "cell_type": "code",
   "execution_count": null,
   "metadata": {},
   "outputs": [],
   "source": [
    "# A compléter\n",
    "# Détection des contours\n",
    "...\n",
    "# Filtrage des contours pour garder uniquement ceux qui nous intéressent\n",
    "...\n",
    "# Affichage du résultat\n",
    "..."
   ]
  },
  {
   "cell_type": "markdown",
   "metadata": {},
   "source": [
    "Est-ce que votre résultat est satisfaisant ? Les détections sont-elles correctes ? Sont-elles précises ? Que pouvez-vous améliorer ?"
   ]
  },
  {
   "cell_type": "markdown",
   "metadata": {},
   "source": [
    "***Réponse :***"
   ]
  },
  {
   "cell_type": "markdown",
   "metadata": {},
   "source": [
    "Regroupez les dernières cellules codées pour en faire une fonction qui détecte les bonbons depuis une image RGB corrigée. N'hésitez pas à modifier cette chaîne de traitement avec des algorithmes connus pour améliorer la précision de vos résultats.\n",
    "\n",
    "*Indice : TD3*"
   ]
  },
  {
   "cell_type": "code",
   "execution_count": null,
   "metadata": {},
   "outputs": [],
   "source": [
    "# A compléter\n",
    "# Fonction de détection des bonbons\n",
    "...\n",
    "# Application sur une image\n",
    "..."
   ]
  },
  {
   "cell_type": "markdown",
   "metadata": {},
   "source": [
    "L'affichage des résultats étant primordial, créez une fonction d'affichage prenant en entrée votre image RGB et les différents contours. Cette fonction affichera cette image avec les contours dessinés. Appliquez la fonction sur l'image RGB avec les contours détectés."
   ]
  },
  {
   "cell_type": "code",
   "execution_count": null,
   "metadata": {},
   "outputs": [],
   "source": [
    "# A compléter\n",
    "# Fonction d'affichage des détections\n",
    "...\n",
    "# Application de la fonction sur votre image RGB avec les détections\n",
    "..."
   ]
  },
  {
   "cell_type": "markdown",
   "metadata": {},
   "source": [
    "##### B)\n",
    "\n",
    "Les contours sont détectés, mais il faut maintenant mesurer les bonbons ! Si votre détection des contours est correcte, les contours obtenus devraient ressembler à des rectangles. Cependant, ils peuvent comprendre plus de 4 points. On pourrait calculer une approximation des contours pour en sortir un rectangle, mais c'est compliqué pour pas grand chose. On va plutôt calculer le rectangle d'aire minimum du contour (minAreaRect avec OpenCV), qui devrait nous donner un contour assez ressemblant que celui qu'on cherche avec uniquement 4 coordonnées."
   ]
  },
  {
   "cell_type": "markdown",
   "metadata": {},
   "source": [
    "Pour chacun des contours détectés, calculez le rectangle d'aire minimum. Affichez les approximations faites (image RGB avec les rectangles dessinés)."
   ]
  },
  {
   "cell_type": "code",
   "execution_count": null,
   "metadata": {},
   "outputs": [],
   "source": [
    "# A compléter\n",
    "# Calcul des rectangles d'aire minimum des contours\n",
    "...\n",
    "# Affichage des rectangles estimés sur l'image RGB\n",
    "..."
   ]
  },
  {
   "cell_type": "markdown",
   "metadata": {},
   "source": [
    "Quelles informations renvoie la fonction minAreaRect d'OpenCV ? "
   ]
  },
  {
   "cell_type": "markdown",
   "metadata": {},
   "source": [
    "***Réponse :***"
   ]
  },
  {
   "cell_type": "markdown",
   "metadata": {},
   "source": [
    "Extrayez la longueur et la largeur des rectangles en pixels des différentes détections, et convertissez-les en mm avec la valeur de résolution calculée précédemment."
   ]
  },
  {
   "cell_type": "code",
   "execution_count": null,
   "metadata": {},
   "outputs": [],
   "source": [
    "# A compléter\n",
    "# Calcul des longueurs et largeurs des rectangles en pixels\n",
    "...\n",
    "# Conversion des valeurs en mm\n",
    "..."
   ]
  },
  {
   "cell_type": "markdown",
   "metadata": {},
   "source": [
    "L'industriel exige que les bonbons aient :\n",
    "- Une longueur de 13.7 cm (+/- 10%)\n",
    "- Une largeur de 2.8 cm (+/- 5%)\n",
    "\n",
    "Reprenez votre fonction de détection des bonbons et d'affichage, et modifiez-les pour calculer les dimensions des rectangles en mm, et classifier la validité du bonbon (Vrai si les dimensions sont correctes, Faux sinon). Affichez ensuite les détections sur image RGB en indiquant la taille estimée (texte à côté des rectangles) et la validité du bonbon (rectangle vert si les dimensions sont correctes, rouge sinon)."
   ]
  },
  {
   "cell_type": "code",
   "execution_count": null,
   "metadata": {},
   "outputs": [],
   "source": [
    "# A compléter\n",
    "# Fonction de détection et classification des bonbons\n",
    "...\n",
    "# Fonction d'affichage des bonbons, de leur dimension et leur validité (vert ou rouge)\n",
    "...\n",
    "# Application et affichage des résultats de détections\n",
    "..."
   ]
  },
  {
   "cell_type": "markdown",
   "metadata": {},
   "source": [
    "##### C) \n",
    "\n",
    "Pour finir, il faut qu'on garde uniquement les bonbons de couleur verte. Pour cela, on va utiliser l'espace de couleur HSV, comme vu précédemment, et plus précisément le canal Hue. Extrayez le canal Hue de votre image HSV calculée précédemment et affichez-le."
   ]
  },
  {
   "cell_type": "code",
   "execution_count": null,
   "metadata": {},
   "outputs": [],
   "source": [
    "# A compléter\n",
    "# Extraction du canal Hue\n",
    "...\n",
    "# Affichage du canal Hue (en niveaux de gris)\n",
    "..."
   ]
  },
  {
   "cell_type": "markdown",
   "metadata": {},
   "source": [
    "Ce canal encode les teintes de couleur de l'image. Cela veut dire que les teintes rouges auront à peu près les mêmes valeurs, pareil pour les teintes jaunes ou bleues. Pour cela, on utilise une roue des couleurs pour distinguer les teintes."
   ]
  },
  {
   "cell_type": "markdown",
   "metadata": {},
   "source": [
    "![alt text](HSVWheel.png)"
   ]
  },
  {
   "cell_type": "markdown",
   "metadata": {},
   "source": [
    "Les couleurs sont codées entre 0 et 360°. Par exemple, tous les pixels roses auront une teinte entre 290 et 320°. Cependant, pour pouvoir conserver notre image en format uint8 (entiers positifs sur 8 bits), avec une valeur maximum de 255, les valeurs de teintes sont divisées par 2. Pour la teinte rose, la range de valeur passera alors de 145 à 160. Si on re-formule ça, tous les pixels d'une image HSV avec des valeurs entre 145 et 160 sur le canal H auront une teinte rose sur l'image RGB."
   ]
  },
  {
   "cell_type": "markdown",
   "metadata": {},
   "source": [
    "Etant donné qu'on souhaite détecter la couleur verte, quelle range de valeur va-t-on détecter sur le canal Hue ?"
   ]
  },
  {
   "cell_type": "markdown",
   "metadata": {},
   "source": [
    "***Réponse :***"
   ]
  },
  {
   "cell_type": "markdown",
   "metadata": {},
   "source": [
    "Créez un masque du canal Hue contenant uniquement les pixels verts (Vrai si dans la range de valeur, Faux sinon), et affichez le résultat."
   ]
  },
  {
   "cell_type": "code",
   "execution_count": null,
   "metadata": {},
   "outputs": [],
   "source": [
    "# A compléter\n",
    "# Création du masque de pixels verts\n",
    "...\n",
    "# Affichage du masque\n",
    "..."
   ]
  },
  {
   "cell_type": "markdown",
   "metadata": {},
   "source": [
    "Le résultat est-il satisfaisant ?"
   ]
  },
  {
   "cell_type": "markdown",
   "metadata": {},
   "source": [
    "***Réponse :***"
   ]
  },
  {
   "cell_type": "markdown",
   "metadata": {},
   "source": [
    "*Note : Il est possible que vous ayez des pixels qui aient une teinte verte alors qu'ils paraissent plutôt noirs ou blancs sur votre image. Ce sont des pixels qui ont des valeurs de Saturation et/ou de Value assez basses. Pour les éliminer, vous pouvez combiner votre masque précédent avec un autre masque qui supprime tous les pixels ayant des valeurs de Saturation ou Value très basses.*"
   ]
  },
  {
   "cell_type": "markdown",
   "metadata": {},
   "source": [
    "Reprenez vos fonction de détection de contours et d'affichage, et modifiez-les pour intégrer la sélection des pixels verts, et ainsi valider uniquement les bonbons dont les pixels sont majoritairement verts. Pour cela, je vous conseille d'aller voir les propriétés des contours et les fonctions usuelles (https://docs.opencv.org/3.4/d1/d32/tutorial_py_contour_properties.html). Affichez les détections des bonbons, leur dimension, leur couleur (texte \"rouge\"/\"vert\" à côté des rectangles) et leur validité (vert si ok, rouge sinon)."
   ]
  },
  {
   "cell_type": "code",
   "execution_count": null,
   "metadata": {},
   "outputs": [],
   "source": [
    "# A compléter\n",
    "# Fonction de détection et classification des bonbons\n",
    "...\n",
    "# Fonction d'affichage des bonbons, de leur dimension, leur couleur et leur validité (vert ou rouge)\n",
    "...\n",
    "# Application et affichage des résultats de détections\n",
    "..."
   ]
  },
  {
   "cell_type": "markdown",
   "metadata": {},
   "source": [
    "---\n",
    "\n",
    "# 6) Avengers, Assemble !!\n",
    "\n",
    "Pour finir ce TRES LONG TP, regroupez dans une seule cellule tout le code que vous avez écrit dans des belles fonctions commentées."
   ]
  },
  {
   "cell_type": "code",
   "execution_count": null,
   "metadata": {},
   "outputs": [],
   "source": [
    "# A compléter\n",
    "# Fonctions développées durant le TP\n",
    "..."
   ]
  },
  {
   "cell_type": "markdown",
   "metadata": {},
   "source": [
    "Ensuite, écrivez le code permettant de refaire tout le TP dans la cellule suivante (allant du chargement des images jusqu'à l'affichage des bonbons valides et rejetés). L'objectif est qu'en changeant uniquement les chemins des images, je puisse faire tourner chez moi tout votre code avec mes propres images ! "
   ]
  },
  {
   "cell_type": "code",
   "execution_count": null,
   "metadata": {},
   "outputs": [],
   "source": [
    "# A compléter\n",
    "# Code permettant de refaire tout le TP\n",
    "..."
   ]
  }
 ],
 "metadata": {
  "language_info": {
   "name": "python"
  }
 },
 "nbformat": 4,
 "nbformat_minor": 2
}
