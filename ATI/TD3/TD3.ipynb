{
 "cells": [
  {
   "cell_type": "markdown",
   "id": "christian-official",
   "metadata": {},
   "source": [
    "# TD3 : Filtrage et Morphologie Mathématique\n",
    "\n",
    "Pour cette séance, on découvre des algorithmes de prétraitement et post traitement. Aujourd'hui, nous allons donc développer plusieurs algorithmes classiques de filtrage et de morphologie mathématique.\n",
    "\n",
    "Tout d'abord, importez les librairies qui seront nécessaires pour ce TD : Numpy, OpenCV (cv2), Matplotlib, et autres si vous le souhaitez."
   ]
  },
  {
   "cell_type": "code",
   "execution_count": null,
   "id": "special-hands",
   "metadata": {},
   "outputs": [],
   "source": [
    "# Import des libraries\n",
    "..."
   ]
  },
  {
   "cell_type": "markdown",
   "id": "3c3f9fcf",
   "metadata": {},
   "source": [
    "Chargez ensuite l'image test d'aujourd'hui : cameraman.jpg.\n",
    "\n",
    "/!\\ : Il nous faut une image en noir et blanc, donc avec uniquement un seul channel (matrice 2D). Pour cela, utilisez cv2.imread, avec en premier argument le chemin d'accès de votre image, et en second argument 0 (pour signifier que vous la souhaitez en niveaux de gris)"
   ]
  },
  {
   "cell_type": "code",
   "execution_count": null,
   "id": "60b566aa",
   "metadata": {},
   "outputs": [],
   "source": [
    "# A compléter\n",
    "# Chargement de l'image cameraman\n",
    "...\n",
    "\n",
    "# Affichage de l'image\n",
    "..."
   ]
  },
  {
   "cell_type": "markdown",
   "id": "coastal-twist",
   "metadata": {},
   "source": [
    "Puis, chargez les images bruitées en niveaux de gris cameraman_s&p et cameraman_gauss, et affichez les. "
   ]
  },
  {
   "cell_type": "code",
   "execution_count": null,
   "id": "unique-supply",
   "metadata": {},
   "outputs": [],
   "source": [
    "# A compléter\n",
    "# Chargement des images bruitées\n",
    "...\n",
    "\n",
    "# Affichage des images bruitées\n",
    "..."
   ]
  },
  {
   "cell_type": "markdown",
   "id": "429c65f9",
   "metadata": {},
   "source": [
    "Quels bruits ont été appliqués sur ces deux images ? En quoi cela consiste d'un point de vue visuel ?"
   ]
  },
  {
   "cell_type": "markdown",
   "id": "e7198ec0",
   "metadata": {},
   "source": [
    "**_Réponse :_** "
   ]
  },
  {
   "cell_type": "markdown",
   "id": "accessory-village",
   "metadata": {},
   "source": [
    "---\n",
    "# Partie 1: Filtres de prétraitement\n",
    "\n",
    "## Ex. 1 : Filtre moyenneur\n",
    "\n",
    "Nous allons donc développer plusieurs algorithmes de filtrage vus en cours, afin de les corriger :D \n",
    "\n",
    "Commençons d'abord par le filtre moyenneur"
   ]
  },
  {
   "cell_type": "markdown",
   "id": "wound-small",
   "metadata": {},
   "source": [
    "**1.**\n",
    "\n",
    "Implémentez une fonction de filtrage moyenneur de taille *nxn* avec *n* impair. Pour cela, sur chaque pixel de votre image d'entrée vous allez sélectionner une fenêtre de taille *nxn* centrée et calculer la moyenne de cette fenêtre pour obtenir la valeur du pixel pour l'image corrigée."
   ]
  },
  {
   "cell_type": "code",
   "execution_count": null,
   "id": "accompanied-crazy",
   "metadata": {},
   "outputs": [],
   "source": [
    "# A compléter\n",
    "# Développement de la fonction de filtrage moyenneur\n",
    "..."
   ]
  },
  {
   "cell_type": "markdown",
   "id": "dated-blocking",
   "metadata": {},
   "source": [
    "Affichez le résultat de l'application du filtre moyenneur sur l'image cameraman_s&p."
   ]
  },
  {
   "cell_type": "code",
   "execution_count": null,
   "id": "pediatric-powder",
   "metadata": {},
   "outputs": [],
   "source": [
    "# A compléter\n",
    "# Filtrage moyenneur sur l'image cameraman_s&p\n",
    "...\n",
    "\n",
    "# Affichage de l'image corrigée\n",
    "..."
   ]
  },
  {
   "cell_type": "markdown",
   "id": "communist-indian",
   "metadata": {},
   "source": [
    "Que contastez vous sur l'image corrigée ?"
   ]
  },
  {
   "cell_type": "markdown",
   "id": "sought-negotiation",
   "metadata": {},
   "source": [
    "**_Réponse :_** "
   ]
  },
  {
   "cell_type": "markdown",
   "id": "crucial-vocabulary",
   "metadata": {},
   "source": [
    "Que se passe-t-il si on augmente la taille du filtre moyenneur ?"
   ]
  },
  {
   "cell_type": "markdown",
   "id": "secret-cleanup",
   "metadata": {},
   "source": [
    "**_Réponse :_**"
   ]
  },
  {
   "cell_type": "markdown",
   "id": "prepared-chapter",
   "metadata": {},
   "source": [
    "---\n",
    "**2.**\n",
    "\n",
    "Testez votre algorithme sur l'image cameraman_gauss, et des tailles de fenêtre différentes."
   ]
  },
  {
   "cell_type": "code",
   "execution_count": null,
   "id": "practical-blackberry",
   "metadata": {},
   "outputs": [],
   "source": [
    "# A compléter\n",
    "# Filtrage moyenneur sur l'image cameraman_gauss\n",
    "...\n",
    "\n",
    "# Affichage de l'image corrigée\n",
    "..."
   ]
  },
  {
   "cell_type": "markdown",
   "id": "spare-deposit",
   "metadata": {},
   "source": [
    "Le filtre est-il plus efficace sur certains types de bruit ?"
   ]
  },
  {
   "cell_type": "markdown",
   "id": "orange-brazilian",
   "metadata": {},
   "source": [
    "**_Réponse :_**"
   ]
  },
  {
   "cell_type": "markdown",
   "id": "configured-notification",
   "metadata": {},
   "source": [
    "---\n",
    "## Ex. 2 : Filtre médian\n",
    "\n",
    "Implémentez maintenant une fonction de filtrage médian de taille *_nxn_* avec *n* impair.\n",
    "\n",
    "*Note :* Si votre filtre moyenneur est bien implémenté, normalement, il y a juste une seule fonction à changer..."
   ]
  },
  {
   "cell_type": "code",
   "execution_count": null,
   "id": "exact-treasury",
   "metadata": {},
   "outputs": [],
   "source": [
    "# A compléter\n",
    "# Développement de la fonction de filtrage médian\n",
    "..."
   ]
  },
  {
   "cell_type": "markdown",
   "id": "mediterranean-bulgaria",
   "metadata": {},
   "source": [
    "Vous connaissez déjà la chanson : Affichez le résultat de l'application du filtre médian sur vos images bruitées, avec plusieurs tailles de fenêtre."
   ]
  },
  {
   "cell_type": "code",
   "execution_count": null,
   "id": "essential-georgia",
   "metadata": {},
   "outputs": [],
   "source": [
    "# A compléter\n",
    "# Filtrage médian sur les images bruitées cameraman_s&p et cameraman_gauss\n",
    "...\n",
    "\n",
    "# Affichage des images corrigées\n",
    "..."
   ]
  },
  {
   "cell_type": "markdown",
   "id": "macro-steal",
   "metadata": {},
   "source": [
    "Comparé au filtre moyenneur, quels sont les avantages et inconvénients du filtre médian ?"
   ]
  },
  {
   "cell_type": "markdown",
   "id": "interested-blink",
   "metadata": {},
   "source": [
    "**_Réponse :_**"
   ]
  },
  {
   "cell_type": "markdown",
   "id": "royal-passing",
   "metadata": {},
   "source": [
    "Dans quel cas l'utilisation du filtre médian est plus efficace que le filtre moyenneur ?"
   ]
  },
  {
   "cell_type": "markdown",
   "id": "after-jungle",
   "metadata": {},
   "source": [
    "**_Réponse :_**"
   ]
  },
  {
   "cell_type": "markdown",
   "id": "casual-adjustment",
   "metadata": {},
   "source": [
    "---\n",
    "## Ex. 3 : Filtre par convolution\n",
    "\n",
    "La méthode de filtrage la plus utilisée car plus globale est le filtrage par convolution. A partir d'une seule fonction, on peut effectuer plein de types de filtrage différents. Pour cela, il faut définir un masque de convolution *_h_* (une matrice). Pour une image *_A_*, avec le masque *_h_*, le résultat sortant est : \n",
    "\\begin{equation*}\n",
    "    C[i,j] = \\sum_{k \\in W} \\sum_{l \\in W} h[k,l]A[i-k,j-l]\n",
    "\\end{equation*}\n",
    "Un pixel *_A[i,j]_* est remplacé par une somme pondérée de lui-même et des pixels de son voisinage *_W_*.\n",
    "\n",
    "Pour visualiser la convolution sur une image, je vous invite à voir ce lien : https://docs.google.com/presentation/d/1MKpR6OP8mYraxTtueqz_4gZEdmA0LYURFmCxmwypWAs/edit?usp=sharing"
   ]
  },
  {
   "cell_type": "markdown",
   "id": "broadband-heart",
   "metadata": {},
   "source": [
    "**1.**\n",
    "\n",
    "Développez la fonction de convolution avec en paramètres votre image ainsi qu'un masque h."
   ]
  },
  {
   "cell_type": "code",
   "execution_count": null,
   "id": "fixed-jaguar",
   "metadata": {},
   "outputs": [],
   "source": [
    "# A compléter\n",
    "# Implémentation de la fonction de convolution\n",
    "..."
   ]
  },
  {
   "cell_type": "markdown",
   "id": "neural-pencil",
   "metadata": {},
   "source": [
    "---\n",
    "**2.**\n",
    "\n",
    "On va tester la fonction précédemment codée, mais il vous faut pour cela un masque. On va commencer par effectuer un filtre moyenneur par convolution (oui, comme le premier filtre codé). \n",
    "\n",
    "Quel masque de convolution de taille 3x3 correspondrait à un filtre moyenneur ?"
   ]
  },
  {
   "cell_type": "markdown",
   "id": "protected-liberal",
   "metadata": {},
   "source": [
    "**_Réponse :_**"
   ]
  },
  {
   "cell_type": "markdown",
   "id": "consecutive-omaha",
   "metadata": {},
   "source": [
    "Créez ce masque de convolution pour un filtrage moyenneur"
   ]
  },
  {
   "cell_type": "code",
   "execution_count": null,
   "id": "decimal-adrian",
   "metadata": {},
   "outputs": [],
   "source": [
    "# A compléter\n",
    "# Création du masque de convolution pour un filtrage moyenneur\n",
    "..."
   ]
  },
  {
   "cell_type": "markdown",
   "id": "seven-anger",
   "metadata": {},
   "source": [
    "Appliquez votre filtre de convolution avec votre masque créé sur une de vos images bruitées, et comparez le résultat avec le filtre moyenneur développé précédemment dans l'exercice 1."
   ]
  },
  {
   "cell_type": "code",
   "execution_count": null,
   "id": "sufficient-italian",
   "metadata": {},
   "outputs": [],
   "source": [
    "# A compléter\n",
    "# Filtrage moyenneur par convolution sur l'image bruitée\n",
    "...\n",
    "\n",
    "# Affichage de l'image corrigée\n",
    "..."
   ]
  },
  {
   "cell_type": "markdown",
   "id": "deluxe-marketing",
   "metadata": {},
   "source": [
    "Obtenez-vous exactement les mêmes résultats qu'avec le filtre moyen de l'exercice 1 ?"
   ]
  },
  {
   "cell_type": "markdown",
   "id": "acceptable-locking",
   "metadata": {},
   "source": [
    "**_Réponse :_**"
   ]
  },
  {
   "cell_type": "markdown",
   "id": "appropriate-alloy",
   "metadata": {},
   "source": [
    "Quel est l'avantage du filtrage par convolution moyenneur par rapport au filtre moyenneur de l'exercice 1 ?"
   ]
  },
  {
   "cell_type": "markdown",
   "id": "vietnamese-protocol",
   "metadata": {},
   "source": [
    "**_Réponse :_**"
   ]
  },
  {
   "cell_type": "markdown",
   "id": "continued-machinery",
   "metadata": {},
   "source": [
    "Peut-on faire un filtre médian par convolution ? Si oui, quel serait le masque de convolution à utiliser ?"
   ]
  },
  {
   "cell_type": "markdown",
   "id": "brazilian-standard",
   "metadata": {},
   "source": [
    "**_Réponse :_**"
   ]
  },
  {
   "cell_type": "markdown",
   "id": "latter-bathroom",
   "metadata": {},
   "source": [
    "---\n",
    "**3.**\n",
    "\n",
    "Passons au filtre gaussien ! Plus aucune fonction à coder, on a juste à définir le masque de convolution, qui prendra la forme suivante :\n",
    "\n",
    "\\begin{equation*}\n",
    "    h(x,y) = \\frac{1}{2 \\pi \\sigma^{2}} exp(-\\frac{(x^{2}+y^{2})}{2 \\sigma^{2}})\n",
    "\\end{equation*}"
   ]
  },
  {
   "cell_type": "markdown",
   "id": "buried-thunder",
   "metadata": {},
   "source": [
    "La formule est jolie, mais pour faire plus simple, nous allons définir les masques à la main, qui sont un arrondi de la formule. Par exemple, le masque suivant que vous allez créer est une approximation avec $\\sigma = 0.8$ pour un masque de taille $3x3$.\n",
    "\\begin{equation*}\n",
    "    h = \\frac{1}{16} \n",
    "        \\begin{vmatrix}\n",
    "        1 & 2 & 1 \\\\\n",
    "        2 & 4 & 2 \\\\\n",
    "        1 & 2 & 1\n",
    "        \\end{vmatrix}\n",
    "\\end{equation*}"
   ]
  },
  {
   "cell_type": "markdown",
   "id": "pleasant-democracy",
   "metadata": {},
   "source": [
    "Créez le masque gaussien décrit ci-dessus"
   ]
  },
  {
   "cell_type": "code",
   "execution_count": null,
   "id": "hydraulic-university",
   "metadata": {},
   "outputs": [],
   "source": [
    "# A compléter\n",
    "# Création du masque de convolution pour un filtrage gaussien\n",
    "..."
   ]
  },
  {
   "cell_type": "markdown",
   "id": "average-slovakia",
   "metadata": {},
   "source": [
    "Affichez le résultat de l'application de la convolution avec le kernel gaussien sur vos images bruitées."
   ]
  },
  {
   "cell_type": "code",
   "execution_count": null,
   "id": "endangered-slave",
   "metadata": {},
   "outputs": [],
   "source": [
    "# A compléter\n",
    "# Filtrage gaussien par convolution sur vos images bruitées\n",
    "...\n",
    "\n",
    "# Affichage des images corrigées\n",
    "..."
   ]
  },
  {
   "cell_type": "markdown",
   "id": "exempt-advantage",
   "metadata": {},
   "source": [
    "Une petite analyse des résultats ? Que constatez-vous sur les images corrigées par rapport aux autres filtres ?"
   ]
  },
  {
   "cell_type": "markdown",
   "id": "ancient-montana",
   "metadata": {},
   "source": [
    "**_Réponse :_**"
   ]
  },
  {
   "cell_type": "markdown",
   "id": "elder-constitutional",
   "metadata": {},
   "source": [
    "---\n",
    "**4.**\n",
    "\n",
    "On finit avec un dernier filtre, toujours par convolution : le filtre exponentiel. Même principe que tout à l'heure : une convolution avec un masque de ce type :\n",
    "\\begin{equation*}\n",
    "    h(x,y) = \\frac{\\gamma^{2}}{4}exp(-\\gamma(|x|+|y|))\n",
    "\\end{equation*}"
   ]
  },
  {
   "cell_type": "markdown",
   "id": "casual-cemetery",
   "metadata": {},
   "source": [
    "Pour ce dernier filtre, créez le masque suivant :\n",
    "\\begin{equation*}\n",
    "    h = \\frac{1}{80} \n",
    "        \\begin{vmatrix}\n",
    "        1 & 1 & 3 & 1 & 1 \\\\\n",
    "        1 & 3 & 7 & 3 & 1 \\\\\n",
    "        3 & 7 & 16 & 7 & 3 \\\\\n",
    "        1 & 3 & 7 & 3 & 1 \\\\\n",
    "        1 & 1 & 3 & 1 & 1 \\\\\n",
    "        \\end{vmatrix}\n",
    "\\end{equation*}"
   ]
  },
  {
   "cell_type": "code",
   "execution_count": null,
   "id": "viral-shoot",
   "metadata": {},
   "outputs": [],
   "source": [
    "# A compléter\n",
    "# Création du masque de convolution pour le filtrage exponentiel\n",
    "..."
   ]
  },
  {
   "cell_type": "markdown",
   "id": "atmospheric-remains",
   "metadata": {},
   "source": [
    "Affichez le résultat de l'application de la convolution avec le kernel exponentiel sur l'image bruitée."
   ]
  },
  {
   "cell_type": "code",
   "execution_count": null,
   "id": "going-minnesota",
   "metadata": {},
   "outputs": [],
   "source": [
    "# A compléter\n",
    "# Filtrage gaussien par convolution sur vos images bruitées\n",
    "...\n",
    "\n",
    "# Affichage des images corrigées\n",
    "..."
   ]
  },
  {
   "cell_type": "markdown",
   "id": "announced-incidence",
   "metadata": {},
   "source": [
    "---\n",
    "# Partie 2 : Morphologie Mathématique\n",
    "\n",
    "Maintenant, place à la morphologie mathématique. C'est avant tout un ensemble de methodes pour le traitement de la forme des objets dans une image. L'objectif principal de cette famille d'algorithme est de supprimer le bruit introduit par des opérations de segmentation. On utilise donc souvent un algorithme MM en traitement ou en post-traitement."
   ]
  },
  {
   "cell_type": "markdown",
   "id": "enhanced-contemporary",
   "metadata": {},
   "source": [
    "Pour cette partie, chargez l'image noisy_yin_yang.png en niveaux de gris."
   ]
  },
  {
   "cell_type": "code",
   "execution_count": null,
   "id": "statewide-begin",
   "metadata": {},
   "outputs": [],
   "source": [
    "# A compléter\n",
    "# Chargement de l'image et affichage\n",
    "..."
   ]
  },
  {
   "cell_type": "markdown",
   "id": "authorized-administration",
   "metadata": {},
   "source": [
    "Votre image est assez grande (1200x1200). Pour avoir des temps de calcul corrects, je vous conseille de la redimensionner avec le petit code ci-dessous :"
   ]
  },
  {
   "cell_type": "code",
   "execution_count": null,
   "id": "gentle-convention",
   "metadata": {},
   "outputs": [],
   "source": [
    "# Complétez les ... avec votre image (je ne connais pas d'avance le nom de votre variable)\n",
    "\n",
    "... = cv2.resize(...,(400,400))"
   ]
  },
  {
   "cell_type": "markdown",
   "id": "supported-glasgow",
   "metadata": {},
   "source": [
    "Dans le cadre de la morphologie mathématique, il nous faut obligatoirement ce qu'on appelle un élément structurant ou kernel. C'est un tableau/masque binaire qui sera appliqué sur notre image à traiter en fonction de l'algorithme utilisé. Plusieurs tailles et formes de kernel existent ici. Au lieu de les fabriquer nous même, on va utiliser une superbe fonction d'OpenCV : getStructuringElement.\n",
    "\n",
    "Avec cette fonction, construisez et affichez :\n",
    "- Un kernel rectangulaire 5X5\n",
    "- Un kernel elliptique 7X7\n",
    "- Un kernel en croix 3x3\n",
    "- Un kernel rectangulaire 3X11"
   ]
  },
  {
   "cell_type": "code",
   "execution_count": null,
   "id": "canadian-transformation",
   "metadata": {},
   "outputs": [],
   "source": [
    "# A compléter\n",
    "# Construction et affichage des kernels\n",
    "..."
   ]
  },
  {
   "cell_type": "markdown",
   "id": "undefined-precipitation",
   "metadata": {},
   "source": [
    "## Ex. 1 : Développement des algorithmes de Morphologie Mathématique\n",
    "\n",
    "**1.**\n",
    "\n",
    "Commençons d'abord avec l'érosion. Dans le cadre des images binaires (notre cas ;) ), l'érosion d'une image I par un kernel K consiste en l'opération suivante :\n",
    "                            \n",
    "$ {\\epsilon}_K(I) = \\{ x|K_{x} \\subset I \\}$\n",
    "\n",
    "C'est-à-dire, l'ensemble des points x tels que K soit totalement inclus dans I avec K centré en x.\n",
    "\n",
    "Dans ce principe, développez la fonction d'érosion d'une image I par un kernel K.\n",
    "\n",
    "*Note :* Comme pour le filtre par convolution, les algos de morphologie mathématiques utilisent le principe de fenêtre glissante. Je vous conseille donc de ne pas coder à zéro, mais de recopier votre fonction de convolution et de la modifier."
   ]
  },
  {
   "cell_type": "code",
   "execution_count": null,
   "id": "affiliated-bacteria",
   "metadata": {},
   "outputs": [],
   "source": [
    "# A compléter\n",
    "# Développement de la fonction d'érosion\n",
    "..."
   ]
  },
  {
   "cell_type": "markdown",
   "id": "false-dress",
   "metadata": {},
   "source": [
    "Appliquez l'érosion sur votre image bruitée avec le kernel en croix 5X5 et affichez le résultat."
   ]
  },
  {
   "cell_type": "code",
   "execution_count": null,
   "id": "psychological-compound",
   "metadata": {},
   "outputs": [],
   "source": [
    "# A compléter\n",
    "# Application de la fonction d'érosion sur l'image yinyang bruitée\n",
    "...\n",
    "\n",
    "# Affichage du résultat\n",
    "..."
   ]
  },
  {
   "cell_type": "markdown",
   "id": "southeast-hopkins",
   "metadata": {},
   "source": [
    "Que constatez-vous sur l'image corrigée ? Quel bruit a été corrigé ? Quel bruit n'a pas été corrigé ?"
   ]
  },
  {
   "cell_type": "markdown",
   "id": "speaking-lightweight",
   "metadata": {},
   "source": [
    "**_Réponse :_**"
   ]
  },
  {
   "cell_type": "markdown",
   "id": "dressed-patent",
   "metadata": {},
   "source": [
    "---\n",
    "**2.**\n",
    "\n",
    "Passons maintenant à la dilatation. Dans le cadre des images binaires, la dilatation d'une image I par un kernel K consiste en l'opération suivante :\n",
    "\n",
    "$ {\\delta}_K(I) = \\{ x|K_{x} \\cap I \\neq \\emptyset \\}$\n",
    "\n",
    "C'est-à-dire, l'union ds points x tels que $K_{x}$ intersecte I avec K centré en x.\n",
    "\n",
    "Dans ce principe, développez la fonction de dilatation d'une image I par un kernel K."
   ]
  },
  {
   "cell_type": "code",
   "execution_count": null,
   "id": "abroad-comfort",
   "metadata": {},
   "outputs": [],
   "source": [
    "# A compléter\n",
    "# Développement de la fonction de dilatation\n",
    "..."
   ]
  },
  {
   "cell_type": "markdown",
   "id": "fewer-mortality",
   "metadata": {},
   "source": [
    "Appliquez la dilatation sur votre image bruitée avec le kernel en croix 5X5 et affichez le résultat. Analysez le résultat."
   ]
  },
  {
   "cell_type": "code",
   "execution_count": null,
   "id": "objective-black",
   "metadata": {},
   "outputs": [],
   "source": [
    "# A compléter\n",
    "# Application de la dilatation sur l'image yinyang bruitée\n",
    "...\n",
    "\n",
    "# Affichage du résultat\n",
    "..."
   ]
  },
  {
   "cell_type": "markdown",
   "id": "polished-species",
   "metadata": {},
   "source": [
    "Que constatez-vous sur l'image corrigée ? Quel bruit a été corrigé ? Quel bruit n'a pas été corrigé ?"
   ]
  },
  {
   "cell_type": "markdown",
   "id": "renewable-demonstration",
   "metadata": {},
   "source": [
    "**_Réponse :_**"
   ]
  },
  {
   "cell_type": "markdown",
   "id": "written-oregon",
   "metadata": {},
   "source": [
    "---\n",
    "## Ex 2. Ouverture et fermeture, rien de bien compliqué en soit :D\n",
    "\n",
    "**1.**\n",
    "\n",
    "Passons à la vitesse supérieure ! Développez maintenant la fonction d'ouverture, qui consiste tout simplement d'une érosion puis d'une dilatation pour une image I avec un kernel K."
   ]
  },
  {
   "cell_type": "code",
   "execution_count": null,
   "id": "altered-logging",
   "metadata": {},
   "outputs": [],
   "source": [
    "# A compléter\n",
    "# Développement de la fonction d'ouverture\n",
    "..."
   ]
  },
  {
   "cell_type": "markdown",
   "id": "therapeutic-details",
   "metadata": {},
   "source": [
    "Appliquez l'ouverture sur votre image bruitée avec le kernel en croix 5X5 et affichez le résultat. Analysez le résultat."
   ]
  },
  {
   "cell_type": "code",
   "execution_count": null,
   "id": "portuguese-indicator",
   "metadata": {},
   "outputs": [],
   "source": [
    "# A compléter\n",
    "# Application de l'ouverture sur l'image yinyang bruitée\n",
    "...\n",
    "\n",
    "# Affichage du résultat\n",
    "..."
   ]
  },
  {
   "cell_type": "markdown",
   "id": "defensive-material",
   "metadata": {},
   "source": [
    "Que constatez-vous sur l'image corrigée ? Quel bruit a été corrigé ? Quel bruit n'a pas été corrigé ?"
   ]
  },
  {
   "cell_type": "markdown",
   "id": "limited-knife",
   "metadata": {},
   "source": [
    "**_Réponse :_**"
   ]
  },
  {
   "cell_type": "markdown",
   "id": "incident-borough",
   "metadata": {},
   "source": [
    "---\n",
    "**2.**\n",
    "\n",
    "Développez maintenant la fonction de fermeture, qui consiste tout simplement d'une dilatation suivie d'une érosion pour une image I avec un kernel K."
   ]
  },
  {
   "cell_type": "code",
   "execution_count": null,
   "id": "confused-junior",
   "metadata": {},
   "outputs": [],
   "source": [
    "# A compléter\n",
    "# Développement de la fonction de fermeture\n",
    "..."
   ]
  },
  {
   "cell_type": "markdown",
   "id": "generous-folks",
   "metadata": {},
   "source": [
    "Appliquez la fermeture sur votre image bruitée avec le kernel en croix 5X5 et affichez le résultat. Analysez le résultat."
   ]
  },
  {
   "cell_type": "code",
   "execution_count": null,
   "id": "adaptive-buffalo",
   "metadata": {},
   "outputs": [],
   "source": [
    "# A compléter\n",
    "# Application de la fermeture sur l'image yinyang bruitée\n",
    "...\n",
    "\n",
    "# Affichage du résultat\n",
    "..."
   ]
  },
  {
   "cell_type": "markdown",
   "id": "under-content",
   "metadata": {},
   "source": [
    "Que constatez-vous sur l'image corrigée ? Quel bruit a été corrigé ? Quel bruit n'a pas été corrigé ?"
   ]
  },
  {
   "cell_type": "markdown",
   "id": "heavy-organizer",
   "metadata": {},
   "source": [
    "**_Réponse :_**"
   ]
  },
  {
   "cell_type": "markdown",
   "id": "abandoned-forestry",
   "metadata": {},
   "source": [
    "---\n",
    "## Ex 3. : Gradient morphologique : et toi, c'est quoi tes contours ?\n",
    "\n",
    "Enfin, pour finir la partie développement, déveoppez la fonction de gradient morphologique, qui est la différence entre la dilatation et l'érosion d'une image I par un kernel K."
   ]
  },
  {
   "cell_type": "code",
   "execution_count": null,
   "id": "blond-liver",
   "metadata": {},
   "outputs": [],
   "source": [
    "# A compléter\n",
    "# Développement de la fonction du gradient morphologique\n",
    "..."
   ]
  },
  {
   "cell_type": "markdown",
   "id": "final-flavor",
   "metadata": {},
   "source": [
    "Appliquez l'ouverture sur votre image bruitée avec le kernel en croix 5X5 et affichez le résultat."
   ]
  },
  {
   "cell_type": "code",
   "execution_count": null,
   "id": "purple-morning",
   "metadata": {},
   "outputs": [],
   "source": [
    "# A compléter\n",
    "# Application du gradient morphologique sur l'image yinyang bruitée\n",
    "...\n",
    "\n",
    "# Affichage du résultat\n",
    "..."
   ]
  },
  {
   "cell_type": "markdown",
   "id": "hydraulic-adult",
   "metadata": {},
   "source": [
    "Le résultat n'est pas terrible ? C'est normal, car notre image est assez bruitée, donc on ne voit pas l'intérêt du gradient morphologique. Essayez plutôt avec l'image yin_yang.png."
   ]
  },
  {
   "cell_type": "code",
   "execution_count": null,
   "id": "alien-calculator",
   "metadata": {},
   "outputs": [],
   "source": [
    "# A compléter\n",
    "# Chargement de l'image yinyang non bruitée\n",
    "...\n",
    "\n",
    "# Application du gradient morphologique sur l'image yinyang non bruitée\n",
    "...\n",
    "\n",
    "# Affichage du résultat\n",
    "..."
   ]
  },
  {
   "cell_type": "markdown",
   "id": "royal-coverage",
   "metadata": {},
   "source": [
    "---\n",
    "# Partie 3 : Bon, passons aux choses sérieuses !"
   ]
  },
  {
   "cell_type": "markdown",
   "id": "communist-glucose",
   "metadata": {},
   "source": [
    "Attention, cet exercice n'est pas évident. Cela veut dire qu'il n'y a pas une bonne solution, à vous de voir comment procéder pour atteindre votre objectif ! Bon courage ! *_Signé Robin du passé qui a passé un certain temps pour que l'exercice soit faisable..._*\n",
    "\n",
    "Ici, on va prendre un cas pratique. Chargez l'image QRCode.png et affichez la."
   ]
  },
  {
   "cell_type": "code",
   "execution_count": null,
   "id": "expensive-caribbean",
   "metadata": {},
   "outputs": [],
   "source": [
    "# A compléter\n",
    "# Chargement et affichage de l'image QRCode\n",
    "..."
   ]
  },
  {
   "cell_type": "markdown",
   "id": "crude-apple",
   "metadata": {},
   "source": [
    "Comme vous pouvez le voir, le QR code est assez bruité, et un scanner classique de QR code pourra difficilement identifier le QR code. L'objectif ici est donc d'améliorer la qualité du QR code en éliminant le bruit présent grâce aux algorithmes de filtrage et ou de Morphologie Mathématique vues précédemment. Histoire d'être un chouilla plus rapide dans l'exécution, je vous conseille fortement d'utiliser les fonctions d'OpenCV suivantes: \n",
    "\n",
    "- cv2.medianBlur pour le filtrage médian\n",
    "- cv2.filter2D pour le filtrage par convolution\n",
    "- cv2.morphologyEx pour la morphologie mathématique\n",
    "\n",
    "Pas d'analyse de résultats, pas de blabla, je veux juste que vous arriviez à scanner le QR code :D"
   ]
  },
  {
   "cell_type": "code",
   "execution_count": null,
   "id": "freelance-capture",
   "metadata": {},
   "outputs": [],
   "source": [
    "# A compléter\n",
    "# Traitement du QR Code pour qu'il soit scannable\n",
    "..."
   ]
  }
 ],
 "metadata": {
  "kernelspec": {
   "display_name": "Python 3",
   "language": "python",
   "name": "python3"
  },
  "language_info": {
   "codemirror_mode": {
    "name": "ipython",
    "version": 3
   },
   "file_extension": ".py",
   "mimetype": "text/x-python",
   "name": "python",
   "nbconvert_exporter": "python",
   "pygments_lexer": "ipython3",
   "version": "3.9.1"
  }
 },
 "nbformat": 4,
 "nbformat_minor": 5
}
