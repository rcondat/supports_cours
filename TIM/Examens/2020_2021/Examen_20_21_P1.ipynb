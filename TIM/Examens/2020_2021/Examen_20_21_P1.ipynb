{
 "cells": [
  {
   "cell_type": "markdown",
   "metadata": {},
   "source": [
    "# TIM - Examen Pratique 2020-2021\n",
    "## Lundi 18 Janvier 2021"
   ]
  },
  {
   "cell_type": "code",
   "execution_count": null,
   "metadata": {},
   "outputs": [],
   "source": [
    "# A compléter\n",
    "# Importer ici les packages qui vous seront nécessaires pour cette partie de l'examen"
   ]
  },
  {
   "cell_type": "markdown",
   "metadata": {},
   "source": [
    "# Partie Implémentation : Histogram Backprojection\n",
    "\n",
    "Pour cet exercice, votre mission, si vous l'acceptez, sera d'implémenter l'algorithme \"Histogram backprojection\". Cet algorithme a été proposé par Michael J. Swain , Dana H. Ballard dans leur article \"Indexing via color histograms\" en 1990.\n",
    "\n",
    "Cet algorithme est utilisé principalement pour de la segmentation d'image ou pour de la détection d'objets. A partir d'une image et d'une région d'intérêt (Region Of Interest ou ROI), l'histogram backprojection retourne une image de la même taille où chaque pixel correspond à la probabilité que ce pixel appartienne à la région d'intérêt. Cette image est créée grâce à l'analyse des histogrammes 2D de l'image d'entrée et de la ROI, converties en HSV.\n",
    "\n",
    "La tâche qu'on va réaliser avec histogram backprojection est la segmentation d'images, à savoir la création d'une matrice de même taille que l'image d'entrée, où chaque pixel contient comme valeur la classe de l'objet (exemple en image ci-dessous). Cependant, avec notre algo, on va uniquement segmenter une zone d'intérêt, donc une seule classe d'objet.\n",
    "\n",
    "<img src=\"../Base_images/Segmentation.png\" style=\"width: 600px;\"/>\n"
   ]
  },
  {
   "cell_type": "markdown",
   "metadata": {},
   "source": [
    "## Partie 1 : Roses are red, Violets are blue..."
   ]
  },
  {
   "cell_type": "markdown",
   "metadata": {},
   "source": [
    "---\n",
    "1) Chargez l'image (rose.png) et la ROI (rose_roi.png) en RGB pour la démonstration et affichez-les."
   ]
  },
  {
   "cell_type": "code",
   "execution_count": null,
   "metadata": {},
   "outputs": [],
   "source": [
    "# A compléter\n",
    "# Chargement et affichage en RGB de l'image à analyser et de la région d'intérêt\n"
   ]
  },
  {
   "cell_type": "markdown",
   "metadata": {},
   "source": [
    "Vous l'avez compris : l'objectif sera de détecter les têtes de roses rouges. La ROI est une zone extraite de l'image (au centre)."
   ]
  },
  {
   "cell_type": "markdown",
   "metadata": {},
   "source": [
    "---\n",
    "2) Convertissez l'image et la ROI en HSV et affichez les résultats channel par channel (en niveau de gris)"
   ]
  },
  {
   "cell_type": "code",
   "execution_count": null,
   "metadata": {},
   "outputs": [],
   "source": [
    "# A compléter\n",
    "# Conversion HSV et affichage de l'image et de la ROI\n"
   ]
  },
  {
   "cell_type": "markdown",
   "metadata": {},
   "source": [
    "---\n",
    "3) Calculez maintenant les histogrammes 2D de l'image HSV et la ROI HSV, qui s'appeleront respectivement I et M. L' histogramme 2D d'une image est une matrice 2D avec en abscisse les valeurs possibles de l'image sur le channel H, et en ordonnée les valeurs possibles de l'image sur le channel S. Par exemple, un histogramme 2D aura aux coordonnées (x,y) le nombre de pixels de l'image correspondante ayant sur le channel H la valeur x ET sur le channel S la valeur y.\n",
    "\n",
    "Vous pouvez soit coder la fonction à la main, soit utiliser une fonction qui permet de le calculer."
   ]
  },
  {
   "cell_type": "code",
   "execution_count": null,
   "metadata": {},
   "outputs": [],
   "source": [
    "# A compléter\n",
    "# Calcul des histogrammes 2D de l'image HSV et de la ROI HSV\n"
   ]
  },
  {
   "cell_type": "markdown",
   "metadata": {},
   "source": [
    "*_Checkpoint 1_* : Vous pouvez vérifier que votre histogramme est correct grâce aux vérifications suivantes :\n",
    "- I[0,0] = 29314\n",
    "- I[0,255] = 3956\n",
    "- I.sum() = 252492\n",
    "- M[0,0] = 0\n",
    "- M[0,255] = 427\n",
    "- M.sum() = 13200"
   ]
  },
  {
   "cell_type": "code",
   "execution_count": null,
   "metadata": {},
   "outputs": [],
   "source": [
    "# A compléter\n",
    "# Vérifications de la bonne construction de vos histogrammes 2D\n"
   ]
  },
  {
   "cell_type": "markdown",
   "metadata": {},
   "source": [
    "Si ce checkpoint n'est pas validé, vous avez en secours les matrices I.npy et M.npy à charger dans le dossier 'Base_images/voie_de_secours/'"
   ]
  },
  {
   "cell_type": "markdown",
   "metadata": {},
   "source": [
    "---\n",
    "4) Calculez la matrice de probabilités R = M/I. Il se peut que vous ayez des valeurs incongrues, mais c'est normal, car I peut valoir 0 parfois. Cela n'influencera pas les résultats futurs, mais remplacez ces valeurs par 0."
   ]
  },
  {
   "cell_type": "code",
   "execution_count": null,
   "metadata": {},
   "outputs": [],
   "source": [
    "# A compléter\n",
    "# Calcul de R\n"
   ]
  },
  {
   "cell_type": "markdown",
   "metadata": {},
   "source": [
    "---\n",
    "5) R ici va être utilisée ensuite comme une 'palette'. On va pouvoir construire la matrice B, une image 1 channel de la même taille que notre image à analyser, dont chaque pixel aura comme valeur la probabilité que ce pixel soit de la même classe que la région d'intérêt.\n",
    "\n",
    "Construisez et affichez maintenant la matrice B, définie grâce à la formule suivante :\n",
    "\n",
    "\\begin{equation*}\n",
    "B(x,y) = min(R[h(x,y),s(x,y)],1)\n",
    "\\end{equation*} \n",
    "\n",
    "avec h et s qui sont respectivement les channels Hue et Saturation de l'image à analyser. "
   ]
  },
  {
   "cell_type": "code",
   "execution_count": null,
   "metadata": {},
   "outputs": [],
   "source": [
    "# A compléter\n",
    "# Création et affichage de l'image B\n"
   ]
  },
  {
   "cell_type": "markdown",
   "metadata": {},
   "source": [
    "*_Checkpoint 2_* : A ce stade, il se peut que vous n'obtenez pas un résultat satisfaisant (à base d'erreurs d'exécution, ou autre, etc.). Lors de l'affichage de la matrice de probabilité, si les pixels rouges de l'image originale ne ressortent pas distinctement (voir fichier \"Checkpoint_2.jpg' dans le dossier \"Base_images/voie_de_secours/\" pour pouvoir comparer), c'est qu'il y a sûrement une erreur. Si vous n'obtenez pas exactement le même résultat que ce que j'ai, je vous conseille de ne pas perdre de temps dessus.\n",
    "\n",
    "Si en revanche le résultat n'est pas satisfaisant, vous avez la possibilité d'utiliser la fonction OpenCV calcBackProject, où il vous faudra votre image HSV à analyser, et M, l'histogramme de votre ROI en format HSV.\n",
    "\n",
    "/!\\ : Il est fort probable que vous n'ayez pas le même résultat que la version d'OpenCV. Ceci est normal car nous effectuons pas exactement les mêmes opérations que l'algo d'OpenCV. Cependant, l'algorithme d'OpenCV retourne une matrice en uint8, donc il faudra normaliser le résultat pour avoir des valeurs comprises entre 0 et 1."
   ]
  },
  {
   "cell_type": "markdown",
   "metadata": {},
   "source": [
    "---\n",
    "6) Il est l'heure d'appliquer un filtrage sur B. Pour cela, créer un filtre elliptique de taille 5X5 (utilisé habituellement pour la morphologie mathématique), appliquez ce filtre via convolution sur B, normalisez le résultat en uint8 et affichez le résultat."
   ]
  },
  {
   "cell_type": "code",
   "execution_count": null,
   "metadata": {},
   "outputs": [],
   "source": [
    "# A compléter\n",
    "# Création du filtre elliptique, application de ce dernier sur B, normalisation et affichage du résultat \n"
   ]
  },
  {
   "cell_type": "markdown",
   "metadata": {},
   "source": [
    "---\n",
    "7) Pour finir, appliquez une binarisation sur cette image pour obtenir un masque indiquant les pixels appartenant à la classe de votre ROI. Le seuil sera défini à la main. Affichez le résultat de cette binarisation."
   ]
  },
  {
   "cell_type": "code",
   "execution_count": null,
   "metadata": {},
   "outputs": [],
   "source": [
    "# A compléter\n",
    "# Binarisation de B puis affichage du masque de sélection créé\n"
   ]
  },
  {
   "cell_type": "markdown",
   "metadata": {},
   "source": [
    "## Partie 2 : Cassiopée, apprentie influenceuse insta"
   ]
  },
  {
   "cell_type": "markdown",
   "metadata": {},
   "source": [
    "Cassiopée a un seul objectif : percer sur Insta. Cependant, elle n'a pas encore assez de notorieté pour pouvoir avoir de nombreux partenariats et faire des placements de produits. Elle n'a donc pas assez d'argent pour pouvoir réaliser un shooting photo sur les plages de Dubaï et est donc coincée dans le Poitou-Charentes.\n",
    "\n",
    "A partir de ce que vous avez implémenté précédemment, appliquez l'histogram backprojection sur la dernière photo de Cassiopée, allongée dans l'herbe (Cassiopee.jpg), et envoyez la à Dubaï avec un subtil montage photo grâce au fond disponible (\"Dubai.jpg\").\n",
    "\n",
    "*_Indice :_* Cassiopée est difficile à segmenter... Il faudrait peut-être segmenter tout sauf Cassiopée..."
   ]
  },
  {
   "cell_type": "code",
   "execution_count": null,
   "metadata": {},
   "outputs": [],
   "source": [
    "# A compléter\n",
    "# A vous de jouer...\n"
   ]
  },
  {
   "cell_type": "markdown",
   "metadata": {},
   "source": [
    "---\n",
    "## Rendu\n",
    "Le rendu qui vous est demandé est le notebook.  Vous le déposerez en fin d'examen sur Moodle, dans un dépot prévu à cet effet, dans le format NOM_Prenom_P1.ipynb "
   ]
  },
  {
   "cell_type": "code",
   "execution_count": null,
   "metadata": {},
   "outputs": [],
   "source": []
  }
 ],
 "metadata": {
  "kernelspec": {
   "display_name": "Python 3",
   "language": "python",
   "name": "python3"
  },
  "language_info": {
   "codemirror_mode": {
    "name": "ipython",
    "version": 3
   },
   "file_extension": ".py",
   "mimetype": "text/x-python",
   "name": "python",
   "nbconvert_exporter": "python",
   "pygments_lexer": "ipython3",
   "version": "3.9.1"
  }
 },
 "nbformat": 4,
 "nbformat_minor": 4
}
