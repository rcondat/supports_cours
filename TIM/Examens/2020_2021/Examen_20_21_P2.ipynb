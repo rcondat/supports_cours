{
 "cells": [
  {
   "cell_type": "markdown",
   "metadata": {},
   "source": [
    "# TIM - Examen Pratique 2020-2021\n",
    "## Lundi 18 Janvier 2021"
   ]
  },
  {
   "cell_type": "code",
   "execution_count": 12,
   "metadata": {},
   "outputs": [],
   "source": [
    "# A compléter\n",
    "# Importer ici les packages qui vous seront nécessaires pour cette partie de l'examen"
   ]
  },
  {
   "cell_type": "markdown",
   "metadata": {},
   "source": [
    "# Partie Application : Yves Montand 2.0\n",
    "\n",
    "Uberoo, célèbre start-up de livraison de repas à vélo, a décidé de régler le problème lié à la polémique de ces travailleurs sous-payés : elle va remplacer ces coursiers par des vélos automatiques !\n",
    "\n",
    "<img src=\"../Base_images/Uberoo.jpg\" style=\"width: 300px;\"/>\n",
    "\n",
    "*Vive le capitalisme !*\n",
    "\n",
    "La start-up nation appelée \"L'état français\" a approuvée cette jolie initiative à la seule condition que ces vélos automatiques roulent uniquement sur les nombreuses pistes cyclables existantes, indiquées grâce à ce panneau (disponible dans votre base d'images, sous le nom \"pattern_piste_cyclable_obligatoire.png\").\n",
    "\n",
    "<img src=\"../Base_images/pattern_piste_cyclable_obligatoire.png\" style=\"width: 300px;\"/>\n",
    "\n",
    "\n",
    "Face à cette annonce, Uberoo a commencé à implémenter un algorithme qui détecte automatiquement les panneaux sur la route. Cependant, elle n'arrive pas à réaliser la **classification** de ces panneaux. Elle est prête à abandonner l'idée et à payer convenablement ces coursiers.\n",
    "\n",
    "Votre objectif pour cet exercice est d'éviter cette catastrophe économique que Uberoo s'apprête à subir en payant ces coursiers au SMIC, en créant une fonction qui, à partir d'une image de panneau routier, retournera un booléen qui dira si celui-ci contient un panneau \"piste cyclable obligatoire\" ou non.\n",
    "\n",
    "Uberoo nous a pour cela fourni une base de données de 18 images (dans le dossier \"Panneaux routiers\" de votre base d'images)."
   ]
  },
  {
   "cell_type": "markdown",
   "metadata": {},
   "source": [
    "---\n",
    "**1)** Quelles sont les opportunités permettant de détecter ce panneau dans une image ?"
   ]
  },
  {
   "cell_type": "markdown",
   "metadata": {},
   "source": [
    "**_REPONSE :_**"
   ]
  },
  {
   "cell_type": "markdown",
   "metadata": {},
   "source": [
    "---\n",
    "**2)** Proposez un ou plusieurs outils pour classifier cette image à partir de votre analyse d'opportunités en justifiant vos choix. Choisissez un ou plusieurs de ces outils que vous allez implémenter pour la suite."
   ]
  },
  {
   "cell_type": "markdown",
   "metadata": {},
   "source": [
    "**_REPONSE :_**"
   ]
  },
  {
   "cell_type": "markdown",
   "metadata": {},
   "source": [
    "---\n",
    "**3)** Implémentez votre ou vos propositions de classification de panneaux routiers. Cette fonction prendra en entrée une image de panneau routier et retournera au minimum un booléen qui indique la présence ou non de panneau \"piste cyclable obligatoire\").\n",
    "\n",
    "*Conseils :* \n",
    "- Svp décrivez votre démarche à l'écrit. Chercher à comprendre ce que vous proposez en code, c'est compliqué...\n",
    "- Ce n'est pas grave si votre fonction ne classifie pas parfaitement, tant que l'emploi de celle-ci est justifiée : un résultat qui n'est pas concluant reste un résultat ;\n",
    "- Mettez des commentaires dans votre code ! \n",
    "- Il est fortement conseillé d'afficher des résultats intermédiaires dans votre fonction, pour justifier le bon fonctionnement de celle-ci ;\n",
    "- Uberoo déteste l'idée d'utiliser un réseau de neurones pour la classification. Elle considère que ce sont des boites noires magiques et que ça ne vaut pas un bon petit filtre de Canny-Deriche..."
   ]
  },
  {
   "cell_type": "code",
   "execution_count": null,
   "metadata": {},
   "outputs": [],
   "source": [
    "# A compléter\n",
    "# Implémentation de la ou les solution(s) proposée(s) \n"
   ]
  },
  {
   "cell_type": "markdown",
   "metadata": {},
   "source": [
    "---\n",
    "**4)** Appliquer votre fonction sur toutes les images de panneaux routiers de la base de données, avec le résultat de votre fonction de classification."
   ]
  },
  {
   "cell_type": "code",
   "execution_count": null,
   "metadata": {},
   "outputs": [],
   "source": [
    "# A compléter\n",
    "# Application de la ou les solution(s) proposée(s) sur toutes les images de la base de données de panneaux routiers\n"
   ]
  },
  {
   "cell_type": "markdown",
   "metadata": {},
   "source": [
    "---\n",
    "**5)** Analysez le(s) résultat(s) obtenu(s). N'oubliez pas de comparer les résultats des différentes méthodes (si vous en avez implémenté plusieurs)"
   ]
  },
  {
   "cell_type": "markdown",
   "metadata": {},
   "source": [
    "**_REPONSE :_**"
   ]
  },
  {
   "cell_type": "markdown",
   "metadata": {},
   "source": [
    "---\n",
    "**6)** Selon les résultats obtenus, vos choix étaient-ils adaptés à la problématique ? Pourquoi ? Comment pourrait-on améliorer les résultats ?"
   ]
  },
  {
   "cell_type": "markdown",
   "metadata": {},
   "source": [
    "**_REPONSE :_**"
   ]
  },
  {
   "cell_type": "markdown",
   "metadata": {},
   "source": [
    "---\n",
    "## Rendu\n",
    "Le rendu qui vous est demandé est le notebook.  Vous le déposerez en fin d'examen sur Moodle, dans un dépot prévu à cet effet, dans le format NOM_Prenom_P2.ipynb "
   ]
  }
 ],
 "metadata": {
  "kernelspec": {
   "display_name": "Python 3",
   "language": "python",
   "name": "python3"
  },
  "language_info": {
   "codemirror_mode": {
    "name": "ipython",
    "version": 3
   },
   "file_extension": ".py",
   "mimetype": "text/x-python",
   "name": "python",
   "nbconvert_exporter": "python",
   "pygments_lexer": "ipython3",
   "version": "3.9.1"
  }
 },
 "nbformat": 4,
 "nbformat_minor": 4
}
