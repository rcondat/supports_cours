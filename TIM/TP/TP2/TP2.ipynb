{
 "cells": [
  {
   "cell_type": "markdown",
   "metadata": {},
   "source": [
    "# TIM - TP2 : Manipulation d'histogrammes\n",
    "\n",
    "Pour cette séance, place aux histogrammes ! Comme vous le savez, c'est un outil très utile dans le cadre du pré-traitement des images.\n",
    "\n",
    "Le but de ce TP est donc de développer quelques algorithmes de prétraitements d'image à partir des histogrammes de ces dernières."
   ]
  },
  {
   "cell_type": "markdown",
   "metadata": {},
   "source": [
    "## Ex. 1 : Commençons par la base...\n",
    "\n",
    "Cet exercice sera rapide, car déjà vu lors du dernier TP.\n",
    "\n",
    "Commencez déjà par importer les librairies nécessaires pour le TP et définissez le path de votre base d'images."
   ]
  },
  {
   "cell_type": "code",
   "execution_count": null,
   "metadata": {},
   "outputs": [],
   "source": [
    "from matplotlib import pyplot as plt\n",
    "import numpy as np\n",
    "import cv2\n",
    "import time\n",
    "path_base = '..//Base_images//'"
   ]
  },
  {
   "cell_type": "markdown",
   "metadata": {},
   "source": [
    "Puis importez l'image Hawke_Bay.jpg en niveaux de gris."
   ]
  },
  {
   "cell_type": "code",
   "execution_count": null,
   "metadata": {},
   "outputs": [],
   "source": [
    "# A compléter\n",
    "# Importation de l'image Hawke_bay.jpg\n",
    "hawke_bay = ..."
   ]
  },
  {
   "cell_type": "markdown",
   "metadata": {},
   "source": [
    "Vérifiez bien que votre image est chargée en niveaux de gris (c'est-à-dire qu'elle n'a que 2 dimensions)."
   ]
  },
  {
   "cell_type": "code",
   "execution_count": null,
   "metadata": {},
   "outputs": [],
   "source": [
    "assert hawke_bay.ndim==2,\"L'image chargée n'est pas en niveaux de gris\"\n",
    "print(\"Tout est ok ;) \")"
   ]
  },
  {
   "cell_type": "markdown",
   "metadata": {},
   "source": [
    "## Ex 2. : Quelques fonctions utiles pour la suite\n",
    "\n",
    "Dans cette partie, nous allons développer 3 fonctions qui seront utiles pour tout le reste du TP"
   ]
  },
  {
   "cell_type": "markdown",
   "metadata": {},
   "source": [
    "Tout d'abord, nous allons créer une fonction qui aura pour but de chronométrer une autre fonction. Celle-ci affichera le temps d'exécution de la fonction à chronométrer, et le résultat que cette dernière a produit. On utilisera le package *time*, pour définir deux variables *t_before* et *t_after*. Votre procédure prendra en entrée la fonction à chronométrer, l'image à traiter pour cette fonction et le nom de la fonction (chaine de caractères).\n",
    "\n",
    "Exemple de signature :\n",
    "* chronometrer(fonction_a_chronometrer,image,nom_de_la_fonction) => image_traitée"
   ]
  },
  {
   "cell_type": "code",
   "execution_count": null,
   "metadata": {},
   "outputs": [],
   "source": [
    "# A compléter\n",
    "# Ecriture de la fonction de chronométrage d'une fonction\n",
    "..."
   ]
  },
  {
   "cell_type": "markdown",
   "metadata": {},
   "source": [
    "Testez votre fonction fraichement développée."
   ]
  },
  {
   "cell_type": "code",
   "execution_count": null,
   "metadata": {},
   "outputs": [],
   "source": [
    "def test_fonction(image):\n",
    "    time.sleep(1)\n",
    "    return image\n",
    "\n",
    "def test_fonction_2(image,a):\n",
    "    time.sleep(2)\n",
    "    return image\n",
    "\n",
    "# A compléter\n",
    "# Test de la fonction développée\n",
    "..."
   ]
  },
  {
   "cell_type": "markdown",
   "metadata": {},
   "source": [
    "Créer une procédure pour l'affichage d'une image, qui prendra en arguments l'image, la palette de couleurs à utiliser et le titre de cette dernière (argument optionnel).\n",
    "\n",
    "Exemple de signatures : \n",
    "* afficher(image,palette,titre)\n",
    "* afficher(image,palette)\n"
   ]
  },
  {
   "cell_type": "code",
   "execution_count": null,
   "metadata": {},
   "outputs": [],
   "source": [
    "# A compléter\n",
    "# Ecriture de la fonction d'affichage d'une image\n",
    "..."
   ]
  },
  {
   "cell_type": "markdown",
   "metadata": {},
   "source": [
    "Affichez l'image, en niveaux de gris."
   ]
  },
  {
   "cell_type": "code",
   "execution_count": null,
   "metadata": {},
   "outputs": [],
   "source": [
    "# A compléter\n",
    "# Affichez l'image en niveaux de gris\n",
    "..."
   ]
  },
  {
   "cell_type": "markdown",
   "metadata": {},
   "source": [
    "Créez maintenant une fonction qui tracera l'histogramme des niveaux de gris d'une image. Celle-ci prendra en arguments l'image et le titre de l'histogramme (argument optionnel).\n",
    "\n",
    "Exemple de signatures : \n",
    "* histogramme(image,titre)\n",
    "* histogramme(image)"
   ]
  },
  {
   "cell_type": "code",
   "execution_count": null,
   "metadata": {},
   "outputs": [],
   "source": [
    "# A compléter\n",
    "# Ecriture de la fonction d'affichage de l'histogramme d'une image\n",
    "..."
   ]
  },
  {
   "cell_type": "markdown",
   "metadata": {},
   "source": [
    "Tracez l'histogramme des niveaux de gris de cette image."
   ]
  },
  {
   "cell_type": "code",
   "execution_count": null,
   "metadata": {},
   "outputs": [],
   "source": [
    "# A compléter\n",
    "# Affichage de l'histogramme des niveaux de gris de l'image\n",
    "..."
   ]
  },
  {
   "cell_type": "markdown",
   "metadata": {},
   "source": [
    "## Ex 3. : Binarisation d'images\n",
    "\n",
    "Le but de la binarisation d’une image est d’affecter un niveau uniforme au pixels pertinents et d´éliminer les autres. C'est une opération assez simple, mais tellement utilisée pour plein de cas concrets.\n",
    "\n",
    "On va donc l'implémenter en 2 versions : la binarisation par seuillage et la binarisation par extraction d'une fenêtre d'intensité. Il existe d'autres versions de binarisation (binarisation inversée, binarisation avec seuil adaptatif, etc.)."
   ]
  },
  {
   "cell_type": "markdown",
   "metadata": {},
   "source": [
    "**1.**\n",
    "\n",
    "Commencons d'abord par la binarisation par seuillage. Le principe est simple : pour un seuil a défini, la binarisation est une tranformation $t(f)$ où, pour tout pixel f de l'image :\n",
    "\\begin{equation*}\n",
    "    t(f) = \n",
    "    \\begin{cases}\n",
    "    0 & \\quad \\text{si } f<a\\\\\n",
    "    255 & \\quad \\text{sinon}\\\\\n",
    "    \\end{cases}\n",
    "\\end{equation*}\n",
    "\n",
    "Ecrivez une fonction qui réalisera la binarisation par seuillage sur l'image chargée, avec un seuil a défini."
   ]
  },
  {
   "cell_type": "code",
   "execution_count": null,
   "metadata": {},
   "outputs": [],
   "source": [
    "# A compléter\n",
    "# Définition du seuil\n",
    "..."
   ]
  },
  {
   "cell_type": "code",
   "execution_count": null,
   "metadata": {},
   "outputs": [],
   "source": [
    "# A compléter\n",
    "# Création de la fonction binarisation par seuillage\n",
    "..."
   ]
  },
  {
   "cell_type": "code",
   "execution_count": null,
   "metadata": {},
   "outputs": [],
   "source": [
    "# A compléter\n",
    "# Affichage de l'image originale et du résultat après \n",
    "# binarisation avec le seuil a\n",
    "..."
   ]
  },
  {
   "cell_type": "markdown",
   "metadata": {},
   "source": [
    "Tracez l'histogramme des niveaux de gris de l'image originale et de l'image après binarisation par seuillage."
   ]
  },
  {
   "cell_type": "code",
   "execution_count": null,
   "metadata": {},
   "outputs": [],
   "source": [
    "# A compléter\n",
    "# Affichage de l'histogramme des niveaux de gris de l'image originale et de\n",
    "# de l'image binarisée avec le seuil a\n",
    "..."
   ]
  },
  {
   "cell_type": "markdown",
   "metadata": {},
   "source": [
    "**2.**\n",
    "\n",
    "Passons à la binarisation par extraction de fenêtre d'intensité. Le principe est similaire à la binarisation par seuillage : pour 2 seuils a et définis, $a<b$, la binarisation est une tranformation $t(f)$ où, pour tout pixel f de l'image :\n",
    "\\begin{equation*}\n",
    "    t(f) = \n",
    "    \\begin{cases}\n",
    "    f & \\quad \\text{si } a\\leq f \\leq b\\\\\n",
    "    0 & \\quad \\text{sinon}\\\\\n",
    "    \\end{cases}\n",
    "\\end{equation*}\n",
    "\n",
    "Ecrivez une fonction qui réalisera la binarisation par extraction de fenêtre d'intensité sur l'image chargée, avec les seuil a et b définis. Dans un premier temps, cette fonction sera développée avec des boucles."
   ]
  },
  {
   "cell_type": "code",
   "execution_count": null,
   "metadata": {},
   "outputs": [],
   "source": [
    "# A compléter\n",
    "# Définition des seuils\n",
    "..."
   ]
  },
  {
   "cell_type": "code",
   "execution_count": null,
   "metadata": {},
   "outputs": [],
   "source": [
    "# A compléter\n",
    "# Création de la fonction binarisation par extraction d'une fenêtre d'intensité\n",
    "..."
   ]
  },
  {
   "cell_type": "code",
   "execution_count": null,
   "metadata": {},
   "outputs": [],
   "source": [
    "# A compléter\n",
    "# Affichage de l'image originale et du résultat après \n",
    "# binarisation par extraction d'une fenetre d'intensité aux seuils a et b\n",
    "...\n",
    "\n",
    "# Affichage de l'histogramme des niveaux de gris de l'image originale et de\n",
    "# de l'image binarisée par extraction d'une fenetre d'intensité aux seuils a et b\n",
    "..."
   ]
  },
  {
   "cell_type": "markdown",
   "metadata": {},
   "source": [
    "## Ex 4. : Expansion de la dynamique\n",
    "\n",
    "L'expansion de la dynamique est une transformation $t(f)$ qui permet de modifier la dynamique des niveaux de gris dans le but d'améliorer l'aspect visuel de l'image. Pour deux seuils a et b définis, la transformation d'un pixel f de l'image est définie de la manière suivante :\n",
    "\\begin{equation*}\n",
    "    t(f) = \n",
    "    \\begin{cases}\n",
    "    0 & \\quad \\text{si } f<a\\\\\n",
    "    255 & \\quad \\text{si } f>b\\\\\n",
    "    255 \\times \\frac{f-a}{b-a} & \\quad \\text{sinon}\\\\\n",
    "    \\end{cases}\n",
    "\\end{equation*}\n",
    "\n",
    "Définissez vos seuils a et b et créez une fonction qui réalisera l'expansion de la dynamique sur l'image chargée. Affichez l'image originale, celle-ci après l'expansion de la dynamique, et leurs histogrammes correspondants."
   ]
  },
  {
   "cell_type": "code",
   "execution_count": null,
   "metadata": {},
   "outputs": [],
   "source": [
    "# A compléter\n",
    "# Définition des seuils\n",
    "..."
   ]
  },
  {
   "cell_type": "code",
   "execution_count": null,
   "metadata": {},
   "outputs": [],
   "source": [
    "# A compléter\n",
    "# Création de la fonction expansion de la dynamique\n",
    "..."
   ]
  },
  {
   "cell_type": "code",
   "execution_count": null,
   "metadata": {},
   "outputs": [],
   "source": [
    "# A compléter\n",
    "# Affichage de l'image originale et du résultat après \n",
    "# expansion de la dynamique aux seuils a et b\n",
    "...\n",
    "\n",
    "# Affichage de l'histogramme des niveaux de gris de l'image originale et de l'image traitée\n",
    "..."
   ]
  },
  {
   "cell_type": "markdown",
   "metadata": {},
   "source": [
    "## Ex 5. : Rehaussement de contraste\n",
    "\n",
    "L'expansion de la dynamique est une transformation du même type que l'expansion de la dynamique, à savoir la modification des niveaux de gris dans le but d'améliorer l'aspect visuel de l'image. Pour deux seuils a et b définis, la transformation d'un pixel f de l'image est définie de la manière suivante :\n",
    "\\begin{equation*}\n",
    "    t(f) = \n",
    "    \\begin{cases}\n",
    "    \\frac{b}{a}f & \\quad \\text{si } 0 \\leq f \\leq a\\\\\n",
    "    \\frac{(255-b)f+255(b-a)}{255-a} & \\quad \\text{si } a \\leq f \\leq 255\\\\\n",
    "    \\end{cases}\n",
    "\\end{equation*}\n",
    "\n",
    "Définissez vos seuils a et b et créez une fonction qui réalisera le réhaussement de contraste sur l'image chargée. Affichez l'image originale, celle-ci après l'expansion de la dynamique, et leurs histogrammes correspondants."
   ]
  },
  {
   "cell_type": "code",
   "execution_count": null,
   "metadata": {},
   "outputs": [],
   "source": [
    "# A compléter\n",
    "# Définition des seuils\n",
    "..."
   ]
  },
  {
   "cell_type": "code",
   "execution_count": null,
   "metadata": {},
   "outputs": [],
   "source": [
    "# A compléter\n",
    "# Création de la fonction réhaussement de contraste (avec boucles)\n",
    "..."
   ]
  },
  {
   "cell_type": "code",
   "execution_count": null,
   "metadata": {},
   "outputs": [],
   "source": [
    "# A compléter\n",
    "# Affichage de l'image originale et du résultat après \n",
    "# réhaussement de contraste aux seuils a et b\n",
    "...\n",
    "\n",
    "# Affichage de l'histogramme des niveaux de gris de l'image originale et de l'image traitée\n",
    "..."
   ]
  },
  {
   "cell_type": "markdown",
   "metadata": {},
   "source": [
    "## Ex 6. : Egalisation d'histogramme\n",
    "\n",
    "Pour finir ce TP, nous allons implémenter un dernier algorithme : l'égalisation d'histogramme. Comme pour les algorithmes précédents, l'égalisation d'histogramme est une transformation *t(f)* qui a pour objectif de :\n",
    "* rendre l’histogramme le plus plat possible ;\n",
    "* distribuer uniformément des niveaux de gris ;\n",
    "* maximiser l’entropie de l’image ;\n",
    "* obtenir une image ayant une information maximale.\n",
    "\n",
    "D'un point de vue du domaine discret, la transformation est définie par :\n",
    "\\begin{equation*}\n",
    "t(f) = \\frac{L-1}{N} \\sum_{i=0}^{f} h(i)\n",
    "\\end{equation*}\n",
    "où L est le nombre de niveaux de gris dont l'image est codée (l'image est en uint8), N le nombre total de pixels de l'image, et h l'histogramme des niveaux de gris de l'image.\n",
    "Donc $\\sum_{i=0}^{f} h(i)$ correspond à l'histogramme cumulé à la valeur f."
   ]
  },
  {
   "cell_type": "markdown",
   "metadata": {},
   "source": [
    "**1.**\n",
    "\n",
    "Commencez d'abord par écrire une fonction qui à partir de l'image, retourne un vecteur correspondant à l'histogramme cumulé des niveaux de gris de cette dernière."
   ]
  },
  {
   "cell_type": "code",
   "execution_count": null,
   "metadata": {},
   "outputs": [],
   "source": [
    "# A compléter\n",
    "..."
   ]
  },
  {
   "cell_type": "markdown",
   "metadata": {},
   "source": [
    "---\n",
    "**2.**\n",
    "\n",
    "Ecrivez maintenant la fonction d'équalisation d'histogramme d'une image. "
   ]
  },
  {
   "cell_type": "code",
   "execution_count": null,
   "metadata": {},
   "outputs": [],
   "source": [
    "# A compléter\n",
    "# Ecriture de la fonction d'agalisation d'histogramme d'une image\n",
    "..."
   ]
  },
  {
   "cell_type": "markdown",
   "metadata": {},
   "source": [
    "## Rendu de TP\n",
    "Le rendu qui vous est demandé pour les TP de TIM est la version HTML de ce notebook. Pour l'obtenir: Fichier, télécharger au format, HTML (.html)."
   ]
  }
 ],
 "metadata": {
  "kernelspec": {
   "display_name": "Python 3",
   "language": "python",
   "name": "python3"
  },
  "language_info": {
   "codemirror_mode": {
    "name": "ipython",
    "version": 3
   },
   "file_extension": ".py",
   "mimetype": "text/x-python",
   "name": "python",
   "nbconvert_exporter": "python",
   "pygments_lexer": "ipython3",
   "version": "3.6.7"
  }
 },
 "nbformat": 4,
 "nbformat_minor": 2
}
