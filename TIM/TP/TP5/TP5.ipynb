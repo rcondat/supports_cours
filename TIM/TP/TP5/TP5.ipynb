{
 "cells": [
  {
   "cell_type": "markdown",
   "metadata": {},
   "source": [
    "# TIM - TP5 : Morphologie Mathématique"
   ]
  },
  {
   "cell_type": "markdown",
   "metadata": {},
   "source": [
    "Aujourd'hui, place à la morphologie mathématique. C'est avant tout un ensemble de methodes pour le traitement de la forme des objets dans une image. L'objectif principal de cette famille d'algorithme (dans le cadre du post-traitement) est de supprimer le bruit introduit par des opérations de segmentation. On utilise donc souvent un algorithme MM en traitement ou en post-traitement."
   ]
  },
  {
   "cell_type": "markdown",
   "metadata": {},
   "source": [
    "## Ex. 0 : Quelques préparatifs avant le développement"
   ]
  },
  {
   "cell_type": "markdown",
   "metadata": {},
   "source": [
    "Chargez l'image noisy_yin_yang.png en niveaux de gris, à télécharger sur Moodle et à insérer dans votre base d'images."
   ]
  },
  {
   "cell_type": "code",
   "execution_count": null,
   "metadata": {},
   "outputs": [],
   "source": [
    "# A compléter\n",
    "# Chargement des librairies\n",
    "\n",
    "# Définition du chemin de la base d'images\n",
    "\n",
    "# Chargement de l'image et affichage\n"
   ]
  },
  {
   "cell_type": "markdown",
   "metadata": {},
   "source": [
    "Dans le cadre de la morphologie mathématique, il nous faut obligatoirement ce qu'on appelle un élément structurant ou kernel. C'est un tableau/masque binaire qui sera appliqué sur notre image à traiter en fonction de l'algorithme utilisé. Plusieurs tailles et formes de kernel existent ici. Au lieu de les fabriquer nous même, on va utiliser une superbe fonction d'OpenCV : getStructuringElement.\n",
    "\n",
    "Avec cette fonction, construisez et affichez :\n",
    "- Un kernel rectangulaire 3x3\n",
    "- Un kernel elliptique 7X7\n",
    "- Un kernel en croix 5x5\n",
    "- Un kernel rectangulaire 3X11"
   ]
  },
  {
   "cell_type": "code",
   "execution_count": null,
   "metadata": {},
   "outputs": [],
   "source": [
    "# A compléter\n",
    "# Construction et affichage des kernels\n"
   ]
  },
  {
   "cell_type": "markdown",
   "metadata": {},
   "source": [
    "## Ex. 1 : Développement des algorithmes de Morphologie Mathématique\n",
    "\n",
    "**1.**\n",
    "\n",
    "Commençons d'abord avec l'érosion. Dans le cadre des images binaires (notre cas ;) ), l'érosion d'une image I par un kernel K consiste en l'opération suivante :\n",
    "                            \n",
    "$ {\\epsilon}_K(I) = \\{ x|K_{x} \\subset I \\}$\n",
    "\n",
    "C'est-à-dire, l'ensemble des points x tels que K soit totalement inclus dans I avec K centré en x.\n",
    "\n",
    "Dans ce principe, développez la fonction d'érosion d'une image I par un kernel K."
   ]
  },
  {
   "cell_type": "code",
   "execution_count": null,
   "metadata": {},
   "outputs": [],
   "source": [
    "# A compléter\n",
    "# Implémentation de la fonction d'érosion\n"
   ]
  },
  {
   "cell_type": "markdown",
   "metadata": {},
   "source": [
    "Appliquez l'érosion sur votre image bruitée avec le kernel en croix 5X5 et affichez le résultat. Analysez le résultat."
   ]
  },
  {
   "cell_type": "code",
   "execution_count": null,
   "metadata": {},
   "outputs": [],
   "source": [
    "# A compléter\n",
    "# Application de l'érosion sur l'image et affichage du résultat\n"
   ]
  },
  {
   "cell_type": "markdown",
   "metadata": {},
   "source": [
    "**_Réponse :_**"
   ]
  },
  {
   "cell_type": "markdown",
   "metadata": {},
   "source": [
    "---\n",
    "**2.**\n",
    "\n",
    "Passons maintenant à la dilatation. Dans le cadre des images binaires, la dilatation d'une image I par un kernel K consiste en l'opération suivante :\n",
    "\n",
    "$ {\\delta}_K(I) = \\{ x|K_{x} \\cap I \\neq \\emptyset \\}$\n",
    "\n",
    "C'est-à-dire, l'union ds points x tels que $K_{x}$ intersecte I avec K centré en x.\n",
    "\n",
    "Dans ce principe, développez la fonction de dilatation d'une image I par un kernel K."
   ]
  },
  {
   "cell_type": "code",
   "execution_count": null,
   "metadata": {},
   "outputs": [],
   "source": [
    "# A compléter\n",
    "# Implémentation de la fonction de dilatation\n"
   ]
  },
  {
   "cell_type": "markdown",
   "metadata": {},
   "source": [
    "Appliquez la dilatation sur votre image bruitée avec le kernel en croix 5X5 et affichez le résultat. Analysez le résultat."
   ]
  },
  {
   "cell_type": "code",
   "execution_count": null,
   "metadata": {},
   "outputs": [],
   "source": [
    "# A compléter\n",
    "# Application de la dilatation sur l'image et affichage du résultat\n"
   ]
  },
  {
   "cell_type": "markdown",
   "metadata": {},
   "source": [
    "**_Réponse :_** "
   ]
  },
  {
   "cell_type": "markdown",
   "metadata": {},
   "source": [
    "---\n",
    "**3.**\n",
    "\n",
    "Passons à la vitesse supérieure ! Développez maintenant la fonction d'ouverture, qui consiste tout simplement d'une érosion puis d'une dilatation pour une image I avec un kernel K."
   ]
  },
  {
   "cell_type": "code",
   "execution_count": null,
   "metadata": {},
   "outputs": [],
   "source": [
    "# A compléter\n",
    "# Implémentation de la fonction d'ouverture\n"
   ]
  },
  {
   "cell_type": "markdown",
   "metadata": {},
   "source": [
    "Appliquez l'ouverture sur votre image bruitée avec le kernel en croix 5X5 et affichez le résultat. Analysez le résultat."
   ]
  },
  {
   "cell_type": "code",
   "execution_count": null,
   "metadata": {},
   "outputs": [],
   "source": [
    "# A compléter\n",
    "# Application de l'ouverture sur l'image et affichage du résultat\n"
   ]
  },
  {
   "cell_type": "markdown",
   "metadata": {},
   "source": [
    "**_Réponse :_** "
   ]
  },
  {
   "cell_type": "markdown",
   "metadata": {},
   "source": [
    "---\n",
    "**4.**\n",
    "\n",
    "Développez maintenant la fonction de fermeture, qui consiste tout simplement d'une dilatation suivie d'une érosion pour une image I avec un kernel K."
   ]
  },
  {
   "cell_type": "code",
   "execution_count": null,
   "metadata": {},
   "outputs": [],
   "source": [
    "# A compléter\n",
    "# Implémentation de la fonction de fermeture\n"
   ]
  },
  {
   "cell_type": "markdown",
   "metadata": {},
   "source": [
    "Appliquez la fermeture sur votre image bruitée avec le kernel en croix 5X5 et affichez le résultat. Analysez le résultat."
   ]
  },
  {
   "cell_type": "code",
   "execution_count": null,
   "metadata": {},
   "outputs": [],
   "source": [
    "# A compléter\n",
    "# Application de la fermeture sur l'image et affichage du résultat\n"
   ]
  },
  {
   "cell_type": "markdown",
   "metadata": {},
   "source": [
    "**_Réponse :_** "
   ]
  },
  {
   "cell_type": "markdown",
   "metadata": {},
   "source": [
    "---\n",
    "**5.**\n",
    "\n",
    "Enfin, pour finir la partie développement, déveoppez la fonction de gradient morphologique, qui est la différence entre la dilatation et l'érosion d'une image I par un kernel K."
   ]
  },
  {
   "cell_type": "code",
   "execution_count": null,
   "metadata": {},
   "outputs": [],
   "source": [
    "# A compléter\n",
    "# Implémentation de la fonction de gradient morphologique\n"
   ]
  },
  {
   "cell_type": "markdown",
   "metadata": {},
   "source": [
    "Appliquez l'ouverture sur votre image bruitée avec le kernel en croix 5X5 et affichez le résultat."
   ]
  },
  {
   "cell_type": "code",
   "execution_count": null,
   "metadata": {},
   "outputs": [],
   "source": [
    "# A compléter\n",
    "# Application du gradient morphologique sur l'image et affichage du résultat\n"
   ]
  },
  {
   "cell_type": "markdown",
   "metadata": {},
   "source": [
    "Le résultat n'est pas terrible ? C'est normal, car notre image est assez bruitée, donc on ne voit pas l'intérêt du gradient morphologique. Essayez plutôt avec l'image yin_yang.png."
   ]
  },
  {
   "cell_type": "code",
   "execution_count": null,
   "metadata": {},
   "outputs": [],
   "source": [
    "# A compléter\n",
    "# Application du gradient morphologique sur l'image non bruitée et affichage du résultat\n"
   ]
  },
  {
   "cell_type": "markdown",
   "metadata": {},
   "source": [
    "## Ex. 2 : Bon, passons à un cas pratique maintenant ;)\n",
    "\n"
   ]
  },
  {
   "cell_type": "markdown",
   "metadata": {},
   "source": [
    "Attention, cet exercice n'est pas évident. Cela veut dire qu'il n'y a pas une bonne solution, à vous de voir comment procéder pour atteindre votre objectif ! Bon courage ! \n",
    "\n",
    "*_Signé Robin du passé qui a passé un certain temps pour que l'exercice soit faisable..._*\n",
    "\n",
    "Ici, on va prendre un cas pratique. Chargez l'image QRcode.png et affichez la."
   ]
  },
  {
   "cell_type": "code",
   "execution_count": null,
   "metadata": {},
   "outputs": [],
   "source": [
    "# A compléter\n",
    "# Chargement et affichage de l'image de QRCode\n"
   ]
  },
  {
   "cell_type": "markdown",
   "metadata": {},
   "source": [
    "Comme vous pouvez le voir, le QR code est assez bruité, et un scanner classique de QR code pourra difficilement identifier le QR code. L'objectif ici est donc d'améliorer la qualité du QR code en éliminant le bruit présent grâce aux algorithmes de Morphologie Mathématique vues précédemment. Histoire d'être un chouilla plus rapide dans l'exécution, je vous conseille fortement d'utiliser la fonction proposée par OpenCV : cv2.morphologyEx.\n",
    "\n",
    "Pas de métrique, ni de comparaison de temps d'exécution cette fois, je veux juste que vous arriviez à scanner le QR code :D"
   ]
  },
  {
   "cell_type": "code",
   "execution_count": null,
   "metadata": {},
   "outputs": [],
   "source": [
    "# A compléter\n",
    "# Traitement du QR Code pour qu'il soit scannable\n"
   ]
  },
  {
   "cell_type": "markdown",
   "metadata": {},
   "source": [
    "## Rendu de TP\n",
    "Le rendu qui vous est demandé pour les TP de TIM est la version HTML de ce notebook. Pour l'obtenir: Fichier, télécharger au format, HTML (.html). Avant d'exporter en HTML, veuillez relancer tout votre notebook : Kernel, Redémarrer le kernel et exécuter toutes les cellules"
   ]
  }
 ],
 "metadata": {
  "kernelspec": {
   "display_name": "Python 3",
   "language": "python",
   "name": "python3"
  },
  "language_info": {
   "codemirror_mode": {
    "name": "ipython",
    "version": 3
   },
   "file_extension": ".py",
   "mimetype": "text/x-python",
   "name": "python",
   "nbconvert_exporter": "python",
   "pygments_lexer": "ipython3",
   "version": "3.9.0"
  }
 },
 "nbformat": 4,
 "nbformat_minor": 4
}
