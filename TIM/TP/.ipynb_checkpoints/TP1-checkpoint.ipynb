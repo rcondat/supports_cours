{
 "cells": [
  {
   "cell_type": "markdown",
   "metadata": {},
   "source": [
    "# TIM - TP1 : Opérations sur des images avec Python"
   ]
  },
  {
   "cell_type": "markdown",
   "metadata": {},
   "source": [
    "---\n",
    "**AVANT DE COMMENCER, TRES IMPORTANT !!**\n",
    "\n",
    "Durant ce semestre, vous aurez des TPs à rendre. Ces TPs ne seront pas notés MAIS vérifiés. Je ne noterai pas les TPs en tant que tel, mais je vériefierai qu'ils sont bien faits sérieusement, même si les résultats ne sont pas bons. Si ce n'est pas le cas, c'est malus pour la note finale.\n",
    "\n",
    "Vous aurez donc dans ces fichiers de TPs des cellules de codes à compléter, comme celle-ci :"
   ]
  },
  {
   "cell_type": "code",
   "execution_count": null,
   "metadata": {},
   "outputs": [],
   "source": [
    "# A compléter\n",
    "..."
   ]
  },
  {
   "cell_type": "markdown",
   "metadata": {},
   "source": [
    "Ou des cellules texte à compléter (généralement commençant par **_REPONSE_**) :"
   ]
  },
  {
   "cell_type": "markdown",
   "metadata": {},
   "source": [
    "**_REPONSE :_** _Ici, vous écrivez votre réponse._"
   ]
  },
  {
   "cell_type": "markdown",
   "metadata": {},
   "source": [
    "\n",
    "--- \n",
    "\n",
    "Le but du TP est de commencer à étudier de vraies données avec Python.\n",
    "Dans le cadre des travaux pratiques de ce cours, nous allons principalement utiliser 3 librairies Python : \n",
    "- NumPy, pour le calcul mathématique et la manipulation de matrices ;\n",
    "- Matplotlib pour la visualisation graphique des données ;\n",
    "- OpenCV (cv2) pour la manipulation et le traitement d'images.\n",
    "\n",
    "Pour plus de détails sur Python, NumPy, Matplotlib et OpenCV, un grand nombre de ressources sont disponibles sur https://pythonprogramming.net/, y compris plusieurs séries de vidéos YouTube.\n",
    "\n",
    "La documentation complète de Python 3 et des librairies qui seront utilisées sont disponibles ici :\n",
    "- Python 3 : https://docs.python.org/fr/3/\n",
    "- NumPy : https://docs.scipy.org/doc/numpy-1.15.0/reference/index.html\n",
    "- Matplotlib : https://matplotlib.org/3.1.1/index.html\n",
    "- OpenCV : https://docs.opencv.org/4.1.1/index.html (bon courage !)"
   ]
  },
  {
   "cell_type": "markdown",
   "metadata": {},
   "source": [
    "Vérifiez bien avant de rendre un TP que toutes les cellules (codes et texte) soient bien **complétées**."
   ]
  },
  {
   "cell_type": "markdown",
   "metadata": {},
   "source": [
    "## Ex. 0 : Démarrage\n",
    "\n",
    "Python est un langage très complet et utilisé dans de nombreux domaines, du développement Web à la robotique.\n",
    "\n",
    "Dans cette série de TP, nous l'utiliserons pour la vision informatique, le calcul mathématique et la science des données.\n",
    "\n",
    "Commencez par importer les librairies nécessaires."
   ]
  },
  {
   "cell_type": "code",
   "execution_count": null,
   "metadata": {},
   "outputs": [],
   "source": [
    "%matplotlib inline\n",
    "\n",
    "# Librairies Matplotlib, NumPy et OpenCV\n",
    "import matplotlib.pyplot as plt\n",
    "import numpy as np\n",
    "import cv2 #OpenCV\n",
    "\n",
    "# Librairies supplémentaires pour certaines parties du TP\n",
    "from sklearn.cluster import MiniBatchKMeans"
   ]
  },
  {
   "cell_type": "markdown",
   "metadata": {},
   "source": [
    "Et définissez le chemin d'accès à la base d'images (utilisée ultérieurement)"
   ]
  },
  {
   "cell_type": "code",
   "execution_count": null,
   "metadata": {},
   "outputs": [],
   "source": [
    "# A changer si le dossier ne se situe pas à cet endroit\n",
    "path_base = '..//Base_images//'"
   ]
  },
  {
   "cell_type": "markdown",
   "metadata": {},
   "source": [
    "## Ex. 1 : Python et NumPy en quelques lignes"
   ]
  },
  {
   "cell_type": "markdown",
   "metadata": {},
   "source": [
    "**1.**\n",
    "\n",
    "Calculez $\\log(\\cos(1-(1+1)/2))$ et $\\sqrt{-1}$ avec NumPy"
   ]
  },
  {
   "cell_type": "code",
   "execution_count": null,
   "metadata": {},
   "outputs": [],
   "source": [
    "np.log(np.cos(1 - (1 + 1)/2 ))"
   ]
  },
  {
   "cell_type": "code",
   "execution_count": null,
   "metadata": {},
   "outputs": [],
   "source": [
    "x = np.complex(-1,0)  # On crée le complexe -1 + 0j\n",
    "np.sqrt(x)"
   ]
  },
  {
   "cell_type": "markdown",
   "metadata": {},
   "source": [
    "---\n",
    "**2.**\n",
    "\n",
    "Utilisez sur 2 cellules différentes les fonctions print et whos."
   ]
  },
  {
   "cell_type": "code",
   "execution_count": null,
   "metadata": {},
   "outputs": [],
   "source": [
    "help(print)"
   ]
  },
  {
   "cell_type": "code",
   "execution_count": null,
   "metadata": {},
   "outputs": [],
   "source": [
    "whos"
   ]
  },
  {
   "cell_type": "markdown",
   "metadata": {},
   "source": [
    "Que font les instructions Python help et %whos ?"
   ]
  },
  {
   "cell_type": "markdown",
   "metadata": {},
   "source": [
    "**_REPONSE :_**"
   ]
  },
  {
   "cell_type": "markdown",
   "metadata": {},
   "source": [
    "---\n",
    "**3.**\n",
    "\n",
    "Créez une variable a à laquelle vous affecterez le résultat du calcul $2(3+ 2)$. Puis enlevez un à la valeur de la variable a."
   ]
  },
  {
   "cell_type": "code",
   "execution_count": null,
   "metadata": {},
   "outputs": [],
   "source": [
    "a = 2*(3+2);\n",
    "a = a-1\n",
    "a"
   ]
  },
  {
   "cell_type": "markdown",
   "metadata": {},
   "source": [
    "Vérifiez quelles sont les variables connues du notebook (et que a est bien connue et quelle a le type attendu)"
   ]
  },
  {
   "cell_type": "code",
   "execution_count": null,
   "metadata": {},
   "outputs": [],
   "source": [
    "whos"
   ]
  },
  {
   "cell_type": "markdown",
   "metadata": {},
   "source": [
    "--- \n",
    "**4.**\n",
    "\n",
    "Pour créer une boucle déterministe, utilisez la fonction range pour faire varier un entier."
   ]
  },
  {
   "cell_type": "code",
   "execution_count": null,
   "metadata": {},
   "outputs": [],
   "source": [
    "N = 5\n",
    "for i in range(N):\n",
    "    print(i)"
   ]
  },
  {
   "cell_type": "markdown",
   "metadata": {},
   "source": [
    "La foncion *range* avec le paramètre *_N_* fait varier un nombre *_i_* entre 0 et *_N-1_* (contrairement à Matlab, ou en Pascal, où on fait varier *_i_* entre 1 et *_N_*)."
   ]
  },
  {
   "cell_type": "markdown",
   "metadata": {},
   "source": [
    "De la même manière que précédemment, faites varier le nombre *i* entre 10 et 1 en sens decroissant avec un pas de 2."
   ]
  },
  {
   "cell_type": "code",
   "execution_count": null,
   "metadata": {},
   "outputs": [],
   "source": [
    "#A compléter\n",
    "..."
   ]
  },
  {
   "cell_type": "markdown",
   "metadata": {},
   "source": [
    "---\n",
    "**5.**\n",
    "\n",
    "D'un point de vue numérique, une image est tout simplement une matrice. Le traitement d'image s'apparente donc à l'application d'algorithmes sur des matrices. "
   ]
  },
  {
   "cell_type": "markdown",
   "metadata": {},
   "source": [
    "Créez la matrice\n",
    "$A = \\left[\\begin{array}{lll}\n",
    "1 & 2 & 3\\\\\n",
    "4 & 5 & 6\\\\\n",
    "−1 & 0 & 1\\\\\n",
    "1 & 1 & 2\n",
    "\\end{array}\\right]$"
   ]
  },
  {
   "cell_type": "code",
   "execution_count": null,
   "metadata": {},
   "outputs": [],
   "source": [
    "A = np.array([\n",
    "    [1, 2, 3],\n",
    "    [4, 5, 6],\n",
    "    [-1, 0, 1],\n",
    "    [1, 1, 2]\n",
    "])\n",
    "A"
   ]
  },
  {
   "cell_type": "markdown",
   "metadata": {},
   "source": [
    "Affichez la taille et les dimensions de la matrice A créée."
   ]
  },
  {
   "cell_type": "code",
   "execution_count": null,
   "metadata": {},
   "outputs": [],
   "source": [
    "A.size"
   ]
  },
  {
   "cell_type": "code",
   "execution_count": null,
   "metadata": {},
   "outputs": [],
   "source": [
    "A.shape"
   ]
  },
  {
   "cell_type": "markdown",
   "metadata": {},
   "source": [
    "Affichez le nombre de dimensions de A."
   ]
  },
  {
   "cell_type": "code",
   "execution_count": null,
   "metadata": {},
   "outputs": [],
   "source": [
    "A.ndim"
   ]
  },
  {
   "cell_type": "markdown",
   "metadata": {},
   "source": [
    "Affichez la deuxième colonne de A."
   ]
  },
  {
   "cell_type": "code",
   "execution_count": null,
   "metadata": {},
   "outputs": [],
   "source": [
    "A[:,1]"
   ]
  },
  {
   "cell_type": "markdown",
   "metadata": {},
   "source": [
    "Créez un sous-tableau s composé des 2ème et 3ème lignes\n",
    "de A."
   ]
  },
  {
   "cell_type": "code",
   "execution_count": null,
   "metadata": {},
   "outputs": [],
   "source": [
    "s = A[1:3, :]\n",
    "s"
   ]
  },
  {
   "cell_type": "markdown",
   "metadata": {},
   "source": [
    "---\n",
    "**6.**\n",
    "\n",
    "*Le témoignage du chargé de TD, qui est aussi un ancien ASI :\n",
    "Ce petit exercice n°6 ne vous paraîtra pas être grand chose, mais croyez-moi, c'est un point méga important. Cela peut-être cause de nombreux bugs en traitement d'images, lorsqu'on applique des algorithmes. J'ai déjà perdu beaucoup de temps à corriger un bug dans un algo de traitement d'images à cause de ce point non maitrîsé (une bonne journée de stage de 4A ;) ). Donc, prenez des notes sur ce point-là, c'est mon petit conseil :D*\n",
    "\n",
    "Affichez le type des élements de la matrice A."
   ]
  },
  {
   "cell_type": "code",
   "execution_count": null,
   "metadata": {},
   "outputs": [],
   "source": [
    "A.dtype"
   ]
  },
  {
   "cell_type": "markdown",
   "metadata": {},
   "source": [
    "Il est important dans le cadre de la manipulation de matrices de bien connaître le type des éléments que nous manipulons :\n",
    "- Est-ce un naturel (uint), un entier (int), un réel (float), un booléen (bool), un complexe (complex) ?\n",
    "- En combien de bits l'élement est codé ? (8, 16, 32, 64)\n",
    "\n",
    "Vous trouverez ci-dessous les types de données disponibles sous NumPy."
   ]
  },
  {
   "cell_type": "markdown",
   "metadata": {},
   "source": [
    "| Data type\t    | Description |\n",
    "|---------------|-------------|\n",
    "| ``bool_``     | Boolean (True or False) stored as a byte |\n",
    "| ``int_``      | Default integer type (same as C ``long``; normally either ``int64`` or ``int32``)| \n",
    "| ``intc``      | Identical to C ``int`` (normally ``int32`` or ``int64``)| \n",
    "| ``intp``      | Integer used for indexing (same as C ``ssize_t``; normally either ``int32`` or ``int64``)| \n",
    "| ``int8``      | Byte (-128 to 127)| \n",
    "| ``int16``     | Integer (-32768 to 32767)|\n",
    "| ``int32``     | Integer (-2147483648 to 2147483647)|\n",
    "| ``int64``     | Integer (-9223372036854775808 to 9223372036854775807)| \n",
    "| ``uint8``     | Unsigned integer (0 to 255)| \n",
    "| ``uint16``    | Unsigned integer (0 to 65535)| \n",
    "| ``uint32``    | Unsigned integer (0 to 4294967295)| \n",
    "| ``uint64``    | Unsigned integer (0 to 18446744073709551615)| \n",
    "| ``float_``    | Shorthand for ``float64``.| \n",
    "| ``float16``   | Half precision float: sign bit, 5 bits exponent, 10 bits mantissa| \n",
    "| ``float32``   | Single precision float: sign bit, 8 bits exponent, 23 bits mantissa| \n",
    "| ``float64``   | Double precision float: sign bit, 11 bits exponent, 52 bits mantissa| \n",
    "| ``complex_``  | Shorthand for ``complex128``.| \n",
    "| ``complex64`` | Complex number, represented by two 32-bit floats| \n",
    "| ``complex128``| Complex number, represented by two 64-bit floats| "
   ]
  },
  {
   "cell_type": "markdown",
   "metadata": {},
   "source": [
    "Un exemple concret de mauvaise manipulation de matrice :"
   ]
  },
  {
   "cell_type": "code",
   "execution_count": null,
   "metadata": {},
   "outputs": [],
   "source": [
    "B = np.full((2,2), 255, dtype = np.uint16)\n",
    "C = np.full((2,2), 255, dtype = np.uint8)\n",
    "print(\"B :\\n{}\\n\".format(B))\n",
    "print(\"C :\\n{}\\n\".format(C))"
   ]
  },
  {
   "cell_type": "code",
   "execution_count": null,
   "metadata": {},
   "outputs": [],
   "source": [
    "print(\"B+1 :\\n{}\\n\".format(B+1))"
   ]
  },
  {
   "cell_type": "code",
   "execution_count": null,
   "metadata": {},
   "outputs": [],
   "source": [
    "print(\"C+1 :\\n{}\\n\".format(C+1))"
   ]
  },
  {
   "cell_type": "markdown",
   "metadata": {},
   "source": [
    "Pour quelle(s) raison(s) avons-nous obtenu ces résultats précédents ?"
   ]
  },
  {
   "cell_type": "markdown",
   "metadata": {},
   "source": [
    "**_REPONSE :_**"
   ]
  },
  {
   "cell_type": "markdown",
   "metadata": {},
   "source": [
    "---\n",
    "**7.**\n",
    "\n",
    "La multiplication de matrices sur Python peut se faire avec NumPy. Tout d'abord, créez 2 matrices A et B, de taille NxN."
   ]
  },
  {
   "cell_type": "code",
   "execution_count": null,
   "metadata": {},
   "outputs": [],
   "source": [
    "N = 2\n",
    "A = np.random.randint(0,10,(N,N))\n",
    "B = np.random.randint(0,10,(N,N))\n",
    "print('A : \\n{}'.format(A))\n",
    "print('B : \\n{}'.format(B))"
   ]
  },
  {
   "cell_type": "markdown",
   "metadata": {},
   "source": [
    "Que fait la fonction *multiply* de NumPy (équivalent à *A*B*) ?"
   ]
  },
  {
   "cell_type": "code",
   "execution_count": null,
   "metadata": {},
   "outputs": [],
   "source": [
    "np.multiply(A,B)"
   ]
  },
  {
   "cell_type": "markdown",
   "metadata": {},
   "source": [
    "Que fait la fonction *dot* de NumPy (équivalent à A@B) ?"
   ]
  },
  {
   "cell_type": "code",
   "execution_count": null,
   "metadata": {},
   "outputs": [],
   "source": [
    "np.dot(A,B)"
   ]
  },
  {
   "cell_type": "markdown",
   "metadata": {},
   "source": [
    "**_REPONSE :_**"
   ]
  },
  {
   "cell_type": "markdown",
   "metadata": {},
   "source": [
    "Calculez la transposée de A multipliée par B (avec numpy.dot)"
   ]
  },
  {
   "cell_type": "code",
   "execution_count": null,
   "metadata": {},
   "outputs": [],
   "source": [
    "np.dot(A.T,B)"
   ]
  },
  {
   "cell_type": "markdown",
   "metadata": {},
   "source": [
    "---\n",
    "**8.**\n",
    "\n",
    "*Le témoignage du chargé de TD, qui est aussi un ancien ASI : \n",
    "Ce petit exercice est également important car on va énormément utiliser les masques dans cette matière. Cela va être difficle au début de les maîtriser parfaitement, mais si vous y arrivez, vous allez gagner beaucoup de temps (que ce soit dans l'écriture des codes comme dans les temps d'exécution). Cela permet d'éviter de faire des boucles, et des boucles de boucles, voire également des boucles de boucles de boucles de boucles (déjà fait, pas terrible).*\n",
    "\n",
    "\n",
    "Créez une matrice A de taille 5X5 comprenant des valeurs aléatoires entières entre 0 et 10."
   ]
  },
  {
   "cell_type": "code",
   "execution_count": null,
   "metadata": {},
   "outputs": [],
   "source": [
    "A = np.random.randint(0,10,(5,5))\n",
    "print('A : \\n{}'.format(A))"
   ]
  },
  {
   "cell_type": "markdown",
   "metadata": {},
   "source": [
    "Nous allons maintenant créer un masque. Avant que vous me posiez la question, un masque est une matrice de booléen (0 ou 1), tout simplement. Créez un masque M de la même taille que A."
   ]
  },
  {
   "cell_type": "code",
   "execution_count": null,
   "metadata": {},
   "outputs": [],
   "source": [
    "M = np.random.randint(0,2,(5,5))\n",
    "print('M : \\n{}'.format(M))"
   ]
  },
  {
   "cell_type": "markdown",
   "metadata": {},
   "source": [
    "Comme précisé précédemment, nous voulons un tableau de booléen. En rappel à l'exercice 6, vérifiez que le type de la matrice est adéquat. Si ce n'est pas le cas, utilisez la fonction astype pour avoir une matrice de booléen. Pour être sur que votre matrice est du bon type, vous devriez voir en l'affichant, non pas des 0 et 1, mais des False et True."
   ]
  },
  {
   "cell_type": "code",
   "execution_count": null,
   "metadata": {},
   "outputs": [],
   "source": [
    "# A compléter\n",
    "# Vérification du type de données de la matrice\n",
    "...\n",
    "# Changement du type de données et affichage de la matrice (si nécessaire)\n",
    "..."
   ]
  },
  {
   "cell_type": "markdown",
   "metadata": {},
   "source": [
    "Appliquez maintenant le masque sur la matrice via la commande suivante :"
   ]
  },
  {
   "cell_type": "code",
   "execution_count": null,
   "metadata": {},
   "outputs": [],
   "source": [
    "B = A[M]\n",
    "print('A : \\n{}'.format(A))\n",
    "print('M : \\n{}'.format(M))\n",
    "print('B : \\n{}'.format(B))"
   ]
  },
  {
   "cell_type": "markdown",
   "metadata": {},
   "source": [
    "Que renvoit B (l'application du masque M sur la matrice A) ?"
   ]
  },
  {
   "cell_type": "markdown",
   "metadata": {},
   "source": [
    "**_REPONSE :_** "
   ]
  },
  {
   "cell_type": "markdown",
   "metadata": {},
   "source": [
    "Maintenant, nous allons voir plusieurs applications vachement utiles des masques. Tout d'abord, on va en créer de différentes manières."
   ]
  },
  {
   "cell_type": "markdown",
   "metadata": {},
   "source": [
    "Que renvoient les commandes suivantes ?"
   ]
  },
  {
   "cell_type": "code",
   "execution_count": null,
   "metadata": {},
   "outputs": [],
   "source": [
    "# Commande 1\n",
    "A<5"
   ]
  },
  {
   "cell_type": "code",
   "execution_count": null,
   "metadata": {},
   "outputs": [],
   "source": [
    "# Commande 2\n",
    "A == 2"
   ]
  },
  {
   "cell_type": "code",
   "execution_count": null,
   "metadata": {},
   "outputs": [],
   "source": [
    "# Commande 3\n",
    "np.logical_and(A>4,A<7)"
   ]
  },
  {
   "cell_type": "code",
   "execution_count": null,
   "metadata": {},
   "outputs": [],
   "source": [
    "# Commande 4\n",
    "np.logical_xor(A>4,A<6)"
   ]
  },
  {
   "cell_type": "markdown",
   "metadata": {},
   "source": [
    "**_REPONSE :_**"
   ]
  },
  {
   "cell_type": "markdown",
   "metadata": {},
   "source": [
    "Pour finir avec cet exercice, nous allons voir plusieurs applications possibles des masques.\n",
    "\n",
    "Que renvoient les commandes suivantes ?"
   ]
  },
  {
   "cell_type": "code",
   "execution_count": null,
   "metadata": {},
   "outputs": [],
   "source": [
    "# Commande 1\n",
    "B = A.copy()\n",
    "B[A<5] = 0\n",
    "print('B :\\n{}'.format(B))"
   ]
  },
  {
   "cell_type": "code",
   "execution_count": null,
   "metadata": {},
   "outputs": [],
   "source": [
    "#Commande 2\n",
    "C = A.copy()\n",
    "C[A>7]*=2\n",
    "print('C :\\n{}'.format(C))"
   ]
  },
  {
   "cell_type": "code",
   "execution_count": null,
   "metadata": {},
   "outputs": [],
   "source": [
    "#Commande 3 \n",
    "D = A.copy()\n",
    "D[(A%2).astype(np.bool)]-=1\n",
    "print('D :\\n{}'.format(D))"
   ]
  },
  {
   "cell_type": "markdown",
   "metadata": {},
   "source": [
    "**_REPONSE :_** "
   ]
  },
  {
   "cell_type": "markdown",
   "metadata": {},
   "source": [
    "---\n",
    "**9.**\n",
    "\n",
    "Pour gérer des fichiers, on utilisera la bibliothèque os:"
   ]
  },
  {
   "cell_type": "code",
   "execution_count": null,
   "metadata": {},
   "outputs": [],
   "source": [
    "import os\n",
    "os.path.abspath(os.curdir)"
   ]
  },
  {
   "cell_type": "code",
   "execution_count": null,
   "metadata": {},
   "outputs": [],
   "source": [
    "os.listdir()"
   ]
  },
  {
   "cell_type": "markdown",
   "metadata": {},
   "source": [
    "## Ex. 2 : Lecture et visualisation des images avec OpenCV"
   ]
  },
  {
   "cell_type": "markdown",
   "metadata": {},
   "source": [
    "OpenCV est capable de lire et de décoder les fichiers images BMP, JPEG, PNG, WEBP, PBM, PGM, PPM, SR, RAS et TIFF. Comme expliqué précédemment, une image est représentée sous forme d'une matrice. Avant de traiter une image avec OpenCV, il faut la lire et décoder son format afin de la transformer en une matrice de valeurs."
   ]
  },
  {
   "cell_type": "markdown",
   "metadata": {},
   "source": [
    "**1.**\n",
    "\n",
    "Lisez l'image *lena_gray.tif*, dans le dossier *base_images*, et stockez-la dans la variable *img*."
   ]
  },
  {
   "cell_type": "code",
   "execution_count": null,
   "metadata": {},
   "outputs": [],
   "source": [
    "img = cv2.imread(path_base+'lena_gray.tif',-1) \n",
    "# Le 2ème argument désigne le type de couleur de l'image \n",
    "#   0 pour la charger en niveaux de gris\n",
    "#   1 pour la charger en couleur\n",
    "#   -1 pour la charger telle qu'elle est\n",
    "print(path_base+'lena_gray.tif')"
   ]
  },
  {
   "cell_type": "markdown",
   "metadata": {},
   "source": [
    "Affichez l'image."
   ]
  },
  {
   "cell_type": "code",
   "execution_count": null,
   "metadata": {},
   "outputs": [],
   "source": [
    "plt.imshow(img,'gray')"
   ]
  },
  {
   "cell_type": "markdown",
   "metadata": {},
   "source": [
    "Récuperez quelques infos utiles de notre image."
   ]
  },
  {
   "cell_type": "code",
   "execution_count": null,
   "metadata": {},
   "outputs": [],
   "source": [
    "rows,cols = img.shape\n",
    "img_dtype = img.dtype"
   ]
  },
  {
   "cell_type": "markdown",
   "metadata": {},
   "source": [
    "---\n",
    "**2.**\n",
    "\n",
    "Chaque élement de la matrice correspond donc à un pixel de l'image. Dans le cas de notre matrice *img* en niveaux de gris, chaque pixel à la position *(i,j)* contient donc une seule valeur **_I_** *(i,j)*, qui est le niveau de gris au point *(i,j)* (*i* : numéro de ligne, *j* : numéro de colonne). "
   ]
  },
  {
   "cell_type": "markdown",
   "metadata": {},
   "source": [
    "Récupérez le niveau de gris du pixel *(50,100)*."
   ]
  },
  {
   "cell_type": "code",
   "execution_count": null,
   "metadata": {},
   "outputs": [],
   "source": [
    "img[50,100]"
   ]
  },
  {
   "cell_type": "markdown",
   "metadata": {},
   "source": [
    "Récupérez le quart haut droit de l'image *lena_gray.tif* et affichez le résultat (image)."
   ]
  },
  {
   "cell_type": "code",
   "execution_count": null,
   "metadata": {},
   "outputs": [],
   "source": [
    "# A compléter\n",
    "# Récupérez le quart haut droit d'img\n",
    "...\n",
    "# Affichez le résultat\n",
    "..."
   ]
  },
  {
   "cell_type": "markdown",
   "metadata": {},
   "source": [
    "---\n",
    "**3.**\n",
    "\n",
    "Transposez la variable *img* avec la fonction *transpose* de NumPy, et affichez le résultat en niveaux de gris."
   ]
  },
  {
   "cell_type": "code",
   "execution_count": null,
   "metadata": {},
   "outputs": [],
   "source": [
    "# A compléter\n",
    "..."
   ]
  },
  {
   "cell_type": "markdown",
   "metadata": {},
   "source": [
    "Réalisez une rotation de 90° à img avec la fonction *rot90* de NumPy et affichez le résultat obtenu en niveaux de gris."
   ]
  },
  {
   "cell_type": "code",
   "execution_count": null,
   "metadata": {},
   "outputs": [],
   "source": [
    "# A compléter\n",
    "# Rotation de l'image de 90° et affichage du résultat\n",
    "..."
   ]
  },
  {
   "cell_type": "markdown",
   "metadata": {},
   "source": [
    "Que remarquez-vous ?"
   ]
  },
  {
   "cell_type": "markdown",
   "metadata": {},
   "source": [
    "**_REPONSE :_** "
   ]
  },
  {
   "cell_type": "markdown",
   "metadata": {},
   "source": [
    "La fonction précédente *rot90* fait le job, mais uniquement pour des rotations à 90, 180 ou 270°. Si on veut effectuer une rotation à n'importe quel degré, il faut utiliser une autre fonction.\n",
    "\n",
    "D'un point de vue plus global, pour effectuer sur une image une rotation, une translation, ou les 2, il faut de préférence passer par une matrice de transformation géométrique, qu'on appliquera sur l'image. La transformation géométrique sera abordée dans le cours de Stéréovision (Semestre 4.2).\n",
    "\n",
    "Réalisez une rotation de 45° à *img* avec les fonctions d'OpenCV :\n",
    "- *getRotationMatrix2D* pour obtenir la matrice de rotation de 45° pour l'image *img* ;\n",
    "- *warpAffine* pour appliquer la rotation à *img* avec la matrice de rotation calculée.\n",
    "\n",
    "Affichez le résultat obtenu en niveaux de gris."
   ]
  },
  {
   "cell_type": "code",
   "execution_count": null,
   "metadata": {},
   "outputs": [],
   "source": [
    "# A compléter\n",
    "# Calcul de la matrice de rotation\n",
    "...\n",
    "# Rotation de l'image avec la matrice de rotation et affichage du résultat\n",
    "..."
   ]
  },
  {
   "cell_type": "markdown",
   "metadata": {},
   "source": [
    "Que remarquez-vous ?"
   ]
  },
  {
   "cell_type": "markdown",
   "metadata": {},
   "source": [
    "**_REPONSE :_**"
   ]
  },
  {
   "cell_type": "markdown",
   "metadata": {},
   "source": [
    "---\n",
    "## Ex 3. Création et visualisation des images\n",
    "\n",
    "**1.**\n",
    "\n",
    "Créez une matrice *_M_* de taille *_N x N_* avec *N = 256* dont le terme général est **_M_** *(i,j) = j*, puis affichez la en niveaux de gris.\n",
    "\n"
   ]
  },
  {
   "cell_type": "code",
   "execution_count": null,
   "metadata": {},
   "outputs": [],
   "source": [
    "# A compléter\n",
    "# Création de la matrice M\n",
    "...\n",
    "# Affichage de la matrice M en niveaux de gris\n",
    "..."
   ]
  },
  {
   "cell_type": "markdown",
   "metadata": {},
   "source": [
    "---\n",
    "**2.**\n",
    "\n",
    "Pour l'instant, nous avons uniquement affiché nos images en niveaux de gris (*'gray'*), mais il est possible d'utiliser des palettes différentes. \n",
    "\n",
    "La liste des palettes disponibles sur Matplotlib est à ce lien : https://matplotlib.org/2.0.2/examples/color/colormaps_reference.html."
   ]
  },
  {
   "cell_type": "markdown",
   "metadata": {},
   "source": [
    "Affichez la matrice M avec une palette de couleurs (autre que niveaux de gris)"
   ]
  },
  {
   "cell_type": "code",
   "execution_count": null,
   "metadata": {},
   "outputs": [],
   "source": [
    "# A compléter\n",
    "# Affichage de la palette de couleurs\n",
    "..."
   ]
  },
  {
   "cell_type": "markdown",
   "metadata": {},
   "source": [
    "---\n",
    "**3. (optionnel)**\n",
    "\n",
    "Il est également possible de créer sa propre palette et de l'appliquer sur une image.\n",
    "\n",
    "Pour cela, on va créer une instance *colormap* de la classe *ListedColormap*, qui contiendra la matrice *colors*. Cette matrice sera de taille *(N,4)*, où N est un naturel de votre choix. Les 3 premières colonnes (RGB) contiendront des réels entre 0 et 1, et la dernière colonne (A pour la transparence) sera un vecteur rempli de 1, de longueur *N*.\n",
    "\n",
    "Créez la matrice *colors*."
   ]
  },
  {
   "cell_type": "code",
   "execution_count": null,
   "metadata": {},
   "outputs": [],
   "source": [
    "# A compléter\n",
    "N = ...\n",
    "colors = ...\n",
    "# Vérification de la taille de la matrice colors\n",
    "assert colors.shape == (N,4), 'la taille de la matrice doit être (N, 4), N = '+str(N)+' , colors.shape = '+str(colors.shape)"
   ]
  },
  {
   "cell_type": "code",
   "execution_count": null,
   "metadata": {},
   "outputs": [],
   "source": [
    "# Création de la colormap\n",
    "from matplotlib.colors import ListedColormap\n",
    "colormap = ListedColormap(colors)"
   ]
  },
  {
   "cell_type": "code",
   "execution_count": null,
   "metadata": {},
   "outputs": [],
   "source": [
    "# A compléter\n",
    "# Affichage de la matrice M avec la palette créée\n",
    "..."
   ]
  },
  {
   "cell_type": "markdown",
   "metadata": {},
   "source": [
    "--- \n",
    "## Ex. 4 : Calculs sur les images ###\n",
    "\n",
    "Pour cette partie, passons à la couleur en étudiant l'image lena_color.tif. "
   ]
  },
  {
   "cell_type": "markdown",
   "metadata": {},
   "source": [
    "**1.**\n",
    "\n",
    "Commencez d'abord par la charger et stockez la dans la variable img_color. "
   ]
  },
  {
   "cell_type": "code",
   "execution_count": null,
   "metadata": {},
   "outputs": [],
   "source": [
    "# A compléter\n",
    "# Chargement de l'image lena_color.tif\n",
    "..."
   ]
  },
  {
   "cell_type": "markdown",
   "metadata": {},
   "source": [
    "Affichez le nombre de dimensions de l'image chargée."
   ]
  },
  {
   "cell_type": "code",
   "execution_count": null,
   "metadata": {},
   "outputs": [],
   "source": [
    "# A compléter\n",
    "# Affichage du nombre de dimensions de l'image chargée\n",
    "..."
   ]
  },
  {
   "cell_type": "markdown",
   "metadata": {},
   "source": [
    "---\n",
    "**2.**\n",
    "\n",
    "Affichez les dimensions de l'image."
   ]
  },
  {
   "cell_type": "code",
   "execution_count": null,
   "metadata": {},
   "outputs": [],
   "source": [
    "# A compléter\n",
    "# Affichage des dimensions de l'image\n",
    "..."
   ]
  },
  {
   "cell_type": "markdown",
   "metadata": {},
   "source": [
    "Vous pouvez voir que l'image couleur chargée possède 3 channels : un channel bleu, un channel vert et un channel rouge. Le format de l'image est BGR (Blue, Green, Red). Affichez les composantes bleue, verte et rouge de l'image (images des intensités de chaque channel en N&B)."
   ]
  },
  {
   "cell_type": "code",
   "execution_count": null,
   "metadata": {},
   "outputs": [],
   "source": [
    "# A compléter\n",
    "# Affichage de chaque composante couleur (en N&B)\n",
    "plt.subplot(1,3,1)\n",
    "...\n",
    "plt.title(\"Composante bleue\")\n",
    "plt.subplot(1,3,2)\n",
    "...\n",
    "plt.title(\"Composante verte\")\n",
    "plt.subplot(1,3,3)\n",
    "...\n",
    "plt.title(\"Composante rouge\")\n",
    "plt.show()"
   ]
  },
  {
   "cell_type": "markdown",
   "metadata": {},
   "source": [
    "Affichez l'image img_color en couleur."
   ]
  },
  {
   "cell_type": "code",
   "execution_count": null,
   "metadata": {},
   "outputs": [],
   "source": [
    "# A compléter\n",
    "# Affichage de img_color en couleur\n",
    "..."
   ]
  },
  {
   "cell_type": "markdown",
   "metadata": {},
   "source": [
    "L'image est bizarre ? Vous remarquez un soucis particulier ? Au niveau des couleurs ? C'est normal : La palette par défaut de Matplotlib est BGR (Blue, Green, Red), et non RGB."
   ]
  },
  {
   "cell_type": "markdown",
   "metadata": {},
   "source": [
    "Pour des raisons pratiques, convertissez l'image BGR en format RGB avec la fonction cv2.cvtColor avec cv2.COLOR_BGR2RB en paramètre :\n",
    "\n",
    "        img_rgb = cv2.cvtColor(img_bgr,cv2.COLOR_BGR2RGB)"
   ]
  },
  {
   "cell_type": "code",
   "execution_count": null,
   "metadata": {},
   "outputs": [],
   "source": [
    "# A compléter\n",
    "# Conversion de l'image de BGR en RGB\n",
    "..."
   ]
  },
  {
   "cell_type": "markdown",
   "metadata": {},
   "source": [
    "Affichez l'image RGB."
   ]
  },
  {
   "cell_type": "code",
   "execution_count": null,
   "metadata": {},
   "outputs": [],
   "source": [
    "# A compléter\n",
    "# Affichage de img_color en couleur\n",
    "..."
   ]
  },
  {
   "cell_type": "markdown",
   "metadata": {},
   "source": [
    "---\n",
    "**3.**\n",
    "\n",
    "Convertissez l'image couleur RGB *img_color_rgb* en niveaux de gris :\n",
    "- En utilisant la fonction cvtColor d'OpenCV\n",
    "- En la calculant manuellement avec la formule *$I_{gray}$ = $\\alpha$R + $\\beta$G + $\\gamma$B* sachant que *$\\alpha$ = 0.2989*, *$\\beta$ = 0.5870* et *$\\gamma$ = 0.1140* "
   ]
  },
  {
   "cell_type": "code",
   "execution_count": null,
   "metadata": {},
   "outputs": [],
   "source": [
    "# A compléter\n",
    "# Conversion en niveaux de gris avec cvtColor\n",
    "...\n",
    "# Affichage de l'image en niveaux de gris\n",
    "..."
   ]
  },
  {
   "cell_type": "code",
   "execution_count": null,
   "metadata": {},
   "outputs": [],
   "source": [
    "# A compléter\n",
    "alpha = 0.2989\n",
    "beta = 0.5870\n",
    "gamma = 0.1140\n",
    "\n",
    "# Conversion manuelle en niveaux de gris\n",
    "...\n",
    "# Affichage de l'image en niveaux de gris\n",
    "..."
   ]
  },
  {
   "cell_type": "markdown",
   "metadata": {},
   "source": [
    "Comparez les résultats :\n",
    "- Au niveau des matrices elles-mêmes ;\n",
    "- Au niveau visuel"
   ]
  },
  {
   "cell_type": "markdown",
   "metadata": {},
   "source": [
    "**_REPONSE :_**"
   ]
  },
  {
   "cell_type": "markdown",
   "metadata": {},
   "source": [
    "---\n",
    "## Ex. 5 : Quantification"
   ]
  },
  {
   "cell_type": "markdown",
   "metadata": {},
   "source": [
    "**1.**\n",
    "\n",
    "Pour cette partie, nous allons réutiliser l'image lena_gray.tif. Chargez cette dernière."
   ]
  },
  {
   "cell_type": "code",
   "execution_count": null,
   "metadata": {},
   "outputs": [],
   "source": [
    "# A compléter\n",
    "# Chargement de l'image lena_gray en niveau de gris\n",
    "..."
   ]
  },
  {
   "cell_type": "markdown",
   "metadata": {},
   "source": [
    "Dans l'objectif de pouvoir compresser l'image, nous allons réduire le nombre de niveaux de gris grâce à une quantification.\n",
    "\n",
    "Ici, vous ferez une quantification scalaire uniforme : à partir d'une image contenant K niveaux de gris, vous réduirez ce nombre à N niveaux de gris.\n",
    "\n",
    "Dans notre cas, la quantification est scalaire (donc notre dictionnaire sera composé de scalaires, à savoir les niveaux de gris retenus), et uniforme. Cela veut dire que le pas de quantification (intervalle entre 2 niveaux de gris retenu) est constant. Il faudra donc calculer le pas de quantification en fonction de votre image et de N (nombre de niveaux de gris voulus)."
   ]
  },
  {
   "cell_type": "code",
   "execution_count": null,
   "metadata": {},
   "outputs": [],
   "source": [
    "# A compléter\n",
    "# Fonction imquantize\n",
    "def imquantize(img,N):\n",
    "    ..."
   ]
  },
  {
   "cell_type": "markdown",
   "metadata": {},
   "source": [
    "On désire déterminer l'influence d'une quantification à pas variables.\n",
    "\n",
    "Appliquez la quantification de l'image *lena_gray* pour ne garder 128, 64, 32, 16, 8, 4 et 2 niveaux de gris."
   ]
  },
  {
   "cell_type": "code",
   "execution_count": null,
   "metadata": {},
   "outputs": [],
   "source": [
    "# A compléter\n",
    "# Pas de quantification stockés dans une liste\n",
    "...\n",
    "# Construction de la liste des images quantifiées correspondantes à chaque pas de quantification \n",
    "..."
   ]
  },
  {
   "cell_type": "markdown",
   "metadata": {},
   "source": [
    "Affichez les images quantifiées correspondantes à chaque pas de quantification afin de déterminer le seuil minimal de quantification à partir duquel certains faux contours apparaissent."
   ]
  },
  {
   "cell_type": "code",
   "execution_count": null,
   "metadata": {},
   "outputs": [],
   "source": [
    "# A compléter\n",
    "# Affichage de l'image originale et des images quantifiées\n",
    "..."
   ]
  },
  {
   "cell_type": "markdown",
   "metadata": {},
   "source": [
    "On va maintenant créer un histogramme d'une image. C'est un graphique qui affiche la distribution des valeurs de l'image. C'est un outil très utilisé dans ce domaine, donc la base, c'est de bien construire un histogramme. Un histogramme bien construit, c'est un histogramme avec :\n",
    "- En abscisse : les valeurs possibles que peuvent prendre un pixel de l'image (même si elles ne sont pas présentes réellement dans l'image)\n",
    "- En ordonnée : le nombre de pixels de l'image égaux à la valeur d'abscisse. La somme de toutes les valeurs en ordonnées nous donne le nombre de pixels de l'image.\n",
    "\n",
    "Implémentez une fonction qui, à partir d'une image, affiche son histogramme en niveaux de gris."
   ]
  },
  {
   "cell_type": "code",
   "execution_count": null,
   "metadata": {},
   "outputs": [],
   "source": [
    "# A compléter\n",
    "# Fonction de création d'histogrammes des niveaux de gris d'une image\n",
    "def hist(img):\n",
    "    ..."
   ]
  },
  {
   "cell_type": "markdown",
   "metadata": {},
   "source": [
    "Affichez l'histogramme de l'image originale et des images quantifiées grâce à la fonction hist de Matplotlib."
   ]
  },
  {
   "cell_type": "code",
   "execution_count": null,
   "metadata": {},
   "outputs": [],
   "source": [
    "# A compléter\n",
    "# Affichage des histogrammes de l'image originale et des images quantifiées\n",
    "..."
   ]
  },
  {
   "cell_type": "markdown",
   "metadata": {},
   "source": [
    "---\n",
    "**2.**\n",
    "\n",
    "Passons maintenant à l'image couleur *cameleon.tif*\n",
    "\n",
    "Commencez par charger l'image en niveaux de gris et affichez-la."
   ]
  },
  {
   "cell_type": "code",
   "execution_count": null,
   "metadata": {},
   "outputs": [],
   "source": [
    "# A compléter\n",
    "# Chargement de l'image cameleon en niveaux de gris\n",
    "...\n",
    "# Affichage de l'image\n",
    "..."
   ]
  },
  {
   "cell_type": "markdown",
   "metadata": {},
   "source": [
    "Appliquez la quantification de l'image *cameleon* pour ne garder que 128, 64, 32, 16, 8, 4 et 2 niveaux de gris."
   ]
  },
  {
   "cell_type": "code",
   "execution_count": null,
   "metadata": {},
   "outputs": [],
   "source": [
    "# A compléter\n",
    "# Pas de quantification stockés dans une liste\n",
    "...\n",
    "# Construction de la liste des images quantifiées correspondantes à chaque pas de quantification \n",
    "..."
   ]
  },
  {
   "cell_type": "markdown",
   "metadata": {},
   "source": [
    "Affichez les images quantifiées correspondantes à chaque pas de quantification afin de déterminer le seuil minimal de quantification à partir duquel certains faux contours apparaissent."
   ]
  },
  {
   "cell_type": "code",
   "execution_count": null,
   "metadata": {},
   "outputs": [],
   "source": [
    "# A compléter\n",
    "# Affichage de l'image originale et des images quantifiées\n",
    "..."
   ]
  },
  {
   "cell_type": "markdown",
   "metadata": {},
   "source": [
    "Affichez l'histogramme de l'image originale et des images quantifiées grâce à la fonction hist de Matplotlib."
   ]
  },
  {
   "cell_type": "code",
   "execution_count": null,
   "metadata": {},
   "outputs": [],
   "source": [
    "# A compléter\n",
    "# Affichage des histogrammes de l'image originale et des images quantifiées\n",
    "..."
   ]
  },
  {
   "cell_type": "markdown",
   "metadata": {},
   "source": [
    "Comparez les résultats obtenus avec les 2 images et conclure."
   ]
  },
  {
   "cell_type": "markdown",
   "metadata": {},
   "source": [
    "**_REPONSE :_**"
   ]
  },
  {
   "cell_type": "markdown",
   "metadata": {},
   "source": [
    "---\n",
    "**3.**\n",
    "\n",
    "La quantification peut se faire également pour les images en couleur. Pour cela, nous allons charger l'image *lena_color*."
   ]
  },
  {
   "cell_type": "code",
   "execution_count": null,
   "metadata": {},
   "outputs": [],
   "source": [
    "# A compléter\n",
    "# Chargement de l'image lena_color\n",
    "..."
   ]
  },
  {
   "cell_type": "markdown",
   "metadata": {},
   "source": [
    "Comme vous le savez déjà, une image couleur possède 3 channels indépendants les uns des autres. On peut quantifier l'image en utilisant la même fonction développée précédemment sur chacun des channels. Faites un essai de cette méthode sur chacun des channels de *lena_color*, de la même manière que précedemment, en ne gardant que 4 niveaux de gris et affichez le résultat."
   ]
  },
  {
   "cell_type": "code",
   "execution_count": null,
   "metadata": {},
   "outputs": [],
   "source": [
    "# A compléter\n",
    "# Quantification de chacun des channels pour ne garder que 4 niveaux de gris\n",
    "...\n",
    "# Affichage de l'image quantifiée\n",
    "..."
   ]
  },
  {
   "cell_type": "markdown",
   "metadata": {},
   "source": [
    "Que remarquez-vous ?"
   ]
  },
  {
   "cell_type": "markdown",
   "metadata": {},
   "source": [
    "**_REPONSE :_**"
   ]
  },
  {
   "cell_type": "markdown",
   "metadata": {},
   "source": [
    "Pour effectuer une quantification couleur, il nous faut un autre algorithme, pour définir les N couleurs les plus représentatives de notre image.\n",
    "\n",
    "Comme on est gentil :D , on vous passe la fonction imquantize (équivalent de la fonction Matlab).\n",
    "imquantize prend en entrée :\n",
    "- img : l'image à quantifier ;\n",
    "- n_colors : le nombre de couleurs maximum pour la quantification.\n",
    "\n",
    "imquantize retourne en sortie quant, l'image img quantifiée.\n",
    "\n",
    "Ici la quantification se fait en sélectionnant les *N* couleurs les plus représentatives de notre image."
   ]
  },
  {
   "cell_type": "code",
   "execution_count": null,
   "metadata": {},
   "outputs": [],
   "source": [
    "def imcolorquantize(img,n_colors):\n",
    "    if img.ndim == 2:\n",
    "        img = cv2.cvtColor(img,cv2.COLOR_GRAY2RGB)\n",
    "    (h, w) = img.shape[:2]\n",
    "    img = cv2.cvtColor(img, cv2.COLOR_RGB2LAB)\n",
    "    img = img.reshape((img.shape[0] * img.shape[1], 3))\n",
    "    \n",
    "    # apply k-means using the specified number of clusters and\n",
    "    # then create the quantized image based on the predictions\n",
    "    clt = MiniBatchKMeans(n_colors)\n",
    "    labels = clt.fit_predict(img)\n",
    "    quant = clt.cluster_centers_.astype(\"uint8\")[labels]\n",
    "     \n",
    "    # reshape the feature vectors to images\n",
    "    quant = quant.reshape((h, w, 3))\n",
    " \n",
    "    # convert from L*a*b* to RGB\n",
    "    quant = cv2.cvtColor(quant, cv2.COLOR_LAB2RGB)\n",
    "\n",
    "    return quant"
   ]
  },
  {
   "cell_type": "markdown",
   "metadata": {},
   "source": [
    "La fonction implémentée, appliquez une quantification à l'image *lena_color* pour ne retenir que 4 couleurs et affichez-la."
   ]
  },
  {
   "cell_type": "code",
   "execution_count": null,
   "metadata": {},
   "outputs": [],
   "source": [
    "# A compléter\n",
    "# Application de la quantification\n",
    "...\n",
    "# Affichage du résultat obtenu\n",
    "..."
   ]
  },
  {
   "cell_type": "markdown",
   "metadata": {},
   "source": [
    "## Ex 6. : Re-échantillonnage\n",
    "\n",
    "**1.**\n",
    "\n",
    "Chargez l'image *mire.png* en niveaux de gris et affichez-la."
   ]
  },
  {
   "cell_type": "code",
   "execution_count": null,
   "metadata": {},
   "outputs": [],
   "source": [
    "# A compléter\n",
    "# Chargement de l'image\n",
    "...\n",
    "# Affichage de l'image\n",
    "..."
   ]
  },
  {
   "cell_type": "markdown",
   "metadata": {},
   "source": [
    "Créez une version sous-échantillonnée par un facteur 2 de cette image à l'aide d'une fonction que vous écrirez. Pour cela, créez une nouvelle image en ne prenant qu'un pixel sur deux dans l'image originale. (Opération à réaliser sur les lignes et les colonnes de l'image de départ)."
   ]
  },
  {
   "cell_type": "code",
   "execution_count": null,
   "metadata": {},
   "outputs": [],
   "source": [
    "# A compléter\n",
    "# Fonction de sous-échantillonage\n",
    "def subsampling(img,factor):\n",
    "    ..."
   ]
  },
  {
   "cell_type": "code",
   "execution_count": null,
   "metadata": {},
   "outputs": [],
   "source": [
    "# A compléter\n",
    "# Affichage de l'image sous échantillonnée avec un facteur 2\n",
    "..."
   ]
  },
  {
   "cell_type": "markdown",
   "metadata": {},
   "source": [
    "---\n",
    "**2.**\n",
    "\n",
    "Créez la même fonction sans boucle grâce à l'indexation des tableaux NumPy."
   ]
  },
  {
   "cell_type": "code",
   "execution_count": null,
   "metadata": {},
   "outputs": [],
   "source": [
    "# A compléter\n",
    "# Fonction de sous échantillonage sans boucle\n",
    "def subsampling2(img,factor):\n",
    "    ..."
   ]
  },
  {
   "cell_type": "code",
   "execution_count": null,
   "metadata": {},
   "outputs": [],
   "source": [
    "# A compléter\n",
    "# Affichage de l'image sous échantillonnée avec un facteur 2\n",
    "..."
   ]
  },
  {
   "cell_type": "markdown",
   "metadata": {},
   "source": [
    "Décrivez les effets du sous-échantillonnage."
   ]
  },
  {
   "cell_type": "markdown",
   "metadata": {},
   "source": [
    "**_REPONSE :_**"
   ]
  },
  {
   "cell_type": "markdown",
   "metadata": {},
   "source": [
    "---\n",
    "**3.**\n",
    "\n",
    "Refaites le sous-échantillonnage de la même image mais avec un facteur 4 (avec les 2 fonctions que vous avez implémenté)."
   ]
  },
  {
   "cell_type": "code",
   "execution_count": null,
   "metadata": {},
   "outputs": [],
   "source": [
    "# A compléter\n",
    "# Affichage de l'image sous échantillonnée avec un facteur 4 (fonction avec boucle)\n",
    "..."
   ]
  },
  {
   "cell_type": "code",
   "execution_count": null,
   "metadata": {},
   "outputs": [],
   "source": [
    "# A compléter\n",
    "# Affichage de l'image sous échantillonnée avec un facteur 4 (fonction sans boucle)\n",
    "..."
   ]
  },
  {
   "cell_type": "markdown",
   "metadata": {},
   "source": [
    "Décrivez les effets du sous-échantillonnage."
   ]
  },
  {
   "cell_type": "markdown",
   "metadata": {},
   "source": [
    "**_REPONSE :_**"
   ]
  },
  {
   "cell_type": "markdown",
   "metadata": {},
   "source": [
    "## Rendu de TP\n",
    "Le rendu qui vous est demandé pour les TP de TIM est la version HTML de ce notebook. Pour l'obtenir: Fichier, télécharger au format, HTML (.html)."
   ]
  }
 ],
 "metadata": {
  "kernelspec": {
   "display_name": "Python 3",
   "language": "python",
   "name": "python3"
  },
  "language_info": {
   "codemirror_mode": {
    "name": "ipython",
    "version": 3
   },
   "file_extension": ".py",
   "mimetype": "text/x-python",
   "name": "python",
   "nbconvert_exporter": "python",
   "pygments_lexer": "ipython3",
   "version": "3.6.7"
  }
 },
 "nbformat": 4,
 "nbformat_minor": 4
}
