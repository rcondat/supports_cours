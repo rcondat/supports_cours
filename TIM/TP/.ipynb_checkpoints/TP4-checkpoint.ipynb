{
 "cells": [
  {
   "cell_type": "markdown",
   "metadata": {},
   "source": [
    "# TIM - TP 4 : Détection de contours"
   ]
  },
  {
   "cell_type": "code",
   "execution_count": null,
   "metadata": {},
   "outputs": [],
   "source": [
    "from matplotlib import pyplot as plt\n",
    "import numpy as np\n",
    "import cv2\n",
    "import itertools\n",
    "from scipy.ndimage.interpolation import shift\n",
    "\n",
    "path_base =  '..//Base_images//'"
   ]
  },
  {
   "cell_type": "markdown",
   "metadata": {},
   "source": [
    "# 1. Cas monodimensionnel\n",
    "Le but de cette partie est de vous montrer le point de départ du filtrage d'une manière en imagerie, qui n'est d'autre que le filtrage des signaux 1D. Cette partie vous permettra également de comprendre en 1D l'operation de détection de contours pour pouvoir la généraliser au cas 2D (images)\n",
    "\n",
    "Créez deux fonctions mono-dimensionnelles représantant un contour type \"saut d'amplitude\" et un contour \"en toit\". "
   ]
  },
  {
   "cell_type": "code",
   "execution_count": null,
   "metadata": {},
   "outputs": [],
   "source": [
    "# A compléter\n",
    "# Création de la fonction \"saut d'amplitude\"\n",
    "...\n",
    "\n",
    "# Création de la fonction \"en toit\"\n",
    "...\n",
    "\n",
    "# Affichage des deux fonctions (courbes)\n",
    "..."
   ]
  },
  {
   "cell_type": "markdown",
   "metadata": {},
   "source": [
    "Pour chacune de ces fonctions vous calculerez les dérivées premières et secondes et pour cela, utilisez la fonction diff de Python pour le calcul de la dérivée. Que fait cette fonction au juste et quel est son lien avec la définition de la dérivée."
   ]
  },
  {
   "cell_type": "code",
   "execution_count": null,
   "metadata": {},
   "outputs": [],
   "source": [
    "# A compléter\n",
    "# Calcul de la dérivée première des 2 fonctions\n",
    "...\n",
    "\n",
    "# Calcul de la dérivée seconde des 2 fonctions\n",
    "...\n",
    "\n",
    "# Affichage des deux dérivées premières et des deux dérivées secondes (courbes)\n",
    "..."
   ]
  },
  {
   "cell_type": "markdown",
   "metadata": {},
   "source": [
    "**_REPONSE :_**"
   ]
  },
  {
   "cell_type": "markdown",
   "metadata": {},
   "source": [
    "Que se passe t-il à la dérivée seconde à l'endroit du contour (changement brusque d'intensité)"
   ]
  },
  {
   "cell_type": "markdown",
   "metadata": {},
   "source": [
    "**_REPONSE :_**"
   ]
  },
  {
   "cell_type": "markdown",
   "metadata": {},
   "source": [
    "# 2. Opérateurs dérivées du premier ordre\n",
    "Utilisez une palette 256 niveaux de gris pour l'affichage de vos traitement. N'oubliez pas de faire attention au type de variables quand il s'agit d'un calcul de dérivée. Les données peuvent être négatives.\n",
    "\n",
    "Calculez la norme du gradient de l'image \"cameraman.tif\" : pour cela, calculez les dérivées directionnelles (dx, dy) ainsi que la norme du gradient."
   ]
  },
  {
   "cell_type": "code",
   "execution_count": null,
   "metadata": {},
   "outputs": [],
   "source": [
    "# A compléter\n",
    "# Chargement et affichage de cameraman.tif\n",
    "..."
   ]
  },
  {
   "cell_type": "code",
   "execution_count": null,
   "metadata": {},
   "outputs": [],
   "source": [
    "# A compléter\n",
    "# Fonction de calcul des dérivées directionnelles et de la norme du gradient\n",
    "..."
   ]
  },
  {
   "cell_type": "markdown",
   "metadata": {},
   "source": [
    "Affichez et interprétez l'allure de chaque dérivée calculée."
   ]
  },
  {
   "cell_type": "code",
   "execution_count": null,
   "metadata": {},
   "outputs": [],
   "source": [
    "# A compléter\n",
    "# Affichage des dérivées directionnelles calculées et de la norme du gradient\n",
    "..."
   ]
  },
  {
   "cell_type": "markdown",
   "metadata": {},
   "source": [
    "**_REPONSE :_**"
   ]
  },
  {
   "cell_type": "markdown",
   "metadata": {},
   "source": [
    "Mêmes questions avec les opérateurs de Sobel et Prewitt (n'hésitez pas à utiliser la fonction filter2D d'OpenCV)."
   ]
  },
  {
   "cell_type": "code",
   "execution_count": null,
   "metadata": {},
   "outputs": [],
   "source": [
    "# A compléter\n",
    "# Calcul de la norme du gradient via Sobel\n",
    "...\n",
    "# Calcul de norme du gradient via Prewitt\n",
    "..."
   ]
  },
  {
   "cell_type": "code",
   "execution_count": null,
   "metadata": {},
   "outputs": [],
   "source": [
    "# Affichage des dérivées calculées (Sobel)\n",
    "..."
   ]
  },
  {
   "cell_type": "code",
   "execution_count": null,
   "metadata": {},
   "outputs": [],
   "source": [
    "# Affichage des dérivées calculées (Prewitt)\n",
    "..."
   ]
  },
  {
   "cell_type": "markdown",
   "metadata": {},
   "source": [
    "**_REPONSE :_**"
   ]
  },
  {
   "cell_type": "markdown",
   "metadata": {},
   "source": [
    "# 3. Opérateurs dérivées du second ordre \n",
    "\n",
    "Appliquez l'opérateur Laplacien sur  \"cameraman.tif\" "
   ]
  },
  {
   "cell_type": "code",
   "execution_count": null,
   "metadata": {},
   "outputs": [],
   "source": [
    "# A compléter\n",
    "# Application de l'opérateur Laplacien sur cameraman.tif\n",
    "...\n",
    "\n",
    "# Affichage du gradient et de la normalisation\n",
    "..."
   ]
  },
  {
   "cell_type": "markdown",
   "metadata": {},
   "source": [
    "Le TP précédent, on a vu le masque gaussien, mais on en a construit un manuellement, avec les valeurs que je vous ai passé. Là, on va le construire via une fonction, en respectant la formule suivante : \n",
    "\n",
    "\\begin{equation*}\n",
    "    h(x,y) = \\frac{1}{2 \\pi \\sigma^{2}} exp(-\\frac{(x^{2}+y^{2})}{2 \\sigma^{2}})\n",
    "\\end{equation*}\n",
    "\n",
    "Votre fonction prendra en entrée la taille du filtre N et sigma."
   ]
  },
  {
   "cell_type": "code",
   "execution_count": null,
   "metadata": {},
   "outputs": [],
   "source": [
    "# A compléter\n",
    "# Fonction de création de masque gaussien\n",
    "..."
   ]
  },
  {
   "cell_type": "markdown",
   "metadata": {},
   "source": [
    "Appliquez l’opérateur différence de deux gaussiennes (DOG) (avec N=3 taille du filtre et sigma = 0.6 pour la première gaussienne et N=3 et sigma = 0.9 pour la deuxième gaussienne). "
   ]
  },
  {
   "cell_type": "code",
   "execution_count": null,
   "metadata": {},
   "outputs": [],
   "source": [
    "# A compléter\n",
    "# Application de la DOG sur cameraman.tif\n",
    "...\n",
    "\n",
    "# Affichage de la DOG sur cameraman.tif\n",
    "..."
   ]
  },
  {
   "cell_type": "markdown",
   "metadata": {},
   "source": [
    "# 4. Extraction de contours par seuillage\n",
    "Réalisez un seuillage pour les opérateurs dérivée premier ordre"
   ]
  },
  {
   "cell_type": "code",
   "execution_count": null,
   "metadata": {},
   "outputs": [],
   "source": [
    "# A compléter\n",
    "# Fonction de seuillage\n",
    "..."
   ]
  },
  {
   "cell_type": "code",
   "execution_count": null,
   "metadata": {},
   "outputs": [],
   "source": [
    "# A compléter\n",
    "# Seuillage pour les opérateurs du 1er ordre\n",
    "..."
   ]
  },
  {
   "cell_type": "markdown",
   "metadata": {},
   "source": [
    "Réalisez un seuillage pour les opérateurs dérivée deuxième ordre."
   ]
  },
  {
   "cell_type": "code",
   "execution_count": null,
   "metadata": {},
   "outputs": [],
   "source": [
    "# A compléter\n",
    "# Seuillage pour les opérateurs du 2ème ordre\n",
    "..."
   ]
  },
  {
   "cell_type": "markdown",
   "metadata": {},
   "source": [
    "Quelle(s) différence(s) présentent ces deux familles de détecteurs de contours ?"
   ]
  },
  {
   "cell_type": "markdown",
   "metadata": {},
   "source": [
    "**_REPONSE :_**"
   ]
  },
  {
   "cell_type": "markdown",
   "metadata": {},
   "source": [
    "# 5. Mise en situation\n",
    "\n",
    "Pour la première fois, nous allons faire quasi tout un processus de traitement possible pour une image. Ici, vous vous en doutez, on va extraire les contours d'une image bruitée. On va donc séparer notre traitement en 2 parties :\n",
    "- Prétraitement (Filtrage)\n",
    "- Traitement (Extraction de contours)\n",
    "\n",
    "A ça, on rajoutera le bruitage de l'image qu'on simulera nous même, et l'affichage du résultat.\n",
    "\n",
    "On peut rajouter à ça une partie post-traitement, mais ce sera potentiellement pour un prochain TP.\n",
    "\n",
    "Mais tout d'abord, créez votre fonction EdgeExtractor(img,'méthode',seuil) retournant les contours de votre image selon la méthode précisée. Si le seuil n'est pas précisé, il sera calculé automatiquement grâce à une segmentation Otsu (fonction OpenCV)."
   ]
  },
  {
   "cell_type": "code",
   "execution_count": null,
   "metadata": {},
   "outputs": [],
   "source": [
    "# A compléter\n",
    "# Création de la fonction EdgeExtractor\n",
    "..."
   ]
  },
  {
   "cell_type": "markdown",
   "metadata": {},
   "source": [
    "**_Bruitage :_** Choisissez une image de test de votre choix et bruitez là avec un bruit poivre et sel grâce à la fonction du TP3 implémentée (l'image Brain serait un bonheur à traiter)."
   ]
  },
  {
   "cell_type": "code",
   "execution_count": null,
   "metadata": {},
   "outputs": [],
   "source": [
    "# A compléter\n",
    "# Chargement de l'image à bruiter\n",
    "...\n",
    "# Création de l'image bruitée\n",
    "...\n",
    "# Affichage des 2 images\n",
    "..."
   ]
  },
  {
   "cell_type": "markdown",
   "metadata": {},
   "source": [
    "**_Pré-traitement :_** Appliquez le moyen que vous jugerez necessaire pour améliorer la qualité de votre image (un filtre développé lors du TP3)."
   ]
  },
  {
   "cell_type": "code",
   "execution_count": null,
   "metadata": {},
   "outputs": [],
   "source": [
    "# A compléter\n",
    "# Pré-traitement de l'image bruitée\n",
    "...\n",
    "# Affichage de l'image prétraitée\n",
    "..."
   ]
  },
  {
   "cell_type": "markdown",
   "metadata": {},
   "source": [
    "**_Traitement :_** appliquez la méthode de votre choix pour détecter les contours de l'image."
   ]
  },
  {
   "cell_type": "code",
   "execution_count": null,
   "metadata": {},
   "outputs": [],
   "source": [
    "# A compléter\n",
    "# Traitement de votre image prétraitée (extraction de contours)\n",
    "...\n",
    "# Affichage du traitement de votre image prétraitée\n",
    "..."
   ]
  },
  {
   "cell_type": "markdown",
   "metadata": {},
   "source": [
    "**_Affichage du résultat du processus :_** a partir de votre image initiale, créez une image résultat en RGB et mettez en Rouge les contours détectés."
   ]
  },
  {
   "cell_type": "code",
   "execution_count": null,
   "metadata": {},
   "outputs": [],
   "source": [
    "# A compléter\n",
    "# Post-traitement de votre image traitée\n",
    "...\n",
    "# Affichage du résultat du post-traitement\n",
    "..."
   ]
  },
  {
   "cell_type": "markdown",
   "metadata": {},
   "source": [
    "Un petit retour de tout votre processus ? (Qu'est-ce qui a fonctionné, qu'est-ce qu'on pourrait améliorer, etc.)"
   ]
  },
  {
   "cell_type": "markdown",
   "metadata": {},
   "source": [
    "**_REPONSE :_**"
   ]
  },
  {
   "cell_type": "markdown",
   "metadata": {},
   "source": [
    "## Rendu de TP\n",
    "Le rendu qui vous est demandé pour les TP de TIM est la version HTML de ce notebook. Pour l'obtenir: Fichier, télécharger au format, HTML (.html). Avant d'exporter en HTML, veuillez relancer tout votre notebook : Kernel, Redémarrer le kernel et exécuter toutes les cellules"
   ]
  }
 ],
 "metadata": {
  "kernelspec": {
   "display_name": "Python 3",
   "language": "python",
   "name": "python3"
  },
  "language_info": {
   "codemirror_mode": {
    "name": "ipython",
    "version": 3
   },
   "file_extension": ".py",
   "mimetype": "text/x-python",
   "name": "python",
   "nbconvert_exporter": "python",
   "pygments_lexer": "ipython3",
   "version": "3.7.9"
  }
 },
 "nbformat": 4,
 "nbformat_minor": 4
}
