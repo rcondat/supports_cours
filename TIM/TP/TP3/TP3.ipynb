{
 "cells": [
  {
   "cell_type": "markdown",
   "metadata": {},
   "source": [
    "# TIM - TP3 : Filtrage\n",
    "\n",
    "Pour cette séance, on continue à voir des algorithmes de prétraitement. Aujourd'hui, nous allons donc développer plusieurs algorithmes classiques de filtrage.\n",
    "\n",
    "Mais d'abord, on ne change pas les bonnes habitudes : on importe les librairies nécessaires pour ce TP et on définit le chemin de notre base d'images."
   ]
  },
  {
   "cell_type": "code",
   "execution_count": null,
   "metadata": {},
   "outputs": [],
   "source": [
    "from matplotlib import pyplot as plt\n",
    "import numpy as np\n",
    "import cv2\n",
    "\n",
    "path_base = ..."
   ]
  },
  {
   "cell_type": "markdown",
   "metadata": {},
   "source": [
    "Puis, chargez l'image noir et blanc que vous souhaitez pour ce TP. \n",
    "\n",
    "/!\\ : Il nous faut une image en noir et blanc, donc avec uniquement un seul channel (matrice 2D)"
   ]
  },
  {
   "cell_type": "code",
   "execution_count": null,
   "metadata": {},
   "outputs": [],
   "source": [
    "# A compléter\n",
    "# Chargement de l'image de votre choix (N&B)\n",
    "..."
   ]
  },
  {
   "cell_type": "markdown",
   "metadata": {},
   "source": [
    "## Ex. 1 : Le bruitage des images\n",
    "\n",
    "Et oui ! Avant de filtrer une image, nous allons d'abord passer en revue quelques types de bruits et implémenter des fonctions pour appliquer un bruit artificiel sur notre image."
   ]
  },
  {
   "cell_type": "markdown",
   "metadata": {},
   "source": [
    "**1.**\n",
    "\n",
    "Commencez par implémenter une fonction permettant de générer p pourcents de bruit uniforme blanc et noir (salt & pepper) sur une image.\n",
    "\n",
    "*_Un petit rappel : mieux vaut éviter les boucles ;)_*"
   ]
  },
  {
   "cell_type": "code",
   "execution_count": null,
   "metadata": {},
   "outputs": [],
   "source": [
    "# A compléter\n",
    "# Développement de la fonction de génération de bruit Salt and Pepper\n",
    "..."
   ]
  },
  {
   "cell_type": "markdown",
   "metadata": {},
   "source": [
    "Appliquez un bruit S&P de 3% sur l'image que vous avez voulu traiter aujourd'hui, et affichez là."
   ]
  },
  {
   "cell_type": "code",
   "execution_count": null,
   "metadata": {},
   "outputs": [],
   "source": [
    "# A compléter\n",
    "# Bruitage de l'image avec un bruit salt & pepper\n",
    "...\n",
    "# Affichage de l'image bruitée\n",
    "..."
   ]
  },
  {
   "cell_type": "markdown",
   "metadata": {},
   "source": [
    "**2.**\n",
    "\n",
    "Implémentez maintenant une fonction permettant de générer un bruit gaussien de moyenne *mean* et d'écart-type *std* sur une image."
   ]
  },
  {
   "cell_type": "code",
   "execution_count": null,
   "metadata": {},
   "outputs": [],
   "source": [
    "# A compléter\n",
    "# Développement de la fonction de génération de bruit gaussien\n",
    "..."
   ]
  },
  {
   "cell_type": "markdown",
   "metadata": {},
   "source": [
    "Appliquez un bruit gaussien de moyenne 0 et d'écart-type 5 sur l'image que vous avez voulu traiter aujourd'hui, et affichez là."
   ]
  },
  {
   "cell_type": "code",
   "execution_count": null,
   "metadata": {},
   "outputs": [],
   "source": [
    "# A compléter\n",
    "# Bruitage de l'image avec un bruit gaussien\n",
    "...\n",
    "# Affichage de l'image bruitée\n",
    "..."
   ]
  },
  {
   "cell_type": "markdown",
   "metadata": {},
   "source": [
    "## Ex. 2 : Passons aux filtrages maintenant !\n",
    "\n",
    "Maintenant que nous avons des images bruitées, nous allons les filtrer maintenant ;) Nous allons donc développer plusieurs algorithmes de filtrage vus en cours :D"
   ]
  },
  {
   "cell_type": "markdown",
   "metadata": {},
   "source": [
    "**1.**\n",
    "\n",
    "Implémentez une fonction de filtrage moyenneur de taille *nxn* avec *n* impair."
   ]
  },
  {
   "cell_type": "code",
   "execution_count": null,
   "metadata": {},
   "outputs": [],
   "source": [
    "# A compléter\n",
    "# Développement de la fonction de filtrage moyenneur\n",
    "..."
   ]
  },
  {
   "cell_type": "markdown",
   "metadata": {},
   "source": [
    "Affichez le résultat de l'application du filtre moyenneur sur l'image bruitée S&P."
   ]
  },
  {
   "cell_type": "code",
   "execution_count": null,
   "metadata": {},
   "outputs": [],
   "source": [
    "# A compléter\n",
    "# Affichage de l'image sortante\n",
    "..."
   ]
  },
  {
   "cell_type": "markdown",
   "metadata": {},
   "source": [
    "**2.**\n",
    "\n",
    "Implémentez maintenant une fonction de filtrage médian de taille *_nxn_* avec *n* impair."
   ]
  },
  {
   "cell_type": "code",
   "execution_count": null,
   "metadata": {},
   "outputs": [],
   "source": [
    "# A compléter\n",
    "# Développement de la fonction de filtrage médian\n",
    "..."
   ]
  },
  {
   "cell_type": "markdown",
   "metadata": {},
   "source": [
    "Affichez le résultat de l'application du filtre médian sur l'image bruitée S&P."
   ]
  },
  {
   "cell_type": "code",
   "execution_count": null,
   "metadata": {},
   "outputs": [],
   "source": [
    "# A compléter\n",
    "# Affichage de l'image sortante\n",
    "..."
   ]
  },
  {
   "cell_type": "markdown",
   "metadata": {},
   "source": [
    "**3.**\n",
    "\n",
    "Passons maintenant au filtrage gaussien ! Là, on va également faire une fonction et chronométrer/afficher le résultat, mais passons d'abord par une explication plus théorique.\n",
    "\n",
    "Pour ce type de filtre, nous allons appliquer une convolution à partir d'un masque de convolution *_h_*. Pour une image *_A_*, avec le masque *_h_*, le résultat sortant est : \n",
    "\\begin{equation*}\n",
    "    C[i,j] = \\sum_{k \\in W} \\sum_{l \\in W} h[k,l]A[i-k,j-l]\n",
    "\\end{equation*}\n",
    "Un pixel *_A[i,j]_* est remplacé par une somme pondérée de lui-même et des pixels de son voisinage *_W_*.\n",
    "\n",
    "Dans le cas précédent du filtre moyenneur, cela équivaut à faire une convolution avec *_h_* de taille $n \\times n$:\n",
    "\\begin{equation*}\n",
    "    h = \n",
    "    \\begin{vmatrix}\n",
    "        1/n & \\cdots & 1/n \\\\\n",
    "        \\vdots & \\ddots & \\vdots \\\\\n",
    "        1/n & \\cdots & 1/n\n",
    "    \\end{vmatrix}\n",
    "\\end{equation*}\n",
    "\n",
    "En ce qui concerne le filtre gaussien, le masque de convolution prendra la forme qui suit :\n",
    "\n",
    "\n",
    "\\begin{equation*}\n",
    "    h(x,y) = \\frac{1}{2 \\pi \\sigma^{2}} exp(-\\frac{(x^{2}+y^{2})}{2 \\sigma^{2}})\n",
    "\\end{equation*}"
   ]
  },
  {
   "cell_type": "markdown",
   "metadata": {},
   "source": [
    "Maintenant, concernant le filtre gaussien, nous allons définir les masques nous-même, qui sont un arrondi de la formule. Par exemple, le masque suivant que vous allez créer est une approximation avec $\\sigma = 0.8$ pour un masque de taille $3x3$.\n",
    "\\begin{equation*}\n",
    "    h = \\frac{1}{16} \n",
    "        \\begin{vmatrix}\n",
    "        1 & 2 & 1 \\\\\n",
    "        2 & 4 & 2 \\\\\n",
    "        1 & 2 & 1\n",
    "        \\end{vmatrix}\n",
    "\\end{equation*}"
   ]
  },
  {
   "cell_type": "code",
   "execution_count": null,
   "metadata": {},
   "outputs": [],
   "source": [
    "# A compléter\n",
    "# Création du masque de convolution pour un filtrage gaussien\n",
    "..."
   ]
  },
  {
   "cell_type": "markdown",
   "metadata": {},
   "source": [
    "Développez la fonction de convolution avec le masque h pour effectuer un filtrage gaussien."
   ]
  },
  {
   "cell_type": "code",
   "execution_count": null,
   "metadata": {},
   "outputs": [],
   "source": [
    "# A compléter\n",
    "# Implémentation de la fonction de convolution\n",
    "..."
   ]
  },
  {
   "cell_type": "markdown",
   "metadata": {},
   "source": [
    "Affichez le résultat de l'application de la convolution avec le kernel gaussien sur l'image bruitée gaussien."
   ]
  },
  {
   "cell_type": "code",
   "execution_count": null,
   "metadata": {},
   "outputs": [],
   "source": [
    "# A compléter\n",
    "# Affichage de l'image sortante\n",
    "..."
   ]
  },
  {
   "cell_type": "markdown",
   "metadata": {},
   "source": [
    "**4.**\n",
    "\n",
    "Allez, plus qu'un dernier filtre à développer ! Et ça va être très rapide ;)\n",
    "\n",
    "En effet, place au filtre exponentiel. Même principe que tout à l'heure : une convolution avec un masque de ce type :\n",
    "\\begin{equation*}\n",
    "    h(x,y) = \\frac{\\gamma^{2}}{4}exp(-\\gamma(|x|+|y|))\n",
    "\\end{equation*}"
   ]
  },
  {
   "cell_type": "markdown",
   "metadata": {},
   "source": [
    "Pour ce dernier filtre, créez le masque suivant :\n",
    "\\begin{equation*}\n",
    "    h = \\frac{1}{80} \n",
    "        \\begin{vmatrix}\n",
    "        1 & 1 & 3 & 1 & 1 \\\\\n",
    "        1 & 3 & 7 & 3 & 1 \\\\\n",
    "        3 & 7 & 16 & 7 & 3 \\\\\n",
    "        1 & 3 & 7 & 3 & 1 \\\\\n",
    "        1 & 1 & 3 & 1 & 1 \\\\\n",
    "        \\end{vmatrix}\n",
    "\\end{equation*}"
   ]
  },
  {
   "cell_type": "code",
   "execution_count": null,
   "metadata": {},
   "outputs": [],
   "source": [
    "# A compléter\n",
    "# Création du masque de convolution pour le filtrage exponentiel\n",
    "..."
   ]
  },
  {
   "cell_type": "markdown",
   "metadata": {},
   "source": [
    "Affichez le résultat de l'application de la convolution avec le kernel exponentiel sur l'image bruitée gaussien."
   ]
  },
  {
   "cell_type": "code",
   "execution_count": null,
   "metadata": {},
   "outputs": [],
   "source": [
    "# A compléter\n",
    "# Affichage de l'image sortante\n",
    "..."
   ]
  },
  {
   "cell_type": "markdown",
   "metadata": {},
   "source": [
    "## Ex. 3 : Et si on analysait les effets obtenus après filtrage ?\n",
    "\n",
    "Pour l'instant, nous avons créer 2 images bruitées et créez 3 fonctions de filtrages (moyenne, médiane et convolution pour filtrage gaussien et exponentiel). Cependant, il est important d'analyser les résultats obtenus, et ne pas appliquer les filtres bêtement sur les images sans réflexion derrière...\n",
    "\n",
    "Pour cela, créez, à partir de votre image originale, 2 listes d'images bruitées : une avec des images bruitées P&S avec poucentage variable, et une avec des images bruitées gaussien avec moyenne *mean* et écart-type *std* variables."
   ]
  },
  {
   "cell_type": "code",
   "execution_count": null,
   "metadata": {},
   "outputs": [],
   "source": [
    "# A compléter\n",
    "# Création des listes d'images bruitées\n",
    "...\n",
    "\n",
    "# Affichage des images bruitées S&P\n",
    "...\n",
    "\n",
    "# Affichage des images bruitées Gaussien\n",
    "..."
   ]
  },
  {
   "cell_type": "markdown",
   "metadata": {},
   "source": [
    "Développez une fonction pour calculer l'erreur totale L1 entre 2 images A et B, à savoir ici la moyenne des valeurs absolues des différences des N pixels :\n",
    "\\begin{equation*}\n",
    "    erreur L1 = \\frac{\\sum_{i,j} |A[i,j]-B[i,j]|}{N}\n",
    "\\end{equation*}"
   ]
  },
  {
   "cell_type": "code",
   "execution_count": null,
   "metadata": {},
   "outputs": [],
   "source": [
    "# A compléter\n",
    "# Fonction de calcul de l'erreur totale L1\n",
    "..."
   ]
  },
  {
   "cell_type": "markdown",
   "metadata": {},
   "source": [
    "**_Bonus :_** Si vous le souhaitez, vous pouvez aussi créer une fonction de calcul de l'erreur totale L2 entre 2 images A et B, à savoir la moyenne des différences des N pixels au carré :\n",
    "\n",
    "\\begin{equation*}\n",
    "    erreur L2 = \\frac{\\sum_{i,j} (A[i,j]-B[i,j])^{2}}{N}\n",
    "\\end{equation*}"
   ]
  },
  {
   "cell_type": "code",
   "execution_count": null,
   "metadata": {},
   "outputs": [],
   "source": [
    "# A compléter en bonus\n",
    "# Fonction de calcul de l'erreur totale L2\n",
    "..."
   ]
  },
  {
   "cell_type": "markdown",
   "metadata": {},
   "source": [
    "Ok, maintenant, nous avons nos images bruitées, nos fonctions de filtrages, et notre fonction de calcul d'erreur.\n",
    "Il est l'heure d'analyser les effets des filtrages sur les images bruitées (d'un point de vue matriciel, mais également d'un point de vue visuel et également d'un point de vue chronométrique). Choisissez l'un des 4 filtres (Moyen, Médian, Gaussien, Exponentiel) et faites des expérimentations, pour expliquer les effets de ce filtres (avantages et inconvénients).\n",
    "\n",
    "*_Note :_* Pour tous ceux qui veulent analyser un filtre avec convolution, je vous conseille fortement d'abandonner votre fonction de convolution et d'utiliser la fonction filter2D d'OpenCV, qui prend en paramètre votre image et votre masque. Pour plus d'informations : https://docs.opencv.org/2.4/modules/imgproc/doc/filtering.html?highlight=filter2d#filter2d"
   ]
  },
  {
   "cell_type": "code",
   "execution_count": null,
   "metadata": {},
   "outputs": [],
   "source": [
    "# A compléter\n",
    "# Analyse de l'impact du filtre choisi sur les images bruitées\n",
    "..."
   ]
  },
  {
   "cell_type": "markdown",
   "metadata": {},
   "source": [
    "**_Filtre choisi :_**\n",
    "\n",
    "**_Analyse du filtre choisi :_**"
   ]
  },
  {
   "cell_type": "markdown",
   "metadata": {},
   "source": [
    "## Rendu de TP\n",
    "Le rendu qui vous est demandé pour les TP de TIM est la version HTML de ce notebook. Pour l'obtenir: Fichier, télécharger au format, HTML (.html). Avant d'exporter en HTML, veuillez relancer tout votre notebook : Kernel, Redémarrer le kernel et exécuter toutes les cellules"
   ]
  }
 ],
 "metadata": {
  "kernelspec": {
   "display_name": "Python 3",
   "language": "python",
   "name": "python3"
  },
  "language_info": {
   "codemirror_mode": {
    "name": "ipython",
    "version": 3
   },
   "file_extension": ".py",
   "mimetype": "text/x-python",
   "name": "python",
   "nbconvert_exporter": "python",
   "pygments_lexer": "ipython3",
   "version": "3.6.9"
  }
 },
 "nbformat": 4,
 "nbformat_minor": 4
}
