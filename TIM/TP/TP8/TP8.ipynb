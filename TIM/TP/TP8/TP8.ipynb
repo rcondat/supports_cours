{
 "cells": [
  {
   "cell_type": "markdown",
   "metadata": {},
   "source": [
    "# TIM - TP 9 : Un peu de couleurs en cette période grise..."
   ]
  },
  {
   "cell_type": "markdown",
   "metadata": {},
   "source": [
    "Aujourd'hui, on oublie les images en niveaux de gris, et on passe aux images couleurs. Pourquoi passer à la couleur ? Pourquoi abandonner les images en niveaux de gris ? Que nous cache Lena en couleur ? Vous le saurez aujourd'hui dans ce TP...."
   ]
  },
  {
   "cell_type": "code",
   "execution_count": 1,
   "metadata": {},
   "outputs": [],
   "source": [
    "# Chargement des librairies\n",
    "import cv2\n",
    "from matplotlib import pyplot as plt\n",
    "import numpy as np\n",
    "\n",
    "path_base = ..."
   ]
  },
  {
   "cell_type": "markdown",
   "metadata": {},
   "source": [
    "## Ex. 0 : Comment ça ? Il y a d'autres espaces de couleurs autres que RGB ?"
   ]
  },
  {
   "cell_type": "markdown",
   "metadata": {},
   "source": [
    "Et oui ! On connaît le fameux espace de couleur RGB, mais il en existe plein d'autres. Pour ce TP, on va en découvrir quelques uns. Mais d'abord, choississons une image couleur à étudier (crayons.jpg aujourd'hui). Chargez là, et affichez la (attention, je veux obligatoirement du RGB !!)"
   ]
  },
  {
   "cell_type": "code",
   "execution_count": 2,
   "metadata": {},
   "outputs": [
    {
     "data": {
      "text/plain": [
       "Ellipsis"
      ]
     },
     "execution_count": 2,
     "metadata": {},
     "output_type": "execute_result"
    }
   ],
   "source": [
    "# A compléter\n",
    "# Chargement et affichage de crayons.jpg EN COULEUR !\n",
    "..."
   ]
  },
  {
   "cell_type": "markdown",
   "metadata": {},
   "source": [
    "Durant ce TP, nous allons découvrir plusieurs espaces de couleurs, leur utilité et leurs particularités. Vous vous en doutez, OpenCV fait tout, et notamment les conversions dans différents espaces de couleur. Maintenant, comme c'est un TP, je vais vous demander donc de développer les conversions vous-même, mais on fera une comparaison avec les conversions via OpenCV."
   ]
  },
  {
   "cell_type": "markdown",
   "metadata": {},
   "source": [
    "## Ex. 1 : CMYK, on commence tranquille\n",
    "\n",
    "Commençons avec l'espace de couleur CMYK (pour Cyan, Magenta, Yellow et blacK). Celui-ci, vous le connaissez, c'est utilisé pour les impressions. Le principe, c'est que contrairement, ou la synthèse est additive (toutes les composantes R, G et B en quantité maximale donne la couleur blanche); ici, la synthèse est soustractive (toutes les composantes C, M et Y en quantité maximale donne la couleur noire). La dernière composante, noire, permet tout simplement de minimiser les composantes couleurs, plus chères que la composante noire lors de l'impression.\n",
    "\n",
    "La conversion n'est pas disponible via OpenCV, mais elle reste assez simple pour autant, avec r, g et b les composantes Red, Green et Blue normalisées (float entre 0 et 1) :\n",
    "\n",
    "\\begin{equation*}\n",
    "k = 1-max(r,g,b) \\\\\n",
    "\\end{equation*}\n",
    "\n",
    "\\begin{equation*}\n",
    "c = 1-r-k \\\\\n",
    "\\end{equation*}\n",
    "\n",
    "\\begin{equation*}\n",
    "m = 1-g-k \\\\\n",
    "y = 1-b-k \\\\\n",
    "\\end{equation*}\n",
    "\n",
    "\\begin{equation*}\n",
    "y = 1-b-k \\\\\n",
    "\\end{equation*}"
   ]
  },
  {
   "cell_type": "code",
   "execution_count": null,
   "metadata": {},
   "outputs": [],
   "source": [
    "# A compléter\n",
    "# Fonction de conversion de l'image RGB en CMYK\n",
    "..."
   ]
  },
  {
   "cell_type": "markdown",
   "metadata": {},
   "source": [
    "Affichez le résultat channel par channel. Attention, ici, on va afficher le résultat comme dans le cadre d'une impression : notre image est donc à la base blanche, et on affichera chaque channel en soustrayant celui-ci à la \"feuille blanche\"."
   ]
  },
  {
   "cell_type": "code",
   "execution_count": null,
   "metadata": {},
   "outputs": [],
   "source": [
    "# A compléter\n",
    "# Affichage du résultat channel par channel sur une \"feuille blanche\"\n",
    "..."
   ]
  },
  {
   "cell_type": "markdown",
   "metadata": {},
   "source": [
    "Et pour finir tranquillement cet exercice, recréez l'image RGB de base à partir de la \"feuille blanche\" et des composantes C, M, Y et K à soustraire."
   ]
  },
  {
   "cell_type": "code",
   "execution_count": null,
   "metadata": {},
   "outputs": [],
   "source": [
    "# A compléter\n",
    "# Affichage de la feuille imprimée (feuille blanche où on retire les composantes C,M,Y et K)\n",
    "..."
   ]
  },
  {
   "cell_type": "markdown",
   "metadata": {},
   "source": [
    "## Ex. 2 : YUV\n",
    "\n",
    "Continuons ce TP avec l'espace de couleur YUV. Cet espace de couleurs a été conçu en 1960 pour une raison très précise. A cette époque, les premières télévisions couleurs apparaissent, et les chaînes de télévision doivent donc envoyer un signal pour 2 types de télévisions différentes : les télévisions couleurs et les télévisions Noir et Blanc. Cependant, les plus anciennes télévisions ne sont pas adaptées pour traiter un signal différent que ceux qu'elles recevaient avant : on ne peut donc envoyer un signal style RGB et faire la conversion en N&B à la réception. Pour cela, il fallait envoyer un signal comprenant l'info en niveau de gris, comme auparavant, mais avec des autres composantes pour afficher la couleur pour les télévisions qui le peuvent. \n",
    "\n",
    "Pour cela, l'espace de couleur YUV a été créé. Il est composé d'une composante luminance (Y) contenant l'information en N&B, et 2 composantes chrominances (U et V) contenant l'information couleur. Par exemple, dans la plage suivante, les composantes U et V permettent de caractériser ces couleurs, pour Y = 0.5. Ce que cela veut dire, c'est que toutes ces couleurs converties en N&B donneront uniquement 0.5, soit Y.\n",
    "\n",
    "![YUV.png](YUV.png)"
   ]
  },
  {
   "cell_type": "markdown",
   "metadata": {},
   "source": [
    "Pour ce faire, on va utiliser les formules suivantes, avec r, g et b les composantes Red, Green et Blue normalisées (float entre 0 et 1) :\n",
    "\\begin{equation*}\n",
    "y = r + g + b \\\\\n",
    "\\end{equation*}\n",
    "\n",
    "\\begin{equation*}\n",
    "u = b - y \\\\\n",
    "\\end{equation*}\n",
    "\n",
    "\\begin{equation*}\n",
    "v = r - y\n",
    "\\end{equation*}\n",
    "\n",
    "\n",
    "*_Note :_* si vous n'avez pas le même résultat qu'OpenCV, c'est normal : on utilise une version très simplifiée, sans applicateurs correctifs. La version d'OpenCV, nettement améliorée, permet d'obtenir un channel Y (niveaux de gris) beaucoup plus fidèle que pour notre version."
   ]
  },
  {
   "cell_type": "code",
   "execution_count": null,
   "metadata": {},
   "outputs": [],
   "source": [
    "# A compléter\n",
    "# Fonction de conversion manuelle de l'image RGB en YUV\n",
    "..."
   ]
  },
  {
   "cell_type": "code",
   "execution_count": null,
   "metadata": {},
   "outputs": [],
   "source": [
    "# A compléter\n",
    "# Conversion de l'image RGB en YUV via OpenCV\n",
    "..."
   ]
  },
  {
   "cell_type": "markdown",
   "metadata": {},
   "source": [
    "Affichez le résultat channel par channel des résultats obtenus."
   ]
  },
  {
   "cell_type": "code",
   "execution_count": null,
   "metadata": {},
   "outputs": [],
   "source": [
    "# A compléter\n",
    "# Affichage des résultats channel par channel\n",
    "..."
   ]
  },
  {
   "cell_type": "markdown",
   "metadata": {},
   "source": [
    "Si tout va bien, on peut voir que visuellement, les channels Y de nos 2 résultats se ressemblent pas mal, ce qui nous conviendra. Maintenant, l'objectif va être de recréer l'image RGB à partir de l'image YUV que nous avons calculé auparavant, comme le faisaient les télévisions couleurs à l'ancienne époque."
   ]
  },
  {
   "cell_type": "code",
   "execution_count": null,
   "metadata": {},
   "outputs": [],
   "source": [
    "# A compléter\n",
    "# Conversion manuelle de l'image YUV en RGB et affichage du résultat\n",
    "..."
   ]
  },
  {
   "cell_type": "markdown",
   "metadata": {},
   "source": [
    "## Ex. 3 : HSV\n",
    "\n",
    "Poursuivons avec l'espace de couleur HSV (pour Hue, Saturation et Value) ou TSI en français (Teinte, Saturation, Intensité). Comme RGB, on a également 3 channels définis de la manière suivante :\n",
    "- La teinte (Hue) est codée suivant l'angle qui lui correspond sur le cercle des couleurs (de 0 à 360°).\n",
    "- La saturation (Saturation) est l'intensité de la couleur (de 0 à 100%).\n",
    "- La valeur (Value) est la brillance de la couleur (de 0 à 100%).\n",
    "\n",
    "![HSVCone.png](HSVCone.png)"
   ]
  },
  {
   "cell_type": "markdown",
   "metadata": {},
   "source": [
    "On peut convertir une image RGB en image HSV grâce aux formules suivantes (r,g,b sont respectivement les channels Red, Green et Blue normalisés de notre image RGB ; h,s,v sont les channels Hue, Saturation et Value normalisés de notre image HSV) :\n",
    "\n",
    "\\begin{equation*}\n",
    "max\\_rgb = max(r,g,b) \\\\\n",
    "\\end{equation*}\n",
    "\n",
    "\n",
    "\\begin{equation*}\n",
    "min\\_rgb = min(r,g,b) \\\\\n",
    "\\end{equation*}\n"
   ]
  },
  {
   "cell_type": "markdown",
   "metadata": {},
   "source": [
    "\n",
    "h=\n",
    "\\begin{cases}\n",
    "0, & si \\max = \\min \\\\\n",
    "(60^\\circ \\times \\frac{g - b}{\\max - \\min} + 360^\\circ)\\;\\bmod\\;360^\\circ,   & si \\max = r \\\\\n",
    "60^\\circ \\times \\frac{b - r}{\\max - \\min} + 120^\\circ, & si \\max = g \\\\\n",
    "60^\\circ \\times \\frac{r - g}{\\max - \\min} + 240^\\circ, & si \\max = b \\\\\n",
    "\\end{cases} \\\\\n"
   ]
  },
  {
   "cell_type": "markdown",
   "metadata": {},
   "source": [
    "s = \n",
    "\\begin{cases}\n",
    "0, & si \\max = 0 \\\\\n",
    "1 - \\frac {\\min} {\\max}, & sinon\n",
    "\\end{cases} \\\\\n",
    "v = max\\_rgb"
   ]
  },
  {
   "cell_type": "markdown",
   "metadata": {},
   "source": [
    "Notez juste que dans le cadre de notre implémentation, il faudra également qu'on divise notre channel h par 2 pour avoir une valeur entre 0 et 180° (histoire d'avoir nos images codées en uint8).\n",
    "\n",
    "Réalisez la conversion manuellement, puis avec OpenCV (cvtColor, toi-même tu sais)."
   ]
  },
  {
   "cell_type": "code",
   "execution_count": null,
   "metadata": {},
   "outputs": [],
   "source": [
    "# A compléter\n",
    "# Transformation de l'image RGB en HSV (manuel)\n",
    "..."
   ]
  },
  {
   "cell_type": "code",
   "execution_count": null,
   "metadata": {},
   "outputs": [],
   "source": [
    "# A compléter\n",
    "# Transformation de l'image RGB en HSV avec OpenCV\n",
    "..."
   ]
  },
  {
   "cell_type": "markdown",
   "metadata": {},
   "source": [
    "Affichez les 2 résultats obtenus, en couleur et channel par channel (en niveau de gris)."
   ]
  },
  {
   "cell_type": "code",
   "execution_count": null,
   "metadata": {},
   "outputs": [],
   "source": [
    "# A compléter\n",
    "# Affichage des résultats obtenus channel par channel et en couleur (manuelle et OpenCV)\n",
    "..."
   ]
  },
  {
   "cell_type": "markdown",
   "metadata": {},
   "source": [
    "# Ex 4. : Wololo !\n",
    "\n",
    "Bon là, c'est pas du tout un nouvel espace de couleur, c'est juste un titre d'exo... Chargez l'image iron_man.jpg et affichez-la (EN RGB !)."
   ]
  },
  {
   "cell_type": "code",
   "execution_count": null,
   "metadata": {},
   "outputs": [],
   "source": [
    "# A compléter\n",
    "# Chargement et affichage de l'image iron_man.jpg\n",
    "..."
   ]
  },
  {
   "cell_type": "markdown",
   "metadata": {},
   "source": [
    "J'ai un caprice : je n'aime pas le rouge. C'est la seule chose que je déteste dans ce monde : la couleur rouge. J'aimerai que Iron Man ne soit plus rouge mais bleu. Par contre, j'aime le jaune, donc je veux qu'on garde la couleur jaune. Et le bleu, je veux qu'il reste bleu aussi... On garde tout, sauf le rouge, qu'on va mettre en bleu.\n",
    "\n",
    "Pour résumé : l'objectif de cet exercice va être de sélectionner les pixels rouges de l'image Iron Man et les mettre en bleus, tout en faisant que l'image reste naturelle. Je vous laisse la liberté de faire comme vous le souhaitez, mais je vous recommande fortement de revoir l'exercice 3 si le message passé n'est pas clair...\n",
    "\n",
    "Pour réaliser cet exercice, on peut le diviser en 2 parties : la sélection des pixels rouges, et ensuite le changement de teinte de ces pixels."
   ]
  },
  {
   "cell_type": "code",
   "execution_count": null,
   "metadata": {},
   "outputs": [],
   "source": [
    "# A compléter\n",
    "# Exo 4, à vous de jouer ;)\n",
    "..."
   ]
  },
  {
   "cell_type": "markdown",
   "metadata": {},
   "source": [
    "## Rendu de TP\n",
    "Le rendu qui vous est demandé pour les TP de TIM est la version HTML de ce notebook. Pour l'obtenir: Fichier, télécharger au format, HTML (.html)."
   ]
  }
 ],
 "metadata": {
  "kernelspec": {
   "display_name": "Python 3",
   "language": "python",
   "name": "python3"
  },
  "language_info": {
   "codemirror_mode": {
    "name": "ipython",
    "version": 3
   },
   "file_extension": ".py",
   "mimetype": "text/x-python",
   "name": "python",
   "nbconvert_exporter": "python",
   "pygments_lexer": "ipython3",
   "version": "3.6.9"
  }
 },
 "nbformat": 4,
 "nbformat_minor": 4
}
